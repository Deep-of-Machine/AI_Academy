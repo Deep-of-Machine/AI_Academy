{
  "nbformat": 4,
  "nbformat_minor": 0,
  "metadata": {
    "colab": {
      "name": "5-2_torch기초.ipynb",
      "provenance": [],
      "collapsed_sections": [],
      "include_colab_link": true
    },
    "kernelspec": {
      "name": "python3",
      "display_name": "Python 3"
    },
    "language_info": {
      "name": "python"
    },
    "accelerator": "GPU"
  },
  "cells": [
    {
      "cell_type": "markdown",
      "metadata": {
        "id": "view-in-github",
        "colab_type": "text"
      },
      "source": [
        "<a href=\"https://colab.research.google.com/github/Deep-of-Machine/AI_Academy/blob/main/5_2_torch%EA%B8%B0%EC%B4%88.ipynb\" target=\"_parent\"><img src=\"https://colab.research.google.com/assets/colab-badge.svg\" alt=\"Open In Colab\"/></a>"
      ]
    },
    {
      "cell_type": "markdown",
      "metadata": {
        "id": "vaSwB5Oi83NM"
      },
      "source": [
        "## GPU 연결 확인\n",
        "런타임 - 런타임 유형 변경 - GPU"
      ]
    },
    {
      "cell_type": "code",
      "metadata": {
        "id": "v-IZEo9OjyH1"
      },
      "source": [
        "!nvidia-smi"
      ],
      "execution_count": null,
      "outputs": []
    },
    {
      "cell_type": "markdown",
      "metadata": {
        "id": "AyBcxDM48801"
      },
      "source": [
        "## PyTorch 버전 확인"
      ]
    },
    {
      "cell_type": "code",
      "metadata": {
        "id": "RRzwWHNijjbt"
      },
      "source": [
        "import torch\n",
        "print(torch.__version__)"
      ],
      "execution_count": null,
      "outputs": []
    },
    {
      "cell_type": "markdown",
      "metadata": {
        "id": "9ti5r_Gr9aDV"
      },
      "source": [
        "## CUDA 버전 확인"
      ]
    },
    {
      "cell_type": "code",
      "metadata": {
        "id": "C6OZ2OY8j95u"
      },
      "source": [
        "!nvcc -V"
      ],
      "execution_count": null,
      "outputs": []
    },
    {
      "cell_type": "markdown",
      "metadata": {
        "id": "7wH8fFcx9c7O"
      },
      "source": [
        "# Tensor\n",
        "PyTorch에서 사용하는 자료구조    \n",
        "Numpy의 ndarray와 유사    \n"
      ]
    },
    {
      "cell_type": "markdown",
      "metadata": {
        "id": "VY8fxb96cCi-"
      },
      "source": [
        "리스트 형식의 데이터를 사용해서 텐서 생성"
      ]
    },
    {
      "cell_type": "code",
      "metadata": {
        "id": "4fQVkeoo-377"
      },
      "source": [
        "x = torch.tensor([[1,2,3],[4,5,6]])\n",
        "print(x)"
      ],
      "execution_count": null,
      "outputs": []
    },
    {
      "cell_type": "markdown",
      "metadata": {
        "id": "NzabsdZaa6CB"
      },
      "source": [
        "타입, 모양 확인"
      ]
    },
    {
      "cell_type": "code",
      "metadata": {
        "id": "BLUzQJpLE8mK"
      },
      "source": [
        ""
      ],
      "execution_count": null,
      "outputs": []
    },
    {
      "cell_type": "markdown",
      "metadata": {
        "id": "B-NQKdopbCBB"
      },
      "source": [
        "슬라이스"
      ]
    },
    {
      "cell_type": "code",
      "metadata": {
        "id": "BzRtwxjbE3o8"
      },
      "source": [
        ""
      ],
      "execution_count": null,
      "outputs": []
    },
    {
      "cell_type": "markdown",
      "metadata": {
        "id": "w5tiK983bbqX"
      },
      "source": [
        "내용물 타입, 저장된 장치"
      ]
    },
    {
      "cell_type": "code",
      "metadata": {
        "id": "xvYo5KwgFFTy"
      },
      "source": [
        ""
      ],
      "execution_count": null,
      "outputs": []
    },
    {
      "cell_type": "markdown",
      "metadata": {
        "id": "lrt3n-VTAMnW"
      },
      "source": [
        "Numpy에서 Tensor로 변환 가능 "
      ]
    },
    {
      "cell_type": "code",
      "metadata": {
        "id": "oQqhBeyl_SOu"
      },
      "source": [
        "import numpy as np\n",
        "np_array = np.array([[1,2,3],[4,5,6]])\n",
        "print(np_array)\n",
        "print(type(np_array))"
      ],
      "execution_count": null,
      "outputs": []
    },
    {
      "cell_type": "code",
      "metadata": {
        "id": "HS7A5fLjFOnp"
      },
      "source": [
        ""
      ],
      "execution_count": null,
      "outputs": []
    },
    {
      "cell_type": "markdown",
      "metadata": {
        "id": "oC0Q4JO2AR4n"
      },
      "source": [
        "Tensor를 Numpy로 변환 가능"
      ]
    },
    {
      "cell_type": "code",
      "metadata": {
        "id": "seP-7ArH_qVa"
      },
      "source": [
        ""
      ],
      "execution_count": null,
      "outputs": []
    },
    {
      "cell_type": "markdown",
      "metadata": {
        "id": "xMNnu5nfApUX"
      },
      "source": [
        "원하는 속성으로 생성 가능"
      ]
    },
    {
      "cell_type": "code",
      "metadata": {
        "id": "NBLKcMookJTl"
      },
      "source": [
        ""
      ],
      "execution_count": null,
      "outputs": []
    },
    {
      "cell_type": "markdown",
      "metadata": {
        "id": "V09ZJrHVDkLk"
      },
      "source": [
        "### Tensor 연산"
      ]
    },
    {
      "cell_type": "markdown",
      "metadata": {
        "id": "vgf0QzRMwjpn"
      },
      "source": [
        "텐서 2개 생성"
      ]
    },
    {
      "cell_type": "code",
      "metadata": {
        "id": "xXlRi_E2GCNK"
      },
      "source": [
        "x = torch.tensor([[1,2], [3,4]])\n",
        "y = torch.tensor([[1,2], [4,8]])\n",
        "print(x)\n",
        "print(y)"
      ],
      "execution_count": null,
      "outputs": []
    },
    {
      "cell_type": "markdown",
      "metadata": {
        "id": "WsyJjkE-blDW"
      },
      "source": [
        "덧셈, 곱셈, 나눗셈, 행렬곱"
      ]
    },
    {
      "cell_type": "code",
      "metadata": {
        "id": "zYf5-Fg1k6eR"
      },
      "source": [
        ""
      ],
      "execution_count": null,
      "outputs": []
    },
    {
      "cell_type": "markdown",
      "metadata": {
        "id": "J9rP0bOPbufp"
      },
      "source": [
        "연결(concatenate)"
      ]
    },
    {
      "cell_type": "code",
      "metadata": {
        "id": "VPTgBPHHGcIN"
      },
      "source": [
        ""
      ],
      "execution_count": null,
      "outputs": []
    },
    {
      "cell_type": "code",
      "metadata": {
        "id": "iDe-k2Yl9mKy"
      },
      "source": [
        ""
      ],
      "execution_count": null,
      "outputs": []
    },
    {
      "cell_type": "markdown",
      "metadata": {
        "id": "O4K5Uk8Ob9UP"
      },
      "source": [
        "모양 변경"
      ]
    },
    {
      "cell_type": "code",
      "metadata": {
        "id": "wsky6_fumo68"
      },
      "source": [
        "x = torch.rand(4,6)\n",
        "print(x)\n",
        "print(x.size())"
      ],
      "execution_count": null,
      "outputs": []
    },
    {
      "cell_type": "code",
      "metadata": {
        "id": "g4qr_e8A9uyo"
      },
      "source": [
        ""
      ],
      "execution_count": null,
      "outputs": []
    },
    {
      "cell_type": "code",
      "metadata": {
        "id": "3wY1P9m49vac"
      },
      "source": [
        ""
      ],
      "execution_count": null,
      "outputs": []
    },
    {
      "cell_type": "code",
      "metadata": {
        "id": "ufF58BDBz0O8"
      },
      "source": [
        ""
      ],
      "execution_count": null,
      "outputs": []
    },
    {
      "cell_type": "code",
      "metadata": {
        "id": "Bk_U08H2z0L-"
      },
      "source": [
        ""
      ],
      "execution_count": null,
      "outputs": []
    },
    {
      "cell_type": "markdown",
      "metadata": {
        "id": "4h9klrrRcBTC"
      },
      "source": [
        "내용물 확인"
      ]
    },
    {
      "cell_type": "code",
      "metadata": {
        "id": "H1Dmghn3m_CN"
      },
      "source": [
        ""
      ],
      "execution_count": null,
      "outputs": []
    },
    {
      "cell_type": "markdown",
      "metadata": {
        "id": "mTH-BhEmEDiv"
      },
      "source": [
        "## Teosor를 GPU에 할당\n"
      ]
    },
    {
      "cell_type": "markdown",
      "metadata": {
        "id": "UouOQXFb-RYH"
      },
      "source": [
        "GPU 메모리 사용량 확인"
      ]
    },
    {
      "cell_type": "code",
      "metadata": {
        "id": "-cdHgEGRHLSp"
      },
      "source": [
        "!nvidia-smi"
      ],
      "execution_count": null,
      "outputs": []
    },
    {
      "cell_type": "markdown",
      "metadata": {
        "id": "VTcO1ggEcKHb"
      },
      "source": [
        "크키가 큰 텐서를 cpu에서 생성"
      ]
    },
    {
      "cell_type": "code",
      "metadata": {
        "id": "_mlv3cCwm8eJ"
      },
      "source": [
        "z = torch.rand(100, 100, 100)\n",
        "print(z.device)"
      ],
      "execution_count": null,
      "outputs": []
    },
    {
      "cell_type": "markdown",
      "metadata": {
        "id": "2tMI98qV-VnS"
      },
      "source": [
        "GPU 메모리 사용량 확인(변화 X)"
      ]
    },
    {
      "cell_type": "code",
      "metadata": {
        "id": "z2wxj4KoHT3e"
      },
      "source": [
        "!nvidia-smi"
      ],
      "execution_count": null,
      "outputs": []
    },
    {
      "cell_type": "markdown",
      "metadata": {
        "id": "aZEw0BzncShI"
      },
      "source": [
        "cpu에 저장된 z를 gpu에 v로 저장"
      ]
    },
    {
      "cell_type": "code",
      "metadata": {
        "id": "SuMPKlsCodM0"
      },
      "source": [
        "device = torch.device('cuda')\n",
        "v = z.to(device)\n",
        "print(v.device)"
      ],
      "execution_count": null,
      "outputs": []
    },
    {
      "cell_type": "markdown",
      "metadata": {
        "id": "rNSjKcwC-d14"
      },
      "source": [
        "GPU 메모리 사용량 확인(변화 O)"
      ]
    },
    {
      "cell_type": "code",
      "metadata": {
        "id": "BtrJIbmYFGRj"
      },
      "source": [
        "!nvidia-smi"
      ],
      "execution_count": null,
      "outputs": []
    },
    {
      "cell_type": "markdown",
      "metadata": {
        "id": "So9wEKtWcYCt"
      },
      "source": [
        "gpu에 저장된 v를 cpu에 w로 저장 가능"
      ]
    },
    {
      "cell_type": "code",
      "metadata": {
        "id": "Hg7WR9O5l0hu"
      },
      "source": [
        "w = v.to('cpu')\n",
        "print(w.device)"
      ],
      "execution_count": null,
      "outputs": []
    },
    {
      "cell_type": "markdown",
      "metadata": {
        "id": "FOo1ABO2Kbdc"
      },
      "source": [
        "## torch.autograd\n",
        "자동 미분 엔진    "
      ]
    },
    {
      "cell_type": "markdown",
      "metadata": {
        "id": "uP4U7vk1axCL"
      },
      "source": [
        "### 퍼셉트론 예시\n",
        "$x_1, x_2$ : 입력값    \n",
        "$w_1, w_2, b$ : 학습 가능한 파라미터    \n",
        "$y_t$ : 타겟값    \n",
        "$y = x_1 w_1 + x_2 w_2 + b$ : 모델의 예측값    \n",
        "$loss = (y - y_t)^2$ : 손실 함수"
      ]
    },
    {
      "cell_type": "code",
      "metadata": {
        "id": "pgC9lAQ7_KIF"
      },
      "source": [
        "def model(x1, x2, w, b):\n",
        "    return x1*w[0] + x2*w[1] + b\n",
        "    \n",
        "def loss(y_pred,y):\n",
        "    return (y - y_pred) * (y - y_pred)"
      ],
      "execution_count": null,
      "outputs": []
    },
    {
      "cell_type": "markdown",
      "metadata": {
        "id": "qkYlBCae-u7Y"
      },
      "source": [
        "데이터 $x_1, x_2, y$와 파라미터 $w_1, w_2, b$ 정의"
      ]
    },
    {
      "cell_type": "code",
      "metadata": {
        "id": "lZa5o1ZOPxfu"
      },
      "source": [
        "x1_data = [1.0, 2.0, 3.0]\n",
        "x2_data = [2.0, 4.0, 8.0]\n",
        "yt_data = [3.0, 6.0, 9.0]\n",
        "w = torch.tensor([1.0, 2.0], requires_grad = True)\n",
        "w.retain_grad = True\n",
        "b = torch.tensor([1.0], requires_grad = True)\n",
        "b.retain_grad = True"
      ],
      "execution_count": null,
      "outputs": []
    },
    {
      "cell_type": "markdown",
      "metadata": {
        "id": "qx-r7dLPgk76"
      },
      "source": [
        "초기 모델 성능 확인"
      ]
    },
    {
      "cell_type": "code",
      "metadata": {
        "id": "lHY6igZMgqtr"
      },
      "source": [
        "print('target y = {}, predicted y = {}'.format(yt_data[0], model(x1_data[0], x2_data[0], w, b).item()))\n",
        "print('target y = {}, predicted y = {}'.format(yt_data[1], model(x1_data[1], x2_data[1], w, b).item()))\n",
        "print('target y = {}, predicted y = {}'.format(yt_data[2], model(x1_data[2], x2_data[2], w, b).item()))"
      ],
      "execution_count": null,
      "outputs": []
    },
    {
      "cell_type": "markdown",
      "metadata": {
        "id": "tSCG1XOTBDt3"
      },
      "source": [
        "첫번째 데이터에 대한 예측 결과와 타겟    \n",
        "$x_1 = 1.0, x_2 = 2.0$    \n",
        "$w_1 = 1.0, w_2 = 2.0, b = 1.0$    \n",
        "$y = x_1 w_1 + x_2 w_2 + b = 6$        \n",
        "$y_t = 3.0$"
      ]
    },
    {
      "cell_type": "code",
      "metadata": {
        "id": "gCzj6t55QyTM"
      },
      "source": [
        "x1 = x1_data[0]\n",
        "x2 = x2_data[0]\n",
        "yt = yt_data[0]\n",
        "y = model(x1, x2, w, b)\n",
        "print(y.item())\n",
        "print(yt)"
      ],
      "execution_count": null,
      "outputs": []
    },
    {
      "cell_type": "markdown",
      "metadata": {
        "id": "TT5g2GFAVVLQ"
      },
      "source": [
        "손실 함수 계산    \n",
        "$loss = (y - y_t)^2 = 9$"
      ]
    },
    {
      "cell_type": "code",
      "metadata": {
        "id": "vpWR3_kqRHpt"
      },
      "source": [
        "l = loss(yt, y)\n",
        "print(l)"
      ],
      "execution_count": null,
      "outputs": []
    },
    {
      "cell_type": "markdown",
      "metadata": {
        "id": "bFJocoyidsD5"
      },
      "source": [
        "#### 역전파\n",
        "경사 계산 전"
      ]
    },
    {
      "cell_type": "code",
      "metadata": {
        "id": "oh2n45ajRety"
      },
      "source": [
        "print(w.grad)\n",
        "print(b.grad)"
      ],
      "execution_count": null,
      "outputs": []
    },
    {
      "cell_type": "markdown",
      "metadata": {
        "id": "lpYVJxCAVq59"
      },
      "source": [
        "경사 계산 후    \n",
        "$l = (y - y_t)^2 = (x_1 w_1 + x_2 w_2 + b - y_t)^2$    \n",
        "$\\frac{\\partial l}{\\partial w_1} = 2x_1(x_1 w_1 + x_2 w_2 + b - y_t) = 6$    \n",
        "$\\frac{\\partial l}{\\partial w_2} = 2x_2(x_1 w_1 + x_2 w_2 + b - y_t) = 12$    \n",
        "$\\frac{\\partial l}{\\partial b} = 2(x_1 w_1 + x_2 w_2 + b - y_t) = 6$    \n"
      ]
    },
    {
      "cell_type": "code",
      "metadata": {
        "id": "47Si_f8ZVmzf"
      },
      "source": [
        "l.backward() # 경사 계산\n",
        "print(w.grad)\n",
        "print(b.grad)"
      ],
      "execution_count": null,
      "outputs": []
    },
    {
      "cell_type": "markdown",
      "metadata": {
        "id": "rHMw2t8tF5LS"
      },
      "source": [
        "위의 과정을 그대로 반복할 경우    \n",
        "$w, b$에 저장된 경사가 남아있어서 이전과 다른 결과가 나옴"
      ]
    },
    {
      "cell_type": "code",
      "metadata": {
        "id": "yh2nHn_lE1YS"
      },
      "source": [
        "x1 = x1_data[0]\n",
        "x2 = x2_data[0]\n",
        "yt = yt_data[0]\n",
        "y = model(x1, x2, w, b)\n",
        "l = loss(yt, y)\n",
        "print(w.grad)\n",
        "print(b.grad)\n",
        "l.backward()\n",
        "print(w.grad)\n",
        "print(b.grad)"
      ],
      "execution_count": null,
      "outputs": []
    },
    {
      "cell_type": "markdown",
      "metadata": {
        "id": "XWC0dxohGQvd"
      },
      "source": [
        "따라서 위에서 계산한 경사를 사용해서 파라미터를 업데이트 한 후에    \n",
        "저장되어있는 경사를 초기화해줘야 원하는 결과를 얻을 수 있음"
      ]
    },
    {
      "cell_type": "code",
      "metadata": {
        "id": "duzRFv4vGe5v"
      },
      "source": [
        "w.grad.data.zero_() # 이전에 계산했던 경사 0으로 초기화\n",
        "b.grad.data.zero_() # 이전에 계산했던 경사 0으로 초기화\n",
        "x1 = x1_data[0]\n",
        "x2 = x2_data[0]\n",
        "yt = yt_data[0]\n",
        "y = model(x1, x2, w, b)\n",
        "l = loss(yt, y)\n",
        "print(w.grad)\n",
        "print(b.grad)\n",
        "l.backward()\n",
        "print(w.grad)\n",
        "print(b.grad)"
      ],
      "execution_count": null,
      "outputs": []
    },
    {
      "cell_type": "markdown",
      "metadata": {
        "id": "k1o5y8JQZJYt"
      },
      "source": [
        "### 모델 학습"
      ]
    },
    {
      "cell_type": "markdown",
      "metadata": {
        "id": "2GEAsSbFd4_l"
      },
      "source": [
        "learning rate = 0.01    \n",
        "epochs = 1000    \n",
        "100번마다 손실 함수 결과 확인"
      ]
    },
    {
      "cell_type": "code",
      "metadata": {
        "id": "Y-2yqn71TE5r"
      },
      "source": [
        "lr = 0.01\n",
        "epochs = 1000\n",
        "\n",
        "for epoch in range(epochs):\n",
        "    for x1, x2, yt in zip(x1_data, x2_data, yt_data):\n",
        "\n",
        "\n",
        "\n",
        "    if (epoch + 1) % 100 == 0:\n",
        "        with torch.no_grad(): # 경사 계산 없이 진행\n"
      ],
      "execution_count": null,
      "outputs": []
    },
    {
      "cell_type": "markdown",
      "metadata": {
        "id": "UCYElTvugblH"
      },
      "source": [
        "학습된 모델 성능 확인"
      ]
    },
    {
      "cell_type": "code",
      "metadata": {
        "id": "gx_K8pNtZO6o"
      },
      "source": [
        "print(w, b)"
      ],
      "execution_count": null,
      "outputs": []
    },
    {
      "cell_type": "code",
      "metadata": {
        "id": "UvdkyquxZOs4"
      },
      "source": [
        "print('target y = {}, predicted y = {}'.format(yt_data[0], model(x1_data[0], x2_data[0], w, b).item()))\n",
        "print('target y = {}, predicted y = {}'.format(yt_data[1], model(x1_data[1], x2_data[1], w, b).item()))\n",
        "print('target y = {}, predicted y = {}'.format(yt_data[2], model(x1_data[2], x2_data[2], w, b).item()))"
      ],
      "execution_count": null,
      "outputs": []
    }
  ]
}