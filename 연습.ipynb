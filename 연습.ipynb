{
  "nbformat": 4,
  "nbformat_minor": 0,
  "metadata": {
    "colab": {
      "name": "연습.ipynb",
      "provenance": [],
      "authorship_tag": "ABX9TyMyYjZhNo4qe6xDhCQ8Sg9q",
      "include_colab_link": true
    },
    "kernelspec": {
      "name": "python3",
      "display_name": "Python 3"
    },
    "language_info": {
      "name": "python"
    }
  },
  "cells": [
    {
      "cell_type": "markdown",
      "metadata": {
        "id": "view-in-github",
        "colab_type": "text"
      },
      "source": [
        "<a href=\"https://colab.research.google.com/github/Deep-of-Machine/AI_Academy/blob/main/%EC%97%B0%EC%8A%B5.ipynb\" target=\"_parent\"><img src=\"https://colab.research.google.com/assets/colab-badge.svg\" alt=\"Open In Colab\"/></a>"
      ]
    },
    {
      "cell_type": "code",
      "metadata": {
        "colab": {
          "base_uri": "https://localhost:8080/"
        },
        "id": "sVBIpy0vbYPM",
        "outputId": "53ba6330-8c08-401e-a058-aa17187a6e0d"
      },
      "source": [
        "sum = lambda a, b : a + b\n",
        "print(sum(1, 2))\n"
      ],
      "execution_count": 1,
      "outputs": [
        {
          "output_type": "stream",
          "name": "stdout",
          "text": [
            "3\n"
          ]
        }
      ]
    },
    {
      "cell_type": "code",
      "metadata": {
        "colab": {
          "base_uri": "https://localhost:8080/"
        },
        "id": "0-bSKGY-hyOK",
        "outputId": "b716ee3f-182d-4dea-b952-ce4d40794cf2"
      },
      "source": [
        "def list_args(*a):\n",
        "    s=0\n",
        "    for i in a:\n",
        "        s += i\n",
        "\n",
        "    return s\n",
        "\n",
        "print(list_argv(*[1, 2, 3, 4, 5]))"
      ],
      "execution_count": 7,
      "outputs": [
        {
          "output_type": "stream",
          "name": "stdout",
          "text": [
            "15\n"
          ]
        }
      ]
    },
    {
      "cell_type": "code",
      "metadata": {
        "id": "EpE3Q_3hq7M7"
      },
      "source": [
        "def polynomial_generator(L):\n",
        "    def f(x):\n",
        "        value = 0\n",
        "        for ai, i in zip(L[::-1], range(len(L))):\n",
        "            value = value + x**i * ai\n",
        "        return value\n",
        "    return f"
      ],
      "execution_count": null,
      "outputs": []
    },
    {
      "cell_type": "code",
      "metadata": {
        "id": "wNUN3JmmrPlz"
      },
      "source": [
        "def polynomial_generator2(L):\n",
        "    def g(x):\n",
        "        value = 0\n",
        "        for ai, i in zip(L[::-1], range(len(L))):\n",
        "            value = value + x**(i-1) * ai*i\n",
        "        return value\n",
        "    return g"
      ],
      "execution_count": null,
      "outputs": []
    }
  ]
}