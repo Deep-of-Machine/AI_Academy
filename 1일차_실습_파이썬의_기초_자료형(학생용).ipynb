{
  "nbformat": 4,
  "nbformat_minor": 5,
  "metadata": {
    "kernelspec": {
      "display_name": "Python 3",
      "language": "python",
      "name": "python3"
    },
    "language_info": {
      "codemirror_mode": {
        "name": "ipython",
        "version": 3
      },
      "file_extension": ".py",
      "mimetype": "text/x-python",
      "name": "python",
      "nbconvert_exporter": "python",
      "pygments_lexer": "ipython3",
      "version": "3.6.13"
    },
    "colab": {
      "name": "1일차_실습_파이썬의 기초 - 자료형(학생용).ipynb",
      "provenance": [],
      "include_colab_link": true
    }
  },
  "cells": [
    {
      "cell_type": "markdown",
      "metadata": {
        "id": "view-in-github",
        "colab_type": "text"
      },
      "source": [
        "<a href=\"https://colab.research.google.com/github/Deep-of-Machine/AI_Academy/blob/main/1%EC%9D%BC%EC%B0%A8_%EC%8B%A4%EC%8A%B5_%ED%8C%8C%EC%9D%B4%EC%8D%AC%EC%9D%98_%EA%B8%B0%EC%B4%88_%EC%9E%90%EB%A3%8C%ED%98%95(%ED%95%99%EC%83%9D%EC%9A%A9).ipynb\" target=\"_parent\"><img src=\"https://colab.research.google.com/assets/colab-badge.svg\" alt=\"Open In Colab\"/></a>"
      ]
    },
    {
      "cell_type": "markdown",
      "metadata": {
        "id": "aeaa4335"
      },
      "source": [
        "# 주피터 노트북\n",
        "___\n",
        "주피터 노트북은 대화형 interpreter로서 인터넷 브라우저 환경에서 파이썬을 실행할 수 있는 툴입니다.  \n",
        "기본적으로 Cell 이 나누어져 있으며 Cell 별로 코드를 실행시키고 결과를 기억하여 줄 별로 코드를 배우고 결과를 확인할 수 있다는 장점이 있습니다.  \n",
        "셀을 클릭한 상태인 명령모드와 셀 내부의 코드창으로 들어온 상태인 편집모드가 있으며 각각의 상태에서 단축키가 다르므로 주의하고 필요에 따라 아래 표를 참고합니다.  "
      ],
      "id": "aeaa4335"
    },
    {
      "cell_type": "markdown",
      "metadata": {
        "id": "78aea435"
      },
      "source": [
        "![command shortcut](../data/command_shortcut.png)\n",
        "![edit shortcut](../data/edit_shortcut.png)"
      ],
      "id": "78aea435"
    },
    {
      "cell_type": "markdown",
      "metadata": {
        "id": "2a216511"
      },
      "source": [
        "# 파이썬의 기초\n",
        "___\n",
        "셀 내부의 코드창으로 들어오면 파이썬 코드를 작성해볼 수 있습니다.  \n",
        "기본 문법을 배우기 전에 반드시 알아두어야 할 변수 선언과 계산, 결과 확인에 대한 내용을 알아봅니다.  \n",
        "* 변수선언 및 정의\n",
        "* 결과 확인(print)\n",
        "* 셀의 작동\n",
        "* 자료형의 확인\n",
        "* 변수의 제거"
      ],
      "id": "2a216511"
    },
    {
      "cell_type": "markdown",
      "metadata": {
        "id": "455ca8e4"
      },
      "source": [
        "파이썬에서 변수 선언과 값의 입력(정의)는 동시에 이루어져야 하며 `=` 기호를 이용합니다.  \n",
        "예를 들어 1 이라는 값을 A 라는 이름의 변수에 기록하고 싶다면 `A=1` 이라고 하면 됩니다.  \n",
        "이 후 결과를 확인하고 싶을 때는 출력을 의미하는 `print` 함수를 사용할 수 있습니다.  \n",
        "숫자 뿐 아니라 `Hello World!` 와 같은 문자열도 기록할 수 있으며, 이때는 숫자와 다르다는 의미로 문자열을 '' 안에 입력합니다.   \n",
        "예시로 아래와 같은 코드를 입력해봅시다.\n",
        "```py\n",
        "A=1\n",
        "print(A)\n",
        "B='Hello World'\n",
        "print(B)\n",
        "```"
      ],
      "id": "455ca8e4"
    },
    {
      "cell_type": "code",
      "metadata": {
        "id": "cd579b1b",
        "outputId": "730b1a96-7223-4a54-e3c8-844e2d988855"
      },
      "source": [
        "A=1\n",
        "print(A)\n",
        "B='Hello World'\n",
        "print(B)"
      ],
      "id": "cd579b1b",
      "execution_count": null,
      "outputs": [
        {
          "name": "stdout",
          "output_type": "stream",
          "text": [
            "1\n",
            "Hello World\n"
          ]
        }
      ]
    },
    {
      "cell_type": "markdown",
      "metadata": {
        "id": "aebbe494"
      },
      "source": [
        "위와 같은 코드를 Cell 별로 분리해 실행하면 아래처럼 분리할 수 있습니다.  \n",
        "이 때 Cell 안에 변수 하나만 입력하게 되면 `print` 와 유사하게 해당 변수에 대한 설명이 결과로 보여집니다.  \n",
        "(한 줄에서 # 뒤의 내용은 주석처리 되어 코드 실행결과에 영향을 주지 않습니다)"
      ],
      "id": "aebbe494"
    },
    {
      "cell_type": "code",
      "metadata": {
        "id": "9fe2b4d0",
        "outputId": "49f30c22-d1c6-4f72-ec6a-b3155865a3d1"
      },
      "source": [
        "B=\"ab\"\n",
        "B=B.format('a')\n",
        "print(B)"
      ],
      "id": "9fe2b4d0",
      "execution_count": null,
      "outputs": [
        {
          "name": "stdout",
          "output_type": "stream",
          "text": [
            "ab\n"
          ]
        }
      ]
    },
    {
      "cell_type": "markdown",
      "metadata": {
        "id": "f9dc70b4"
      },
      "source": [
        "값을 출력하려면 `print` 함수를 사용했습니다. 그렇다면 `A=1` 과 `B='1'` 일 때 둘의 차이를 확인하는 방법은 무엇이 있을까요?  \n",
        "두 경우 모두 `print` 를 이용하면 1이라는 결과를 보여주기 때문에 구분이 되지 않지만 우리는 하나는 숫자, 하나는 문자임을 알고 있습니다.  \n",
        "이처럼 어떤 변수의 값이 아닌 형태(자료형)을 알고싶을 때는 `type` 함수를 이용합니다. 아래 코드를 통해 확인해봅시다.\n",
        "```py\n",
        "A=1\n",
        "B='1'\n",
        "print(A)\n",
        "print(B)\n",
        "print(type(A))\n",
        "print(type(B))\n",
        "```"
      ],
      "id": "f9dc70b4"
    },
    {
      "cell_type": "markdown",
      "metadata": {
        "id": "d026be88"
      },
      "source": [
        "실행시켜보니 `type(A)` 는 `<class 'int'>`, `type(B)` 는 `<class 'str'>` 임을 확인할 수 있었습니다.  \n",
        "`class` 에 대해서는 수업을 진행하면서 배워나갈 것이고 `int`, `str` 은 각각 정수를 의미하는 integer, 문자열을 의미하는 string 을 의미합니다. 이 두 자료형에 대해서도 수업을 진행하며 배울 것이므로 지금은 \"`type` 을 사용하면 자료형을 확인할 수 있고, 값이 같은 것이어도 구분할 수 있다\"는 사실만 이해하면 됩니다.  "
      ],
      "id": "d026be88"
    },
    {
      "cell_type": "markdown",
      "metadata": {
        "id": "d268f2d3"
      },
      "source": [
        "다른 프로그래밍 언어를 익혔거나 위의 `type(A)` 가 integer 라는 것을 조금 생각해보면 이상함을 느낄 수도 있습니다.  \n",
        "우리는 변수를 선언할 때 `A=1` 을 통해 A 변수에 숫자 1 을 저장한다는 것을 명시했습니다.  \n",
        "그런데 숫자 1 은 위에서 확인했던 것 처럼 정수이기도 하지만 때에 따라서는 자연수, 유리수, 실수 혹은 복소수로 생각할 수 있습니다.  \n",
        "파이썬은 기본적으로 변수를 처음 선언할 때 기본적인 자료형을 알아서 배정해주는 편리함이 있지만, 나중에는 이로 인해 원하지 않는 버그가 발생하기도 하니 주의할 필요가 있으며 어떤 경우에는 자료형을 직접 바꾸어야 할 필요가 있습니다.\n",
        "```py\n",
        "A=1\n",
        "B=float(1)\n",
        "C=str(1)\n",
        "print(type(A),type(B),type(C))\n",
        "```"
      ],
      "id": "d268f2d3"
    },
    {
      "cell_type": "markdown",
      "metadata": {
        "id": "694acba5"
      },
      "source": [
        "더이상 사용하지 않는 변수는 메모리 여유를 위해 제거할 수 있습니다. 이 때 `del` 을 통해 변수를 제거합니다.\n",
        "```py\n",
        "A = 1\n",
        "print(A)\n",
        "del A\n",
        "print(A)  # 오류\n",
        "```"
      ],
      "id": "694acba5"
    },
    {
      "cell_type": "markdown",
      "metadata": {
        "id": "f67681f8"
      },
      "source": [
        "# 숫자형\n",
        "___\n",
        "우리는 앞서 `A=1` 같은 코드를 통해 숫자형 변수를 정의했습니다. python 에서는 당연히 이런 숫자형 자료들에 대한 기본 연산들을 지원합니다.\n",
        "\n",
        "|연산|기능|\n",
        "|--|--|\n",
        "| +, - | 두 변수의 합, 차를 계산 |\n",
        "| \\*, / | 두 변수의 곱, 나누기를 계산 |\n",
        "| A \\*\\* B | A 의 B 거듭제곱을 계산 |\n",
        "| A // B | A 를 B 로 나눈 몫 |  \n",
        "| A % B | A 를 B 로 나눈 나머지 | \n",
        "\n",
        "\n",
        "값을 계산할 때 자료형은 결과에 맞도록 변환되어 계산됩니다. 예를 들어 나누기와 같은 경우 정수/정수가 안되는 때가 있으므로 둘 모두 실수로 변환되어 계산됩니다.  \n",
        "```py\n",
        "A=4\n",
        "B=2\n",
        "print(A+B,A-B)\n",
        "print(A*B,A/B)\n",
        "print(A**B)\n",
        "print(A//B,A%B)\n",
        "```"
      ],
      "id": "f67681f8"
    },
    {
      "cell_type": "markdown",
      "metadata": {
        "id": "18a4bc44"
      },
      "source": [
        "# 문자열의 정의, 종류\n",
        "___\n",
        "앞서 문자열을 정의할 때는 `'Hello World'` 와 같이 '' 안에 문자열을 입력한다고 배웠습니다. ' ' 말고도 문자열을 정의하는 방법과 함께 파이썬이 기본으로 제공하는 문자열 기능들에 대해 알아봅시다.\n",
        "* 문자열 정의 방법 : '', \"\", '''''', \"\"\"\"\"\"\n",
        "* 특수한 문자들(\\*,\\\\,\\\\n,\\\\t 등)\n",
        "* 문자열 인덱싱\n",
        "* 문자열 연산\n",
        "* 문자열 내장함수"
      ],
      "id": "18a4bc44"
    },
    {
      "cell_type": "markdown",
      "metadata": {
        "id": "74100b21"
      },
      "source": [
        "문자열을 정의하는 것에는 크게 두 가지 방식이 있습니다. 하나는 작은 따옴표('') 또는 큰 따옴표(\"\") 로 묶는 것이고 다른 하나는 작은 따옴표 세개('''''') 또는 큰 따옴표 세개(\"\"\"\"\"\")로 묶는 것입니다.  \n",
        "작은 따옴표화 큰 따옴표는 같은 기능을 해 아래 두 줄은 같은 기능을 합니다.\n",
        "```py\n",
        "A = 'Hello World'\n",
        "B = \"Hello World\"\n",
        "print(A)\n",
        "print(B)\n",
        "```"
      ],
      "id": "74100b21"
    },
    {
      "cell_type": "markdown",
      "metadata": {
        "id": "0dedd66d"
      },
      "source": [
        "따옴표 하나로는 한 줄의 문자열만 인식합니다. 여러 줄의 문자열을 입력하고 싶을 때는 따옴표 셋을 연달아 사용합니다. 이 때에도 작은 따옴표 셋과 큰 따옴표 셋은 같은 기능을 합니다.\n",
        "```py\n",
        "A = \"\"\"\n",
        "Python\n",
        "is\n",
        "Easy\n",
        "\"\"\"\n",
        "print(A)\n",
        "```"
      ],
      "id": "0dedd66d"
    },
    {
      "cell_type": "markdown",
      "metadata": {
        "id": "1ab11ba5"
      },
      "source": [
        "그런데 위의 A 만 Cell 에 입력하여 단독실행하면 `print(A)` 와는 다른 결과로 `\\n` 같은 것이 포함되어 있는 것을 볼 수 있습니다. 우리는 문자열을 입력할 때 줄을 바꾸어 입력했기 때문에 문자열 안에 '줄바꿈'에 해당하는 내용이 들어있고, 이를 나타내는 것이 '개행문자' `\\n` 입니다.  \n",
        "파이썬의 문자열에서는 `\\n`처럼 문자 자체를 나타내는 것이 아니라 특수한 기능을 하는 특수문자가 있으며 대부분 `\\`를 앞에 붙여 일반문자와 구분합니다.  \n",
        "\n",
        "|특수문자|기능|\n",
        "|--|--|\n",
        "|\\n | 줄바꿈|\n",
        "|\\t | 탭(tab) |\n",
        "| \\0 | 공백 |\n",
        "| \\\\ | \\ 표시 |\n",
        "| \\\\\\', \\\\\\\" | ', \" 표시 |\n",
        "\n",
        "\n",
        "```py\n",
        "print('123\\n456')\n",
        "print('123\\t456')\n",
        "print('123\\0456')\n",
        "print('123\\\\456')\n",
        "print('123\\'456\\'')\n",
        "```"
      ],
      "id": "1ab11ba5"
    },
    {
      "cell_type": "markdown",
      "metadata": {
        "id": "8942a9b1"
      },
      "source": [
        "\\\\ 는 문자열 밖의 코드에서 사용될 때 이전 줄과 다음 줄의 코드를 연결하는 역할을 합니다. 아래의 예시를 실행해 결과를 확인해봅시다.\n",
        "```py\n",
        "A = '줄이 \\\n",
        "바뀌지 않아요'\n",
        "print(A)\n",
        "```"
      ],
      "id": "8942a9b1"
    },
    {
      "cell_type": "markdown",
      "metadata": {
        "id": "f68c5662"
      },
      "source": [
        "# 문자열의 기능\n",
        "___\n",
        "파이썬은 숫자형 자료에 대해 다양한 연산을 지원하는 것 만큼 문자열에 대해서도 다양한 연산과 함수를 지원합니다. 그 중 기본적이면서 다양하게 활용되는 인덱싱과 연산, 함수들에 대해 알아봅시다.\n",
        "* 문자열 인덱싱 및 슬라이싱\n",
        "* 문자열 연산\n",
        "* 문자열 포맷팅"
      ],
      "id": "f68c5662"
    },
    {
      "cell_type": "markdown",
      "metadata": {
        "id": "9c0d359e"
      },
      "source": [
        "인덱싱이란 '나열된 자료에서 정수번째 값만 추출하는 것'을 의미합니다. 나열된 자료란 여러가지 있을 수 있지만 우선 현재 배우고 있는 문자열을 생각합니다.  \n",
        "문자열은 문자가 나열된 것입니다. 따라서 정수 $n$ 에 대하여 '$n$ 번째 문자' 라는 개념을 생각할 수 있고 값을 얻어낼 수 있습니다.  \n",
        "$n$ 번째 문자를 추출할 때에는 문자열의 뒤에 `[n]` 을 붙여 얻을 수 있습니다. 주의할 점은 파이썬에서는 인덱스를 시작할 때 $0$ 번이 시작이라는 점입니다.  \n",
        "$n$ 이 자연수가 아니라 정수라는 점은 `[-1]` 같은 것도 가능하다는 것을 의미합니다. 파이썬에서 $-1$ 인덱스는 마지막 번을 의미합니다.  \n",
        "마지막으로 인덱싱을 조금 확장해서 `[a:b]` 또는 `[a:b:c]` 와 같이 나타낼 수 있습니다. `[a:b]` 는 a 부터 b 까지, `[a:b:c]` 는 a 부터 b 까지 c 간격으로 값을 추출합니다. a 나 b 를 입력하지 않으면 처음부터 또는 마지막으로 해석됩니다. 이 때 a 는 포함이고 b 는 포함되지 않으니 주의합시다.\n",
        "```py\n",
        "A='This is string'\n",
        "print(A[0],A[1],A[-1])\n",
        "print(A[0:4],A[:4])\n",
        "print(A[:4],A[4:])\n",
        "print(A[3:-2], A[-5:], A[::2])\n",
        "```"
      ],
      "id": "9c0d359e"
    },
    {
      "cell_type": "markdown",
      "metadata": {
        "id": "fd430678"
      },
      "source": [
        "문자열 여럿을 다룰 때 덧셈, 곱셈을 이용할 수 있습니다. 직관적으로 기능하므로 다음 예시를 통해 바로 알아봅시다.\n",
        "```py\n",
        "print('Hello' + 'World')\n",
        "print('Hello World!'*3)\n",
        "```"
      ],
      "id": "fd430678"
    },
    {
      "cell_type": "markdown",
      "metadata": {
        "id": "e07d2baf"
      },
      "source": [
        "메세지나 파일의 입출력을 위해 대부분이 동일하고 특정 부분에만 특정 값이 들어가는 문자열을 생각할 수 있습니다. 예를 들면 사람들의 이름이 적힌 파일을 읽고 아래와 같이 출력하는 경우를 생각해봅시다.\n",
        "```py\n",
        "print(\"제 이름은 송창훈입니다\")\n",
        "print(\"제 이름은 윤창연입니다\")\n",
        "print(\"제 이름은 이주원입니다\")\n",
        "print(\"제 이름은 이동규입니다\")\n",
        "```\n",
        "이런 경우 이름만 변수에 저장하고 공통되는 부분 \"제 이름은 입니다\" 은 한번만 작성하면 편할 것 같습니다. 이처럼 문자열을 하나 정해두고 특정 부분에만 변하는 값이 입력될 수 있도록 하는 것을 '포맷팅' 이라고 합니다. 포맷팅은 문자열 내의 `%` 문자 또는 `format` 함수 또는 문자열 앞에 `f` 를 붙여 나타낼 수 있습니다. 예시를 통해 알아봅시다.\n",
        "```py\n",
        "A = '송창훈'\n",
        "B = '윤창연'\n",
        "Sentence = \"제 이름은 %s입니다\"\n",
        "print(Sentence%A)\n",
        "print(Sentence%B)\n",
        "```"
      ],
      "id": "e07d2baf"
    },
    {
      "cell_type": "markdown",
      "metadata": {
        "id": "ffabe6b1"
      },
      "source": [
        "위 코드에서 Sentence 는 공통된 부분을 의미합니다. Sentence 에서 `%s` 로 표시된 부분이 바로 포맷팅을 통해 변화하는 부분을 나타냅니다.  \n",
        "%를 통한 포맷팅에서는 % 부분에 들어가는 자료형을 미리 결정해주어야 합니다. 기본적인 형태는 다음과 같습니다.\n",
        "* %s : 문자열\n",
        "* %d : 정수형\n",
        "* %f : 실수형"
      ],
      "id": "ffabe6b1"
    },
    {
      "cell_type": "markdown",
      "metadata": {
        "id": "4a0429f4"
      },
      "source": [
        "`format` 은 문자열 뒤에서 작동합니다. % 를 사용한 포맷팅에 비해 다양한 변수를 입력할 때 효과적입니다.\n",
        "```py\n",
        "A = '아이유'\n",
        "B = '배수지'\n",
        "C = '아이린'\n",
        "D = '카리나'\n",
        "print(\"제가 좋아하는 연예인들은 %s,%s,%s,%s 이며 이 중 가장 좋아하는 연예인은 %s 입니다.\"%(A,B,C,D,B))\n",
        "print(\"제가 좋아하는 연예인들은 {},{},{},{} 이며 이 중 가장 좋아하는 연예인은 {} 입니다.\".format(A,B,C,D,B))\n",
        "print(\"제가 좋아하는 연예인들은 {a},{b},{c},{d} 이며 이 중 가장 좋아하는 연예인은 {b} 입니다.\".format(a=A,b=B,c=C,d=D))\n",
        "```"
      ],
      "id": "4a0429f4"
    },
    {
      "cell_type": "markdown",
      "metadata": {
        "id": "daf94756"
      },
      "source": [
        "`format` 을 사용한 포맷팅은 포맷팅 되는 위치의 변수에 이름을 지정하여 반복되는 값을 한번에 입력할 수 있는 장점이 있습니다. 파이썬 3.6 이후에서는 f-string 이라는 기능을 지원하며 문자열 안에는 변수의 이름을 그대로 집어넣고 문자열 앞에 `f` 를 붙여 나타냅니다.\n",
        "```py\n",
        "A = '아이유'\n",
        "B = '아이린'\n",
        "print(f\"문자열 내에 변수명 {A} 와 {B} 를 그대로 입력하고 앞에 f 를 붙입니다.\")\n",
        "```"
      ],
      "id": "daf94756"
    },
    {
      "cell_type": "markdown",
      "metadata": {
        "id": "f8ed7d61"
      },
      "source": [
        "파이썬이 자료형을 알아서 변환하면서 계산하기 때문에 int 자료형과 float 자료형의 연산같은 것이 자연스럽게 되지만, 이는 원하지 않는 버그를 초래할 때가 있습니다. 예를 들어 어떤 문법에서는 반드시 특정 자료형이 들어가야 하는데, 파이썬이 연산 도중에 자료형을 멋대로 바꿔버리는 경우입니다. 이 때 앞에서 배운 int, str, float 등을 써서 자료형을 수동으로 변환하면 문제가 해결됩니다. 아래 예시를 통해 에러를 확인해봅시다.\n",
        "```py\n",
        "a=6\n",
        "b=2\n",
        "S = 'Hello World'\n",
        "print(S[int(a/b)])\n",
        "print(S[a/b])\n",
        "```"
      ],
      "id": "f8ed7d61"
    },
    {
      "cell_type": "markdown",
      "metadata": {
        "id": "750e4842"
      },
      "source": [
        "# 리스트 자료형\n",
        "___\n",
        "대부분의 자료는 단독으로 존재하는 것이 아니라 여러 정보가 묶여서 존재합니다. 파이썬에서 자료 여럿을 묶어 나타내는 가장 기본적인 방법은 리스트라는 자료형으로 묶는 것입니다. 문자열을 `''` 로 묶어서 나타냈듯이 리스트는 `[ ]` 로 묶어 나타내며 이 역시 나열된 자료이기 때문에 문자열과 마찬가지로 인덱싱과 슬라이싱을 지원합니다. 아래 예시를 통해 확인해봅시다.\n",
        "* 리스트의 정의와 인덱싱, 슬라이스\n",
        "* 리스트의 연산\n",
        "* 리스트 기본함수\n",
        "```py\n",
        "A = [1,2,3,'4','5','6']\n",
        "print(A[0])\n",
        "print(A[-3:])\n",
        "B = [10,20,30]\n",
        "print(A+B)\n",
        "print(B*3)\n",
        "print([[1,2,3],[4,5]])\n",
        "```"
      ],
      "id": "750e4842"
    },
    {
      "cell_type": "code",
      "metadata": {
        "id": "f0464251"
      },
      "source": [
        ""
      ],
      "id": "f0464251",
      "execution_count": null,
      "outputs": []
    },
    {
      "cell_type": "code",
      "metadata": {
        "id": "e4b5a885"
      },
      "source": [
        ""
      ],
      "id": "e4b5a885",
      "execution_count": null,
      "outputs": []
    },
    {
      "cell_type": "markdown",
      "metadata": {
        "id": "85889e4f"
      },
      "source": [
        "리스트는 자료를 묶어 저장하는 형태이기 때문에 자료의 추가, 제거, 변환 등을 위한 함수를 지원합니다. 가장 많이 이용되는 것은 자료의 추가를 나타내는 `.append` 와 `.extend`, 자료의 개수를 나타내는 `len` 입니다. 이렇게 기본으로 제공되는 함수를 이용할 때 리스트 뒤에 .과 함수명을 적어 활용합니다. 주피터에서는 . 이후 탭키를 누르면 지원되는 함수의 목록이 나오니 기억이 안날 때 참고할 수 있습니다.\n",
        "\n",
        "|함수|기능|\n",
        "|--|--|\n",
        "|.append | 리스트의 마지막에 원소를 하나 추가(+와 유사) |\n",
        "|.extend | 리스트를 이어 붙인다. (+와 유사) |\n",
        "|.sort | 리스트를 정렬한다.|\n",
        "\n",
        "\n",
        "```py\n",
        "A = [1,2,3]\n",
        "print(A)\n",
        "A.append(4)\n",
        "print(A)\n",
        "B = [7,6,5]\n",
        "A.extend(B)\n",
        "print(A)\n",
        "A.sort()\n",
        "print(A)\n",
        "A[-1]=9\n",
        "print(A)\n",
        "print(len(A))\n",
        "```"
      ],
      "id": "85889e4f"
    },
    {
      "cell_type": "markdown",
      "metadata": {
        "id": "803d5eb2"
      },
      "source": [
        "# 튜플 자료형\n",
        "___\n",
        "튜플은 리스트와 거의 같지만 내부 값을 변화시킬 수 없는 자료형이고 리스트와는 달리 `.append`, `.extend` 기능을 지원하지는 않습니다. 그러나 인덱싱, 슬라이싱, 덧셈 및 곱셈 기능은 리스트와 마찬가지로 지원합니다.\n",
        "```py\n",
        "A = (1,2,3)\n",
        "B = (4,5,6)\n",
        "print(A, B, A+B)\n",
        "print(A*3)\n",
        "print(A[1])\n",
        "```"
      ],
      "id": "803d5eb2"
    },
    {
      "cell_type": "markdown",
      "metadata": {
        "id": "6199d290"
      },
      "source": [
        "# 집합\n",
        "___\n",
        "리스트 `[]` 나 튜플 `()` 과 유사하게 `{}` 로 자료를 묶어 나타내면 집합 자료형이 됩니다. 집합 자료형의 특징은 묶인 순서가 없고 중복을 허용하지 않는다는 것입니다. 이는 아래 예시를 보면 알 수 있습니다.\n",
        "```py\n",
        "A = {1,3,2,4,3,2,3,1,2,3,1,4,4,2,2,3}\n",
        "print(A)\n",
        "```\n",
        "그러나 집합 자료형은 데이터의 중복을 제거하거나 유일한 값의 개수를 세기 위해 잠시 거치는 정도로 사용될 뿐 많이 활용되지는 않습니다."
      ],
      "id": "6199d290"
    },
    {
      "cell_type": "markdown",
      "metadata": {
        "id": "f51de7ee"
      },
      "source": [
        "# 사전식 데이터\n",
        "___\n",
        "집합 외에도 `{}` 기호를 사용하여 정의되는 자료형이 있습니다. 바로 사전식 자료라 불리는 `dictionary` 데이터 입니다. 리스트와 튜플은 값의 순서에 따라서 인덱싱을 통해 우리가 값에 접근했다면, 사전식 데이터는 인덱스를 단순한 순서가 아니라 사용자가 지정하는 다른 것으로 바꾸었다고 생각할 수 있습니다. 이 때 인덱스와 값에 대응되는 것을 각각 `key` 와 `value` 라 부릅니다.  \n",
        "이전까지의 데이터와는 다르게 key 를 사용자가 설정해주어야 하기 때문에 정의할 때 key, value 둘 모두 사용하여 아래와 같이 정의합니다.\n",
        "`{'key1' : 1, 'key2' : 2, 'key3' : 3}` 와같이 정의하고 값에 접근할 때는 `[key]` 를 통해 접근할 수 있습니다.\n",
        "```py\n",
        "A = { '키' : 178, '나이' : 26, '성별' : '남'}\n",
        "print(A['키'])\n",
        "```"
      ],
      "id": "f51de7ee"
    },
    {
      "cell_type": "markdown",
      "metadata": {
        "id": "ea6739d0"
      },
      "source": [
        "사전 데이터를 정의한 후 `.keys`, `.values`, `.items` 를 통해 key, value, 그리고 그 둘 모두를 확인해볼 수 있습니다. 또 리스트의 수정과 마찬가지로 key 를 통해 값에 접근한 후 값을 변화시킬 수 있으며 만약 없던 key 의 값이 정의되면 새로 추가되기도 합니다.  \n",
        "또 새로운 사전 정보가 주어졌을 때 `.update` 를 통해 한번에 값을 업데이트 할 수도 있습니다.\n",
        "```py\n",
        "book = {'제목' : '점프 투 파이썬',\n",
        "        '가격' : 18800,\n",
        "        'wiki' : 'https://wikidocs.net/book/1'}\n",
        "print(book.keys())\n",
        "print(book.values())\n",
        "print(book['제목'])\n",
        "book['지은이']='박응용'\n",
        "print(book)\n",
        "book.update({\n",
        "    '가격' : 14100,\n",
        "    'e-book 판매가' : 5000,\n",
        "    '출판사' : '이지스퍼블리싱'\n",
        "})\n",
        "print(book)\n",
        "```"
      ],
      "id": "ea6739d0"
    },
    {
      "cell_type": "markdown",
      "metadata": {
        "id": "585489ac"
      },
      "source": [
        "# 참/거짓(boolean) 자료형\n",
        "___\n",
        "참/거짓 자료형은 독립적으로 사용되는 경우는 거의 없습니다. 그러나 이후 반복,조건문과 함께 자주 응용되며 파이썬의 경우 참/거짓 자료형이 아닌 변수(예를 들면 정수, 리스트 등)에 대해서도 참/거짓을 판별하기 때문에 각각의 자료에 대해 참/거짓을 판단할 수 있어야 합니다.  \n",
        "`A=True`, `B=False` 와 같이 직접 True, False 를 변수로 정의할 수도 있습니다. 그렇지만 실제로 활용되는 경우는 `bool` 을 통해 이 변수가 True 인지 False 인지 바로 판별해 적용하는 경우입니다.  "
      ],
      "id": "585489ac"
    },
    {
      "cell_type": "markdown",
      "metadata": {
        "id": "550fa15c"
      },
      "source": [
        "파이썬에서도 다른 언어와 마찬가지로 0은 거짓, 1은 참을 나타냅니다. 그러나 이 외에도 파이썬은 기본적으로 '값이 있으면 참, 값이 없으면 거짓'을 나타냅니다. 아래 코드를 통해 파이썬이 특정 변수의 참/거짓을 어떻게 판단하는지 확인할 수 있습니다.\n",
        "```py\n",
        "A = True\n",
        "print(A)\n",
        "B = bool([1,2,3])\n",
        "print(B)\n",
        "C = bool({})\n",
        "print(C)\n",
        "```"
      ],
      "id": "550fa15c"
    },
    {
      "cell_type": "markdown",
      "metadata": {
        "id": "704e4387"
      },
      "source": [
        "참/거짓 자료형에 대한 연산도 몇가지 지원됩니다. 위와 마찬가지로 `and`, `or` 등의 연산이 리스트와 같은 자료형에 대해서도 작동하고 이후 배울 조건문에서 다양하게 활용될 수 있으니 익숙해지도록 합시다.  \n",
        "\n",
        "|연산|결과|\n",
        "|--|--|\n",
        "|A and B | A 가 True 면 B, False 면 A |\n",
        "| A or B | A 가 True 면 A, False 면 B |\n",
        "| not A | A 가 True 면 False, False 면 True |\n",
        "| A == B | A 와 B 가 같으면 True, 다르면 False |\n",
        "| A != B | A 와 B 가 다르면 True, 같으면 False |\n",
        "| A in B | B 안에 A 가 있으면 True, 없으면 False |\n",
        "| A not in B | B 안에 A 가 없으면 True, 있으면 False |"
      ],
      "id": "704e4387"
    },
    {
      "cell_type": "markdown",
      "metadata": {
        "id": "38d2f4ca"
      },
      "source": [
        "논리연산을 다른 자료형에 적용할 수 있듯이 사칙연산도 참/거짓 자료형에 적용할 수 있습니다. 이 경우 참=1, 거짓=0 의 정수로 변환되어 적용됩니다. 아래 예시를 통해 확인해봅시다.\n",
        "```py\n",
        "a=True\n",
        "b=False\n",
        "print(type(a+1))\n",
        "print(type(6/a))\n",
        "print(type(b-1))\n",
        "```"
      ],
      "id": "38d2f4ca"
    },
    {
      "cell_type": "markdown",
      "metadata": {
        "id": "4cf85308"
      },
      "source": [
        "# 자료형 별 내장함수 예시\n",
        "___\n",
        "파이썬에서 기본으로 제공하는 다음 함수들은 유용하게 사용될 수 있습니다.\n",
        "```py\n",
        "string.split()\n",
        "string.endswith()\n",
        "string.replace()\n",
        "string.join()\n",
        "\n",
        "list.append()\n",
        "list.extend()\n",
        "\n",
        "dictionary.get()\n",
        "dictionary.update()\n",
        "```"
      ],
      "id": "4cf85308"
    },
    {
      "cell_type": "markdown",
      "metadata": {
        "id": "f7e8f960"
      },
      "source": [
        "예제\n",
        "=="
      ],
      "id": "f7e8f960"
    },
    {
      "cell_type": "markdown",
      "metadata": {
        "id": "f013e215"
      },
      "source": [
        "|이름|e-mail|phone|주민등록번호|\n",
        "|--|--|--|--|\n",
        "|최한결|hkchoi@aination.com|123456789|851122-1065984|\n",
        "|정은비|en123||041203-4526809|\n",
        "|오영남|50nam|020-9358-6832|690103-1256384|\n",
        "|권마리|kwon93@never.com|02)5120996|460815-1xxxxxx|"
      ],
      "id": "f013e215"
    },
    {
      "cell_type": "markdown",
      "metadata": {
        "id": "33a3a453"
      },
      "source": [
        "Q1) 앞서 배운 내용을 활용하여 정은비, 오영남 의 e-mail 주소 뒤에  @google.com 을 추가하는 코드를 작성하고 그 결과를 show_people(people) 을 통해 확인하라."
      ],
      "id": "33a3a453"
    },
    {
      "cell_type": "markdown",
      "metadata": {
        "id": "0bd35211"
      },
      "source": [
        "Q2) 앞서 배운 내용을 활용하여 오영남의 전화번호 주소에서 - 를 지우는 코드를 작성하고 그 결과를 show_people(people) 을 통해 확인하라.  "
      ],
      "id": "0bd35211"
    },
    {
      "cell_type": "markdown",
      "metadata": {
        "id": "a4054771"
      },
      "source": [
        "Q3) 앞서 배운 내용을 활용하여 p 의 주민등록번호 정보를 지우고 생년월일 : YYMMDD 를 추가하는 코드를 작성하고 그 결과를 show_people(people) 을 통해 확인하라."
      ],
      "id": "a4054771"
    },
    {
      "cell_type": "markdown",
      "metadata": {
        "id": "e3d1a24b"
      },
      "source": [
        "Q4) 조건문을 배운 후 people 의 생년월일로부터 현재 나이를 구해 추가하는 코드를 작성하고 그 결과를 확인하라."
      ],
      "id": "e3d1a24b"
    },
    {
      "cell_type": "markdown",
      "metadata": {
        "id": "23d653af"
      },
      "source": [
        "Q5) 함수의 내용을 배운 후 people 을 생년월일 순서대로 재배열 하는 코드를 작성하고 그 결과를 확인하라."
      ],
      "id": "23d653af"
    },
    {
      "cell_type": "code",
      "metadata": {
        "id": "2d288cfe"
      },
      "source": [
        "B = [1,2]"
      ],
      "id": "2d288cfe",
      "execution_count": null,
      "outputs": []
    },
    {
      "cell_type": "code",
      "metadata": {
        "id": "e4e58741"
      },
      "source": [
        "len()"
      ],
      "id": "e4e58741",
      "execution_count": null,
      "outputs": []
    },
    {
      "cell_type": "code",
      "metadata": {
        "id": "88db755c"
      },
      "source": [
        ""
      ],
      "id": "88db755c",
      "execution_count": null,
      "outputs": []
    },
    {
      "cell_type": "code",
      "metadata": {
        "id": "3cb67a94"
      },
      "source": [
        ""
      ],
      "id": "3cb67a94",
      "execution_count": null,
      "outputs": []
    },
    {
      "cell_type": "code",
      "metadata": {
        "id": "2c2d6c15"
      },
      "source": [
        ""
      ],
      "id": "2c2d6c15",
      "execution_count": null,
      "outputs": []
    }
  ]
}