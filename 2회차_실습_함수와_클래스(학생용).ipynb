{
  "nbformat": 4,
  "nbformat_minor": 5,
  "metadata": {
    "kernelspec": {
      "display_name": "Python 3",
      "language": "python",
      "name": "python3"
    },
    "language_info": {
      "codemirror_mode": {
        "name": "ipython",
        "version": 3
      },
      "file_extension": ".py",
      "mimetype": "text/x-python",
      "name": "python",
      "nbconvert_exporter": "python",
      "pygments_lexer": "ipython3",
      "version": "3.8.8"
    },
    "colab": {
      "name": "2회차_실습_함수와 클래스(학생용).ipynb",
      "provenance": [],
      "include_colab_link": true
    }
  },
  "cells": [
    {
      "cell_type": "markdown",
      "metadata": {
        "id": "view-in-github",
        "colab_type": "text"
      },
      "source": [
        "<a href=\"https://colab.research.google.com/github/Deep-of-Machine/AI_Academy/blob/main/2%ED%9A%8C%EC%B0%A8_%EC%8B%A4%EC%8A%B5_%ED%95%A8%EC%88%98%EC%99%80_%ED%81%B4%EB%9E%98%EC%8A%A4(%ED%95%99%EC%83%9D%EC%9A%A9).ipynb\" target=\"_parent\"><img src=\"https://colab.research.google.com/assets/colab-badge.svg\" alt=\"Open In Colab\"/></a>"
      ]
    },
    {
      "cell_type": "markdown",
      "metadata": {
        "id": "c4d1a2b7"
      },
      "source": [
        "# 함수의 정의와 호출\n",
        "___\n",
        "코딩의 근본적인 목표는 일련의 과정을 자동화하여 반복하기 쉽도록 만드는 것입니다. 앞서 배운 반복문을 통해 일련의 작업을 반복하거나, 조건문을 통해 수행되는 작업을 구분할 수 있다는 것을 배웠습니다. 그런데 어떤 작업들의 경우는 대상을 미리 정하지 않고 수행될 작업을 미리 작성해둔 후 나중에 대상만 정할 수 있게 만들어두면 편할 때가 많습니다. 예를 들어 수학에서 활용되는 함수나 여러 값들의 최소/최대치를 구하는 상황을 생각할 수 있습니다."
      ],
      "id": "c4d1a2b7"
    },
    {
      "cell_type": "markdown",
      "metadata": {
        "id": "ddfbccbb"
      },
      "source": [
        "위처럼 적용 대상이 나중에 정해질 것을 염두에 두고 작업을 미리 작성한 것을 함수라고 합니다. 수학에서 배웠던 함수 $y=f(x)$ 는 어떤 $x$ 가 입력되면 이미 정해진 $f$ 라는 작업을 거쳐 나온 결과물 $y$ 를 알려준다고 생각할 수 있습니다. 코딩에서의 함수도 마찬가지이며 $f$ 라는 작업을 정하는 것입니다."
      ],
      "id": "ddfbccbb"
    },
    {
      "cell_type": "markdown",
      "metadata": {
        "id": "533be3b1"
      },
      "source": [
        "파이썬에서 함수는 `def` 명령을 통해 정의할 수 있습니다. `def function_name(x):` 이후의 코드 블럭이 입력된 `x` 라는 대상에 대해 수행할 작업이 되며 결과물을 원할 경우 블럭의 마지막에 `return y` 명령을 통해 결과물 `y` 를 얻을 수 있습니다. 이후 함수를 사용할 때에는 함수의 이름을 이용해 `function_name(x)` 라 작성하면 됩니다.  \n",
        "아래의 간단한 예시를 통해 함수를 정의하는 방법과 작동에 대해 알아봅시다.\n",
        "```py\n",
        "def square(x):\n",
        "    y = x**2\n",
        "    return y\n",
        "for i in range(5):\n",
        "    print(square(i))\n",
        "```"
      ],
      "id": "533be3b1"
    },
    {
      "cell_type": "markdown",
      "metadata": {
        "id": "77f3e5ef"
      },
      "source": [
        "# 함수의 입력과 출력 1\n",
        "___\n",
        "위에서 정의된 함수 `square` 는 `x` 라는 대상에 대해서 `y=x**2` 이라는 작업을 수행한 후 `y` 를 반환합니다. `x` 를 함수의 입력인자, `y` 를 함수의 출력값 또는 반환값이라고 합니다. `square` 는 입력과 출력이 하나뿐이었지만 여러 개의 입력인자를 가지고 여러 개의 출력값을 가질 수 있습니다. 사칙연산에 대응되는 다음 함수들을 정의하고 결과를 확인해봅시다.\n",
        "```py\n",
        "def add(a,b):\n",
        "    return a+b\n",
        "def sub(a,b):\n",
        "    return a-b\n",
        "def mul(a,b):\n",
        "    return a*b\n",
        "def div(a,b):\n",
        "    return a/b\n",
        "def arithmet(a,b):\n",
        "    return add(a,b), sub(a,b), mul(a,b), div(a,b)\n",
        "```"
      ],
      "id": "77f3e5ef"
    },
    {
      "cell_type": "markdown",
      "metadata": {
        "id": "6a3cd8c6"
      },
      "source": [
        "위의 예시에서 알아볼 수 있듯이 함수 안에서 다른 함수를 사용할 수도 있습니다. `arithmet` 함수는 앞서 정의한 네 개의 함수 `add, sub, mul, div` 함수를 사용해 계산된 결과를 사용합니다. 또한 `arithmet` 처럼 여러 개의 값을 반환하는 함수는 그 결과를 튜플로 묶어 반환합니다."
      ],
      "id": "6a3cd8c6"
    },
    {
      "cell_type": "markdown",
      "metadata": {
        "id": "300cd1d8"
      },
      "source": [
        "여러 값을 튜플로 묶어 값을 반환하는 것을 보면 알 수 있듯이 함수의 반환값은 꼭 수가 아니어도 되며 마찬가지로 입력 역시 수가 아니어도 됩니다. 아래의 예시를 통해 여러가지 함수의 입력,출력 결과물을 확인합니다.\n",
        "```py\n",
        "def apply(a,f):\n",
        "    return f(a)\n",
        "def composition(f,g):\n",
        "    def comp(x):\n",
        "        return f(g(x))\n",
        "    return comp\n",
        "```"
      ],
      "id": "300cd1d8"
    },
    {
      "cell_type": "markdown",
      "metadata": {
        "id": "292958b3"
      },
      "source": [
        "`composition` 을 위해 halve 함수를 정의하고, f,g 를 앞서 정의한 halve 와 square 라고 한 후 둘을 합성한 결과를 h 라고 해보았습니다. `composition` 의 이해가 어려울 수 있는데 함수 안에서 새로운 함수를 정의하고 그것을 반환했다고 이해하면 됩니다. 많이 어렵다면 지금 단계에서는 \"함수의 입력으로 함수를 받거나, 새로운 함수를 만들어서 함수를 결과로 내보낼 수도 있구나\" 정도만 이해해도 괜찮습니다."
      ],
      "id": "292958b3"
    },
    {
      "cell_type": "markdown",
      "metadata": {
        "id": "ce5a9772"
      },
      "source": [
        "# 함수의 입력과 출력 2\n",
        "___\n",
        "앞에서 배운 함수는 '어떤 인자를 받으면 어떤 작업을 해서 어떤 것을 내보내는 것'입니다. 코딩된 대부분의 기능은 사실 함수로 이루어져 있는데, 예를 들어 우리가 자주 사용하는 `print(x)` 는 `x` 를 받으면 창을 통해 결과값을 내보내는 작업을 하고, 리스트나 사전 자료형에서 값을 얻어내는 것도 `index` 또는 `key` 를 입력으로 받아 대응되는 원소를 반환하는 함수로 볼 수 있습니다. 이런 다양한 함수를 만들기 위해 응용될 수 있는 몇 가지 개념들이 있는데 그 중 일부만 먼저 살펴봅시다.  \n",
        "함수를 사용할 때 우리가 모든 변수를 입력할 수 있으면 좋겠지만, 때로는 그 값을 모르거나 너무 자주 사용되어 기본값을 설정할 필요가 있을 수 있습니다. 이 때는 입력되는 변수 위치에 `변수명=기본값` 으로 정의할 수 있습니다.\n",
        "```py\n",
        "def power(x,p=2):\n",
        "    return x**p\n",
        "```"
      ],
      "id": "ce5a9772"
    },
    {
      "cell_type": "markdown",
      "metadata": {
        "id": "b30137b6"
      },
      "source": [
        "우리가 앞에서 정의했던 `add`, `sub`, `mul`, `div`, `power` 등은 모두 복잡한 작업 없이 결과를 계산할 수 있었습니다. 이렇게 한 줄로 함수를 작성할 수 있을 때는 `def` 문법보다 `lambda` 문법을 사용해 간단히 정의할 수 있습니다. 아래 예시를 통해 `power2` 함수를 정의해봅시다.\n",
        "```py\n",
        "power2 = lambda x, p=2 : x**p\n",
        "```\n",
        "`lambda` 문법은 lambda 입력변수 : 반환변수 로 이루어집니다. 위 코드에서는 \":\" 좌측의 `x`,`p` 가 입력변수가 되고 오른쪽의 `x**p` 가 함수의 결과가 됩니다. 예시를 보면 알 수 있듯이 `lambda` 문법에서도 기본값을 설정할 수 있습니다."
      ],
      "id": "b30137b6"
    },
    {
      "cell_type": "markdown",
      "metadata": {
        "id": "f49977e5"
      },
      "source": [
        "`lambda` 문법은 처음 배울때는 사용처가 잘 떠오르지 않을 수 있습니다. 그러나 이후 배울 다양한 모듈에서 위의 apply 와 같이 함수를 입력으로 받아 작동하는 함수가 많이 있어 응용할 수 있는 상황이 많습니다."
      ],
      "id": "f49977e5"
    },
    {
      "cell_type": "markdown",
      "metadata": {
        "id": "346f1794"
      },
      "source": [
        "___\n",
        "이번에는 `*args`, `**args`에 대해 알아봅니다. 이 역시 어려운 내용이므로 잘 모르겠으면 넘겨도 괜찮습니다.  \n",
        "`*args` 와 `**kwargs` 는 따로따로 입력되는 변수들을 묶어주는 문법입니다. 이 둘은 글이나 말로 설명을 듣기보다는 예시를 직접 코딩하면서 결과를 보는 것이 좋습니다."
      ],
      "id": "346f1794"
    },
    {
      "cell_type": "markdown",
      "metadata": {
        "id": "c382c70a"
      },
      "source": [
        "앞서 만들었던 `add` 함수를 발전시키면서 위 내용들을 배워봅시다. `add` 함수는 두 변수 `a`,`b` 를 받아 `a+b` 라는 결과를 반환했습니다. 그런데 막상 활용하려고 해보니 두 변수 뿐 아니라 여러 변수를 같이 더하는 경우가 많다는 것을 알게 되었고 오직 두 변수만을 입력으로 받는 함수가 아니라 입력된 모든 변수들을 더하는 함수로 업그레이드 하면 더 편하다는 생각을 하게 되었다고 합시다. 이처럼 입력되는 변수의 개수를 모를 때 처리할 수 있는 방법이 몇 가지 있습니다.  \n",
        "하나는 입력되는 모든 변수를 리스트로 묶어 하나의 변수를 입력받는 것 처럼 작성하는 것입니다. 아래의 `add1` 함수를 살펴봅시다.\n",
        "```py\n",
        "def add1(L):\n",
        "    sum=0\n",
        "    for number in L:\n",
        "        sum = sum + number\n",
        "    return sum\n",
        "```"
      ],
      "id": "c382c70a"
    },
    {
      "cell_type": "markdown",
      "metadata": {
        "id": "f2b269df"
      },
      "source": [
        "그런데 이처럼 작성하면 모든 경우에 더해지는 수를 묶어주어야 하니 은근히 불편합니다. 이 때 활용할 수 있는 문법이 바로 `*args` 입니다. args 앞의 \\* 는 특별한 의미를 가지는데, 리스트나 튜플처럼 묶여있는 자료를 풀어낸 상태를 의미합니다. 예를 들어 `a=(1,2,3,4,5)` 라고 하면 a 는 하나의 튜플이 되지만 \\*a 는 다섯가지로 풀어진 값이 됩니다. 아래 예시를 통해 비교해봅시다.\n",
        "```py\n",
        "a=(1,2,3,4,5)\n",
        "print(a)\n",
        "print(*a)\n",
        "```"
      ],
      "id": "f2b269df"
    },
    {
      "cell_type": "markdown",
      "metadata": {
        "id": "9ec841ec"
      },
      "source": [
        "이를 이용하면 아래와 같이 함수 내부에서 튜플이나 리스트로 취급되는 입력을 입력에서는 풀어진 형태로 받게 할 수 있습니다. 아래 예시를 통해 입력에 사용된 `*args` 와 내부에서 사용되는 `args` 를 살펴봅시다.\n",
        "```py\n",
        "def add2(*args):\n",
        "    print(type(args), args)\n",
        "    sum=0\n",
        "    for number in args:\n",
        "        sum = sum + number\n",
        "    return sum\n",
        "```"
      ],
      "id": "9ec841ec"
    },
    {
      "cell_type": "markdown",
      "metadata": {
        "id": "f32ff7b5"
      },
      "source": [
        "이해를 돕기 위해 중간에 args 의 type 과 값을 출력하도록 하였습니다. add1 과 비교해보면 add1 은 우리가 리스트로 묶어서 값을 전달했지만 add2 는 별도로 입력한 1,2,3,4,5 다섯 개의 값을 알아서 args 라는 튜플로 묶어 전달했다는 점입니다."
      ],
      "id": "f32ff7b5"
    },
    {
      "cell_type": "markdown",
      "metadata": {
        "id": "8971ae73"
      },
      "source": [
        "`**kwargs` 도 `*args` 와 마찬가지로 있을지 없을지, 있다면 몇 가지나 있을 지 모르는 경우 사용할 수 있는 문법입니다. 차이점이 있다면 `*args` 는 입력된 변수들을 순서대로 튜플로 묶어준다면 `**kwargs` 는 입력된 변수 이름을 사용해 사전으로 묶어줍니다. `mul1` 을 리스트를 활용해 새롭게 정의한 후 `**kwargs` 를 이용한 `arithmet1` 를 살펴봅시다.\n",
        "```py\n",
        "def mul1(L):\n",
        "    r = 1\n",
        "    for number in L:\n",
        "        r = r * number\n",
        "    return r\n",
        "    \n",
        "def arithmet1(**kwargs):\n",
        "    print(type(kwargs),kwargs)\n",
        "    return add1(kwargs['add']), mul1(kwargs['mul'])\n",
        "```"
      ],
      "id": "8971ae73"
    },
    {
      "cell_type": "markdown",
      "metadata": {
        "id": "9d8e85ee"
      },
      "source": [
        "arithmet1 에 전달된 `add=(1,3,5,7,9)`는 (1,3,5,7,9) 라는 변수를 add 라는 이름을 key 로 사용해 사전으로 저장하고 마찬가지로 `mul=(2,4,6)` 도 mul 이라는 이름을 key 로 사용해 (2,4,6) 이라는 변수를 저장했습니다."
      ],
      "id": "9d8e85ee"
    },
    {
      "cell_type": "markdown",
      "metadata": {
        "id": "9a692fb8"
      },
      "source": [
        "# 함수의 응용\n",
        "___\n",
        "지금까지 배운 이론과 코딩을 사용해서 다항식의 근을 찾는 작업을 수행할 수 있습니다. 다항식의 근이 나오는 이론적인 이유는 이후에 다룰 내용이지만 순서에 따라 진행하면서 다항식의 근이 나오는 것을 확인하기만 해 봅시다."
      ],
      "id": "9a692fb8"
    },
    {
      "cell_type": "markdown",
      "metadata": {
        "id": "1edc1a51"
      },
      "source": [
        "다항식 $f(x)=x^3+2x^2-x-10$ 의 근을 구하는 문제를 해결해봅시다.  \n",
        "1. 실수 x 를 입력받아 $x^3+2x^2-x-10$ 를 계산하는 함수 f 를 정의한다.  \n",
        "```py\n",
        "f = lambda x : x**3+2*x**2-x-10\n",
        "```\n",
        "2. 실수 x 를 입력받아 $6x^5+20x^4+8x^3-72x^2-78x+20$ 를 계산하는 함수 g 를 정의한다.\n",
        "```py\n",
        "g = lambda x : 6*x**5+20*x**4+8*x**3-72*x**2-78*x+20\n",
        "```\n",
        "3. 실수 x 와 함수 g 를 입력받아 $x-0.001*g(x)$ 를 계산하는 함수 step 을 정의한다.\n",
        "```py\n",
        "step = lambda x, g : x-0.001*g(x)\n",
        "```\n",
        "4. x=3 에서 시작해 x 값을 step(x,g) 로 업데이트 하고 $f(x)$ 를 확인하는 과정을 50번 반복하라.\n",
        "```py\n",
        "x=3\n",
        "for i in range(50):\n",
        "    x = step(x,g)\n",
        "    print(f(x))\n",
        "```"
      ],
      "id": "1edc1a51"
    },
    {
      "cell_type": "markdown",
      "metadata": {
        "id": "09aafd11"
      },
      "source": [
        "예제\n",
        "=="
      ],
      "id": "09aafd11"
    },
    {
      "cell_type": "markdown",
      "metadata": {
        "id": "77f47159"
      },
      "source": [
        "Q1) List $[a_0,a_1,a_2,\\cdots,a_n]$ 을 받아\n",
        "$$\n",
        "f(x)=a_nx^n+a_{n-1}x^{n-1}+\\cdots+a_1x+a_0\n",
        "$$\n",
        "를 계산하는 함수를 구현하라"
      ],
      "id": "77f47159"
    },
    {
      "cell_type": "markdown",
      "metadata": {
        "id": "d9716fde"
      },
      "source": [
        "Q2) List $[a_0,a_1,a_2,\\cdots,a_n]$ 을 받아\n",
        "$$\n",
        "g(x)=na_nx^{n-1}+(n-1)a_{n-1}x^{n-2}+\\cdots+2a_2x+a_1\n",
        "$$\n",
        "을 계산하는 함수를 구현하라"
      ],
      "id": "d9716fde"
    },
    {
      "cell_type": "markdown",
      "metadata": {
        "id": "9cdf37fb"
      },
      "source": [
        "Q3) $h(x) = 2*f(x)*g(x)$ 를 계산하는 함수를 구현하라"
      ],
      "id": "9cdf37fb"
    },
    {
      "cell_type": "markdown",
      "metadata": {
        "id": "227e5e86"
      },
      "source": [
        "Q4) 적당한 리스트 $[a_0,a_1,a_2,\\cdots,a_n]$ 를 가지고 f,g, h 를 생성한 후 앞서 정의한 step(x,h) 를 통해 근을 구해보라."
      ],
      "id": "227e5e86"
    },
    {
      "cell_type": "markdown",
      "metadata": {
        "id": "4072d94a"
      },
      "source": [
        "# 함수의 응용 2\n",
        "___\n",
        "앞에서는 입력되는 변수를 통해 어떤 값을 반환하는 함수만을 다뤄보았습니다. 그렇지만 이 외에도 반환값 없이 특정한 기능만을 수행하는 함수 역시 가능하며 중요합니다. 이전에 배웠던 예시를 통해 반복작업을 위한 반환값 없는 함수를 활용해 봅시다."
      ],
      "id": "4072d94a"
    },
    {
      "cell_type": "markdown",
      "metadata": {
        "id": "8c5f656b"
      },
      "source": [
        "||이름|e-mail|phone|주민등록번호|\n",
        "|--|--|--|--|--|\n",
        "|p1|최한결|hkchoi@aination.com|123456789|851122-1065984|  \n",
        "|p2|정은비|en123||041203-4526809|  \n",
        "|p3|오영남|50nam|020-9358-6832|690103-1256384|  \n",
        "|p4|권마리|kwon93@naver.com|02)5120996|460815-1xxxxxx|  "
      ],
      "id": "8c5f656b"
    },
    {
      "cell_type": "markdown",
      "metadata": {
        "id": "23b1ff6e"
      },
      "source": [
        "```py\n",
        "p1 = {'이름' : '최한결', 'e-mail' : 'hkchoi@aination.com','phone' : 123456789, '주민등록번호' : '851122-1065984'}\n",
        "p2 = {'이름' : '정은비', 'e-mail' : 'en123','phone' : '', '주민등록번호' : '041203-4526809'}\n",
        "p3 = {'이름' : '오영남', 'e-mail' : '50nam','phone' : '020-9358-6832', '주민등록번호' : '690103-1256384'}\n",
        "p4 = {'이름' : '권마리', 'e-mail' : 'kwon93@never.com','phone' : '02)5120996', '주민등록번호' : '460815-1xxxxxx'}\n",
        "people = [p1,p2,p3,p4]\n",
        "```"
      ],
      "id": "23b1ff6e"
    },
    {
      "cell_type": "markdown",
      "metadata": {
        "id": "1722ef7c"
      },
      "source": [
        "아래의 check_ 함수들은 각각 주어진 p 에 대해서  \n",
        "e-mail 을 확인해 빈 @도메인을 채우고,  \n",
        "전화번호는 숫자만 나오도록 바꾸고,  \n",
        "주민등록번호 생년월일로 바꾼 후 주민등록번호는 지우는 작업을 수행합니다.\n",
        "```py\n",
        "def check_domain(p):\n",
        "    if '@' not in p:\n",
        "        p['e-mail'] = p['e-mail']+'@google.com'\n",
        "        \n",
        "def check_phone(p):\n",
        "    p['phone'] = ''.join(str(p['phone']).split('-'))\n",
        "    p['phone'] = ''.join(str(p['phone']).split(')'))\n",
        "    if not p['phone']:\n",
        "        p['phone']='전화없음'\n",
        "        \n",
        "def check_resnum(p):\n",
        "    p['생년월일'] = p['주민등록번호'][:6]\n",
        "    del p['주민등록번호']\n",
        "    \n",
        "def check_infos(people, check_list):\n",
        "    for p in people:\n",
        "        for check in check_list:\n",
        "            check(p)    \n",
        "```"
      ],
      "id": "1722ef7c"
    },
    {
      "cell_type": "markdown",
      "metadata": {
        "id": "327404fa"
      },
      "source": [
        "# 클래스\n",
        "___\n",
        "파이썬에서 제공하는 기본 자료형 외에 우리가 원하는 작업을 위해서는 새로운 자료형을 만들어야 할 때가 생깁니다. 예를 들어 우리는 앞으로 벡터 자료에 대해서 작업할 예정이지만 수를 리스트로 나열할 경우 덧셈 등의 연산이 우리가 원하는 연산이 아니게 됩니다.  \n",
        "클래스를 쉽게 설명하기는 어렵지만 하나의 이름으로 변수, 함수 등의 정보를 묶어두었다고 생각할 수 있으며 보다 간단히 이해하려면 일종의 자료형을 만든다고 생각할 수 있습니다. 클래스는 구성요소가 다소 복잡하므로 아래 코드 전체를 먼저 작성 후 부분별로 실행하면서 이해해 봅시다.\n",
        "```py\n",
        "class vector(object):\n",
        "    def __init__(self, L):\n",
        "        self.elements = L\n",
        "    \n",
        "    def add(self, w):\n",
        "        v = []\n",
        "        for a, b in zip(self.elements, w.elements):\n",
        "            v.append(a+b)\n",
        "        return vector(v)\n",
        "    \n",
        "    def sub(self, w):\n",
        "        v = []\n",
        "        for a,b in zip(self.elements, w.elements):\n",
        "            v.append(a-b)\n",
        "        return vector(v)\n",
        "```"
      ],
      "id": "327404fa"
    },
    {
      "cell_type": "markdown",
      "metadata": {
        "id": "52a97c9f"
      },
      "source": [
        "`class` 의 정의는 함수와 비슷하게 `class class_name():` 으로 시작합니다.  \n",
        "바로 아래의 `def __init__(self,L):` 부분은 클래스의 생성함수를 나타냅니다. 리스트를 `a=list((1,2,3))` 을 통해 만들듯이 우리는 벡터를 `v=vector((1,2,3))` 처럼 만드려고 합니다. 이처럼 생성을 위해 처음 부를 때 실행되는 함수처럼 몇 가지 함수는 이름이 고정되어 있습니다.  \n",
        "`__init__` 함수의 첫 번째 인자 `self` 는 강의의 수준을 넘어서므로 자세히 알려면 https://wikidocs.net/1742 를 참고하시기 바랍니다. 강의 과정에서는 클래스 안의 함수를 정의할 때 반드시 첫 번째 인자로 적어야 하고 실제로 함수를 사용할 때는 두 번째 인자부터 입력한다고 외우고 넘어가도 좋습니다.  \n",
        "생성함수 `__init__` 을 정의하면 아래와 같이 벡터를 생성할 수 있습니다. 이 때 함수가 실행되는 것을 확인하기 위해 위에서 print 문을 포함시켰습니다.\n",
        "```py\n",
        "v1 = vector((1,2,3,4,5))\n",
        "v2 = vector((10,20,30,40,50))\n",
        "```"
      ],
      "id": "52a97c9f"
    },
    {
      "cell_type": "markdown",
      "metadata": {
        "id": "369d683b"
      },
      "source": [
        "이제 벡터 v1,v2 가 생성되었으니 내부 변수와 연산을 살펴보겠습니다. 생성함수를 살펴보면 `self.elements` 라는 변수를 정의한 것을 알 수 있습니다. `self` 는 자기 자신을 의미하고 `elements` 는 자시 자신에게 종속된 변수의 이름을 의미합니다. 이런 변수를 부르기 위해서는 elements 로 부르는 것은 불충분하고 v1 의 elements 에는 v1.elements, v2 의 elements 에는 v2.elements 처럼 접근해야 합니다. 아래 예시를 통해 두 벡터의 성분을 확인해봅시다.\n",
        "```py\n",
        "for e in v1.elements:\n",
        "    print(e)\n",
        "for e in v2.elements:\n",
        "    print(e)\n",
        "```"
      ],
      "id": "369d683b"
    },
    {
      "cell_type": "markdown",
      "metadata": {
        "id": "32c93d90"
      },
      "source": [
        "클래스 안에서 정의된 함수를 호출할 때는 `클래스 변수.함수` 로 호출할 수 있습니다. 현재 v1, v2 각각이 vector 라는 클래스이기 때문에 v1 에서도 `add` 와 `sub` 함수가 정의되어 있고, v2 에서도 `add` 와 `sub` 가 정의되어 있습니다. 예를 들어 v1 에서 `add` 함수를 호출할 때에는 `v1.add(v2)` 같은 방식으로 사용할 수 있으며 이 때 위에서 정의한 `vector.add(v1,v2)` 함수가 실행됩니다.  \n",
        "v1,v2 와 아래 add, sub 함수의 예시를 통해 결과를 확인해봅시다.\n",
        "```py\n",
        "v1.add(v2)\n",
        "v2.add(v1)\n",
        "v1.sub(v2)\n",
        "v2.sub(v1)\n",
        "vector.add(v1,v2)\n",
        "vector.sub(v1,v2)\n",
        "```"
      ],
      "id": "32c93d90"
    },
    {
      "cell_type": "markdown",
      "metadata": {
        "id": "a08b6899"
      },
      "source": [
        "___\n",
        "이번에는 이전에 함수로 정의했던 다항식을 클래스를 통해 조금 더 쉽게 정의하는 방법을 알아봅시다. 앞서 다항식을 `lambda` 문법을 통해 정의할 때에는 다항식이 주어지면 계산되는 결과를 일일히 타이핑해야 했습니다. 그런데 사실 다항식의 구성은 계수와 차수들만 주어지면 나머지는 알아서 계산될 수 있으므로 매번 새로 계산식을 타이핑 하는 것 보다는 계수만 입력해주면 결과도 차수에 의해 알아서 계산되도록 만드려고 합니다. 이 때 다항식 클래스를 만들고 내부에 계수 정보를 저장시킨 후 계산은 클래스 내부 함수를 통해 이루어지도록 하면 언급한 내용을 달성할 수 있습니다.\n",
        "```py\n",
        "class polynomial():\n",
        "    def __init__(self, coeff):\n",
        "        self.coeff = coeff\n",
        "    def compute(self,x):\n",
        "        sum = 0\n",
        "        for i,c in enumerate(self.coeff,1):\n",
        "            sum += c*x**(len(self.coeff)-i)\n",
        "        return sum\n",
        "```"
      ],
      "id": "a08b6899"
    },
    {
      "cell_type": "markdown",
      "metadata": {
        "id": "07b41e70"
      },
      "source": [
        "위의 예시에서 볼 수 있듯이 다항식 클래스를 미리 정해두었더니 새로운 다항식을 정의하는 것이 매우 간단해졌습니다. 이처럼 우리가 원하는 대상의 클래스를 만들어두면 훨씬 효율적으로 코드를 구성할 수 있게 됩니다."
      ],
      "id": "07b41e70"
    },
    {
      "cell_type": "markdown",
      "metadata": {
        "id": "9a75727b"
      },
      "source": [
        "# 클래스 - 상속과 오버라이딩\n",
        "___"
      ],
      "id": "9a75727b"
    },
    {
      "cell_type": "markdown",
      "metadata": {
        "id": "175e044b"
      },
      "source": [
        "앞에서 vector 와 polynomial 클래스를 만들어 보았는데, 리스트처럼 효율적으로 사용하기 위해 개선할 점들이 많습니다.  \n",
        "1. 두 벡터 v 와 w 의 덧셈과 뺄셈을 `v+w`, `v-w` 로 계산하고 싶다.\n",
        "2. 벡터 v 의 i 번째 원소를 리스트처럼 `v[i]` 로 얻고 싶다.\n",
        "3. 벡터 v 를 print(v) 를 통해 출력하고 싶다.\n",
        "4. 벡터 v 의 길이를 리스트처럼 `len(v)` 로 얻고싶다.\n",
        "5. polynomial 덧,뺄셈도 벡터와 마찬가지로 +, - 등의 기호를 사용하고싶다.\n",
        "6. polynomial p 의 x 에서의 값을 함수처럼 `p(x)` 처럼 계산하고싶다."
      ],
      "id": "175e044b"
    },
    {
      "cell_type": "markdown",
      "metadata": {
        "id": "a529cb63"
      },
      "source": [
        "위 내용들을 구현하기 위해서는 이미 파이썬에서 정의된 + 기호의 의미를 벡터, 다항식 클래스에 대해서 작동하도록 덮어써야 합니다. 이를 오버라이딩이라 하며 이를 이해하기에 앞서 상속이라는 개념을 알아야 합니다.  \n",
        "상속이란 어떤 클래스를 정의할 때 이미 정의된 클래스의 구성요소를 물려받아 사용할 수 있도록 만드는 것을 말합니다. 이를 이해하기 위해 앞서 정의한 벡터 클래스에 두 벡터의 내적 `dot` 을 추가한 새 클래스 `vector2` 를 만들어봅시다.\n",
        "```py\n",
        "class vector2(vector):\n",
        "    def dot(self,w):\n",
        "        sum = 0\n",
        "        for a,b in zip(self.elements, w.elements):\n",
        "            sum += a*b\n",
        "        return sum\n",
        "```"
      ],
      "id": "a529cb63"
    },
    {
      "cell_type": "markdown",
      "metadata": {
        "id": "11417a7a"
      },
      "source": [
        "우리가 정의한 `vector2` 클래스는 분명히 생성함수도 정의하지 않았고 dot 이라는 함수만 정의했을 뿐인데, 이후 실험을 해보니 vector 처럼 생성도 되고 덧셈, 뺄셈이 정의된 것을 확인할 수 있습니다. 이는 클래스를 생성할 때 `vector` 라는 클래스의 구성요소를 상속받아 활용했기 때문입니다. 클래스의 정의 부분에서 `class vector2(vector)` 부분에서 `vector` 의 역할이 상속해주는 부모 클래스를 의미하는데, vector 클래스를 물려받았으므로 이미 vector 클래스에서 정의되어 있던 덧셈, 뺄셈, 생성자를 반복해서 적을 필요 없기 사용할 수 있던 것입니다."
      ],
      "id": "11417a7a"
    },
    {
      "cell_type": "markdown",
      "metadata": {
        "id": "493f2967"
      },
      "source": [
        "이번에는 같은 이름의 함수를 덮어쓰는 것을 생각해봅시다. 이전에 정의한 polynomial 클래스에서는 계수만을 받아 함수를 생성했습니다. 그런데 이렇게 짜는 경우 매우 간단한 다항식인 $y=x^5-1$ 같은 것을 생성할 때 `polynomial(1,0,0,0,0,-1)` 처럼 빈 곳의 계수를 모두 0으로 설정해야 하는 번거로움이 있습니다. 이번에는 `polynomial` 클래스를 상속받아 계수와 차수를 입력하는 `polynomial2` 클래스를 만들고 계산식을 새로 정의해봅시다.\n",
        "```py\n",
        "class polynomial2(polynomial):\n",
        "    def __init__(self, coeff, deg):\n",
        "        super(polynomial2, self).__init__(coeff)\n",
        "        self.deg = deg\n",
        "    \n",
        "    def compute(self, x):\n",
        "        sum = 0\n",
        "        for c,d in zip(self.coeff, self.deg):\n",
        "            sum += c*x**d\n",
        "        return sum\n",
        "```"
      ],
      "id": "493f2967"
    },
    {
      "cell_type": "markdown",
      "metadata": {
        "id": "97e3ef91"
      },
      "source": [
        "위에서 정의한 `polynomial2` 를 살펴보면 `polynomial` 을 상속받았지만 생성자를 새로 정의하고 계산해주는 `compute` 함수도 새로 생성했습니다. 이렇게 상속받은 클래스(자식 클래스)에서 상속한 클래스(부모 클래스)에 있는 함수를 새로 정의하는 것을 오버라이딩(덮어쓰기)라 합니다.  \n",
        "그런데 생성함수같은 경우는 완전히 새로 덮어쓰기 보다는 기존에 생성되던 것은 그대로 두고, 새로운 것을 추가하는 경우가 많습니다. 우리의 예시에서도 다항식의 계수는 여전히 자신이 가지고 있어야 하므로 polynomial 클래스의 coeff 부분은 생성되어야 할 것입니다. 이런 때 우리는 \"부모 클래스의 생성자를 실행\"시킨 후 자신이 추가로 생성하는 작업을 하면 이전에 만들어둔 생성함수를 그대로 이용할 수 있습니다. `super(polynomial2, self).__init__(coeff)` 부분이 이를 위한 부분인데, `super(polynomial2, self)` 는 polynomial2 클래스의 부모를 의미합니다. 이는 polynomial 클래스가 될 것이고 polynomial 클래스의 생성자는 계수를 입력으로 받기 때문에 `.__init__(coeff)` 을 통해 계수정보를 넣어주었습니다.  \n",
        "`super` 가 정확히 어떤 작용을 하고 왜 필요한지를 이해하는 것은 매우 어려워 이 강의의 수준을 넘어서기 때문에 생략하지만 이른바 다중상속 문제(여러 클래스를 상속받고, 상속받은 클래스를 다시 상속하여 상속관계가 복잡해진 형태)를 해결하기 위해 필요한 부분이라고 기억하면 됩니다."
      ],
      "id": "97e3ef91"
    },
    {
      "cell_type": "markdown",
      "metadata": {
        "id": "875e5bdc"
      },
      "source": [
        "___\n",
        "이제 벡터와 다항식 클래스를 개선하기 위해 필요한 준비가 끝났습니다.\n",
        "1. 두 벡터 v 와 w 의 덧셈과 뺄셈을 `v+w`, `v-w` 로 계산하고 싶다.\n",
        "2. 벡터 v 의 i 번째 원소를 리스트처럼 `v[i]` 로 얻고 싶다.\n",
        "3. 벡터 v 를 print(v) 를 통해 출력하고 싶다.\n",
        "4. 벡터 v 의 길이를 리스트처럼 `len(v)` 로 얻고싶다.\n",
        "5. polynomial 덧,뺄셈도 벡터와 마찬가지로 +, - 등의 기호를 사용하고싶다.\n",
        "6. polynomial p 의 x 에서의 값을 함수처럼 `p(x)` 처럼 계산하고싶다.\n",
        "위 내용은 모두 함수의 오버라이딩을 통해 해결되는 문제입니다. `+,-,[],len,print,()` 등은 파이썬에서 이미 정해진 특별한 함수를 의미하는데, 그 이름을 가진 함수를 덮어쓰면 됩니다. 아래의 벡터 클래스를 먼저 살펴보고 예제로써 다항식 클래스를 만들어보도록 합시다.\n",
        "\n",
        "```py\n",
        "class vector():\n",
        "    def __init__(self, *args):\n",
        "        self.elemenets = args\n",
        "        \n",
        "    def __add__(self,w):\n",
        "        r=[]\n",
        "        for a,b in zip(self.elements, w.elements):\n",
        "            r.append(a+b)\n",
        "        return vector(*r)\n",
        "        \n",
        "    def __sub__(self,w):\n",
        "        r=[]\n",
        "        for a,b in zip(self.elements, w.elements):\n",
        "            r.append(a-b)\n",
        "        return vector(*r)\n",
        "        \n",
        "    def __getitem__(self, index):\n",
        "        return self.elements[index]\n",
        "        \n",
        "    def __call__(self, index):\n",
        "        return self.elements[index]\n",
        "        \n",
        "    def __str__(self):\n",
        "        return str(self.elements)\n",
        "        \n",
        "    def __len__(self):\n",
        "        return len(self.elements)\n",
        "```"
      ],
      "id": "875e5bdc"
    },
    {
      "cell_type": "markdown",
      "metadata": {
        "id": "268d4d86"
      },
      "source": [
        "# 예제"
      ],
      "id": "268d4d86"
    },
    {
      "cell_type": "markdown",
      "metadata": {
        "id": "331569b2"
      },
      "source": [
        "Q1) 위 `vector` 클래스를 참고하여 `polynomial` 클래스를 보충하라. 단, 아래 조건을 만족해야 한다.\n",
        "0. 10차수 이하의 다항식만을 생각한다.\n",
        "1. `self.coeff` 에 계수를 저장한다. ex) $p=x^3-1$ 이면 p = polynomial(1,0,0,-1) 로 생성한다.\n",
        "2. 두 다항식의 덧셈, 뺄셈을 오버라이딩 하여 +,- 로 계산할 수 있도록 한다.\n",
        "3. 다항식 p 의 x 에서의 값을 p(x) 로 계산할 수 있도록 한다.\n",
        "4. print(p) 를 통해 p 의 계수를 확인할 수 있도록 한다."
      ],
      "id": "331569b2"
    },
    {
      "cell_type": "code",
      "metadata": {
        "id": "7a5d90bc"
      },
      "source": [
        ""
      ],
      "id": "7a5d90bc",
      "execution_count": null,
      "outputs": []
    }
  ]
}