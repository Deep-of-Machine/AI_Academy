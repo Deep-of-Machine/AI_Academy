{
 "cells": [
  {
   "cell_type": "code",
   "execution_count": 374,
   "metadata": {
    "id": "00oE3tRS8FoA"
   },
   "outputs": [],
   "source": [
    "import numpy as np\n",
    "import matplotlib.pyplot as plt\n",
    "import time\n",
    "\n",
    "import torch\n",
    "from torchvision import datasets, transforms\n",
    "from torch.utils.data import DataLoader\n",
    "from torch import nn\n",
    "\n",
    "from torch.nn import functional as F\n",
    "from torch import optim"
   ]
  },
  {
   "cell_type": "markdown",
   "metadata": {
    "id": "Q7Cb__avmf-t"
   },
   "source": [
    "## 이번에 사용할 데이터는 CIFAR10 데이터셋\n",
    "테스트 데이터가 따로 존재하지만, 이번에는 학습 데이터만을 사용해보자 "
   ]
  },
  {
   "cell_type": "code",
   "execution_count": 375,
   "metadata": {},
   "outputs": [
    {
     "data": {
      "text/plain": [
       "'\\ntransforms.RandomCrop(32, padding=4),\\n\\n                                      transforms.RandomRotation(degrees=(-45, 45)),\\n                                      \\n                                      transforms.Normalize((0.4914, 0.4822, 0.4465), (0.2023, 0.1994, 0.2010)),\\n                                        (0.4914, 0.4822, 0.4465), (0.2023, 0.1994, 0.2010)\\n                                      transforms.RandomVerticalFlip(),\\n                                      transforms.RandomRotation(degrees=(-45, 45)),\\n                                      transforms.RandomHorizontalFlip(p=1),\\n                                      transforms.RandomVerticalFlip(p=1),\\n                                      transforms.RandomRotation(degrees=(-45, 45)),\\n\\n                                      transforms.RandomRotation(degrees=(-45, 45)),\\n                                      \\n                                      transforms.RandomPerspective(distortion_scale=0.6, p=1.0),\\n                                      transforms.ColorJitter(brightness=.5, hue=.3),\\n                                      transforms.RandomInvert(),\\n'"
      ]
     },
     "execution_count": 375,
     "metadata": {},
     "output_type": "execute_result"
    }
   ],
   "source": [
    "transform_train = transforms.Compose([transforms.ToTensor(),\n",
    "                                      transforms.Normalize((0.4914, 0.4822, 0.4465), (0.2023, 0.1994, 0.2010)),                            \n",
    "                                      transforms.RandomCrop(32, padding=4),\n",
    "                                      transforms.RandomHorizontalFlip(),\n",
    "                                      transforms.RandomRotation(degrees=(-45, 45)),\n",
    "                                      ])\n",
    "'''\n",
    "transforms.RandomCrop(32, padding=4),\n",
    "\n",
    "                                      transforms.RandomRotation(degrees=(-45, 45)),\n",
    "                                      \n",
    "                                      transforms.Normalize((0.4914, 0.4822, 0.4465), (0.2023, 0.1994, 0.2010)),\n",
    "                                        (0.4914, 0.4822, 0.4465), (0.2023, 0.1994, 0.2010)\n",
    "                                      transforms.RandomVerticalFlip(),\n",
    "                                      transforms.RandomRotation(degrees=(-45, 45)),\n",
    "                                      transforms.RandomHorizontalFlip(p=1),\n",
    "                                      transforms.RandomVerticalFlip(p=1),\n",
    "                                      transforms.RandomRotation(degrees=(-45, 45)),\n",
    "\n",
    "                                      transforms.RandomRotation(degrees=(-45, 45)),\n",
    "                                      \n",
    "                                      transforms.RandomPerspective(distortion_scale=0.6, p=1.0),\n",
    "                                      transforms.ColorJitter(brightness=.5, hue=.3),\n",
    "                                      transforms.RandomInvert(),\n",
    "'''"
   ]
  },
  {
   "cell_type": "code",
   "execution_count": 378,
   "metadata": {
    "colab": {
     "base_uri": "https://localhost:8080/",
     "height": 85,
     "referenced_widgets": [
      "49c94778d12440c89f5244f573b37552",
      "890385b0ba9a43adb0502777da5e2573",
      "ebd439db925843dba8a07179b447fa7b",
      "22aeca8cb4344709bef0a2329f976675",
      "9b741fe797524d8198f81032ad7143f6",
      "1b26cca59c77460198a100e2a49e18d4",
      "68342033df2243f5840e626b96924ec1",
      "669b7b30ed974af886bafc52755cfa3f",
      "e033cb49e85b4bd78f22899517997400",
      "6eab08aa631d4305a058cc2b674bad69",
      "8b16860dafcb4295a30633c0f3f86666"
     ]
    },
    "id": "IT-wraayAlvK",
    "outputId": "586922af-7c69-4a3f-b0ea-5a85e015df9e"
   },
   "outputs": [
    {
     "name": "stdout",
     "output_type": "stream",
     "text": [
      "Downloading https://www.cs.toronto.edu/~kriz/cifar-100-python.tar.gz to ./data\\cifar-100-python.tar.gz\n"
     ]
    },
    {
     "data": {
      "application/vnd.jupyter.widget-view+json": {
       "model_id": "a75b4dd9bb6a4d0fa49342b397d2c3af",
       "version_major": 2,
       "version_minor": 0
      },
      "text/plain": [
       "  0%|          | 0/169001437 [00:00<?, ?it/s]"
      ]
     },
     "metadata": {},
     "output_type": "display_data"
    },
    {
     "name": "stdout",
     "output_type": "stream",
     "text": [
      "Extracting ./data\\cifar-100-python.tar.gz to ./data\n"
     ]
    }
   ],
   "source": [
    "train_dataset = datasets.CIFAR100(root = './data', train = True, download = True, transform = transform_train)\n",
    "\n",
    "classes = ['plane', 'car', 'bird', 'cat', 'deer', 'dog', 'frog', 'horse', 'ship', 'truck']"
   ]
  },
  {
   "cell_type": "code",
   "execution_count": 343,
   "metadata": {
    "colab": {
     "base_uri": "https://localhost:8080/"
    },
    "id": "2AWNpW49usjQ",
    "outputId": "8ec34806-9334-413c-9727-c22ea770c5b6"
   },
   "outputs": [
    {
     "data": {
      "text/plain": [
       "Dataset CIFAR10\n",
       "    Number of datapoints: 50000\n",
       "    Root location: ./data\n",
       "    Split: Train\n",
       "    StandardTransform\n",
       "Transform: Compose(\n",
       "               ToTensor()\n",
       "               Normalize(mean=(0.4914, 0.4822, 0.4465), std=(0.2023, 0.1994, 0.201))\n",
       "               RandomCrop(size=(32, 32), padding=4)\n",
       "               RandomHorizontalFlip(p=0.5)\n",
       "               RandomRotation(degrees=[-45.0, 45.0], interpolation=nearest, expand=False, fill=0)\n",
       "           )"
      ]
     },
     "execution_count": 343,
     "metadata": {},
     "output_type": "execute_result"
    }
   ],
   "source": [
    "train_dataset"
   ]
  },
  {
   "cell_type": "markdown",
   "metadata": {
    "id": "o1DPpca6obkr"
   },
   "source": [
    "학습 데이터 중 일부를 모델 평가를 하는데만 사용"
   ]
  },
  {
   "cell_type": "code",
   "execution_count": 344,
   "metadata": {
    "id": "roEdgSqTuOc9"
   },
   "outputs": [],
   "source": [
    "train_dataset, val_dataset = torch.utils.data.random_split(train_dataset, [45000, 5000])"
   ]
  },
  {
   "cell_type": "code",
   "execution_count": 345,
   "metadata": {
    "colab": {
     "base_uri": "https://localhost:8080/"
    },
    "id": "lsGdjISaqJLr",
    "outputId": "baf90c33-db04-4da2-95d3-9ff864a4f195"
   },
   "outputs": [
    {
     "name": "stdout",
     "output_type": "stream",
     "text": [
      "45000\n",
      "5000\n"
     ]
    }
   ],
   "source": [
    "print(len(train_dataset))\n",
    "print(len(val_dataset))"
   ]
  },
  {
   "cell_type": "code",
   "execution_count": 346,
   "metadata": {
    "id": "QOCdliz3vaqj"
   },
   "outputs": [],
   "source": [
    "train_loader = DataLoader(train_dataset, batch_size=64, shuffle=True)\n",
    "val_loader = DataLoader(val_dataset, batch_size=64, shuffle=False)"
   ]
  },
  {
   "cell_type": "code",
   "execution_count": 347,
   "metadata": {
    "id": "-4KivovXPelG"
   },
   "outputs": [],
   "source": [
    "for mini_batch in train_loader:\n",
    "    first_batch = mini_batch\n",
    "    break\n",
    "\n",
    "images = first_batch[0]\n",
    "labels = first_batch[1]"
   ]
  },
  {
   "cell_type": "code",
   "execution_count": 348,
   "metadata": {
    "colab": {
     "base_uri": "https://localhost:8080/"
    },
    "id": "VyoGUQReH560",
    "outputId": "925e682a-2840-443c-c189-376b2290bc06"
   },
   "outputs": [
    {
     "data": {
      "text/plain": [
       "(torch.Size([64, 3, 32, 32]), torch.Size([64]))"
      ]
     },
     "execution_count": 348,
     "metadata": {},
     "output_type": "execute_result"
    }
   ],
   "source": [
    "images.shape, labels.shape"
   ]
  },
  {
   "cell_type": "code",
   "execution_count": 349,
   "metadata": {
    "colab": {
     "base_uri": "https://localhost:8080/"
    },
    "id": "OgaW35LLq63-",
    "outputId": "ce363777-682d-488d-c840-1a273015e46d"
   },
   "outputs": [
    {
     "data": {
      "text/plain": [
       "torch.Size([3, 32, 32])"
      ]
     },
     "execution_count": 349,
     "metadata": {},
     "output_type": "execute_result"
    }
   ],
   "source": [
    "images[0].shape"
   ]
  },
  {
   "cell_type": "markdown",
   "metadata": {
    "id": "Ml0zj4UirHg0"
   },
   "source": [
    "이미지를 출력하기 위해 (채널, 높이, 폭) 형태의 데이터를 (높이, 폭, 채널) 형태로 바꿔줘야 한다"
   ]
  },
  {
   "cell_type": "code",
   "execution_count": 350,
   "metadata": {
    "id": "uy3xhIVfrBZn"
   },
   "outputs": [],
   "source": [
    "# plt.imshow(images[0])\n",
    "# plt.show()"
   ]
  },
  {
   "cell_type": "code",
   "execution_count": 351,
   "metadata": {
    "colab": {
     "base_uri": "https://localhost:8080/"
    },
    "id": "qRfwvX_iFXm4",
    "outputId": "5e888ee5-f6be-40f6-8dfc-6b30f53c41d1"
   },
   "outputs": [
    {
     "data": {
      "text/plain": [
       "(3, 32, 32)"
      ]
     },
     "execution_count": 351,
     "metadata": {},
     "output_type": "execute_result"
    }
   ],
   "source": [
    "images[0].numpy().shape"
   ]
  },
  {
   "cell_type": "code",
   "execution_count": 352,
   "metadata": {
    "colab": {
     "base_uri": "https://localhost:8080/"
    },
    "id": "8kWqt-luISHr",
    "outputId": "b62d75bb-827b-4145-c474-8700d6d0296d"
   },
   "outputs": [
    {
     "data": {
      "text/plain": [
       "(32, 32, 3)"
      ]
     },
     "execution_count": 352,
     "metadata": {},
     "output_type": "execute_result"
    }
   ],
   "source": [
    "np.transpose(images[0].numpy(), (1,2,0)).shape"
   ]
  },
  {
   "cell_type": "code",
   "execution_count": 353,
   "metadata": {
    "colab": {
     "base_uri": "https://localhost:8080/",
     "height": 302
    },
    "id": "71W-R5A-H2-y",
    "outputId": "b943812d-79ae-4943-8629-56f1ab08e40b"
   },
   "outputs": [
    {
     "name": "stderr",
     "output_type": "stream",
     "text": [
      "Clipping input data to the valid range for imshow with RGB data ([0..1] for floats or [0..255] for integers).\n"
     ]
    },
    {
     "data": {
      "image/png": "[encoded data removed]",
      "text/plain": [
       "<Figure size 432x288 with 1 Axes>"
      ]
     },
     "metadata": {
      "needs_background": "light"
     },
     "output_type": "display_data"
    },
    {
     "name": "stdout",
     "output_type": "stream",
     "text": [
      "라벨 : cat\n"
     ]
    }
   ],
   "source": [
    "plt.imshow(np.transpose(images[0].numpy(), (1,2,0)))\n",
    "plt.show()\n",
    "print('라벨 :', classes[labels[0].item()])"
   ]
  },
  {
   "cell_type": "markdown",
   "metadata": {
    "id": "BQwhzES5l26P"
   },
   "source": [
    "Residual connection 을 추가한 모델"
   ]
  },
  {
   "cell_type": "code",
   "execution_count": 354,
   "metadata": {},
   "outputs": [],
   "source": [
    "import torch\n",
    "import torch.nn as nn\n",
    "import torch.nn.functional as F\n",
    "\n",
    "\n",
    "class BasicBlock(nn.Module):\n",
    "    expansion = 1\n",
    "\n",
    "    def __init__(self, in_planes, planes, stride=1):\n",
    "        super(BasicBlock, self).__init__()\n",
    "        self.conv1 = nn.Conv2d(\n",
    "            in_planes, planes, kernel_size=3, stride=stride, padding=1, bias=False)\n",
    "        self.bn1 = nn.BatchNorm2d(planes)\n",
    "        self.conv2 = nn.Conv2d(planes, planes, kernel_size=3,\n",
    "                               stride=1, padding=1, bias=False)\n",
    "        self.bn2 = nn.BatchNorm2d(planes)\n",
    "\n",
    "        self.shortcut = nn.Sequential()\n",
    "        if stride != 1 or in_planes != self.expansion*planes:\n",
    "            self.shortcut = nn.Sequential(\n",
    "                nn.Conv2d(in_planes, self.expansion*planes,\n",
    "                          kernel_size=1, stride=stride, bias=False),\n",
    "                nn.BatchNorm2d(self.expansion*planes)\n",
    "            )\n",
    "\n",
    "    def forward(self, x):\n",
    "        out = F.relu(self.bn1(self.conv1(x)))\n",
    "        out = self.bn2(self.conv2(out))\n",
    "        out += self.shortcut(x)\n",
    "        out = F.relu(out)\n",
    "        return out\n",
    "\n",
    "\n",
    "class Root(nn.Module):\n",
    "    def __init__(self, in_channels, out_channels, kernel_size=1):\n",
    "        super(Root, self).__init__()\n",
    "        self.conv = nn.Conv2d(\n",
    "            in_channels, out_channels, kernel_size,\n",
    "            stride=1, padding=(kernel_size - 1) // 2, bias=False)\n",
    "        self.bn = nn.BatchNorm2d(out_channels)\n",
    "\n",
    "    def forward(self, xs):\n",
    "        x = torch.cat(xs, 1)\n",
    "        out = F.relu(self.bn(self.conv(x)))\n",
    "        return out\n",
    "\n",
    "\n",
    "class Tree(nn.Module):\n",
    "    def __init__(self, block, in_channels, out_channels, level=1, stride=1):\n",
    "        super(Tree, self).__init__()\n",
    "        self.level = level\n",
    "        if level == 1:\n",
    "            self.root = Root(2*out_channels, out_channels)\n",
    "            self.left_node = block(in_channels, out_channels, stride=stride)\n",
    "            self.right_node = block(out_channels, out_channels, stride=1)\n",
    "        else:\n",
    "            self.root = Root((level+2)*out_channels, out_channels)\n",
    "            for i in reversed(range(1, level)):\n",
    "                subtree = Tree(block, in_channels, out_channels,\n",
    "                               level=i, stride=stride)\n",
    "                self.__setattr__('level_%d' % i, subtree)\n",
    "            self.prev_root = block(in_channels, out_channels, stride=stride)\n",
    "            self.left_node = block(out_channels, out_channels, stride=1)\n",
    "            self.right_node = block(out_channels, out_channels, stride=1)\n",
    "\n",
    "    def forward(self, x):\n",
    "        xs = [self.prev_root(x)] if self.level > 1 else []\n",
    "        for i in reversed(range(1, self.level)):\n",
    "            level_i = self.__getattr__('level_%d' % i)\n",
    "            x = level_i(x)\n",
    "            xs.append(x)\n",
    "        x = self.left_node(x)\n",
    "        xs.append(x)\n",
    "        x = self.right_node(x)\n",
    "        xs.append(x)\n",
    "        out = self.root(xs)\n",
    "        return out\n",
    "\n",
    "\n",
    "class DLA(nn.Module):\n",
    "    def __init__(self, block=BasicBlock, num_classes=10):\n",
    "        super(DLA, self).__init__()\n",
    "        self.base = nn.Sequential(\n",
    "            nn.Conv2d(3, 16, kernel_size=3, stride=1, padding=1, bias=False),\n",
    "            nn.BatchNorm2d(16),\n",
    "            nn.ReLU(True),\n",
    "            nn.Dropout2d(0.2)\n",
    "        )\n",
    "\n",
    "        self.layer1 = nn.Sequential(\n",
    "            nn.Conv2d(16, 16, kernel_size=3, stride=1, padding=1, bias=False),\n",
    "            nn.BatchNorm2d(16),\n",
    "            nn.ReLU(True),\n",
    "            nn.Dropout2d(0.2)\n",
    "        )\n",
    "\n",
    "        self.layer2 = nn.Sequential(\n",
    "            nn.Conv2d(16, 32, kernel_size=3, stride=1, padding=1, bias=False),\n",
    "            nn.BatchNorm2d(32),\n",
    "            nn.ReLU(True),\n",
    "            nn.Dropout2d(0.2)\n",
    "        )\n",
    "\n",
    "        self.layer3 = Tree(block,  32,  64, level=1, stride=1)\n",
    "        self.layer4 = Tree(block,  64, 128, level=2, stride=2)\n",
    "        self.layer5 = Tree(block, 128, 256, level=2, stride=2)\n",
    "        self.layer6 = Tree(block, 256, 512, level=1, stride=2)\n",
    "        self.linear = nn.Linear(512, num_classes)\n",
    "\n",
    "    def forward(self, x):\n",
    "        out = self.base(x)\n",
    "        out = self.layer1(out)\n",
    "        out = self.layer2(out)\n",
    "        out = self.layer3(out)\n",
    "        out = self.layer4(out)\n",
    "        out = self.layer5(out)\n",
    "        out = self.layer6(out)\n",
    "        out = F.max_pool2d(out, 4)\n",
    "        out = out.view(out.size(0), -1)\n",
    "        out = self.linear(out)\n",
    "        return out"
   ]
  },
  {
   "cell_type": "code",
   "execution_count": 365,
   "metadata": {},
   "outputs": [],
   "source": [
    "import torch\n",
    "import torch.nn as nn\n",
    "import torch.nn.functional as F\n",
    "\n",
    "\n",
    "class BasicBlock(nn.Module):\n",
    "    expansion = 1\n",
    "\n",
    "    def __init__(self, in_planes, planes, stride=1):\n",
    "        super(BasicBlock, self).__init__()\n",
    "        self.conv1 = nn.Conv2d(\n",
    "            in_planes, planes, kernel_size=3, stride=stride, padding=1, bias=False)\n",
    "        self.bn1 = nn.BatchNorm2d(planes)\n",
    "        self.conv2 = nn.Conv2d(planes, planes, kernel_size=3,\n",
    "                               stride=1, padding=1, bias=False)\n",
    "        self.bn2 = nn.BatchNorm2d(planes)\n",
    "\n",
    "        self.shortcut = nn.Sequential()\n",
    "        if stride != 1 or in_planes != self.expansion*planes:\n",
    "            self.shortcut = nn.Sequential(\n",
    "                nn.Conv2d(in_planes, self.expansion*planes,\n",
    "                          kernel_size=1, stride=stride, bias=False),\n",
    "                nn.BatchNorm2d(self.expansion*planes)\n",
    "            )\n",
    "\n",
    "    def forward(self, x):\n",
    "        out = F.relu(self.bn1(self.conv1(x)))\n",
    "        out = self.bn2(self.conv2(out))\n",
    "        out += self.shortcut(x)\n",
    "        out = F.relu(out)\n",
    "        return out\n",
    "\n",
    "\n",
    "class Root(nn.Module):\n",
    "    def __init__(self, in_channels, out_channels, kernel_size=1):\n",
    "        super(Root, self).__init__()\n",
    "        self.conv = nn.Conv2d(\n",
    "            in_channels, out_channels, kernel_size,\n",
    "            stride=1, padding=(kernel_size - 1) // 2, bias=False)\n",
    "        self.bn = nn.BatchNorm2d(out_channels)\n",
    "\n",
    "    def forward(self, xs):\n",
    "        x = torch.cat(xs, 1)\n",
    "        out = F.relu(self.bn(self.conv(x)))\n",
    "        return out\n",
    "\n",
    "\n",
    "class Tree(nn.Module):\n",
    "    def __init__(self, block, in_channels, out_channels, level=1, stride=1):\n",
    "        super(Tree, self).__init__()\n",
    "        self.level = level\n",
    "        if level == 1:\n",
    "            self.root = Root(2*out_channels, out_channels)\n",
    "            self.left_node = block(in_channels, out_channels, stride=stride)\n",
    "            self.right_node = block(out_channels, out_channels, stride=1)\n",
    "        else:\n",
    "            self.root = Root((level+2)*out_channels, out_channels)\n",
    "            for i in reversed(range(1, level)):\n",
    "                subtree = Tree(block, in_channels, out_channels,\n",
    "                               level=i, stride=stride)\n",
    "                self.__setattr__('level_%d' % i, subtree)\n",
    "            self.prev_root = block(in_channels, out_channels, stride=stride)\n",
    "            self.left_node = block(out_channels, out_channels, stride=1)\n",
    "            self.right_node = block(out_channels, out_channels, stride=1)\n",
    "\n",
    "    def forward(self, x):\n",
    "        xs = [self.prev_root(x)] if self.level > 1 else []\n",
    "        for i in reversed(range(1, self.level)):\n",
    "            level_i = self.__getattr__('level_%d' % i)\n",
    "            x = level_i(x)\n",
    "            xs.append(x)\n",
    "        x = self.left_node(x)\n",
    "        xs.append(x)\n",
    "        x = self.right_node(x)\n",
    "        xs.append(x)\n",
    "        out = self.root(xs)\n",
    "        return out\n",
    "\n",
    "\n",
    "class DLA_fc(nn.Module):\n",
    "    def __init__(self, block=BasicBlock, num_classes=10):\n",
    "        super(DLA_fc, self).__init__()\n",
    "        self.base = nn.Sequential(\n",
    "            nn.Conv2d(3, 16, kernel_size=3, stride=1, padding=1, bias=False),\n",
    "            nn.BatchNorm2d(16),\n",
    "            nn.ReLU(True),\n",
    "            nn.Dropout2d(0.3)\n",
    "        )\n",
    "\n",
    "        self.layer1 = nn.Sequential(\n",
    "            nn.Conv2d(16, 16, kernel_size=3, stride=1, padding=1, bias=False),\n",
    "            nn.BatchNorm2d(16),\n",
    "            nn.ReLU(True),\n",
    "            nn.Dropout2d(0.3)\n",
    "        )\n",
    "\n",
    "        self.layer2 = nn.Sequential(\n",
    "            nn.Conv2d(16, 32, kernel_size=3, stride=1, padding=1, bias=False),\n",
    "            nn.BatchNorm2d(32),\n",
    "            nn.ReLU(True),\n",
    "            nn.Dropout2d(0.3)\n",
    "        )\n",
    "\n",
    "        self.layer3 = Tree(block,  32,  64, level=1, stride=1)\n",
    "        self.layer4 = Tree(block,  64, 128, level=2, stride=2)\n",
    "        self.layer5 = Tree(block, 128, 256, level=2, stride=2)\n",
    "        self.layer6 = Tree(block, 256, 512, level=1, stride=2)\n",
    "        self.linear1 = nn.Linear(512, 256)\n",
    "        self.linear2 = nn.Linear(256, 128)\n",
    "        self.linear3 = nn.Linear(128, num_classes)\n",
    "        \n",
    "        self.drop1 = nn.Dropout2d(p=0.5)  \n",
    "        self.drop2 = nn.Dropout2d(p=0.5)  \n",
    "\n",
    "    def forward(self, x):\n",
    "        out = self.base(x)\n",
    "        out = self.layer1(out)\n",
    "        out = self.layer2(out)\n",
    "        out = self.layer3(out)\n",
    "        out = self.layer4(out)\n",
    "        out = self.layer5(out)\n",
    "        out = self.layer6(out)\n",
    "        out = F.max_pool2d(out, 4)\n",
    "        out = out.view(out.size(0), -1)\n",
    "        out = self.drop1(F.relu(self.linear1(out)))\n",
    "        out = self.drop2(F.relu(self.linear2(out)))\n",
    "        out = self.linear3(out)\n",
    "        return out"
   ]
  },
  {
   "cell_type": "markdown",
   "metadata": {
    "id": "e6nVZ7Y9o8vj"
   },
   "source": [
    "모델 출력값이 원하는 모양인지 확인"
   ]
  },
  {
   "cell_type": "code",
   "execution_count": 366,
   "metadata": {},
   "outputs": [],
   "source": [
    "model = DLA_fc().to(device)"
   ]
  },
  {
   "cell_type": "code",
   "execution_count": 367,
   "metadata": {
    "colab": {
     "base_uri": "https://localhost:8080/"
    },
    "id": "Hna0dMtU1ueQ",
    "outputId": "9e9b2c62-36d8-444c-c306-4553b0c1d754"
   },
   "outputs": [
    {
     "data": {
      "text/plain": [
       "torch.Size([1, 10])"
      ]
     },
     "execution_count": 367,
     "metadata": {},
     "output_type": "execute_result"
    }
   ],
   "source": [
    "model(torch.rand(1,3,32, 32).to(device)).shape"
   ]
  },
  {
   "cell_type": "code",
   "execution_count": 368,
   "metadata": {
    "colab": {
     "base_uri": "https://localhost:8080/"
    },
    "id": "BGQj8mzGnaPt",
    "outputId": "bcbcc94c-8dd1-4117-aa6f-7772c21799ac"
   },
   "outputs": [
    {
     "name": "stdout",
     "output_type": "stream",
     "text": [
      "16451770\n"
     ]
    }
   ],
   "source": [
    "total_params = sum(p.numel() for p in model.parameters() if p.requires_grad)\n",
    "print(total_params)"
   ]
  },
  {
   "cell_type": "code",
   "execution_count": 369,
   "metadata": {
    "id": "HGe1GPkACDLp"
   },
   "outputs": [],
   "source": [
    "loss_func = nn.CrossEntropyLoss()\n",
    "optimizer = torch.optim.SGD(model.parameters(), lr=0.01, momentum=0.9, weight_decay=0.0005) # .0.1 momentum=0.9, weight_decay=0.0005\n",
    "scheduler = optim.lr_scheduler.LambdaLR(optimizer=optimizer, lr_lambda=lambda epoch: 0.95 ** epoch)\n",
    "#scheduler = torch.optim.lr_scheduler.CosineAnnealingLR(optimizer, T_max=100)\n",
    "#ReduceLROnPlateau(optimizer, patience=5, mode='min', verbose=1)\n",
    "#CosineAnnealingLR(optimizer, T_max=300)       lr 0.1  0.95   epoch 300"
   ]
  },
  {
   "cell_type": "code",
   "execution_count": 370,
   "metadata": {
    "id": "vbsY37CFMMSB"
   },
   "outputs": [],
   "source": [
    "def train():\n",
    "    model.train()\n",
    "    start_time = time.time()\n",
    "    train_loss = 0\n",
    "    correct = 0\n",
    "    total = 0\n",
    "\n",
    "    for inputs, labels in train_loader:\n",
    "        inputs, labels = inputs.to(device), labels.to(device)\n",
    "        outputs = model(inputs)\n",
    "        loss = loss_func(outputs, labels)\n",
    "        optimizer.zero_grad()\n",
    "        loss.backward()\n",
    "        optimizer.step()\n",
    "\n",
    "        train_loss += loss.item()\n",
    "        predicted = torch.argmax(outputs, dim = 1)\n",
    "        total += labels.size(0)\n",
    "        correct += (predicted == labels).sum().item()\n",
    "\n",
    "    end_time = time.time()\n",
    "\n",
    "    return train_loss/len(train_loader), 100*correct / total, end_time - start_time"
   ]
  },
  {
   "cell_type": "code",
   "execution_count": 371,
   "metadata": {
    "id": "Kf1JoUdMOMbK"
   },
   "outputs": [],
   "source": [
    "def validation():\n",
    "    model.eval()\n",
    "    start_time = time.time()\n",
    "    val_loss = 0\n",
    "    correct = 0\n",
    "    total = 0\n",
    "\n",
    "    with torch.no_grad():\n",
    "        for inputs, labels in val_loader:\n",
    "            inputs, labels = inputs.to(device), labels.to(device)\n",
    "            outputs = model(inputs)\n",
    "            loss = loss_func(outputs, labels)\n",
    "\n",
    "            val_loss += loss.item()\n",
    "            predicted = torch.argmax(outputs, dim = 1)\n",
    "            total += labels.size(0)\n",
    "            correct += (predicted == labels).sum().item()\n",
    "\n",
    "    end_time = time.time()\n",
    "\n",
    "    return val_loss/len(val_loader), 100*correct / total, end_time - start_time"
   ]
  },
  {
   "cell_type": "markdown",
   "metadata": {
    "id": "yfqD9-WlpgwB"
   },
   "source": [
    "학습 하는 중간중간에 평가용 데이터셋에서의 성능을 확인"
   ]
  },
  {
   "cell_type": "code",
   "execution_count": 372,
   "metadata": {
    "colab": {
     "base_uri": "https://localhost:8080/"
    },
    "id": "w_RuY5skdrKz",
    "outputId": "fc9a0301-ebd0-4b70-b72d-ea2e215e5e47"
   },
   "outputs": [
    {
     "name": "stdout",
     "output_type": "stream",
     "text": [
      "Sat Oct 30 15:34:38 2021       \n",
      "+-----------------------------------------------------------------------------+\n",
      "| NVIDIA-SMI 471.68       Driver Version: 471.68       CUDA Version: 11.4     |\n",
      "|-------------------------------+----------------------+----------------------+\n",
      "| GPU  Name            TCC/WDDM | Bus-Id        Disp.A | Volatile Uncorr. ECC |\n",
      "| Fan  Temp  Perf  Pwr:Usage/Cap|         Memory-Usage | GPU-Util  Compute M. |\n",
      "|                               |                      |               MIG M. |\n",
      "|===============================+======================+======================|\n",
      "|   0  NVIDIA GeForce ... WDDM  | 00000000:01:00.0  On |                  N/A |\n",
      "| N/A   65C    P0    29W /  N/A |   5763MiB /  6144MiB |      1%      Default |\n",
      "|                               |                      |                  N/A |\n",
      "+-------------------------------+----------------------+----------------------+\n",
      "                                                                               \n",
      "+-----------------------------------------------------------------------------+\n",
      "| Processes:                                                                  |\n",
      "|  GPU   GI   CI        PID   Type   Process name                  GPU Memory |\n",
      "|        ID   ID                                                   Usage      |\n",
      "|=============================================================================|\n",
      "|    0   N/A  N/A      5976    C+G   ...h8wxbdkxb8p\\DCv2\\DCv2.exe    N/A      |\n",
      "|    0   N/A  N/A      6384    C+G   Insufficient Permissions        N/A      |\n",
      "|    0   N/A  N/A      6668    C+G   ...root\\Office16\\WINWORD.EXE    N/A      |\n",
      "|    0   N/A  N/A      8660    C+G   ...n1h2txyewy\\SearchHost.exe    N/A      |\n",
      "|    0   N/A  N/A     10720    C+G   ...y\\ShellExperienceHost.exe    N/A      |\n",
      "|    0   N/A  N/A     11324    C+G   ...2txyewy\\TextInputHost.exe    N/A      |\n",
      "|    0   N/A  N/A     12260    C+G   ...cw5n1h2txyewy\\LockApp.exe    N/A      |\n",
      "|    0   N/A  N/A     12312      C   ...nda3\\envs\\py36\\python.exe    N/A      |\n",
      "|    0   N/A  N/A     12956    C+G   ...artMenuExperienceHost.exe    N/A      |\n",
      "|    0   N/A  N/A     16220    C+G   ...\\app-1.0.9003\\Discord.exe    N/A      |\n",
      "|    0   N/A  N/A     19504    C+G   C:\\Windows\\explorer.exe         N/A      |\n",
      "|    0   N/A  N/A     20000    C+G   ...ge\\Application\\msedge.exe    N/A      |\n",
      "|    0   N/A  N/A     22600    C+G   ...me\\Application\\chrome.exe    N/A      |\n",
      "|    0   N/A  N/A     24432    C+G   ...root\\Office16\\WINWORD.EXE    N/A      |\n",
      "+-----------------------------------------------------------------------------+\n"
     ]
    }
   ],
   "source": [
    "!nvidia-smi"
   ]
  },
  {
   "cell_type": "code",
   "execution_count": 373,
   "metadata": {
    "colab": {
     "base_uri": "https://localhost:8080/",
     "height": 430
    },
    "id": "xbeaSa9vCv6g",
    "outputId": "f0795d7f-06de-41dd-8174-2bd5d1dd197e",
    "scrolled": true
   },
   "outputs": [
    {
     "name": "stdout",
     "output_type": "stream",
     "text": [
      "Epoch : 1, Train loss : 2.2138157707046378, acc : 15.377777777777778, time : 148.79685735702515\n",
      "      Validation loss : 2.0002628640283513, acc : 21.8, time : 7.019394636154175\n",
      "Epoch : 2, Train loss : 2.0009702137586745, acc : 23.622222222222224, time : 149.10124015808105\n",
      "      Validation loss : 1.8615649500979652, acc : 31.18, time : 6.991394281387329\n",
      "Epoch : 3, Train loss : 1.9111995177174157, acc : 27.84, time : 148.76149916648865\n",
      "      Validation loss : 1.784643690797347, acc : 34.0, time : 6.432776927947998\n",
      "Epoch : 4, Train loss : 1.8103343099355698, acc : 32.6, time : 160.89109349250793\n",
      "      Validation loss : 1.7174070485030548, acc : 35.56, time : 7.569172143936157\n",
      "Epoch : 5, Train loss : 1.7364050195637075, acc : 35.82888888888889, time : 152.62418961524963\n",
      "      Validation loss : 1.6211988005457045, acc : 40.4, time : 7.068498373031616\n",
      "Epoch : 6, Train loss : 1.6513015263798563, acc : 39.60444444444445, time : 150.20970559120178\n",
      "      Validation loss : 1.544929507412488, acc : 42.24, time : 6.953816890716553\n",
      "Epoch : 7, Train loss : 1.577118399806998, acc : 43.135555555555555, time : 147.86606764793396\n",
      "      Validation loss : 1.4091391804852063, acc : 49.62, time : 6.990209102630615\n",
      "Epoch : 8, Train loss : 1.5041487084870988, acc : 46.653333333333336, time : 155.34649181365967\n",
      "      Validation loss : 1.396760521055777, acc : 50.22, time : 6.954372406005859\n",
      "Epoch : 9, Train loss : 1.4313847649503837, acc : 49.64222222222222, time : 150.33556246757507\n",
      "      Validation loss : 1.2722620760338217, acc : 55.34, time : 7.057660818099976\n",
      "Epoch : 10, Train loss : 1.3577883101322434, acc : 52.535555555555554, time : 148.81150341033936\n",
      "      Validation loss : 1.18055584611772, acc : 58.3, time : 7.093487977981567\n",
      "Epoch : 11, Train loss : 1.302179660224779, acc : 55.15555555555556, time : 150.03745675086975\n",
      "      Validation loss : 1.1531122749364828, acc : 59.54, time : 6.958516597747803\n",
      "Epoch : 12, Train loss : 1.2452983054417102, acc : 57.4, time : 149.34443187713623\n",
      "      Validation loss : 1.1351770358749582, acc : 60.7, time : 7.014270067214966\n",
      "Epoch : 13, Train loss : 1.1935280026359991, acc : 59.34444444444444, time : 151.50301456451416\n",
      "      Validation loss : 1.0721365696267238, acc : 62.82, time : 6.971842288970947\n",
      "Epoch : 14, Train loss : 1.1435668288137426, acc : 61.257777777777775, time : 149.8298785686493\n",
      "      Validation loss : 1.041771334183367, acc : 63.74, time : 7.115131378173828\n",
      "Epoch : 15, Train loss : 1.0931531519375064, acc : 63.406666666666666, time : 149.97356343269348\n",
      "      Validation loss : 1.030343520490429, acc : 64.94, time : 7.107966184616089\n",
      "Epoch : 16, Train loss : 1.0563195804980667, acc : 64.89777777777778, time : 150.3613040447235\n",
      "      Validation loss : 0.9614740353596362, acc : 66.96, time : 7.071305751800537\n",
      "Epoch : 17, Train loss : 1.0079418165947904, acc : 66.46222222222222, time : 149.49957060813904\n",
      "      Validation loss : 0.9468278198302547, acc : 68.0, time : 6.985727310180664\n",
      "Epoch : 18, Train loss : 0.9787378387356346, acc : 67.96444444444444, time : 149.50574707984924\n",
      "      Validation loss : 0.9094295984582056, acc : 68.32, time : 7.151078462600708\n",
      "Epoch : 19, Train loss : 0.9416218863122843, acc : 68.95555555555555, time : 150.86962842941284\n",
      "      Validation loss : 0.8722071617464476, acc : 68.9, time : 7.11976170539856\n",
      "Epoch : 20, Train loss : 0.9081482474946163, acc : 70.19333333333333, time : 147.97151684761047\n",
      "      Validation loss : 0.8473086523104317, acc : 70.82, time : 7.010021209716797\n",
      "Epoch : 21, Train loss : 0.8898963600143113, acc : 70.70222222222222, time : 150.6610131263733\n",
      "      Validation loss : 0.8051091402391845, acc : 73.46, time : 6.963218450546265\n",
      "Epoch : 22, Train loss : 0.864708175374703, acc : 71.60222222222222, time : 150.09979557991028\n",
      "      Validation loss : 0.7924750319010094, acc : 72.62, time : 6.997072458267212\n",
      "Epoch : 23, Train loss : 0.8306232744150541, acc : 72.70222222222222, time : 149.28854060173035\n",
      "      Validation loss : 0.786270459241505, acc : 72.62, time : 7.159400701522827\n",
      "Epoch : 24, Train loss : 0.8122471513819288, acc : 73.58666666666667, time : 150.09737277030945\n",
      "      Validation loss : 0.7441808275784119, acc : 74.32, time : 7.023988485336304\n",
      "Epoch : 25, Train loss : 0.786849579604512, acc : 74.22666666666667, time : 150.48870086669922\n",
      "      Validation loss : 0.7359581287903122, acc : 74.94, time : 7.075594425201416\n",
      "Epoch : 26, Train loss : 0.766835821072825, acc : 75.02444444444444, time : 465.22615361213684\n",
      "      Validation loss : 0.7323302762417854, acc : 75.56, time : 23.166236877441406\n",
      "Epoch : 27, Train loss : 0.7478656491518698, acc : 75.65777777777778, time : 554.7936148643494\n",
      "      Validation loss : 0.6747891838792004, acc : 77.5, time : 23.235986948013306\n",
      "Epoch : 28, Train loss : 0.7291956076991152, acc : 76.53555555555556, time : 549.2617673873901\n",
      "      Validation loss : 0.6839824545232556, acc : 75.6, time : 23.11139702796936\n",
      "Epoch : 29, Train loss : 0.7073997676118531, acc : 77.11555555555556, time : 279.6383044719696\n",
      "      Validation loss : 0.6923978147627432, acc : 76.12, time : 6.190933465957642\n",
      "Epoch : 30, Train loss : 0.6966570063748143, acc : 77.54444444444445, time : 132.3343653678894\n",
      "      Validation loss : 0.6313040946857839, acc : 78.68, time : 6.093735218048096\n",
      "Epoch : 31, Train loss : 0.6743914970535446, acc : 78.18444444444444, time : 141.5994918346405\n",
      "      Validation loss : 0.6238873823534085, acc : 78.84, time : 5.981296062469482\n",
      "Epoch : 32, Train loss : 0.6606458530083976, acc : 78.53333333333333, time : 129.7571096420288\n",
      "      Validation loss : 0.6563162897961049, acc : 77.9, time : 6.118622541427612\n",
      "Epoch : 33, Train loss : 0.6457906482656571, acc : 79.2088888888889, time : 133.21540021896362\n",
      "      Validation loss : 0.6413574196115325, acc : 78.34, time : 5.97070574760437\n",
      "Epoch : 34, Train loss : 0.6311075549826703, acc : 79.89111111111112, time : 193.91607689857483\n",
      "      Validation loss : 0.6117150462880919, acc : 79.46, time : 5.885176420211792\n",
      "Epoch : 35, Train loss : 0.6123982178555294, acc : 80.19555555555556, time : 129.85721635818481\n",
      "      Validation loss : 0.5843070009841195, acc : 80.52, time : 6.556431293487549\n",
      "Epoch : 36, Train loss : 0.6051152291369032, acc : 80.55555555555556, time : 131.68607807159424\n",
      "      Validation loss : 0.5887001854709432, acc : 79.74, time : 6.005932569503784\n",
      "Epoch : 37, Train loss : 0.5953838271088898, acc : 80.80444444444444, time : 130.7970793247223\n",
      "      Validation loss : 0.5749572968181176, acc : 80.56, time : 5.951078653335571\n",
      "Epoch : 38, Train loss : 0.5769769630225544, acc : 81.47555555555556, time : 134.92415714263916\n",
      "      Validation loss : 0.5529654573036146, acc : 82.02, time : 6.580048084259033\n"
     ]
    },
    {
     "ename": "KeyboardInterrupt",
     "evalue": "",
     "output_type": "error",
     "traceback": [
      "\u001b[1;31m---------------------------------------------------------------------------\u001b[0m",
      "\u001b[1;31mKeyboardInterrupt\u001b[0m                         Traceback (most recent call last)",
      "\u001b[1;32m<ipython-input-373-ffc0f54d7972>\u001b[0m in \u001b[0;36m<module>\u001b[1;34m\u001b[0m\n\u001b[0;32m      9\u001b[0m \u001b[1;33m\u001b[0m\u001b[0m\n\u001b[0;32m     10\u001b[0m \u001b[1;32mfor\u001b[0m \u001b[0mepoch\u001b[0m \u001b[1;32min\u001b[0m \u001b[0mrange\u001b[0m\u001b[1;33m(\u001b[0m\u001b[0mepochs\u001b[0m\u001b[1;33m)\u001b[0m\u001b[1;33m:\u001b[0m\u001b[1;33m\u001b[0m\u001b[1;33m\u001b[0m\u001b[0m\n\u001b[1;32m---> 11\u001b[1;33m     \u001b[0mtrain_loss\u001b[0m\u001b[1;33m,\u001b[0m \u001b[0mtrain_acc\u001b[0m\u001b[1;33m,\u001b[0m \u001b[0mtrain_time\u001b[0m \u001b[1;33m=\u001b[0m \u001b[0mtrain\u001b[0m\u001b[1;33m(\u001b[0m\u001b[1;33m)\u001b[0m\u001b[1;33m\u001b[0m\u001b[1;33m\u001b[0m\u001b[0m\n\u001b[0m\u001b[0;32m     12\u001b[0m     \u001b[0mprint\u001b[0m\u001b[1;33m(\u001b[0m\u001b[1;34m'Epoch : {}, Train loss : {}, acc : {}, time : {}'\u001b[0m\u001b[1;33m.\u001b[0m\u001b[0mformat\u001b[0m\u001b[1;33m(\u001b[0m\u001b[0mepoch\u001b[0m \u001b[1;33m+\u001b[0m \u001b[1;36m1\u001b[0m\u001b[1;33m,\u001b[0m \u001b[0mtrain_loss\u001b[0m\u001b[1;33m,\u001b[0m \u001b[0mtrain_acc\u001b[0m\u001b[1;33m,\u001b[0m \u001b[0mtrain_time\u001b[0m\u001b[1;33m)\u001b[0m\u001b[1;33m)\u001b[0m\u001b[1;33m\u001b[0m\u001b[1;33m\u001b[0m\u001b[0m\n\u001b[0;32m     13\u001b[0m     \u001b[0mtrain_losses\u001b[0m\u001b[1;33m.\u001b[0m\u001b[0mappend\u001b[0m\u001b[1;33m(\u001b[0m\u001b[0mtrain_loss\u001b[0m\u001b[1;33m)\u001b[0m\u001b[1;33m\u001b[0m\u001b[1;33m\u001b[0m\u001b[0m\n",
      "\u001b[1;32m<ipython-input-370-acd659d39c01>\u001b[0m in \u001b[0;36mtrain\u001b[1;34m()\u001b[0m\n\u001b[0;32m     14\u001b[0m         \u001b[0moptimizer\u001b[0m\u001b[1;33m.\u001b[0m\u001b[0mstep\u001b[0m\u001b[1;33m(\u001b[0m\u001b[1;33m)\u001b[0m\u001b[1;33m\u001b[0m\u001b[1;33m\u001b[0m\u001b[0m\n\u001b[0;32m     15\u001b[0m \u001b[1;33m\u001b[0m\u001b[0m\n\u001b[1;32m---> 16\u001b[1;33m         \u001b[0mtrain_loss\u001b[0m \u001b[1;33m+=\u001b[0m \u001b[0mloss\u001b[0m\u001b[1;33m.\u001b[0m\u001b[0mitem\u001b[0m\u001b[1;33m(\u001b[0m\u001b[1;33m)\u001b[0m\u001b[1;33m\u001b[0m\u001b[1;33m\u001b[0m\u001b[0m\n\u001b[0m\u001b[0;32m     17\u001b[0m         \u001b[0mpredicted\u001b[0m \u001b[1;33m=\u001b[0m \u001b[0mtorch\u001b[0m\u001b[1;33m.\u001b[0m\u001b[0margmax\u001b[0m\u001b[1;33m(\u001b[0m\u001b[0moutputs\u001b[0m\u001b[1;33m,\u001b[0m \u001b[0mdim\u001b[0m \u001b[1;33m=\u001b[0m \u001b[1;36m1\u001b[0m\u001b[1;33m)\u001b[0m\u001b[1;33m\u001b[0m\u001b[1;33m\u001b[0m\u001b[0m\n\u001b[0;32m     18\u001b[0m         \u001b[0mtotal\u001b[0m \u001b[1;33m+=\u001b[0m \u001b[0mlabels\u001b[0m\u001b[1;33m.\u001b[0m\u001b[0msize\u001b[0m\u001b[1;33m(\u001b[0m\u001b[1;36m0\u001b[0m\u001b[1;33m)\u001b[0m\u001b[1;33m\u001b[0m\u001b[1;33m\u001b[0m\u001b[0m\n",
      "\u001b[1;31mKeyboardInterrupt\u001b[0m: "
     ]
    }
   ],
   "source": [
    "epochs = 200\n",
    "max_val_acc = 0\n",
    "\n",
    "train_losses = []\n",
    "val_losses = []\n",
    "train_acces = []\n",
    "val_acces = []\n",
    "\n",
    "\n",
    "for epoch in range(epochs):\n",
    "    train_loss, train_acc, train_time = train()\n",
    "    print('Epoch : {}, Train loss : {}, acc : {}, time : {}'.format(epoch + 1, train_loss, train_acc, train_time))\n",
    "    train_losses.append(train_loss)\n",
    "    train_acces.append(train_acc)\n",
    "    \n",
    "    val_loss, val_acc, val_time = validation()\n",
    "    print('      Validation loss : {}, acc : {}, time : {}'.format(val_loss, val_acc, val_time))\n",
    "    val_losses.append(val_loss)\n",
    "    val_acces.append(val_acc)\n",
    "    \n",
    "    scheduler.step()\n",
    "    \n",
    "    if val_acc >= max_val_acc: # 가장 평가 성능이 좋은 모델을 저장\n",
    "        PATH = f'./model/DLA_FC_{val_acc}.pth'\n",
    "        torch.save(model.state_dict(), PATH)\n",
    "        max_val_acc = val_acc"
   ]
  },
  {
   "cell_type": "code",
   "execution_count": 118,
   "metadata": {},
   "outputs": [],
   "source": [
    "PATH = f'./model/Last_epoch_{val_acc}.pth'\n",
    "torch.save(model.state_dict(), PATH)"
   ]
  },
  {
   "cell_type": "code",
   "execution_count": 379,
   "metadata": {},
   "outputs": [
    {
     "data": {
      "image/png": "[encoded data removed]",
      "text/plain": [
       "<Figure size 1440x576 with 1 Axes>"
      ]
     },
     "metadata": {
      "needs_background": "light"
     },
     "output_type": "display_data"
    },
    {
     "data": {
      "text/plain": [
       "<Figure size 432x288 with 0 Axes>"
      ]
     },
     "metadata": {},
     "output_type": "display_data"
    }
   ],
   "source": [
    "plt.plot(range(1, len(train_acces) + 1), train_acces, c = 'g', label='train_acc')\n",
    "plt.legend()\n",
    "plt.plot(range(1, len(val_acces) + 1), val_acces, c = 'r', label='val_acc')\n",
    "plt.legend()\n",
    "plt.show()\n",
    "plt.savefig('acc.png')\n",
    "# print(len(train_acces))"
   ]
  },
  {
   "cell_type": "code",
   "execution_count": 117,
   "metadata": {
    "id": "88pf1tObZMm5"
   },
   "outputs": [
    {
     "data": {
      "image/png": "[encoded data removed]",
      "text/plain": [
       "<Figure size 432x288 with 1 Axes>"
      ]
     },
     "metadata": {
      "needs_background": "light"
     },
     "output_type": "display_data"
    }
   ],
   "source": [
    "plt.plot(range(1, len(train_acces) + 1), train_losses, c = 'g', label='train_loss')\n",
    "plt.legend()\n",
    "plt.plot(range(1, len(train_acces) + 1), val_losses, c = 'r', label='val_loss')\n",
    "plt.legend()\n",
    "plt.show() \n",
    "plt.savefig('loss.png')"
   ]
  },
  {
   "cell_type": "markdown",
   "metadata": {
    "id": "rWqEhkoap9SD"
   },
   "source": [
    "## 모델 성능 확인"
   ]
  },
  {
   "cell_type": "code",
   "execution_count": 213,
   "metadata": {},
   "outputs": [
    {
     "data": {
      "text/plain": [
       "<All keys matched successfully>"
      ]
     },
     "execution_count": 213,
     "metadata": {},
     "output_type": "execute_result"
    }
   ],
   "source": [
    "PATH = \"./model/DLA_FC93.83.pth\"\n",
    "model.load_state_dict(torch.load(PATH))"
   ]
  },
  {
   "cell_type": "code",
   "execution_count": 214,
   "metadata": {
    "id": "kszhBSoAC5R8"
   },
   "outputs": [],
   "source": [
    "for mini_batch in val_loader:\n",
    "    first_batch = mini_batch\n",
    "    break\n",
    "\n",
    "inputs = first_batch[0]\n",
    "labels = first_batch[1]\n",
    "model.eval()\n",
    "outputs = model(inputs.to(device))"
   ]
  },
  {
   "cell_type": "code",
   "execution_count": 215,
   "metadata": {
    "colab": {
     "base_uri": "https://localhost:8080/",
     "height": 926
    },
    "id": "YpD1K2sTT1u-",
    "outputId": "75eb4476-5c87-4835-f584-e5bbee3077c1"
   },
   "outputs": [
    {
     "name": "stderr",
     "output_type": "stream",
     "text": [
      "Clipping input data to the valid range for imshow with RGB data ([0..1] for floats or [0..255] for integers).\n"
     ]
    },
    {
     "data": {
      "image/png": "[encoded data removed]",
      "text/plain": [
       "<Figure size 432x288 with 1 Axes>"
      ]
     },
     "metadata": {
      "needs_background": "light"
     },
     "output_type": "display_data"
    },
    {
     "name": "stderr",
     "output_type": "stream",
     "text": [
      "Clipping input data to the valid range for imshow with RGB data ([0..1] for floats or [0..255] for integers).\n"
     ]
    },
    {
     "name": "stdout",
     "output_type": "stream",
     "text": [
      "예측 : dog\n",
      "라벨 : dog\n"
     ]
    },
    {
     "data": {
      "image/png": "[encoded data removed]",
      "text/plain": [
       "<Figure size 432x288 with 1 Axes>"
      ]
     },
     "metadata": {
      "needs_background": "light"
     },
     "output_type": "display_data"
    },
    {
     "name": "stderr",
     "output_type": "stream",
     "text": [
      "Clipping input data to the valid range for imshow with RGB data ([0..1] for floats or [0..255] for integers).\n"
     ]
    },
    {
     "name": "stdout",
     "output_type": "stream",
     "text": [
      "예측 : plane\n",
      "라벨 : bird\n"
     ]
    },
    {
     "data": {
      "image/png": "[encoded data removed]",
      "text/plain": [
       "<Figure size 432x288 with 1 Axes>"
      ]
     },
     "metadata": {
      "needs_background": "light"
     },
     "output_type": "display_data"
    },
    {
     "name": "stdout",
     "output_type": "stream",
     "text": [
      "예측 : frog\n",
      "라벨 : car\n"
     ]
    }
   ],
   "source": [
    "for i in range(3): \n",
    "    sample_number = i\n",
    "\n",
    "    plt.imshow(np.transpose(inputs[sample_number].numpy(), (1,2,0)))\n",
    "    plt.show()\n",
    "    print('예측 :', classes[torch.argmax(outputs[sample_number]).item()])\n",
    "    print('라벨 :', classes[labels[sample_number].item()])"
   ]
  },
  {
   "cell_type": "code",
   "execution_count": 230,
   "metadata": {},
   "outputs": [
    {
     "name": "stdout",
     "output_type": "stream",
     "text": [
      "Files already downloaded and verified\n"
     ]
    }
   ],
   "source": [
    "transform_test = transforms.Compose([\n",
    "    transforms.ToTensor(),\n",
    "    transforms.Normalize((0.4914, 0.4822, 0.4465), (0.2023, 0.1994, 0.2010)),\n",
    "])\n",
    "test_dataset = datasets.CIFAR10(root = './data./test', train = False, download = True, transform = transform_test)\n",
    "test_loader = DataLoader(test_dataset, batch_size=32, shuffle=False)"
   ]
  },
  {
   "cell_type": "code",
   "execution_count": 231,
   "metadata": {},
   "outputs": [],
   "source": [
    "for mini_batch in test_loader:\n",
    "    first_batch = mini_batch\n",
    "    break\n",
    "\n",
    "inputs = first_batch[0]\n",
    "labels = first_batch[1]\n",
    "model.eval()\n",
    "outputs = model(inputs.to(device))"
   ]
  },
  {
   "cell_type": "code",
   "execution_count": 232,
   "metadata": {
    "scrolled": true
   },
   "outputs": [
    {
     "name": "stderr",
     "output_type": "stream",
     "text": [
      "Clipping input data to the valid range for imshow with RGB data ([0..1] for floats or [0..255] for integers).\n"
     ]
    },
    {
     "data": {
      "image/png": "[encoded data removed]",
      "text/plain": [
       "<Figure size 432x288 with 1 Axes>"
      ]
     },
     "metadata": {
      "needs_background": "light"
     },
     "output_type": "display_data"
    },
    {
     "name": "stderr",
     "output_type": "stream",
     "text": [
      "Clipping input data to the valid range for imshow with RGB data ([0..1] for floats or [0..255] for integers).\n"
     ]
    },
    {
     "name": "stdout",
     "output_type": "stream",
     "text": [
      "예측 : cat\n",
      "라벨 : cat\n"
     ]
    },
    {
     "data": {
      "image/png": "[encoded data removed]",
      "text/plain": [
       "<Figure size 432x288 with 1 Axes>"
      ]
     },
     "metadata": {
      "needs_background": "light"
     },
     "output_type": "display_data"
    },
    {
     "name": "stderr",
     "output_type": "stream",
     "text": [
      "Clipping input data to the valid range for imshow with RGB data ([0..1] for floats or [0..255] for integers).\n"
     ]
    },
    {
     "name": "stdout",
     "output_type": "stream",
     "text": [
      "예측 : ship\n",
      "라벨 : ship\n"
     ]
    },
    {
     "data": {
      "image/png": "[encoded data removed]",
      "text/plain": [
       "<Figure size 432x288 with 1 Axes>"
      ]
     },
     "metadata": {
      "needs_background": "light"
     },
     "output_type": "display_data"
    },
    {
     "name": "stdout",
     "output_type": "stream",
     "text": [
      "예측 : ship\n",
      "라벨 : ship\n"
     ]
    }
   ],
   "source": [
    "for i in range(3): \n",
    "    sample_number = i\n",
    "\n",
    "    plt.imshow(np.transpose(inputs[sample_number].numpy(), (1,2,0)))\n",
    "    plt.show()\n",
    "    print('예측 :', classes[torch.argmax(outputs[sample_number]).item()])\n",
    "    print('라벨 :', classes[labels[sample_number].item()])"
   ]
  },
  {
   "cell_type": "code",
   "execution_count": 233,
   "metadata": {},
   "outputs": [
    {
     "name": "stdout",
     "output_type": "stream",
     "text": [
      "10000\n",
      "93.83\n"
     ]
    }
   ],
   "source": [
    "correct = 0\n",
    "total = 0\n",
    "\n",
    "with torch.no_grad():\n",
    "    for inputs, labels in test_loader:\n",
    "        inputs = inputs.to(device)\n",
    "        labels = labels.to(device)\n",
    "        outputs = model(inputs)\n",
    "        predicted = torch.argmax(outputs, dim = 1)\n",
    "        total += labels.size(0)\n",
    "        correct += (predicted == labels).sum().item()\n",
    "\n",
    "    print(total)\n",
    "    print(100*correct / total)"
   ]
  },
  {
   "cell_type": "code",
   "execution_count": null,
   "metadata": {},
   "outputs": [],
   "source": []
  },
  {
   "cell_type": "code",
   "execution_count": null,
   "metadata": {},
   "outputs": [],
   "source": []
  },
  {
   "cell_type": "code",
   "execution_count": null,
   "metadata": {},
   "outputs": [],
   "source": []
  },
  {
   "cell_type": "code",
   "execution_count": null,
   "metadata": {},
   "outputs": [],
   "source": []
  },
  {
   "cell_type": "code",
   "execution_count": null,
   "metadata": {},
   "outputs": [],
   "source": []
  }
 ],
 "metadata": {
  "accelerator": "GPU",
  "colab": {
   "collapsed_sections": [],
   "name": "5-6_resnet.ipynb",
   "provenance": []
  },
  "kernelspec": {
   "display_name": "Python 3",
   "language": "python",
   "name": "python3"
  },
  "language_info": {
   "codemirror_mode": {
    "name": "ipython",
    "version": 3
   },
   "file_extension": ".py",
   "mimetype": "text/x-python",
   "name": "python",
   "nbconvert_exporter": "python",
   "pygments_lexer": "ipython3",
   "version": "3.6.13"
  },
  "widgets": {
   "application/vnd.jupyter.widget-state+json": {
    "1b26cca59c77460198a100e2a49e18d4": {
     "model_module": "@jupyter-widgets/controls",
     "model_module_version": "1.5.0",
     "model_name": "DescriptionStyleModel",
     "state": {
      "_model_module": "@jupyter-widgets/controls",
      "_model_module_version": "1.5.0",
      "_model_name": "DescriptionStyleModel",
      "_view_count": null,
      "_view_module": "@jupyter-widgets/base",
      "_view_module_version": "1.2.0",
      "_view_name": "StyleView",
      "description_width": ""
     }
    },
    "22aeca8cb4344709bef0a2329f976675": {
     "model_module": "@jupyter-widgets/controls",
     "model_module_version": "1.5.0",
     "model_name": "FloatProgressModel",
     "state": {
      "_dom_classes": [],
      "_model_module": "@jupyter-widgets/controls",
      "_model_module_version": "1.5.0",
      "_model_name": "FloatProgressModel",
      "_view_count": null,
      "_view_module": "@jupyter-widgets/controls",
      "_view_module_version": "1.5.0",
      "_view_name": "ProgressView",
      "bar_style": "success",
      "description": "",
      "description_tooltip": null,
      "layout": "IPY_MODEL_e033cb49e85b4bd78f22899517997400",
      "max": 170498071,
      "min": 0,
      "orientation": "horizontal",
      "style": "IPY_MODEL_669b7b30ed974af886bafc52755cfa3f",
      "value": 170498071
     }
    },
    "49c94778d12440c89f5244f573b37552": {
     "model_module": "@jupyter-widgets/controls",
     "model_module_version": "1.5.0",
     "model_name": "HBoxModel",
     "state": {
      "_dom_classes": [],
      "_model_module": "@jupyter-widgets/controls",
      "_model_module_version": "1.5.0",
      "_model_name": "HBoxModel",
      "_view_count": null,
      "_view_module": "@jupyter-widgets/controls",
      "_view_module_version": "1.5.0",
      "_view_name": "HBoxView",
      "box_style": "",
      "children": [
       "IPY_MODEL_ebd439db925843dba8a07179b447fa7b",
       "IPY_MODEL_22aeca8cb4344709bef0a2329f976675",
       "IPY_MODEL_9b741fe797524d8198f81032ad7143f6"
      ],
      "layout": "IPY_MODEL_890385b0ba9a43adb0502777da5e2573"
     }
    },
    "669b7b30ed974af886bafc52755cfa3f": {
     "model_module": "@jupyter-widgets/controls",
     "model_module_version": "1.5.0",
     "model_name": "ProgressStyleModel",
     "state": {
      "_model_module": "@jupyter-widgets/controls",
      "_model_module_version": "1.5.0",
      "_model_name": "ProgressStyleModel",
      "_view_count": null,
      "_view_module": "@jupyter-widgets/base",
      "_view_module_version": "1.2.0",
      "_view_name": "StyleView",
      "bar_color": null,
      "description_width": ""
     }
    },
    "68342033df2243f5840e626b96924ec1": {
     "model_module": "@jupyter-widgets/base",
     "model_module_version": "1.2.0",
     "model_name": "LayoutModel",
     "state": {
      "_model_module": "@jupyter-widgets/base",
      "_model_module_version": "1.2.0",
      "_model_name": "LayoutModel",
      "_view_count": null,
      "_view_module": "@jupyter-widgets/base",
      "_view_module_version": "1.2.0",
      "_view_name": "LayoutView",
      "align_content": null,
      "align_items": null,
      "align_self": null,
      "border": null,
      "bottom": null,
      "display": null,
      "flex": null,
      "flex_flow": null,
      "grid_area": null,
      "grid_auto_columns": null,
      "grid_auto_flow": null,
      "grid_auto_rows": null,
      "grid_column": null,
      "grid_gap": null,
      "grid_row": null,
      "grid_template_areas": null,
      "grid_template_columns": null,
      "grid_template_rows": null,
      "height": null,
      "justify_content": null,
      "justify_items": null,
      "left": null,
      "margin": null,
      "max_height": null,
      "max_width": null,
      "min_height": null,
      "min_width": null,
      "object_fit": null,
      "object_position": null,
      "order": null,
      "overflow": null,
      "overflow_x": null,
      "overflow_y": null,
      "padding": null,
      "right": null,
      "top": null,
      "visibility": null,
      "width": null
     }
    },
    "6eab08aa631d4305a058cc2b674bad69": {
     "model_module": "@jupyter-widgets/controls",
     "model_module_version": "1.5.0",
     "model_name": "DescriptionStyleModel",
     "state": {
      "_model_module": "@jupyter-widgets/controls",
      "_model_module_version": "1.5.0",
      "_model_name": "DescriptionStyleModel",
      "_view_count": null,
      "_view_module": "@jupyter-widgets/base",
      "_view_module_version": "1.2.0",
      "_view_name": "StyleView",
      "description_width": ""
     }
    },
    "890385b0ba9a43adb0502777da5e2573": {
     "model_module": "@jupyter-widgets/base",
     "model_module_version": "1.2.0",
     "model_name": "LayoutModel",
     "state": {
      "_model_module": "@jupyter-widgets/base",
      "_model_module_version": "1.2.0",
      "_model_name": "LayoutModel",
      "_view_count": null,
      "_view_module": "@jupyter-widgets/base",
      "_view_module_version": "1.2.0",
      "_view_name": "LayoutView",
      "align_content": null,
      "align_items": null,
      "align_self": null,
      "border": null,
      "bottom": null,
      "display": null,
      "flex": null,
      "flex_flow": null,
      "grid_area": null,
      "grid_auto_columns": null,
      "grid_auto_flow": null,
      "grid_auto_rows": null,
      "grid_column": null,
      "grid_gap": null,
      "grid_row": null,
      "grid_template_areas": null,
      "grid_template_columns": null,
      "grid_template_rows": null,
      "height": null,
      "justify_content": null,
      "justify_items": null,
      "left": null,
      "margin": null,
      "max_height": null,
      "max_width": null,
      "min_height": null,
      "min_width": null,
      "object_fit": null,
      "object_position": null,
      "order": null,
      "overflow": null,
      "overflow_x": null,
      "overflow_y": null,
      "padding": null,
      "right": null,
      "top": null,
      "visibility": null,
      "width": null
     }
    },
    "8b16860dafcb4295a30633c0f3f86666": {
     "model_module": "@jupyter-widgets/base",
     "model_module_version": "1.2.0",
     "model_name": "LayoutModel",
     "state": {
      "_model_module": "@jupyter-widgets/base",
      "_model_module_version": "1.2.0",
      "_model_name": "LayoutModel",
      "_view_count": null,
      "_view_module": "@jupyter-widgets/base",
      "_view_module_version": "1.2.0",
      "_view_name": "LayoutView",
      "align_content": null,
      "align_items": null,
      "align_self": null,
      "border": null,
      "bottom": null,
      "display": null,
      "flex": null,
      "flex_flow": null,
      "grid_area": null,
      "grid_auto_columns": null,
      "grid_auto_flow": null,
      "grid_auto_rows": null,
      "grid_column": null,
      "grid_gap": null,
      "grid_row": null,
      "grid_template_areas": null,
      "grid_template_columns": null,
      "grid_template_rows": null,
      "height": null,
      "justify_content": null,
      "justify_items": null,
      "left": null,
      "margin": null,
      "max_height": null,
      "max_width": null,
      "min_height": null,
      "min_width": null,
      "object_fit": null,
      "object_position": null,
      "order": null,
      "overflow": null,
      "overflow_x": null,
      "overflow_y": null,
      "padding": null,
      "right": null,
      "top": null,
      "visibility": null,
      "width": null
     }
    },
    "9b741fe797524d8198f81032ad7143f6": {
     "model_module": "@jupyter-widgets/controls",
     "model_module_version": "1.5.0",
     "model_name": "HTMLModel",
     "state": {
      "_dom_classes": [],
      "_model_module": "@jupyter-widgets/controls",
      "_model_module_version": "1.5.0",
      "_model_name": "HTMLModel",
      "_view_count": null,
      "_view_module": "@jupyter-widgets/controls",
      "_view_module_version": "1.5.0",
      "_view_name": "HTMLView",
      "description": "",
      "description_tooltip": null,
      "layout": "IPY_MODEL_8b16860dafcb4295a30633c0f3f86666",
      "placeholder": "​",
      "style": "IPY_MODEL_6eab08aa631d4305a058cc2b674bad69",
      "value": " 170499072/? [00:02&lt;00:00, 75559645.59it/s]"
     }
    },
    "e033cb49e85b4bd78f22899517997400": {
     "model_module": "@jupyter-widgets/base",
     "model_module_version": "1.2.0",
     "model_name": "LayoutModel",
     "state": {
      "_model_module": "@jupyter-widgets/base",
      "_model_module_version": "1.2.0",
      "_model_name": "LayoutModel",
      "_view_count": null,
      "_view_module": "@jupyter-widgets/base",
      "_view_module_version": "1.2.0",
      "_view_name": "LayoutView",
      "align_content": null,
      "align_items": null,
      "align_self": null,
      "border": null,
      "bottom": null,
      "display": null,
      "flex": null,
      "flex_flow": null,
      "grid_area": null,
      "grid_auto_columns": null,
      "grid_auto_flow": null,
      "grid_auto_rows": null,
      "grid_column": null,
      "grid_gap": null,
      "grid_row": null,
      "grid_template_areas": null,
      "grid_template_columns": null,
      "grid_template_rows": null,
      "height": null,
      "justify_content": null,
      "justify_items": null,
      "left": null,
      "margin": null,
      "max_height": null,
      "max_width": null,
      "min_height": null,
      "min_width": null,
      "object_fit": null,
      "object_position": null,
      "order": null,
      "overflow": null,
      "overflow_x": null,
      "overflow_y": null,
      "padding": null,
      "right": null,
      "top": null,
      "visibility": null,
      "width": null
     }
    },
    "ebd439db925843dba8a07179b447fa7b": {
     "model_module": "@jupyter-widgets/controls",
     "model_module_version": "1.5.0",
     "model_name": "HTMLModel",
     "state": {
      "_dom_classes": [],
      "_model_module": "@jupyter-widgets/controls",
      "_model_module_version": "1.5.0",
      "_model_name": "HTMLModel",
      "_view_count": null,
      "_view_module": "@jupyter-widgets/controls",
      "_view_module_version": "1.5.0",
      "_view_name": "HTMLView",
      "description": "",
      "description_tooltip": null,
      "layout": "IPY_MODEL_68342033df2243f5840e626b96924ec1",
      "placeholder": "​",
      "style": "IPY_MODEL_1b26cca59c77460198a100e2a49e18d4",
      "value": ""
     }
    }
   }
  }
 },
 "nbformat": 4,
 "nbformat_minor": 1
}
