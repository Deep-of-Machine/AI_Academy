{
  "nbformat": 4,
  "nbformat_minor": 0,
  "metadata": {
    "colab": {
      "name": "5-1_colab기초.ipynb",
      "provenance": [],
      "collapsed_sections": [],
      "include_colab_link": true
    },
    "kernelspec": {
      "name": "python3",
      "display_name": "Python 3"
    },
    "language_info": {
      "name": "python"
    },
    "accelerator": "GPU"
  },
  "cells": [
    {
      "cell_type": "markdown",
      "metadata": {
        "id": "view-in-github",
        "colab_type": "text"
      },
      "source": [
        "<a href=\"https://colab.research.google.com/github/Deep-of-Machine/AI_Academy/blob/main/5_1_colab%EA%B8%B0%EC%B4%88.ipynb\" target=\"_parent\"><img src=\"https://colab.research.google.com/assets/colab-badge.svg\" alt=\"Open In Colab\"/></a>"
      ]
    },
    {
      "cell_type": "markdown",
      "metadata": {
        "id": "PSvwLK74rAIU"
      },
      "source": [
        "## 연결된 컴퓨터의 운영 체제 확인"
      ]
    },
    {
      "cell_type": "code",
      "metadata": {
        "id": "_8KJFNYK0Nxu",
        "colab": {
          "base_uri": "https://localhost:8080/"
        },
        "outputId": "4e866256-fea3-4620-922f-92ac4efb431e"
      },
      "source": [
        "!cat /etc/issue.net"
      ],
      "execution_count": 1,
      "outputs": [
        {
          "output_type": "stream",
          "name": "stdout",
          "text": [
            "Ubuntu 18.04.5 LTS\n"
          ]
        }
      ]
    },
    {
      "cell_type": "markdown",
      "metadata": {
        "id": "WJN1XNCXrvjB"
      },
      "source": [
        "## CPU 사양 확인"
      ]
    },
    {
      "cell_type": "code",
      "metadata": {
        "id": "CXYXYoSV0VYI",
        "colab": {
          "base_uri": "https://localhost:8080/"
        },
        "outputId": "165c985a-e7a7-4eb9-bac7-d8501c5e2102"
      },
      "source": [
        "!cat /proc/cpuinfo"
      ],
      "execution_count": 2,
      "outputs": [
        {
          "output_type": "stream",
          "name": "stdout",
          "text": [
            "processor\t: 0\n",
            "vendor_id\t: GenuineIntel\n",
            "cpu family\t: 6\n",
            "model\t\t: 79\n",
            "model name\t: Intel(R) Xeon(R) CPU @ 2.20GHz\n",
            "stepping\t: 0\n",
            "microcode\t: 0x1\n",
            "cpu MHz\t\t: 2200.146\n",
            "cache size\t: 56320 KB\n",
            "physical id\t: 0\n",
            "siblings\t: 2\n",
            "core id\t\t: 0\n",
            "cpu cores\t: 1\n",
            "apicid\t\t: 0\n",
            "initial apicid\t: 0\n",
            "fpu\t\t: yes\n",
            "fpu_exception\t: yes\n",
            "cpuid level\t: 13\n",
            "wp\t\t: yes\n",
            "flags\t\t: fpu vme de pse tsc msr pae mce cx8 apic sep mtrr pge mca cmov pat pse36 clflush mmx fxsr sse sse2 ss ht syscall nx pdpe1gb rdtscp lm constant_tsc rep_good nopl xtopology nonstop_tsc cpuid tsc_known_freq pni pclmulqdq ssse3 fma cx16 pcid sse4_1 sse4_2 x2apic movbe popcnt aes xsave avx f16c rdrand hypervisor lahf_lm abm 3dnowprefetch invpcid_single ssbd ibrs ibpb stibp fsgsbase tsc_adjust bmi1 hle avx2 smep bmi2 erms invpcid rtm rdseed adx smap xsaveopt arat md_clear arch_capabilities\n",
            "bugs\t\t: cpu_meltdown spectre_v1 spectre_v2 spec_store_bypass l1tf mds swapgs taa\n",
            "bogomips\t: 4400.29\n",
            "clflush size\t: 64\n",
            "cache_alignment\t: 64\n",
            "address sizes\t: 46 bits physical, 48 bits virtual\n",
            "power management:\n",
            "\n",
            "processor\t: 1\n",
            "vendor_id\t: GenuineIntel\n",
            "cpu family\t: 6\n",
            "model\t\t: 79\n",
            "model name\t: Intel(R) Xeon(R) CPU @ 2.20GHz\n",
            "stepping\t: 0\n",
            "microcode\t: 0x1\n",
            "cpu MHz\t\t: 2200.146\n",
            "cache size\t: 56320 KB\n",
            "physical id\t: 0\n",
            "siblings\t: 2\n",
            "core id\t\t: 0\n",
            "cpu cores\t: 1\n",
            "apicid\t\t: 1\n",
            "initial apicid\t: 1\n",
            "fpu\t\t: yes\n",
            "fpu_exception\t: yes\n",
            "cpuid level\t: 13\n",
            "wp\t\t: yes\n",
            "flags\t\t: fpu vme de pse tsc msr pae mce cx8 apic sep mtrr pge mca cmov pat pse36 clflush mmx fxsr sse sse2 ss ht syscall nx pdpe1gb rdtscp lm constant_tsc rep_good nopl xtopology nonstop_tsc cpuid tsc_known_freq pni pclmulqdq ssse3 fma cx16 pcid sse4_1 sse4_2 x2apic movbe popcnt aes xsave avx f16c rdrand hypervisor lahf_lm abm 3dnowprefetch invpcid_single ssbd ibrs ibpb stibp fsgsbase tsc_adjust bmi1 hle avx2 smep bmi2 erms invpcid rtm rdseed adx smap xsaveopt arat md_clear arch_capabilities\n",
            "bugs\t\t: cpu_meltdown spectre_v1 spectre_v2 spec_store_bypass l1tf mds swapgs taa\n",
            "bogomips\t: 4400.29\n",
            "clflush size\t: 64\n",
            "cache_alignment\t: 64\n",
            "address sizes\t: 46 bits physical, 48 bits virtual\n",
            "power management:\n",
            "\n"
          ]
        }
      ]
    },
    {
      "cell_type": "markdown",
      "metadata": {
        "id": "auS8foppsL5J"
      },
      "source": [
        "## GPU 사양 확인\n",
        "따로 설정하지 않았을 경우 GPU가 연결되어있지 않음"
      ]
    },
    {
      "cell_type": "code",
      "metadata": {
        "id": "mRba_S9O0ur9",
        "colab": {
          "base_uri": "https://localhost:8080/"
        },
        "outputId": "17d47e6d-9785-40dc-be46-507ea8dc2d0b"
      },
      "source": [
        "!nvidia-smi"
      ],
      "execution_count": 1,
      "outputs": [
        {
          "output_type": "stream",
          "name": "stdout",
          "text": [
            "Sat Oct 16 04:54:11 2021       \n",
            "+-----------------------------------------------------------------------------+\n",
            "| NVIDIA-SMI 470.74       Driver Version: 460.32.03    CUDA Version: 11.2     |\n",
            "|-------------------------------+----------------------+----------------------+\n",
            "| GPU  Name        Persistence-M| Bus-Id        Disp.A | Volatile Uncorr. ECC |\n",
            "| Fan  Temp  Perf  Pwr:Usage/Cap|         Memory-Usage | GPU-Util  Compute M. |\n",
            "|                               |                      |               MIG M. |\n",
            "|===============================+======================+======================|\n",
            "|   0  Tesla K80           Off  | 00000000:00:04.0 Off |                    0 |\n",
            "| N/A   67C    P8    34W / 149W |      0MiB / 11441MiB |      0%      Default |\n",
            "|                               |                      |                  N/A |\n",
            "+-------------------------------+----------------------+----------------------+\n",
            "                                                                               \n",
            "+-----------------------------------------------------------------------------+\n",
            "| Processes:                                                                  |\n",
            "|  GPU   GI   CI        PID   Type   Process name                  GPU Memory |\n",
            "|        ID   ID                                                   Usage      |\n",
            "|=============================================================================|\n",
            "|  No running processes found                                                 |\n",
            "+-----------------------------------------------------------------------------+\n"
          ]
        }
      ]
    },
    {
      "cell_type": "markdown",
      "metadata": {
        "id": "_2yyzBo6srV9"
      },
      "source": [
        "런타임 - 런타임 유형 변경    \n",
        "하드웨어 가속기를 None에서 GPU로 변경"
      ]
    },
    {
      "cell_type": "code",
      "metadata": {
        "id": "kShyWLcRs7SM"
      },
      "source": [
        "!nvidia-smi"
      ],
      "execution_count": null,
      "outputs": []
    },
    {
      "cell_type": "markdown",
      "metadata": {
        "id": "CJtU2bNMtAQC"
      },
      "source": [
        "## 파이썬 버전 확인"
      ]
    },
    {
      "cell_type": "code",
      "metadata": {
        "id": "CFX3OuOpj8-g",
        "colab": {
          "base_uri": "https://localhost:8080/"
        },
        "outputId": "b67ca61b-548c-487a-8fb5-25bd303fb6e0"
      },
      "source": [
        "!python --version"
      ],
      "execution_count": 2,
      "outputs": [
        {
          "output_type": "stream",
          "name": "stdout",
          "text": [
            "Python 3.7.12\n"
          ]
        }
      ]
    },
    {
      "cell_type": "markdown",
      "metadata": {
        "id": "D8XteF4ptC6E"
      },
      "source": [
        "## 파일 업로드와 다운로드"
      ]
    },
    {
      "cell_type": "code",
      "metadata": {
        "id": "ztPQCeuw1EkG"
      },
      "source": [
        "from google.colab import files\n",
        "upload = files.upload()\n"
      ],
      "execution_count": null,
      "outputs": []
    },
    {
      "cell_type": "markdown",
      "metadata": {
        "id": "hoyVhiX3lQd3"
      },
      "source": [
        "업로드 된 파일 확인\n"
      ]
    },
    {
      "cell_type": "code",
      "metadata": {
        "id": "1O0-JrTGklXB"
      },
      "source": [
        "!ls"
      ],
      "execution_count": null,
      "outputs": []
    },
    {
      "cell_type": "markdown",
      "metadata": {
        "id": "FFTRGjeHonWp"
      },
      "source": [
        "파일 다운로드"
      ]
    },
    {
      "cell_type": "code",
      "metadata": {
        "id": "8uv8NA92ovwP"
      },
      "source": [
        "files.download('/content/sample_data/california_housing_test.csv')"
      ],
      "execution_count": null,
      "outputs": []
    },
    {
      "cell_type": "markdown",
      "metadata": {
        "id": "8a-jCUdolTYx"
      },
      "source": [
        "## 구글 드라이브와 연동    \n",
        "아래의 코드 실행 후 나온 주소에 들어가서 연동할 계정을 선택    \n",
        "코드를 복사해서 입력한 후 엔터를 치면 연동 완료    "
      ]
    },
    {
      "cell_type": "code",
      "metadata": {
        "id": "6e216HTZ1Xby",
        "colab": {
          "base_uri": "https://localhost:8080/"
        },
        "outputId": "9be7d42e-5e8a-4881-a531-7015564fbb43"
      },
      "source": [
        "from google.colab import drive\n",
        "drive.mount('/content/drive')"
      ],
      "execution_count": 3,
      "outputs": [
        {
          "output_type": "stream",
          "name": "stdout",
          "text": [
            "Mounted at /content/drive\n"
          ]
        }
      ]
    },
    {
      "cell_type": "code",
      "metadata": {
        "id": "lTQUULhA29UV",
        "colab": {
          "base_uri": "https://localhost:8080/"
        },
        "outputId": "59ae5cc8-f8ec-41c7-fdc8-9edadd541b71"
      },
      "source": [
        "!ls /content/drive"
      ],
      "execution_count": 4,
      "outputs": [
        {
          "output_type": "stream",
          "name": "stdout",
          "text": [
            "MyDrive\n"
          ]
        }
      ]
    },
    {
      "cell_type": "code",
      "metadata": {
        "id": "8wKFVNFM3JYb",
        "colab": {
          "base_uri": "https://localhost:8080/"
        },
        "outputId": "66e0b82a-a0ea-49df-9a31-02207535e416"
      },
      "source": [
        "import os\n",
        "os.listdir('/content/drive/MyDrive')"
      ],
      "execution_count": 5,
      "outputs": [
        {
          "output_type": "execute_result",
          "data": {
            "text/plain": [
              "['Colab Notebooks',\n",
              " 'precipitation_trend.csv',\n",
              " '좋아하는 과목 (1).gform',\n",
              " '좋아하는 과목(응답) (1).gsheet',\n",
              " '제목 없는 문서.gdoc',\n",
              " '일본 제품 불매운동 관련 설문조사(응답).gform',\n",
              " '불매운동 브랜드 (응답).gdoc',\n",
              " 'BMI.csv',\n",
              " '자동차 에너지소비효율등급 인증 현황_180831.csv',\n",
              " 'NBA_players_by_season.csv',\n",
              " '좋아하는 과목.gform',\n",
              " '좋아하는 과목(응답).gsheet',\n",
              " '일본 제품 불매운동 관련 설문조사(응답) (1).gsheet',\n",
              " 'BMI.gform',\n",
              " 'BMI(응답).gsheet',\n",
              " '시험 본 제품 불매운동 관련 설문조사(응답).gsheet',\n",
              " '일본 제품 불매운동 관련 설문조사.gform',\n",
              " '일본 제품 불매운동 관련 설문조사(응답).gsheet',\n",
              " 'pl.csv',\n",
              " '.ipynb_checkpoints',\n",
              " 'planet.csv',\n",
              " '데이터분석보고서의 사본.gdoc',\n",
              " '음식.gform',\n",
              " '선풍기 형태에 관한 사람들의 인식.gform',\n",
              " '선풍기 형태에 관한 사람들의 인식(응답).gsheet',\n",
              " 'Boat Fan.csv',\n",
              " 'Fan speed.csv',\n",
              " 'Fan voice.csv',\n",
              " 'IMG_8395.HEIC',\n",
              " 'IMG_8394.HEIC',\n",
              " 't10k-labels-idx1-ubyte.gz',\n",
              " 'train-labels-idx1-ubyte.gz',\n",
              " 't10k-images-idx3-ubyte.gz',\n",
              " 'train-images-idx3-ubyte.gz',\n",
              " '과학융합.ipynb',\n",
              " '캡처.JPG',\n",
              " '_FileData_Certi1_10000_인증서_626_yxoo322fyj_김서현_20200820.pdf',\n",
              " '손글씨 분류 인공지능.ipynb',\n",
              " 'park.csv의 사본',\n",
              " 'day_care_center.csv의 사본',\n",
              " 'submission.csv의 사본 (1)',\n",
              " 'test.csv의 사본',\n",
              " 'train.csv의 사본',\n",
              " 'movies_train.csv의 사본',\n",
              " 'movies_test.csv의 사본',\n",
              " 'submission.csv의 사본',\n",
              " 'all.txt',\n",
              " '제목없는 폴더',\n",
              " 'KakaoTalk_20201118_212815048.mp4',\n",
              " 'samsung_stock.csv',\n",
              " '시각장애인의 눈이 되어줄 수 있는 AI 음식 판별기.pptx',\n",
              " '폐렴',\n",
              " '우리가족 영상',\n",
              " '석식.zip',\n",
              " '선풍기 사람들의 인식.ipynb',\n",
              " 'day_5']"
            ]
          },
          "metadata": {},
          "execution_count": 5
        }
      ]
    },
    {
      "cell_type": "markdown",
      "metadata": {
        "id": "RRF1x1NRoAuv"
      },
      "source": [
        "파일 업로드와 다운로드, 드라이브 연동은 왼쪽의 파일 탭에서도 가능"
      ]
    },
    {
      "cell_type": "markdown",
      "metadata": {
        "id": "G1WlB6ijmGFj"
      },
      "source": [
        "ipynb 파일은 드라이브에 업로드 후 colab 앱으로 실행    \n"
      ]
    },
    {
      "cell_type": "markdown",
      "metadata": {
        "id": "IWp3qoEwpiAN"
      },
      "source": [
        "## 종료\n",
        "런타임 - 세션 관리    \n",
        "활성 세션을 종료    \n",
        "#### **세션을 종료할 경우 작업중이던 데이터는 모두 삭제**    \n"
      ]
    },
    {
      "cell_type": "markdown",
      "metadata": {
        "id": "cWhMBc71apAs"
      },
      "source": [
        "## 저장\n",
        "작성중인 .ipynb 파일은 Ctrl + s 키를 눌러서 저장    \n",
        "colab에서 새로 만든 파일도 따로 저장하지 않았을 경우, 종료시에 모두 삭제    \n",
        "파일 다운로드 혹은 연동한 구글 드라이브에 저장해야한다."
      ]
    }
  ]
}