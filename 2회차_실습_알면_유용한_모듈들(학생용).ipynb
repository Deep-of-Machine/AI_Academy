{
  "nbformat": 4,
  "nbformat_minor": 5,
  "metadata": {
    "kernelspec": {
      "display_name": "Python 3",
      "language": "python",
      "name": "python3"
    },
    "language_info": {
      "codemirror_mode": {
        "name": "ipython",
        "version": 3
      },
      "file_extension": ".py",
      "mimetype": "text/x-python",
      "name": "python",
      "nbconvert_exporter": "python",
      "pygments_lexer": "ipython3",
      "version": "3.8.8"
    },
    "colab": {
      "name": "2회차_실습_알면 유용한 모듈들(학생용).ipynb",
      "provenance": [],
      "include_colab_link": true
    }
  },
  "cells": [
    {
      "cell_type": "markdown",
      "metadata": {
        "id": "view-in-github",
        "colab_type": "text"
      },
      "source": [
        "<a href=\"https://colab.research.google.com/github/Deep-of-Machine/AI_Academy/blob/main/2%ED%9A%8C%EC%B0%A8_%EC%8B%A4%EC%8A%B5_%EC%95%8C%EB%A9%B4_%EC%9C%A0%EC%9A%A9%ED%95%9C_%EB%AA%A8%EB%93%88%EB%93%A4(%ED%95%99%EC%83%9D%EC%9A%A9).ipynb\" target=\"_parent\"><img src=\"https://colab.research.google.com/assets/colab-badge.svg\" alt=\"Open In Colab\"/></a>"
      ]
    },
    {
      "cell_type": "markdown",
      "metadata": {
        "id": "d3155173"
      },
      "source": [
        "# 모듈의 설치와 사용\n",
        "___\n",
        "모듈이란 자주 사용되는 함수나 클래스를 미리 작성해둔 파이썬 파일을 의미합니다. 우리는 앞시간에 벡터와 다항식 클래스를 만들어 두었는데, 앞으로 벡터를 다룰 때마다 모든 파이썬 파일에서 벡터 클래스를 새로 정의하는 것은 매우 귀찮은 일이 될 것입니다. 따라서 우리는 벡터같은 클래스를 미리 한 파일에 정의해 두고 다음에 벡터를 사용할 때에는 이 파일의 정보를 불러와 사용할 것입니다.  "
      ],
      "id": "d3155173"
    },
    {
      "cell_type": "markdown",
      "metadata": {
        "id": "f6484af2"
      },
      "source": [
        "우리가 직접 모듈을 작성해 사용할 수도 있지만 파이썬은 매우 다양한 모듈이 제공되기 때문에 웬만한 경우에는 우리가 원하는 코드의 모듈이 이미 작성되어 있고, 간단한 명령을 통해 내려받을 수 있습니다. 모듈을 내려받을 때에는 아나콘다에서 환경 활성화 후 `pip install modulename` 을 입력하고 사용할 때에는 파이썬 내에서 `import modulename`을 입력하면 됩니다."
      ],
      "id": "f6484af2"
    },
    {
      "cell_type": "markdown",
      "metadata": {
        "id": "b0b12ff4"
      },
      "source": [
        "이 시간에는 수치 계산을 위한 `numpy`, 데이터 분석을 위한 `pandas`, 파일 접근, 제어를 위한 `os`, 이미지 계산과 확인을 위한 `cv2` `matplotlib.pyplot`, `PIL` 등을 알아봅시다."
      ],
      "id": "b0b12ff4"
    },
    {
      "cell_type": "markdown",
      "metadata": {
        "id": "1e1096fd"
      },
      "source": [
        "# numpy(np)\n",
        "___\n",
        "numpy 모듈은 수치 계산을 위한 다양한 함수와 클래스를 제공합니다. 우리가 사용하게 될 행렬과 벡터 계산을 위한 `ndarray` 자료형과 다양한 수학 함수 `max`, `min`, `exp`, `log`, `행렬곱`, `내적` 등이 제공됩니다.  \n",
        "`numpy` 모듈은 일반적으로 `np` 로 줄여서 사용합니다. 아래 예시를 통해 벡터와 행렬을 생성하는 방법을 알아봅시다.\n",
        "```py\n",
        "import numpy as np\n",
        "A = np.array([1,2,3,4])\n",
        "B = np.array([[1,2],[3,4]])\n",
        "print(A)\n",
        "print(B)\n",
        "```"
      ],
      "id": "1e1096fd"
    },
    {
      "cell_type": "markdown",
      "metadata": {
        "id": "e86f5b1f"
      },
      "source": [
        "생성된 배열의 값에 접근할 때에는 차원 순서별로 [1,2] 또는 [2,3:7] 과 같은 식으로 접근합니다. 차원은 np.array 로 생성할 때 원소를 둘러싸고 있는 [] 의 개수라고 생각할 수도 있습니다.  \n",
        "예를 들어 위 행렬 B 에서 [0,1] 이라고 하면 가장 바깥 [] 로 묶여있는 [1,2] 와 [3,4] 중 0번째([1,2]), 그리고 그 [] 로 묶여있는 1,2 중에서 1번째(2) 를 의미합니다.\n",
        "```py\n",
        "print(B[0,1])\n",
        "```"
      ],
      "id": "e86f5b1f"
    },
    {
      "cell_type": "markdown",
      "metadata": {
        "id": "2fadcfd5"
      },
      "source": [
        "리스트를 통해 벡터를, 다중 리스트를 통해 행렬이나 그 이상의 다차원 배열을 생성할 수도 있지만 range 처럼 생성할 수도 있으며 1차원으로 생성 후 `reshape` 을 통해 배치를 바꿀 수도 있습니다.\n",
        "```py\n",
        "C = np.arange(1,5,0.2)\n",
        "D = np.arange(10)\n",
        "E = D.reshape((5,2))\n",
        "print(C)\n",
        "print(D)\n",
        "print(E)\n",
        "```"
      ],
      "id": "2fadcfd5"
    },
    {
      "cell_type": "markdown",
      "metadata": {
        "id": "9dae73b7"
      },
      "source": [
        "임의의 수를 생성하거나 리스트에서 임의의 원소를 뽑아내는 random 모듈도 함께 제공됩니다. 이 때 옵션을 주어 복원추출/비복원추출을 구분하거나 일정 범위의 정수만을 샘플링 할 수 있습니다.\n",
        "```py\n",
        "A = [1,2,3,4,5]\n",
        "print(np.random.choice(A))\n",
        "print(np.random.rand(2,3))\n",
        "```"
      ],
      "id": "9dae73b7"
    },
    {
      "cell_type": "markdown",
      "metadata": {
        "id": "eaa9f5f3"
      },
      "source": [
        "임의의 차원의 배열을 생성할 수 있지만 일반적으로 1차원 배열은 `벡터`, 2차원 배열은 `행렬`이라고 생각할 수 있습니다.  \n",
        "배열의 연산을 일반적인 사칙연산으로 계산 시 원소별로 연산되며 모양이 맞지 않을때는 어느정도 자동으로 맞춰줍니다.  \n",
        "행렬, 벡터에 대해서 특별한 연산을 할 수 있도록 `dot`, `matmul` 등의 연산이 지원되니 다음 예시를 통해 확인해보도록 합시다.\n",
        "```py\n",
        "A = np.array([[1,2],[3,4]])\n",
        "B = np.array([[10,100],[1000,10000]])\n",
        "C = np.array([1,2,3,4])\n",
        "D = np.array([5,7,2,3])\n",
        "print(A*B)\n",
        "print(np.matmul(A,B))\n",
        "print(C*D)\n",
        "print(np.dot(C,D))\n",
        "```"
      ],
      "id": "eaa9f5f3"
    },
    {
      "cell_type": "markdown",
      "metadata": {
        "id": "980acf15"
      },
      "source": [
        "모든 성분이 0 이거나 1 인 특수한 행렬들은 그 크기만 정해주면 `zero`, `eye` 등의 함수를 통해 쉽게 생성할 수 있습니다.\n",
        "```py\n",
        "print(np.zeros((2,2))\n",
        "print(np.eye(3))\n",
        "```"
      ],
      "id": "980acf15"
    },
    {
      "cell_type": "markdown",
      "metadata": {
        "id": "35e423a1"
      },
      "source": [
        "이 외에도 배열의 크기를 알아보는 `shape`,`size`, 차원의 순서를 바꿔주는 `transpose`, 차원을 하나 추가해주는 `newaxis` 등 다양한 기능이 있으니 직접 실험해보도록 합시다.\n",
        "```py\n",
        "A = np.arange(9).reshape((3,3))\n",
        "print(A.shape)\n",
        "print(A.size)\n",
        "print(A.transpose())\n",
        "print(A[:,np.newaxis,:])\n",
        "```"
      ],
      "id": "35e423a1"
    },
    {
      "cell_type": "markdown",
      "metadata": {
        "id": "35e06a34"
      },
      "source": [
        "이 외에도 두 배열을 연결해주는 `stack`, `concat`이나 최대, 최소의 위치를 알려주는 `argmin`,`argmax` 등 정말 다양한 함수들이 존재하므로 `tab` 키와 `?` 를 이용해 하나씩 알아보면서 실습해봅시다.  \n",
        "또한 다수의 `Numpy` 함수에서는 `axis` 또는 `axes` 인자를 설정할 수 있는데, 처음 다차원 배열을 배울 때에는 축의 개념이 어려울 수 있으므로 다양한 실험을 통해 익숙해지도록 합시다."
      ],
      "id": "35e06a34"
    },
    {
      "cell_type": "markdown",
      "metadata": {
        "id": "f807a01f"
      },
      "source": [
        "# pandas(pd)\n",
        "___\n",
        "csv, xlsm 등의 형식으로 정리된 데이터를 읽거나 쓰고, dictionary 형태로 주어진 데이터를 `DataFrame` 이라는 자료형으로 전환해 분석을 위한 다양한 함수를 제공해주는 `pandas` 패키지가 있습니다. 이 또한 numpy 와 마찬가지로 `pd` 로 줄여서 많이 사용합니다."
      ],
      "id": "f807a01f"
    },
    {
      "cell_type": "markdown",
      "metadata": {
        "id": "5953d386"
      },
      "source": [
        "```py\n",
        "import pandas as pd\n",
        "p1 = {'이름' : '최한결', 'e-mail' : 'hkchoi@aination.com','phone' : 123456789, '주민등록번호' : '851122-1065984'}\n",
        "p2 = {'이름' : '정은비', 'e-mail' : 'en123','phone' : '', '주민등록번호' : '041203-4526809'}\n",
        "p3 = {'이름' : '오영남', 'e-mail' : '50nam','phone' : '020-9358-6832', '주민등록번호' : '690103-1256384'}\n",
        "p4 = {'이름' : '권마리', 'e-mail' : 'kwon93@never.com','phone' : '02)5120996', '주민등록번호' : '460815-1xxxxxx'}\n",
        "df = pd.DataFrame([p1,p2,p3,p4])\n",
        "df\n",
        "```"
      ],
      "id": "5953d386"
    },
    {
      "cell_type": "markdown",
      "metadata": {
        "id": "b84b2c92"
      },
      "source": [
        "가장 좌측에 있는 0,1,2,... 는 dictionary 의 key 역할을 하는 인덱스인데, `set_index` 를 통해 우리가 원하는 열을 인덱스로써 사용할 수 있습니다.\n",
        "```py\n",
        "df2 = df.set_index(keys='이름')\n",
        "df2\n",
        "```"
      ],
      "id": "b84b2c92"
    },
    {
      "cell_type": "markdown",
      "metadata": {
        "id": "7defb8f6"
      },
      "source": [
        "DataFrame 에서 정보를 다룰 때에는 `.iloc` 으로 행을, []로 열을, `loc` 으로 행 또는 열을 읽거나 쓸 수 있습니다.  \n",
        "이 때 주의할 점은 `iloc` 의 경우 정수 index $n$ 을 받아 $n$번째 행을 의미하는데, `loc` 의 경우에는 인덱스값을 받는다는 점입니다. 아래의 예시를 보면 알 수 있습니다.\n",
        "```py\n",
        "print(df.iloc[0])\n",
        "print('-'*20)\n",
        "print(df2.iloc[0])\n",
        "print('-'*20)\n",
        "print(df2.loc['정은비'])\n",
        "print('-'*20)\n",
        "print(df.loc[:,'e-mail'])\n",
        "print('-'*20)\n",
        "print(df2.loc['오영남','phone'])\n",
        "```"
      ],
      "id": "7defb8f6"
    },
    {
      "cell_type": "markdown",
      "metadata": {
        "id": "7eebf9f8"
      },
      "source": [
        "Dictionary 에 자료를 추가하듯이 DataFrame 에도 자료를 쉽게 추가할 수 있습니다.\n",
        "```py\n",
        "df['성'] = ['최','정','오','권']\n",
        "df\n",
        "```"
      ],
      "id": "7eebf9f8"
    },
    {
      "cell_type": "markdown",
      "metadata": {
        "id": "346df678"
      },
      "source": [
        "`.apply` 를 사용하면 특정한 열에 함수를 행별로 적용시킬 수도 있습니다."
      ],
      "id": "346df678"
    },
    {
      "cell_type": "markdown",
      "metadata": {
        "id": "c721f4d5"
      },
      "source": [
        "csv 로 저장된 파일을 `read_csv` 함수를 통해ㅎ DataFrame 으로 읽을 수 있습니다. 이 때 한글이 포함된 내용은 깨질 수 있으므로 `encoding` 옵션을 통해 한글을 읽을 수 있도록 해주어야 합니다."
      ],
      "id": "c721f4d5"
    },
    {
      "cell_type": "markdown",
      "metadata": {
        "id": "444f7229"
      },
      "source": [
        "자료를 확인하는 줄이 너무 길면 시간이 오래걸리므로 .head, .tail 로 시작, 끝 조금만 확인해볼 수 있습니다."
      ],
      "id": "444f7229"
    },
    {
      "cell_type": "markdown",
      "metadata": {
        "id": "4d85c3a4"
      },
      "source": [
        "mean, sum, describe 등 분석을 위한 함수들을 지원합니다."
      ],
      "id": "4d85c3a4"
    },
    {
      "cell_type": "markdown",
      "metadata": {
        "id": "6763b035"
      },
      "source": [
        "# os\n",
        "___\n",
        "파일을 읽거나 쓸 때 현재 경로, 폴더 탐색, 폴더 생성 등 커널정보와 관련된 작업을 할 때가 많은데, `os` 모듈에서 제공하는 함수로 대부분 해결할 수 있습니다. 주로 사용되는 함수는 다음과 같습니다.  \n",
        "\n",
        "|함수|내용|\n",
        "|--|--|\n",
        "|getcwd|현재경로위치|\n",
        "|listdir|현재위치의 파일목록|\n",
        "|path.join|경로 연결|\n",
        "|path.exists|폴더, 파일의 존재유무|\n",
        "|mkdir|폴더 생성|\n",
        "|rmdir|폴더 제거|"
      ],
      "id": "6763b035"
    },
    {
      "cell_type": "markdown",
      "metadata": {
        "id": "93d2d753"
      },
      "source": [
        "# cv2, matplotlib.pyplot, PIL Image\n",
        "___\n",
        "이미지 자료형을 다루기 위해서는 이미지를 읽고, 확인하고, 계산해 수정한 후 저장할 수 있어야 합니다. 이미지를 읽는 방법에는 여러가지가 있고 그들만의 특징이 있으나 여기서는 간단히 `cv2`, `matplotlib`, `PIL` 만을 알아보도록 합시다. 특히 `matplotlib` 와 `PIL` 은 `matplotlib.pyplot as plt`, `from PIL import Image` 로 많이 사용되니 참고합시다."
      ],
      "id": "93d2d753"
    },
    {
      "cell_type": "markdown",
      "metadata": {
        "id": "30192162"
      },
      "source": [
        "`cv2` 에서 이미지를 읽거나 쓸 때에는 `cv2.imread`, `cv2.imwrite` 를 사용합니다. 기본적으로 ndarray 자료형으로 읽게 되며 RGB 색상이 아닌 BGR 색상으로 읽기 때문에 `cv2.cvtColor` 함수를 통해 색공간을 바꿔주어야 하는 점과, 성분값을 `uint8, uint16` 등의 자료형으로 읽는 점을 유의해야 합니다.  \n",
        "또한 `cv2` 모듈의 경우 경로에 한글이 섞여있으면 작동하지 않을 수 있으니 조심합시다.\n",
        "```py\n",
        "img_cv = cv2.imread('./data/cat.jpg')\n",
        "print(type(img_cv), img_cv.dtype)\n",
        "```"
      ],
      "id": "30192162"
    },
    {
      "cell_type": "markdown",
      "metadata": {
        "id": "51c197f3"
      },
      "source": [
        "`plt` 에서 이미지를 읽거나 쓸 때에는 `plt.imread`, `plt.imsave` 를 사용합니다. `plt` 로 읽은 이미지는 ndarray 이지만 색공간은 `RGB` 로 `cv2` 와 다르다는 점을 유의합시다."
      ],
      "id": "51c197f3"
    },
    {
      "cell_type": "markdown",
      "metadata": {
        "id": "6364a34c"
      },
      "source": [
        "ndarray 로 저장된 이미지를 확인할 때에는 `plt.imshow` 를 사용해 그리고 `plt.show` 를 통해 출력합니다. 만약 한 셀에 여러장의 그림을 출력한다면 그릴때마다 출력해야 덮어쓰이지 않는다는 점을 유의합시다.\n",
        "\n",
        "```py\n",
        "plt.imshow(img_cv)\n",
        "plt.show()\n",
        "plt.imshow(img_plt)\n",
        "plt.show()\n",
        "img_cv2 = cv2.cvtColor(img_cv, cv2.COLOR_BGR2RGB)\n",
        "plt.imshow(img_cv2)\n",
        "plt.show()\n",
        "```"
      ],
      "id": "6364a34c"
    },
    {
      "cell_type": "markdown",
      "metadata": {
        "id": "73b2ecaa"
      },
      "source": [
        "`PIL` 의 `Image` 모듈로 이미지를 읽을 때에는 `Image.open` 또는 `image.save` 를 이용합니다. cv2 나 plt 와는 달리 `Image` 라는 자료형이 되지만 `PIL` 에서 제공하는 다양한 변환기능을 이용할 수 있다는 장점이 있습니다."
      ],
      "id": "73b2ecaa"
    },
    {
      "cell_type": "markdown",
      "metadata": {
        "id": "72c20e91"
      },
      "source": [
        "세 가지 모듈 모두 이미지의 크기, 기울기, 색상 등을 변환시키는 함수들을 제공합니다. 그러나 cv2 와 plt 가 색상을 읽는 방법이 달랐듯이 모듈마다 이미지를 다루는 방법(가로/세로의 순서, 색상순서 등등)이 다르기 때문에 자신이 사용하는 모듈이 어떤 것인지 잘 파악하는 것이 중요합니다."
      ],
      "id": "72c20e91"
    }
  ]
}