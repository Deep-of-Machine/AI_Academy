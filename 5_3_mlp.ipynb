{
  "nbformat": 4,
  "nbformat_minor": 0,
  "metadata": {
    "colab": {
      "name": "5-3_mlp.ipynb",
      "provenance": [],
      "collapsed_sections": [],
      "include_colab_link": true
    },
    "kernelspec": {
      "name": "python3",
      "display_name": "Python 3"
    },
    "language_info": {
      "name": "python"
    },
    "accelerator": "GPU",
    "widgets": {
      "application/vnd.jupyter.widget-state+json": {
        "076f0721d7ff4d19b164c082a392ca48": {
          "model_module": "@jupyter-widgets/controls",
          "model_name": "HBoxModel",
          "model_module_version": "1.5.0",
          "state": {
            "_view_name": "HBoxView",
            "_dom_classes": [],
            "_model_name": "HBoxModel",
            "_view_module": "@jupyter-widgets/controls",
            "_model_module_version": "1.5.0",
            "_view_count": null,
            "_view_module_version": "1.5.0",
            "box_style": "",
            "layout": "IPY_MODEL_159e971cbea54113aee7cf1286965cde",
            "_model_module": "@jupyter-widgets/controls",
            "children": [
              "IPY_MODEL_29d6297923dd47728a5038e686d48545",
              "IPY_MODEL_e163294cb91944a59172df4ceab76e00",
              "IPY_MODEL_5db1c0b3b34541c0925dba762e91b4f4"
            ]
          }
        },
        "159e971cbea54113aee7cf1286965cde": {
          "model_module": "@jupyter-widgets/base",
          "model_name": "LayoutModel",
          "model_module_version": "1.2.0",
          "state": {
            "_view_name": "LayoutView",
            "grid_template_rows": null,
            "right": null,
            "justify_content": null,
            "_view_module": "@jupyter-widgets/base",
            "overflow": null,
            "_model_module_version": "1.2.0",
            "_view_count": null,
            "flex_flow": null,
            "width": null,
            "min_width": null,
            "border": null,
            "align_items": null,
            "bottom": null,
            "_model_module": "@jupyter-widgets/base",
            "top": null,
            "grid_column": null,
            "overflow_y": null,
            "overflow_x": null,
            "grid_auto_flow": null,
            "grid_area": null,
            "grid_template_columns": null,
            "flex": null,
            "_model_name": "LayoutModel",
            "justify_items": null,
            "grid_row": null,
            "max_height": null,
            "align_content": null,
            "visibility": null,
            "align_self": null,
            "height": null,
            "min_height": null,
            "padding": null,
            "grid_auto_rows": null,
            "grid_gap": null,
            "max_width": null,
            "order": null,
            "_view_module_version": "1.2.0",
            "grid_template_areas": null,
            "object_position": null,
            "object_fit": null,
            "grid_auto_columns": null,
            "margin": null,
            "display": null,
            "left": null
          }
        },
        "29d6297923dd47728a5038e686d48545": {
          "model_module": "@jupyter-widgets/controls",
          "model_name": "HTMLModel",
          "model_module_version": "1.5.0",
          "state": {
            "_view_name": "HTMLView",
            "style": "IPY_MODEL_0abf202ed78f4e3e86cbf96441b73211",
            "_dom_classes": [],
            "description": "",
            "_model_name": "HTMLModel",
            "placeholder": "​",
            "_view_module": "@jupyter-widgets/controls",
            "_model_module_version": "1.5.0",
            "value": "",
            "_view_count": null,
            "_view_module_version": "1.5.0",
            "description_tooltip": null,
            "_model_module": "@jupyter-widgets/controls",
            "layout": "IPY_MODEL_79033e19e6c74eb584d8f2c1cbab3f79"
          }
        },
        "e163294cb91944a59172df4ceab76e00": {
          "model_module": "@jupyter-widgets/controls",
          "model_name": "FloatProgressModel",
          "model_module_version": "1.5.0",
          "state": {
            "_view_name": "ProgressView",
            "style": "IPY_MODEL_eb2a19b6b7804c8498cf546135107b95",
            "_dom_classes": [],
            "description": "",
            "_model_name": "FloatProgressModel",
            "bar_style": "success",
            "max": 9912422,
            "_view_module": "@jupyter-widgets/controls",
            "_model_module_version": "1.5.0",
            "value": 9912422,
            "_view_count": null,
            "_view_module_version": "1.5.0",
            "orientation": "horizontal",
            "min": 0,
            "description_tooltip": null,
            "_model_module": "@jupyter-widgets/controls",
            "layout": "IPY_MODEL_e53d7c661e8f4290b9c2950efd42696a"
          }
        },
        "5db1c0b3b34541c0925dba762e91b4f4": {
          "model_module": "@jupyter-widgets/controls",
          "model_name": "HTMLModel",
          "model_module_version": "1.5.0",
          "state": {
            "_view_name": "HTMLView",
            "style": "IPY_MODEL_273f479cd7ab4904864cb9cec31efb76",
            "_dom_classes": [],
            "description": "",
            "_model_name": "HTMLModel",
            "placeholder": "​",
            "_view_module": "@jupyter-widgets/controls",
            "_model_module_version": "1.5.0",
            "value": " 9913344/? [00:00&lt;00:00, 53854074.70it/s]",
            "_view_count": null,
            "_view_module_version": "1.5.0",
            "description_tooltip": null,
            "_model_module": "@jupyter-widgets/controls",
            "layout": "IPY_MODEL_79e0fb7c056645ac8e5abd46bff9e049"
          }
        },
        "0abf202ed78f4e3e86cbf96441b73211": {
          "model_module": "@jupyter-widgets/controls",
          "model_name": "DescriptionStyleModel",
          "model_module_version": "1.5.0",
          "state": {
            "_view_name": "StyleView",
            "_model_name": "DescriptionStyleModel",
            "description_width": "",
            "_view_module": "@jupyter-widgets/base",
            "_model_module_version": "1.5.0",
            "_view_count": null,
            "_view_module_version": "1.2.0",
            "_model_module": "@jupyter-widgets/controls"
          }
        },
        "79033e19e6c74eb584d8f2c1cbab3f79": {
          "model_module": "@jupyter-widgets/base",
          "model_name": "LayoutModel",
          "model_module_version": "1.2.0",
          "state": {
            "_view_name": "LayoutView",
            "grid_template_rows": null,
            "right": null,
            "justify_content": null,
            "_view_module": "@jupyter-widgets/base",
            "overflow": null,
            "_model_module_version": "1.2.0",
            "_view_count": null,
            "flex_flow": null,
            "width": null,
            "min_width": null,
            "border": null,
            "align_items": null,
            "bottom": null,
            "_model_module": "@jupyter-widgets/base",
            "top": null,
            "grid_column": null,
            "overflow_y": null,
            "overflow_x": null,
            "grid_auto_flow": null,
            "grid_area": null,
            "grid_template_columns": null,
            "flex": null,
            "_model_name": "LayoutModel",
            "justify_items": null,
            "grid_row": null,
            "max_height": null,
            "align_content": null,
            "visibility": null,
            "align_self": null,
            "height": null,
            "min_height": null,
            "padding": null,
            "grid_auto_rows": null,
            "grid_gap": null,
            "max_width": null,
            "order": null,
            "_view_module_version": "1.2.0",
            "grid_template_areas": null,
            "object_position": null,
            "object_fit": null,
            "grid_auto_columns": null,
            "margin": null,
            "display": null,
            "left": null
          }
        },
        "eb2a19b6b7804c8498cf546135107b95": {
          "model_module": "@jupyter-widgets/controls",
          "model_name": "ProgressStyleModel",
          "model_module_version": "1.5.0",
          "state": {
            "_view_name": "StyleView",
            "_model_name": "ProgressStyleModel",
            "description_width": "",
            "_view_module": "@jupyter-widgets/base",
            "_model_module_version": "1.5.0",
            "_view_count": null,
            "_view_module_version": "1.2.0",
            "bar_color": null,
            "_model_module": "@jupyter-widgets/controls"
          }
        },
        "e53d7c661e8f4290b9c2950efd42696a": {
          "model_module": "@jupyter-widgets/base",
          "model_name": "LayoutModel",
          "model_module_version": "1.2.0",
          "state": {
            "_view_name": "LayoutView",
            "grid_template_rows": null,
            "right": null,
            "justify_content": null,
            "_view_module": "@jupyter-widgets/base",
            "overflow": null,
            "_model_module_version": "1.2.0",
            "_view_count": null,
            "flex_flow": null,
            "width": null,
            "min_width": null,
            "border": null,
            "align_items": null,
            "bottom": null,
            "_model_module": "@jupyter-widgets/base",
            "top": null,
            "grid_column": null,
            "overflow_y": null,
            "overflow_x": null,
            "grid_auto_flow": null,
            "grid_area": null,
            "grid_template_columns": null,
            "flex": null,
            "_model_name": "LayoutModel",
            "justify_items": null,
            "grid_row": null,
            "max_height": null,
            "align_content": null,
            "visibility": null,
            "align_self": null,
            "height": null,
            "min_height": null,
            "padding": null,
            "grid_auto_rows": null,
            "grid_gap": null,
            "max_width": null,
            "order": null,
            "_view_module_version": "1.2.0",
            "grid_template_areas": null,
            "object_position": null,
            "object_fit": null,
            "grid_auto_columns": null,
            "margin": null,
            "display": null,
            "left": null
          }
        },
        "273f479cd7ab4904864cb9cec31efb76": {
          "model_module": "@jupyter-widgets/controls",
          "model_name": "DescriptionStyleModel",
          "model_module_version": "1.5.0",
          "state": {
            "_view_name": "StyleView",
            "_model_name": "DescriptionStyleModel",
            "description_width": "",
            "_view_module": "@jupyter-widgets/base",
            "_model_module_version": "1.5.0",
            "_view_count": null,
            "_view_module_version": "1.2.0",
            "_model_module": "@jupyter-widgets/controls"
          }
        },
        "79e0fb7c056645ac8e5abd46bff9e049": {
          "model_module": "@jupyter-widgets/base",
          "model_name": "LayoutModel",
          "model_module_version": "1.2.0",
          "state": {
            "_view_name": "LayoutView",
            "grid_template_rows": null,
            "right": null,
            "justify_content": null,
            "_view_module": "@jupyter-widgets/base",
            "overflow": null,
            "_model_module_version": "1.2.0",
            "_view_count": null,
            "flex_flow": null,
            "width": null,
            "min_width": null,
            "border": null,
            "align_items": null,
            "bottom": null,
            "_model_module": "@jupyter-widgets/base",
            "top": null,
            "grid_column": null,
            "overflow_y": null,
            "overflow_x": null,
            "grid_auto_flow": null,
            "grid_area": null,
            "grid_template_columns": null,
            "flex": null,
            "_model_name": "LayoutModel",
            "justify_items": null,
            "grid_row": null,
            "max_height": null,
            "align_content": null,
            "visibility": null,
            "align_self": null,
            "height": null,
            "min_height": null,
            "padding": null,
            "grid_auto_rows": null,
            "grid_gap": null,
            "max_width": null,
            "order": null,
            "_view_module_version": "1.2.0",
            "grid_template_areas": null,
            "object_position": null,
            "object_fit": null,
            "grid_auto_columns": null,
            "margin": null,
            "display": null,
            "left": null
          }
        },
        "668d6de34e32437099342e516f896dc4": {
          "model_module": "@jupyter-widgets/controls",
          "model_name": "HBoxModel",
          "model_module_version": "1.5.0",
          "state": {
            "_view_name": "HBoxView",
            "_dom_classes": [],
            "_model_name": "HBoxModel",
            "_view_module": "@jupyter-widgets/controls",
            "_model_module_version": "1.5.0",
            "_view_count": null,
            "_view_module_version": "1.5.0",
            "box_style": "",
            "layout": "IPY_MODEL_10c62f8d5c184a22a88cc5b9030c22c5",
            "_model_module": "@jupyter-widgets/controls",
            "children": [
              "IPY_MODEL_bd655d7256b0448192078fa173e9a56b",
              "IPY_MODEL_fc936feac46845ea910d75373b83ac67",
              "IPY_MODEL_5a26d559a33948409dda55f2a517b01c"
            ]
          }
        },
        "10c62f8d5c184a22a88cc5b9030c22c5": {
          "model_module": "@jupyter-widgets/base",
          "model_name": "LayoutModel",
          "model_module_version": "1.2.0",
          "state": {
            "_view_name": "LayoutView",
            "grid_template_rows": null,
            "right": null,
            "justify_content": null,
            "_view_module": "@jupyter-widgets/base",
            "overflow": null,
            "_model_module_version": "1.2.0",
            "_view_count": null,
            "flex_flow": null,
            "width": null,
            "min_width": null,
            "border": null,
            "align_items": null,
            "bottom": null,
            "_model_module": "@jupyter-widgets/base",
            "top": null,
            "grid_column": null,
            "overflow_y": null,
            "overflow_x": null,
            "grid_auto_flow": null,
            "grid_area": null,
            "grid_template_columns": null,
            "flex": null,
            "_model_name": "LayoutModel",
            "justify_items": null,
            "grid_row": null,
            "max_height": null,
            "align_content": null,
            "visibility": null,
            "align_self": null,
            "height": null,
            "min_height": null,
            "padding": null,
            "grid_auto_rows": null,
            "grid_gap": null,
            "max_width": null,
            "order": null,
            "_view_module_version": "1.2.0",
            "grid_template_areas": null,
            "object_position": null,
            "object_fit": null,
            "grid_auto_columns": null,
            "margin": null,
            "display": null,
            "left": null
          }
        },
        "bd655d7256b0448192078fa173e9a56b": {
          "model_module": "@jupyter-widgets/controls",
          "model_name": "HTMLModel",
          "model_module_version": "1.5.0",
          "state": {
            "_view_name": "HTMLView",
            "style": "IPY_MODEL_5f2814a06e1348aca0bc11f241098cd5",
            "_dom_classes": [],
            "description": "",
            "_model_name": "HTMLModel",
            "placeholder": "​",
            "_view_module": "@jupyter-widgets/controls",
            "_model_module_version": "1.5.0",
            "value": "",
            "_view_count": null,
            "_view_module_version": "1.5.0",
            "description_tooltip": null,
            "_model_module": "@jupyter-widgets/controls",
            "layout": "IPY_MODEL_3d6fa75d3e404e6d81aff707051411e9"
          }
        },
        "fc936feac46845ea910d75373b83ac67": {
          "model_module": "@jupyter-widgets/controls",
          "model_name": "FloatProgressModel",
          "model_module_version": "1.5.0",
          "state": {
            "_view_name": "ProgressView",
            "style": "IPY_MODEL_8f979ac8b5ab4968a15e36df2cf72ae9",
            "_dom_classes": [],
            "description": "",
            "_model_name": "FloatProgressModel",
            "bar_style": "success",
            "max": 28881,
            "_view_module": "@jupyter-widgets/controls",
            "_model_module_version": "1.5.0",
            "value": 28881,
            "_view_count": null,
            "_view_module_version": "1.5.0",
            "orientation": "horizontal",
            "min": 0,
            "description_tooltip": null,
            "_model_module": "@jupyter-widgets/controls",
            "layout": "IPY_MODEL_80e1d3ffe7204cf4b7c64274da402350"
          }
        },
        "5a26d559a33948409dda55f2a517b01c": {
          "model_module": "@jupyter-widgets/controls",
          "model_name": "HTMLModel",
          "model_module_version": "1.5.0",
          "state": {
            "_view_name": "HTMLView",
            "style": "IPY_MODEL_9f61c802459743b5932276aa63d96f56",
            "_dom_classes": [],
            "description": "",
            "_model_name": "HTMLModel",
            "placeholder": "​",
            "_view_module": "@jupyter-widgets/controls",
            "_model_module_version": "1.5.0",
            "value": " 29696/? [00:00&lt;00:00, 764923.67it/s]",
            "_view_count": null,
            "_view_module_version": "1.5.0",
            "description_tooltip": null,
            "_model_module": "@jupyter-widgets/controls",
            "layout": "IPY_MODEL_dcac28a2509145638b6811c09d381ef0"
          }
        },
        "5f2814a06e1348aca0bc11f241098cd5": {
          "model_module": "@jupyter-widgets/controls",
          "model_name": "DescriptionStyleModel",
          "model_module_version": "1.5.0",
          "state": {
            "_view_name": "StyleView",
            "_model_name": "DescriptionStyleModel",
            "description_width": "",
            "_view_module": "@jupyter-widgets/base",
            "_model_module_version": "1.5.0",
            "_view_count": null,
            "_view_module_version": "1.2.0",
            "_model_module": "@jupyter-widgets/controls"
          }
        },
        "3d6fa75d3e404e6d81aff707051411e9": {
          "model_module": "@jupyter-widgets/base",
          "model_name": "LayoutModel",
          "model_module_version": "1.2.0",
          "state": {
            "_view_name": "LayoutView",
            "grid_template_rows": null,
            "right": null,
            "justify_content": null,
            "_view_module": "@jupyter-widgets/base",
            "overflow": null,
            "_model_module_version": "1.2.0",
            "_view_count": null,
            "flex_flow": null,
            "width": null,
            "min_width": null,
            "border": null,
            "align_items": null,
            "bottom": null,
            "_model_module": "@jupyter-widgets/base",
            "top": null,
            "grid_column": null,
            "overflow_y": null,
            "overflow_x": null,
            "grid_auto_flow": null,
            "grid_area": null,
            "grid_template_columns": null,
            "flex": null,
            "_model_name": "LayoutModel",
            "justify_items": null,
            "grid_row": null,
            "max_height": null,
            "align_content": null,
            "visibility": null,
            "align_self": null,
            "height": null,
            "min_height": null,
            "padding": null,
            "grid_auto_rows": null,
            "grid_gap": null,
            "max_width": null,
            "order": null,
            "_view_module_version": "1.2.0",
            "grid_template_areas": null,
            "object_position": null,
            "object_fit": null,
            "grid_auto_columns": null,
            "margin": null,
            "display": null,
            "left": null
          }
        },
        "8f979ac8b5ab4968a15e36df2cf72ae9": {
          "model_module": "@jupyter-widgets/controls",
          "model_name": "ProgressStyleModel",
          "model_module_version": "1.5.0",
          "state": {
            "_view_name": "StyleView",
            "_model_name": "ProgressStyleModel",
            "description_width": "",
            "_view_module": "@jupyter-widgets/base",
            "_model_module_version": "1.5.0",
            "_view_count": null,
            "_view_module_version": "1.2.0",
            "bar_color": null,
            "_model_module": "@jupyter-widgets/controls"
          }
        },
        "80e1d3ffe7204cf4b7c64274da402350": {
          "model_module": "@jupyter-widgets/base",
          "model_name": "LayoutModel",
          "model_module_version": "1.2.0",
          "state": {
            "_view_name": "LayoutView",
            "grid_template_rows": null,
            "right": null,
            "justify_content": null,
            "_view_module": "@jupyter-widgets/base",
            "overflow": null,
            "_model_module_version": "1.2.0",
            "_view_count": null,
            "flex_flow": null,
            "width": null,
            "min_width": null,
            "border": null,
            "align_items": null,
            "bottom": null,
            "_model_module": "@jupyter-widgets/base",
            "top": null,
            "grid_column": null,
            "overflow_y": null,
            "overflow_x": null,
            "grid_auto_flow": null,
            "grid_area": null,
            "grid_template_columns": null,
            "flex": null,
            "_model_name": "LayoutModel",
            "justify_items": null,
            "grid_row": null,
            "max_height": null,
            "align_content": null,
            "visibility": null,
            "align_self": null,
            "height": null,
            "min_height": null,
            "padding": null,
            "grid_auto_rows": null,
            "grid_gap": null,
            "max_width": null,
            "order": null,
            "_view_module_version": "1.2.0",
            "grid_template_areas": null,
            "object_position": null,
            "object_fit": null,
            "grid_auto_columns": null,
            "margin": null,
            "display": null,
            "left": null
          }
        },
        "9f61c802459743b5932276aa63d96f56": {
          "model_module": "@jupyter-widgets/controls",
          "model_name": "DescriptionStyleModel",
          "model_module_version": "1.5.0",
          "state": {
            "_view_name": "StyleView",
            "_model_name": "DescriptionStyleModel",
            "description_width": "",
            "_view_module": "@jupyter-widgets/base",
            "_model_module_version": "1.5.0",
            "_view_count": null,
            "_view_module_version": "1.2.0",
            "_model_module": "@jupyter-widgets/controls"
          }
        },
        "dcac28a2509145638b6811c09d381ef0": {
          "model_module": "@jupyter-widgets/base",
          "model_name": "LayoutModel",
          "model_module_version": "1.2.0",
          "state": {
            "_view_name": "LayoutView",
            "grid_template_rows": null,
            "right": null,
            "justify_content": null,
            "_view_module": "@jupyter-widgets/base",
            "overflow": null,
            "_model_module_version": "1.2.0",
            "_view_count": null,
            "flex_flow": null,
            "width": null,
            "min_width": null,
            "border": null,
            "align_items": null,
            "bottom": null,
            "_model_module": "@jupyter-widgets/base",
            "top": null,
            "grid_column": null,
            "overflow_y": null,
            "overflow_x": null,
            "grid_auto_flow": null,
            "grid_area": null,
            "grid_template_columns": null,
            "flex": null,
            "_model_name": "LayoutModel",
            "justify_items": null,
            "grid_row": null,
            "max_height": null,
            "align_content": null,
            "visibility": null,
            "align_self": null,
            "height": null,
            "min_height": null,
            "padding": null,
            "grid_auto_rows": null,
            "grid_gap": null,
            "max_width": null,
            "order": null,
            "_view_module_version": "1.2.0",
            "grid_template_areas": null,
            "object_position": null,
            "object_fit": null,
            "grid_auto_columns": null,
            "margin": null,
            "display": null,
            "left": null
          }
        },
        "8fc10bbfbacb4a5db820f342c7bb3b56": {
          "model_module": "@jupyter-widgets/controls",
          "model_name": "HBoxModel",
          "model_module_version": "1.5.0",
          "state": {
            "_view_name": "HBoxView",
            "_dom_classes": [],
            "_model_name": "HBoxModel",
            "_view_module": "@jupyter-widgets/controls",
            "_model_module_version": "1.5.0",
            "_view_count": null,
            "_view_module_version": "1.5.0",
            "box_style": "",
            "layout": "IPY_MODEL_4a309af7976540248debe703447f1e75",
            "_model_module": "@jupyter-widgets/controls",
            "children": [
              "IPY_MODEL_f7b2c95e71a3467ba713720fd97efd5b",
              "IPY_MODEL_548c89465c3e48f0a11463cdb4844067",
              "IPY_MODEL_7b6764e16b6b462894fc6c576333abca"
            ]
          }
        },
        "4a309af7976540248debe703447f1e75": {
          "model_module": "@jupyter-widgets/base",
          "model_name": "LayoutModel",
          "model_module_version": "1.2.0",
          "state": {
            "_view_name": "LayoutView",
            "grid_template_rows": null,
            "right": null,
            "justify_content": null,
            "_view_module": "@jupyter-widgets/base",
            "overflow": null,
            "_model_module_version": "1.2.0",
            "_view_count": null,
            "flex_flow": null,
            "width": null,
            "min_width": null,
            "border": null,
            "align_items": null,
            "bottom": null,
            "_model_module": "@jupyter-widgets/base",
            "top": null,
            "grid_column": null,
            "overflow_y": null,
            "overflow_x": null,
            "grid_auto_flow": null,
            "grid_area": null,
            "grid_template_columns": null,
            "flex": null,
            "_model_name": "LayoutModel",
            "justify_items": null,
            "grid_row": null,
            "max_height": null,
            "align_content": null,
            "visibility": null,
            "align_self": null,
            "height": null,
            "min_height": null,
            "padding": null,
            "grid_auto_rows": null,
            "grid_gap": null,
            "max_width": null,
            "order": null,
            "_view_module_version": "1.2.0",
            "grid_template_areas": null,
            "object_position": null,
            "object_fit": null,
            "grid_auto_columns": null,
            "margin": null,
            "display": null,
            "left": null
          }
        },
        "f7b2c95e71a3467ba713720fd97efd5b": {
          "model_module": "@jupyter-widgets/controls",
          "model_name": "HTMLModel",
          "model_module_version": "1.5.0",
          "state": {
            "_view_name": "HTMLView",
            "style": "IPY_MODEL_cdf5bb41f26f4ad6ba500016594ff447",
            "_dom_classes": [],
            "description": "",
            "_model_name": "HTMLModel",
            "placeholder": "​",
            "_view_module": "@jupyter-widgets/controls",
            "_model_module_version": "1.5.0",
            "value": "",
            "_view_count": null,
            "_view_module_version": "1.5.0",
            "description_tooltip": null,
            "_model_module": "@jupyter-widgets/controls",
            "layout": "IPY_MODEL_ea6b6995ca0e447a8e46386fd519edd3"
          }
        },
        "548c89465c3e48f0a11463cdb4844067": {
          "model_module": "@jupyter-widgets/controls",
          "model_name": "FloatProgressModel",
          "model_module_version": "1.5.0",
          "state": {
            "_view_name": "ProgressView",
            "style": "IPY_MODEL_ab332dec0f9549bfafd89112ac0ff12f",
            "_dom_classes": [],
            "description": "",
            "_model_name": "FloatProgressModel",
            "bar_style": "success",
            "max": 1648877,
            "_view_module": "@jupyter-widgets/controls",
            "_model_module_version": "1.5.0",
            "value": 1648877,
            "_view_count": null,
            "_view_module_version": "1.5.0",
            "orientation": "horizontal",
            "min": 0,
            "description_tooltip": null,
            "_model_module": "@jupyter-widgets/controls",
            "layout": "IPY_MODEL_15f4d448699e4ef6af3b04f2ecea0aa3"
          }
        },
        "7b6764e16b6b462894fc6c576333abca": {
          "model_module": "@jupyter-widgets/controls",
          "model_name": "HTMLModel",
          "model_module_version": "1.5.0",
          "state": {
            "_view_name": "HTMLView",
            "style": "IPY_MODEL_9126a897e4d34676981644b55ec8eb77",
            "_dom_classes": [],
            "description": "",
            "_model_name": "HTMLModel",
            "placeholder": "​",
            "_view_module": "@jupyter-widgets/controls",
            "_model_module_version": "1.5.0",
            "value": " 1649664/? [00:00&lt;00:00, 17806535.44it/s]",
            "_view_count": null,
            "_view_module_version": "1.5.0",
            "description_tooltip": null,
            "_model_module": "@jupyter-widgets/controls",
            "layout": "IPY_MODEL_4366ca23f2ca46be9cb3dd000e51e1e4"
          }
        },
        "cdf5bb41f26f4ad6ba500016594ff447": {
          "model_module": "@jupyter-widgets/controls",
          "model_name": "DescriptionStyleModel",
          "model_module_version": "1.5.0",
          "state": {
            "_view_name": "StyleView",
            "_model_name": "DescriptionStyleModel",
            "description_width": "",
            "_view_module": "@jupyter-widgets/base",
            "_model_module_version": "1.5.0",
            "_view_count": null,
            "_view_module_version": "1.2.0",
            "_model_module": "@jupyter-widgets/controls"
          }
        },
        "ea6b6995ca0e447a8e46386fd519edd3": {
          "model_module": "@jupyter-widgets/base",
          "model_name": "LayoutModel",
          "model_module_version": "1.2.0",
          "state": {
            "_view_name": "LayoutView",
            "grid_template_rows": null,
            "right": null,
            "justify_content": null,
            "_view_module": "@jupyter-widgets/base",
            "overflow": null,
            "_model_module_version": "1.2.0",
            "_view_count": null,
            "flex_flow": null,
            "width": null,
            "min_width": null,
            "border": null,
            "align_items": null,
            "bottom": null,
            "_model_module": "@jupyter-widgets/base",
            "top": null,
            "grid_column": null,
            "overflow_y": null,
            "overflow_x": null,
            "grid_auto_flow": null,
            "grid_area": null,
            "grid_template_columns": null,
            "flex": null,
            "_model_name": "LayoutModel",
            "justify_items": null,
            "grid_row": null,
            "max_height": null,
            "align_content": null,
            "visibility": null,
            "align_self": null,
            "height": null,
            "min_height": null,
            "padding": null,
            "grid_auto_rows": null,
            "grid_gap": null,
            "max_width": null,
            "order": null,
            "_view_module_version": "1.2.0",
            "grid_template_areas": null,
            "object_position": null,
            "object_fit": null,
            "grid_auto_columns": null,
            "margin": null,
            "display": null,
            "left": null
          }
        },
        "ab332dec0f9549bfafd89112ac0ff12f": {
          "model_module": "@jupyter-widgets/controls",
          "model_name": "ProgressStyleModel",
          "model_module_version": "1.5.0",
          "state": {
            "_view_name": "StyleView",
            "_model_name": "ProgressStyleModel",
            "description_width": "",
            "_view_module": "@jupyter-widgets/base",
            "_model_module_version": "1.5.0",
            "_view_count": null,
            "_view_module_version": "1.2.0",
            "bar_color": null,
            "_model_module": "@jupyter-widgets/controls"
          }
        },
        "15f4d448699e4ef6af3b04f2ecea0aa3": {
          "model_module": "@jupyter-widgets/base",
          "model_name": "LayoutModel",
          "model_module_version": "1.2.0",
          "state": {
            "_view_name": "LayoutView",
            "grid_template_rows": null,
            "right": null,
            "justify_content": null,
            "_view_module": "@jupyter-widgets/base",
            "overflow": null,
            "_model_module_version": "1.2.0",
            "_view_count": null,
            "flex_flow": null,
            "width": null,
            "min_width": null,
            "border": null,
            "align_items": null,
            "bottom": null,
            "_model_module": "@jupyter-widgets/base",
            "top": null,
            "grid_column": null,
            "overflow_y": null,
            "overflow_x": null,
            "grid_auto_flow": null,
            "grid_area": null,
            "grid_template_columns": null,
            "flex": null,
            "_model_name": "LayoutModel",
            "justify_items": null,
            "grid_row": null,
            "max_height": null,
            "align_content": null,
            "visibility": null,
            "align_self": null,
            "height": null,
            "min_height": null,
            "padding": null,
            "grid_auto_rows": null,
            "grid_gap": null,
            "max_width": null,
            "order": null,
            "_view_module_version": "1.2.0",
            "grid_template_areas": null,
            "object_position": null,
            "object_fit": null,
            "grid_auto_columns": null,
            "margin": null,
            "display": null,
            "left": null
          }
        },
        "9126a897e4d34676981644b55ec8eb77": {
          "model_module": "@jupyter-widgets/controls",
          "model_name": "DescriptionStyleModel",
          "model_module_version": "1.5.0",
          "state": {
            "_view_name": "StyleView",
            "_model_name": "DescriptionStyleModel",
            "description_width": "",
            "_view_module": "@jupyter-widgets/base",
            "_model_module_version": "1.5.0",
            "_view_count": null,
            "_view_module_version": "1.2.0",
            "_model_module": "@jupyter-widgets/controls"
          }
        },
        "4366ca23f2ca46be9cb3dd000e51e1e4": {
          "model_module": "@jupyter-widgets/base",
          "model_name": "LayoutModel",
          "model_module_version": "1.2.0",
          "state": {
            "_view_name": "LayoutView",
            "grid_template_rows": null,
            "right": null,
            "justify_content": null,
            "_view_module": "@jupyter-widgets/base",
            "overflow": null,
            "_model_module_version": "1.2.0",
            "_view_count": null,
            "flex_flow": null,
            "width": null,
            "min_width": null,
            "border": null,
            "align_items": null,
            "bottom": null,
            "_model_module": "@jupyter-widgets/base",
            "top": null,
            "grid_column": null,
            "overflow_y": null,
            "overflow_x": null,
            "grid_auto_flow": null,
            "grid_area": null,
            "grid_template_columns": null,
            "flex": null,
            "_model_name": "LayoutModel",
            "justify_items": null,
            "grid_row": null,
            "max_height": null,
            "align_content": null,
            "visibility": null,
            "align_self": null,
            "height": null,
            "min_height": null,
            "padding": null,
            "grid_auto_rows": null,
            "grid_gap": null,
            "max_width": null,
            "order": null,
            "_view_module_version": "1.2.0",
            "grid_template_areas": null,
            "object_position": null,
            "object_fit": null,
            "grid_auto_columns": null,
            "margin": null,
            "display": null,
            "left": null
          }
        },
        "befdf689779345c5a0be3c12f81bc39f": {
          "model_module": "@jupyter-widgets/controls",
          "model_name": "HBoxModel",
          "model_module_version": "1.5.0",
          "state": {
            "_view_name": "HBoxView",
            "_dom_classes": [],
            "_model_name": "HBoxModel",
            "_view_module": "@jupyter-widgets/controls",
            "_model_module_version": "1.5.0",
            "_view_count": null,
            "_view_module_version": "1.5.0",
            "box_style": "",
            "layout": "IPY_MODEL_0d076ced7c104da1be1b92e20e557f9f",
            "_model_module": "@jupyter-widgets/controls",
            "children": [
              "IPY_MODEL_0f9fc68514484bf2954d6be5bc6dfa68",
              "IPY_MODEL_15babd6c2bd848ceb528eedb30d5a3f1",
              "IPY_MODEL_568922077ba44b4994e8c1fca00fc068"
            ]
          }
        },
        "0d076ced7c104da1be1b92e20e557f9f": {
          "model_module": "@jupyter-widgets/base",
          "model_name": "LayoutModel",
          "model_module_version": "1.2.0",
          "state": {
            "_view_name": "LayoutView",
            "grid_template_rows": null,
            "right": null,
            "justify_content": null,
            "_view_module": "@jupyter-widgets/base",
            "overflow": null,
            "_model_module_version": "1.2.0",
            "_view_count": null,
            "flex_flow": null,
            "width": null,
            "min_width": null,
            "border": null,
            "align_items": null,
            "bottom": null,
            "_model_module": "@jupyter-widgets/base",
            "top": null,
            "grid_column": null,
            "overflow_y": null,
            "overflow_x": null,
            "grid_auto_flow": null,
            "grid_area": null,
            "grid_template_columns": null,
            "flex": null,
            "_model_name": "LayoutModel",
            "justify_items": null,
            "grid_row": null,
            "max_height": null,
            "align_content": null,
            "visibility": null,
            "align_self": null,
            "height": null,
            "min_height": null,
            "padding": null,
            "grid_auto_rows": null,
            "grid_gap": null,
            "max_width": null,
            "order": null,
            "_view_module_version": "1.2.0",
            "grid_template_areas": null,
            "object_position": null,
            "object_fit": null,
            "grid_auto_columns": null,
            "margin": null,
            "display": null,
            "left": null
          }
        },
        "0f9fc68514484bf2954d6be5bc6dfa68": {
          "model_module": "@jupyter-widgets/controls",
          "model_name": "HTMLModel",
          "model_module_version": "1.5.0",
          "state": {
            "_view_name": "HTMLView",
            "style": "IPY_MODEL_ded28fde4f6642fcbbc8767c6b42e0fe",
            "_dom_classes": [],
            "description": "",
            "_model_name": "HTMLModel",
            "placeholder": "​",
            "_view_module": "@jupyter-widgets/controls",
            "_model_module_version": "1.5.0",
            "value": "",
            "_view_count": null,
            "_view_module_version": "1.5.0",
            "description_tooltip": null,
            "_model_module": "@jupyter-widgets/controls",
            "layout": "IPY_MODEL_10a49b88af6b49efb9c1768f597379bb"
          }
        },
        "15babd6c2bd848ceb528eedb30d5a3f1": {
          "model_module": "@jupyter-widgets/controls",
          "model_name": "FloatProgressModel",
          "model_module_version": "1.5.0",
          "state": {
            "_view_name": "ProgressView",
            "style": "IPY_MODEL_ddd098dd5e5b450888f9a46cea647a66",
            "_dom_classes": [],
            "description": "",
            "_model_name": "FloatProgressModel",
            "bar_style": "success",
            "max": 4542,
            "_view_module": "@jupyter-widgets/controls",
            "_model_module_version": "1.5.0",
            "value": 4542,
            "_view_count": null,
            "_view_module_version": "1.5.0",
            "orientation": "horizontal",
            "min": 0,
            "description_tooltip": null,
            "_model_module": "@jupyter-widgets/controls",
            "layout": "IPY_MODEL_3c08264852a74a1caf781370866e61f6"
          }
        },
        "568922077ba44b4994e8c1fca00fc068": {
          "model_module": "@jupyter-widgets/controls",
          "model_name": "HTMLModel",
          "model_module_version": "1.5.0",
          "state": {
            "_view_name": "HTMLView",
            "style": "IPY_MODEL_e9bfe2ed91714415b92278b0ce42f525",
            "_dom_classes": [],
            "description": "",
            "_model_name": "HTMLModel",
            "placeholder": "​",
            "_view_module": "@jupyter-widgets/controls",
            "_model_module_version": "1.5.0",
            "value": " 5120/? [00:00&lt;00:00, 117046.94it/s]",
            "_view_count": null,
            "_view_module_version": "1.5.0",
            "description_tooltip": null,
            "_model_module": "@jupyter-widgets/controls",
            "layout": "IPY_MODEL_8246517233534cd1b65e967aa7759b35"
          }
        },
        "ded28fde4f6642fcbbc8767c6b42e0fe": {
          "model_module": "@jupyter-widgets/controls",
          "model_name": "DescriptionStyleModel",
          "model_module_version": "1.5.0",
          "state": {
            "_view_name": "StyleView",
            "_model_name": "DescriptionStyleModel",
            "description_width": "",
            "_view_module": "@jupyter-widgets/base",
            "_model_module_version": "1.5.0",
            "_view_count": null,
            "_view_module_version": "1.2.0",
            "_model_module": "@jupyter-widgets/controls"
          }
        },
        "10a49b88af6b49efb9c1768f597379bb": {
          "model_module": "@jupyter-widgets/base",
          "model_name": "LayoutModel",
          "model_module_version": "1.2.0",
          "state": {
            "_view_name": "LayoutView",
            "grid_template_rows": null,
            "right": null,
            "justify_content": null,
            "_view_module": "@jupyter-widgets/base",
            "overflow": null,
            "_model_module_version": "1.2.0",
            "_view_count": null,
            "flex_flow": null,
            "width": null,
            "min_width": null,
            "border": null,
            "align_items": null,
            "bottom": null,
            "_model_module": "@jupyter-widgets/base",
            "top": null,
            "grid_column": null,
            "overflow_y": null,
            "overflow_x": null,
            "grid_auto_flow": null,
            "grid_area": null,
            "grid_template_columns": null,
            "flex": null,
            "_model_name": "LayoutModel",
            "justify_items": null,
            "grid_row": null,
            "max_height": null,
            "align_content": null,
            "visibility": null,
            "align_self": null,
            "height": null,
            "min_height": null,
            "padding": null,
            "grid_auto_rows": null,
            "grid_gap": null,
            "max_width": null,
            "order": null,
            "_view_module_version": "1.2.0",
            "grid_template_areas": null,
            "object_position": null,
            "object_fit": null,
            "grid_auto_columns": null,
            "margin": null,
            "display": null,
            "left": null
          }
        },
        "ddd098dd5e5b450888f9a46cea647a66": {
          "model_module": "@jupyter-widgets/controls",
          "model_name": "ProgressStyleModel",
          "model_module_version": "1.5.0",
          "state": {
            "_view_name": "StyleView",
            "_model_name": "ProgressStyleModel",
            "description_width": "",
            "_view_module": "@jupyter-widgets/base",
            "_model_module_version": "1.5.0",
            "_view_count": null,
            "_view_module_version": "1.2.0",
            "bar_color": null,
            "_model_module": "@jupyter-widgets/controls"
          }
        },
        "3c08264852a74a1caf781370866e61f6": {
          "model_module": "@jupyter-widgets/base",
          "model_name": "LayoutModel",
          "model_module_version": "1.2.0",
          "state": {
            "_view_name": "LayoutView",
            "grid_template_rows": null,
            "right": null,
            "justify_content": null,
            "_view_module": "@jupyter-widgets/base",
            "overflow": null,
            "_model_module_version": "1.2.0",
            "_view_count": null,
            "flex_flow": null,
            "width": null,
            "min_width": null,
            "border": null,
            "align_items": null,
            "bottom": null,
            "_model_module": "@jupyter-widgets/base",
            "top": null,
            "grid_column": null,
            "overflow_y": null,
            "overflow_x": null,
            "grid_auto_flow": null,
            "grid_area": null,
            "grid_template_columns": null,
            "flex": null,
            "_model_name": "LayoutModel",
            "justify_items": null,
            "grid_row": null,
            "max_height": null,
            "align_content": null,
            "visibility": null,
            "align_self": null,
            "height": null,
            "min_height": null,
            "padding": null,
            "grid_auto_rows": null,
            "grid_gap": null,
            "max_width": null,
            "order": null,
            "_view_module_version": "1.2.0",
            "grid_template_areas": null,
            "object_position": null,
            "object_fit": null,
            "grid_auto_columns": null,
            "margin": null,
            "display": null,
            "left": null
          }
        },
        "e9bfe2ed91714415b92278b0ce42f525": {
          "model_module": "@jupyter-widgets/controls",
          "model_name": "DescriptionStyleModel",
          "model_module_version": "1.5.0",
          "state": {
            "_view_name": "StyleView",
            "_model_name": "DescriptionStyleModel",
            "description_width": "",
            "_view_module": "@jupyter-widgets/base",
            "_model_module_version": "1.5.0",
            "_view_count": null,
            "_view_module_version": "1.2.0",
            "_model_module": "@jupyter-widgets/controls"
          }
        },
        "8246517233534cd1b65e967aa7759b35": {
          "model_module": "@jupyter-widgets/base",
          "model_name": "LayoutModel",
          "model_module_version": "1.2.0",
          "state": {
            "_view_name": "LayoutView",
            "grid_template_rows": null,
            "right": null,
            "justify_content": null,
            "_view_module": "@jupyter-widgets/base",
            "overflow": null,
            "_model_module_version": "1.2.0",
            "_view_count": null,
            "flex_flow": null,
            "width": null,
            "min_width": null,
            "border": null,
            "align_items": null,
            "bottom": null,
            "_model_module": "@jupyter-widgets/base",
            "top": null,
            "grid_column": null,
            "overflow_y": null,
            "overflow_x": null,
            "grid_auto_flow": null,
            "grid_area": null,
            "grid_template_columns": null,
            "flex": null,
            "_model_name": "LayoutModel",
            "justify_items": null,
            "grid_row": null,
            "max_height": null,
            "align_content": null,
            "visibility": null,
            "align_self": null,
            "height": null,
            "min_height": null,
            "padding": null,
            "grid_auto_rows": null,
            "grid_gap": null,
            "max_width": null,
            "order": null,
            "_view_module_version": "1.2.0",
            "grid_template_areas": null,
            "object_position": null,
            "object_fit": null,
            "grid_auto_columns": null,
            "margin": null,
            "display": null,
            "left": null
          }
        }
      }
    }
  },
  "cells": [
    {
      "cell_type": "markdown",
      "metadata": {
        "id": "view-in-github",
        "colab_type": "text"
      },
      "source": [
        "<a href=\"https://colab.research.google.com/github/Deep-of-Machine/AI_Academy/blob/main/5_3_mlp.ipynb\" target=\"_parent\"><img src=\"https://colab.research.google.com/assets/colab-badge.svg\" alt=\"Open In Colab\"/></a>"
      ]
    },
    {
      "cell_type": "markdown",
      "metadata": {
        "id": "qtJucaGJfLZ9"
      },
      "source": [
        "# PyTorch를 사용한 MLP 구현"
      ]
    },
    {
      "cell_type": "code",
      "metadata": {
        "id": "-WjzwbAprbmg"
      },
      "source": [
        "import os\n",
        "import numpy as np\n",
        "import matplotlib.pyplot as plt\n",
        "import time\n",
        "import torch"
      ],
      "execution_count": 1,
      "outputs": []
    },
    {
      "cell_type": "markdown",
      "metadata": {
        "id": "QZM90fChX-aE"
      },
      "source": [
        "## CPU로 학습"
      ]
    },
    {
      "cell_type": "code",
      "metadata": {
        "id": "3YMzCdom2jSC",
        "colab": {
          "base_uri": "https://localhost:8080/"
        },
        "outputId": "182351d5-6657-4142-9744-f37533741ab7"
      },
      "source": [
        "torch.cuda.is_available()"
      ],
      "execution_count": 2,
      "outputs": [
        {
          "output_type": "execute_result",
          "data": {
            "text/plain": [
              "True"
            ]
          },
          "metadata": {},
          "execution_count": 2
        }
      ]
    },
    {
      "cell_type": "markdown",
      "metadata": {
        "id": "Mn7pawZaYDR_"
      },
      "source": [
        "## 데이터셋 전처리와 다운로드\n",
        "torchvision : PyTorch와 밀접한 연관이 있는 라이브러리. 이미지와 비디오를 다루는 여러 도구를 제공    \n",
        "https://pytorch.org/vision/stable/index.html 에서 torchvision 등의 설명 확인 가능    \n",
        "datasets.MNIST(PATH, transform) : 인터넷에서 MNIST 데이터셋을 다운로드해서 'PATH'에 저장.    \n",
        "transforms.ToTensor() : 텐서 형식으로 변형    "
      ]
    },
    {
      "cell_type": "code",
      "metadata": {
        "id": "_rYhXYSFr7zp",
        "colab": {
          "base_uri": "https://localhost:8080/",
          "height": 489,
          "referenced_widgets": [
            "076f0721d7ff4d19b164c082a392ca48",
            "159e971cbea54113aee7cf1286965cde",
            "29d6297923dd47728a5038e686d48545",
            "e163294cb91944a59172df4ceab76e00",
            "5db1c0b3b34541c0925dba762e91b4f4",
            "0abf202ed78f4e3e86cbf96441b73211",
            "79033e19e6c74eb584d8f2c1cbab3f79",
            "eb2a19b6b7804c8498cf546135107b95",
            "e53d7c661e8f4290b9c2950efd42696a",
            "273f479cd7ab4904864cb9cec31efb76",
            "79e0fb7c056645ac8e5abd46bff9e049",
            "668d6de34e32437099342e516f896dc4",
            "10c62f8d5c184a22a88cc5b9030c22c5",
            "bd655d7256b0448192078fa173e9a56b",
            "fc936feac46845ea910d75373b83ac67",
            "5a26d559a33948409dda55f2a517b01c",
            "5f2814a06e1348aca0bc11f241098cd5",
            "3d6fa75d3e404e6d81aff707051411e9",
            "8f979ac8b5ab4968a15e36df2cf72ae9",
            "80e1d3ffe7204cf4b7c64274da402350",
            "9f61c802459743b5932276aa63d96f56",
            "dcac28a2509145638b6811c09d381ef0",
            "8fc10bbfbacb4a5db820f342c7bb3b56",
            "4a309af7976540248debe703447f1e75",
            "f7b2c95e71a3467ba713720fd97efd5b",
            "548c89465c3e48f0a11463cdb4844067",
            "7b6764e16b6b462894fc6c576333abca",
            "cdf5bb41f26f4ad6ba500016594ff447",
            "ea6b6995ca0e447a8e46386fd519edd3",
            "ab332dec0f9549bfafd89112ac0ff12f",
            "15f4d448699e4ef6af3b04f2ecea0aa3",
            "9126a897e4d34676981644b55ec8eb77",
            "4366ca23f2ca46be9cb3dd000e51e1e4",
            "befdf689779345c5a0be3c12f81bc39f",
            "0d076ced7c104da1be1b92e20e557f9f",
            "0f9fc68514484bf2954d6be5bc6dfa68",
            "15babd6c2bd848ceb528eedb30d5a3f1",
            "568922077ba44b4994e8c1fca00fc068",
            "ded28fde4f6642fcbbc8767c6b42e0fe",
            "10a49b88af6b49efb9c1768f597379bb",
            "ddd098dd5e5b450888f9a46cea647a66",
            "3c08264852a74a1caf781370866e61f6",
            "e9bfe2ed91714415b92278b0ce42f525",
            "8246517233534cd1b65e967aa7759b35"
          ]
        },
        "outputId": "1487f407-fca1-4fdd-936d-2dc9ff092994"
      },
      "source": [
        "from torchvision import datasets, transforms\n",
        "train_dataset = datasets.MNIST(root = './data', train = True, download = True, transform = transforms.ToTensor())\n",
        "test_dataset = datasets.MNIST(root = './data', train = False, download = True, transform = transforms.ToTensor())"
      ],
      "execution_count": 3,
      "outputs": [
        {
          "output_type": "stream",
          "name": "stdout",
          "text": [
            "Downloading http://yann.lecun.com/exdb/mnist/train-images-idx3-ubyte.gz\n",
            "Downloading http://yann.lecun.com/exdb/mnist/train-images-idx3-ubyte.gz to ./data/MNIST/raw/train-images-idx3-ubyte.gz\n"
          ]
        },
        {
          "output_type": "display_data",
          "data": {
            "application/vnd.jupyter.widget-view+json": {
              "model_id": "076f0721d7ff4d19b164c082a392ca48",
              "version_minor": 0,
              "version_major": 2
            },
            "text/plain": [
              "  0%|          | 0/9912422 [00:00<?, ?it/s]"
            ]
          },
          "metadata": {}
        },
        {
          "output_type": "stream",
          "name": "stdout",
          "text": [
            "Extracting ./data/MNIST/raw/train-images-idx3-ubyte.gz to ./data/MNIST/raw\n",
            "\n",
            "Downloading http://yann.lecun.com/exdb/mnist/train-labels-idx1-ubyte.gz\n",
            "Downloading http://yann.lecun.com/exdb/mnist/train-labels-idx1-ubyte.gz to ./data/MNIST/raw/train-labels-idx1-ubyte.gz\n"
          ]
        },
        {
          "output_type": "display_data",
          "data": {
            "application/vnd.jupyter.widget-view+json": {
              "model_id": "668d6de34e32437099342e516f896dc4",
              "version_minor": 0,
              "version_major": 2
            },
            "text/plain": [
              "  0%|          | 0/28881 [00:00<?, ?it/s]"
            ]
          },
          "metadata": {}
        },
        {
          "output_type": "stream",
          "name": "stdout",
          "text": [
            "Extracting ./data/MNIST/raw/train-labels-idx1-ubyte.gz to ./data/MNIST/raw\n",
            "\n",
            "Downloading http://yann.lecun.com/exdb/mnist/t10k-images-idx3-ubyte.gz\n",
            "Downloading http://yann.lecun.com/exdb/mnist/t10k-images-idx3-ubyte.gz to ./data/MNIST/raw/t10k-images-idx3-ubyte.gz\n"
          ]
        },
        {
          "output_type": "display_data",
          "data": {
            "application/vnd.jupyter.widget-view+json": {
              "model_id": "8fc10bbfbacb4a5db820f342c7bb3b56",
              "version_minor": 0,
              "version_major": 2
            },
            "text/plain": [
              "  0%|          | 0/1648877 [00:00<?, ?it/s]"
            ]
          },
          "metadata": {}
        },
        {
          "output_type": "stream",
          "name": "stdout",
          "text": [
            "Extracting ./data/MNIST/raw/t10k-images-idx3-ubyte.gz to ./data/MNIST/raw\n",
            "\n",
            "Downloading http://yann.lecun.com/exdb/mnist/t10k-labels-idx1-ubyte.gz\n",
            "Downloading http://yann.lecun.com/exdb/mnist/t10k-labels-idx1-ubyte.gz to ./data/MNIST/raw/t10k-labels-idx1-ubyte.gz\n"
          ]
        },
        {
          "output_type": "display_data",
          "data": {
            "application/vnd.jupyter.widget-view+json": {
              "model_id": "befdf689779345c5a0be3c12f81bc39f",
              "version_minor": 0,
              "version_major": 2
            },
            "text/plain": [
              "  0%|          | 0/4542 [00:00<?, ?it/s]"
            ]
          },
          "metadata": {}
        },
        {
          "output_type": "stream",
          "name": "stdout",
          "text": [
            "Extracting ./data/MNIST/raw/t10k-labels-idx1-ubyte.gz to ./data/MNIST/raw\n",
            "\n"
          ]
        },
        {
          "output_type": "stream",
          "name": "stderr",
          "text": [
            "/usr/local/lib/python3.7/dist-packages/torchvision/datasets/mnist.py:498: UserWarning: The given NumPy array is not writeable, and PyTorch does not support non-writeable tensors. This means you can write to the underlying (supposedly non-writeable) NumPy array using the tensor. You may want to copy the array to protect its data or make it writeable before converting it to a tensor. This type of warning will be suppressed for the rest of this program. (Triggered internally at  /pytorch/torch/csrc/utils/tensor_numpy.cpp:180.)\n",
            "  return torch.from_numpy(parsed.astype(m[2], copy=False)).view(*s)\n"
          ]
        }
      ]
    },
    {
      "cell_type": "markdown",
      "metadata": {
        "id": "hbB9QMzNLcTr"
      },
      "source": [
        "지정한 경로에 제대로 다운 받았는지 확인"
      ]
    },
    {
      "cell_type": "code",
      "metadata": {
        "id": "M7eiivEtjq15",
        "colab": {
          "base_uri": "https://localhost:8080/"
        },
        "outputId": "c18cec94-2169-43b0-f912-83a4f8f947b4"
      },
      "source": [
        "os.listdir('/content/data')"
      ],
      "execution_count": 4,
      "outputs": [
        {
          "output_type": "execute_result",
          "data": {
            "text/plain": [
              "['MNIST']"
            ]
          },
          "metadata": {},
          "execution_count": 4
        }
      ]
    },
    {
      "cell_type": "code",
      "metadata": {
        "id": "DHlEp-RstIwJ",
        "colab": {
          "base_uri": "https://localhost:8080/"
        },
        "outputId": "692c1c46-8db8-47a9-e6a4-730462830506"
      },
      "source": [
        "train_dataset"
      ],
      "execution_count": 5,
      "outputs": [
        {
          "output_type": "execute_result",
          "data": {
            "text/plain": [
              "Dataset MNIST\n",
              "    Number of datapoints: 60000\n",
              "    Root location: ./data\n",
              "    Split: Train\n",
              "    StandardTransform\n",
              "Transform: ToTensor()"
            ]
          },
          "metadata": {},
          "execution_count": 5
        }
      ]
    },
    {
      "cell_type": "markdown",
      "metadata": {
        "id": "Z-7ENtKeYQM9"
      },
      "source": [
        "## 데이터로더\n",
        "학습에 사용하기 위한 데이터를 **미니 배치 사이즈 만큼** 가져와서 사용하기 위한 함수"
      ]
    },
    {
      "cell_type": "code",
      "metadata": {
        "id": "rmeXDr1htX3I"
      },
      "source": [
        "from torch.utils.data import DataLoader\n",
        "train_loader = DataLoader(train_dataset, batch_size=64, shuffle=True)\n",
        "test_loader = DataLoader(test_dataset, batch_size=64, shuffle=False)"
      ],
      "execution_count": 6,
      "outputs": []
    },
    {
      "cell_type": "markdown",
      "metadata": {
        "id": "yXVp6Ws4k1Ij"
      },
      "source": [
        "이미지의 미니 배치는 (배치 사이즈, 채널, 높이, 폭)의 모양으로 주어진다.    \n",
        "신경망의 입력으로 사용할 때도 이와 같은 모양을 사용해야 한다."
      ]
    },
    {
      "cell_type": "markdown",
      "metadata": {
        "id": "qkCnnoMxfpyW"
      },
      "source": [
        "첫번째 배치 확인"
      ]
    },
    {
      "cell_type": "code",
      "metadata": {
        "id": "w8Z8yIUV2mBZ",
        "colab": {
          "base_uri": "https://localhost:8080/"
        },
        "outputId": "2140cbc9-809c-4ccd-fb7f-2ec1ccb05a07"
      },
      "source": [
        "for mini_batch in train_loader:\n",
        "    first_batch = mini_batch\n",
        "\n",
        "    break\n",
        "\n",
        "print(type(first_batch))"
      ],
      "execution_count": 7,
      "outputs": [
        {
          "output_type": "stream",
          "name": "stdout",
          "text": [
            "<class 'list'>\n"
          ]
        }
      ]
    },
    {
      "cell_type": "code",
      "metadata": {
        "id": "BJ8fqKpD4Amj",
        "colab": {
          "base_uri": "https://localhost:8080/"
        },
        "outputId": "54f4cabe-0db8-4560-f94f-95e18126a8ab"
      },
      "source": [
        "print(len(first_batch))"
      ],
      "execution_count": 8,
      "outputs": [
        {
          "output_type": "stream",
          "name": "stdout",
          "text": [
            "2\n"
          ]
        }
      ]
    },
    {
      "cell_type": "markdown",
      "metadata": {
        "id": "3FdJsckLn14K"
      },
      "source": [
        "첫번째 배치에서 이미지와 라벨을 분리"
      ]
    },
    {
      "cell_type": "code",
      "metadata": {
        "id": "uotUdRoA3vdN",
        "colab": {
          "base_uri": "https://localhost:8080/"
        },
        "outputId": "8dec23e2-66d7-465a-bfe9-658d73644d6a"
      },
      "source": [
        "print(type(first_batch[0]))\n",
        "print(type(first_batch[1]))"
      ],
      "execution_count": 9,
      "outputs": [
        {
          "output_type": "stream",
          "name": "stdout",
          "text": [
            "<class 'torch.Tensor'>\n",
            "<class 'torch.Tensor'>\n"
          ]
        }
      ]
    },
    {
      "cell_type": "code",
      "metadata": {
        "id": "OBcQhm3Z4GvK",
        "colab": {
          "base_uri": "https://localhost:8080/"
        },
        "outputId": "78c86b65-e127-486f-d9db-35ecea73c992"
      },
      "source": [
        "print(first_batch[0].shape)\n",
        "print(first_batch[1].shape)"
      ],
      "execution_count": 10,
      "outputs": [
        {
          "output_type": "stream",
          "name": "stdout",
          "text": [
            "torch.Size([64, 1, 28, 28])\n",
            "torch.Size([64])\n"
          ]
        }
      ]
    },
    {
      "cell_type": "code",
      "metadata": {
        "id": "Ldm0_9SWuWmq"
      },
      "source": [
        "image, label = first_batch[0], first_batch[1]"
      ],
      "execution_count": 11,
      "outputs": []
    },
    {
      "cell_type": "code",
      "metadata": {
        "id": "gJo80wXe4VYl",
        "colab": {
          "base_uri": "https://localhost:8080/"
        },
        "outputId": "a0a62c88-74c2-424b-f1d1-5886a3dbfc28"
      },
      "source": [
        "print(image[0].shape)"
      ],
      "execution_count": 12,
      "outputs": [
        {
          "output_type": "stream",
          "name": "stdout",
          "text": [
            "torch.Size([1, 28, 28])\n"
          ]
        }
      ]
    },
    {
      "cell_type": "code",
      "metadata": {
        "id": "Dibv5LVMoVaD",
        "colab": {
          "base_uri": "https://localhost:8080/"
        },
        "outputId": "7b5d9b5b-5754-4410-b036-ca5caf44a490"
      },
      "source": [
        "print(image[0].squeeze().shape)"
      ],
      "execution_count": 13,
      "outputs": [
        {
          "output_type": "stream",
          "name": "stdout",
          "text": [
            "torch.Size([28, 28])\n"
          ]
        }
      ]
    },
    {
      "cell_type": "markdown",
      "metadata": {
        "id": "uSqp9HU1qdlS"
      },
      "source": [
        "이미지를 출력하기 위해선 numpy 형식의 데이터로 변경해야한다"
      ]
    },
    {
      "cell_type": "code",
      "metadata": {
        "id": "AHcea62Qul-d",
        "colab": {
          "base_uri": "https://localhost:8080/",
          "height": 283
        },
        "outputId": "6a9d7079-cb41-4e82-ff6a-97ffcbd433cc"
      },
      "source": [
        "plt.imshow(image[0].squeeze().numpy(), cmap = 'gray')\n",
        "plt.show()\n",
        "print('label :', label[0].item())"
      ],
      "execution_count": 14,
      "outputs": [
        {
          "output_type": "display_data",
          "data": {
            "image/png": "[encoded data removed]",
            "text/plain": [
              "<Figure size 432x288 with 1 Axes>"
            ]
          },
          "metadata": {
            "needs_background": "light"
          }
        },
        {
          "output_type": "stream",
          "name": "stdout",
          "text": [
            "label : 6\n"
          ]
        }
      ]
    },
    {
      "cell_type": "markdown",
      "metadata": {
        "id": "mdboU9L7Y8KM"
      },
      "source": [
        "## 신경망 구성\n"
      ]
    },
    {
      "cell_type": "markdown",
      "metadata": {
        "id": "pKZBazk2dKbc"
      },
      "source": [
        "### 완전연결층 예시\n",
        "랜덤으로 생성한 random_input을 샘플로 사용    \n",
        "nn.Linear(in_dim, out_dim) : in_dim 갯수의 입력 노드와 out_dim 갯수의 출력 \n",
        "노드를 완전연결하는 가중치와 편향을 만들어줌 "
      ]
    },
    {
      "cell_type": "code",
      "metadata": {
        "id": "TCIPHkshdPbk"
      },
      "source": [
        "import torch.nn as nn"
      ],
      "execution_count": 15,
      "outputs": []
    },
    {
      "cell_type": "code",
      "metadata": {
        "id": "TRM0eW-6oqVC"
      },
      "source": [
        "w1 = nn.Linear(28*28, 100)"
      ],
      "execution_count": 16,
      "outputs": []
    },
    {
      "cell_type": "markdown",
      "metadata": {
        "id": "0Ga3o0FUgTOU"
      },
      "source": [
        "생성된 가중치와 편향 확인"
      ]
    },
    {
      "cell_type": "code",
      "metadata": {
        "id": "HphV31vu5KzS",
        "colab": {
          "base_uri": "https://localhost:8080/"
        },
        "outputId": "4fa8fcab-7678-4d61-a180-62a2493fbfd6"
      },
      "source": [
        "w1.weight"
      ],
      "execution_count": 17,
      "outputs": [
        {
          "output_type": "execute_result",
          "data": {
            "text/plain": [
              "Parameter containing:\n",
              "tensor([[-0.0300, -0.0069, -0.0148,  ..., -0.0250,  0.0074, -0.0286],\n",
              "        [-0.0016,  0.0296, -0.0168,  ...,  0.0202, -0.0134, -0.0341],\n",
              "        [ 0.0236, -0.0254, -0.0232,  ...,  0.0081,  0.0064,  0.0199],\n",
              "        ...,\n",
              "        [-0.0098,  0.0010, -0.0201,  ...,  0.0252, -0.0072, -0.0235],\n",
              "        [ 0.0283, -0.0326, -0.0248,  ...,  0.0098, -0.0342, -0.0126],\n",
              "        [-0.0184, -0.0080,  0.0185,  ...,  0.0066,  0.0225,  0.0077]],\n",
              "       requires_grad=True)"
            ]
          },
          "metadata": {},
          "execution_count": 17
        }
      ]
    },
    {
      "cell_type": "code",
      "metadata": {
        "id": "c9txU7Uro26H",
        "colab": {
          "base_uri": "https://localhost:8080/"
        },
        "outputId": "8307d244-110a-4f9f-a004-9b3ccf6598bc"
      },
      "source": [
        "w1.bias"
      ],
      "execution_count": 18,
      "outputs": [
        {
          "output_type": "execute_result",
          "data": {
            "text/plain": [
              "Parameter containing:\n",
              "tensor([ 0.0241,  0.0038, -0.0074, -0.0081,  0.0016, -0.0319, -0.0046,  0.0050,\n",
              "        -0.0306,  0.0355, -0.0093,  0.0077, -0.0157, -0.0276, -0.0262,  0.0276,\n",
              "        -0.0049,  0.0036, -0.0325, -0.0156, -0.0245,  0.0249, -0.0111, -0.0323,\n",
              "        -0.0225,  0.0338, -0.0129, -0.0272, -0.0228, -0.0356, -0.0206,  0.0349,\n",
              "         0.0239, -0.0283,  0.0118,  0.0058,  0.0345,  0.0025,  0.0224,  0.0051,\n",
              "         0.0023, -0.0256, -0.0349, -0.0088, -0.0237, -0.0044,  0.0209, -0.0260,\n",
              "        -0.0332,  0.0304, -0.0346,  0.0001,  0.0049,  0.0176,  0.0280, -0.0346,\n",
              "        -0.0044,  0.0039,  0.0267,  0.0055, -0.0334,  0.0218,  0.0081, -0.0074,\n",
              "         0.0280,  0.0238,  0.0186,  0.0247,  0.0330,  0.0082,  0.0132,  0.0282,\n",
              "        -0.0174,  0.0149,  0.0098,  0.0345, -0.0140, -0.0125, -0.0111, -0.0219,\n",
              "        -0.0317,  0.0174, -0.0251, -0.0151, -0.0004,  0.0307,  0.0134,  0.0200,\n",
              "        -0.0139, -0.0080,  0.0311, -0.0241,  0.0244, -0.0352,  0.0085, -0.0177,\n",
              "         0.0213,  0.0039, -0.0211,  0.0274], requires_grad=True)"
            ]
          },
          "metadata": {},
          "execution_count": 18
        }
      ]
    },
    {
      "cell_type": "code",
      "metadata": {
        "id": "wI9CG4BG4qjq"
      },
      "source": [
        "w2 = nn.Linear(100, 30)\n",
        "w3 = nn.Linear(30, 10)"
      ],
      "execution_count": 19,
      "outputs": []
    },
    {
      "cell_type": "code",
      "metadata": {
        "id": "pQc_eI4o423k",
        "colab": {
          "base_uri": "https://localhost:8080/"
        },
        "outputId": "f1b3e260-f320-45f5-f839-6845f33c02ed"
      },
      "source": [
        "image[0].shape"
      ],
      "execution_count": 20,
      "outputs": [
        {
          "output_type": "execute_result",
          "data": {
            "text/plain": [
              "torch.Size([1, 28, 28])"
            ]
          },
          "metadata": {},
          "execution_count": 20
        }
      ]
    },
    {
      "cell_type": "code",
      "metadata": {
        "id": "wpukA7aPM3J5",
        "colab": {
          "base_uri": "https://localhost:8080/"
        },
        "outputId": "2cac7152-2f79-4183-b40a-42c837ee79f9"
      },
      "source": [
        "w1(image[0].flatten())"
      ],
      "execution_count": 21,
      "outputs": [
        {
          "output_type": "execute_result",
          "data": {
            "text/plain": [
              "tensor([-9.8625e-02, -2.6122e-04, -1.2757e-01,  1.6491e-01, -2.1654e-02,\n",
              "         2.3421e-01,  1.0082e-01, -2.0139e-01, -2.8074e-02,  1.2453e-01,\n",
              "         3.9678e-02, -1.1518e-01, -1.1624e-01, -7.3183e-02,  6.9326e-02,\n",
              "         9.6854e-02,  1.9924e-03, -2.0998e-01, -9.5300e-02, -6.9445e-02,\n",
              "        -3.0511e-01, -2.4510e-01,  3.9635e-02, -1.2959e-01,  2.0476e-01,\n",
              "         7.6595e-02, -9.3433e-02, -9.5751e-02, -1.5587e-01,  1.6638e-01,\n",
              "        -1.3722e-01,  1.2262e-01,  3.6528e-02,  3.5955e-01, -1.6091e-01,\n",
              "         1.0486e-03,  7.1433e-02,  1.0374e-01, -1.8140e-01, -3.1571e-01,\n",
              "         2.1391e-01, -4.8941e-01,  5.1931e-02, -1.0601e-01, -2.3463e-01,\n",
              "        -2.5476e-01, -1.7576e-01,  2.6056e-01, -7.6457e-02, -5.7305e-02,\n",
              "        -2.5921e-01, -4.4766e-01,  3.7931e-01,  3.2060e-01, -1.1795e-02,\n",
              "         1.8594e-01,  3.2026e-01, -1.2854e-01, -1.5767e-01,  1.1454e-01,\n",
              "        -3.0334e-01,  1.6683e-01,  3.2692e-01,  1.7116e-01,  1.8619e-01,\n",
              "        -2.4697e-01,  1.0533e-01,  4.4741e-02, -2.1318e-02,  4.5664e-02,\n",
              "        -1.1984e-01, -1.2963e-01,  1.3660e-01, -2.9012e-02,  5.3072e-01,\n",
              "        -3.8710e-01, -2.4426e-02,  3.6499e-01, -6.2174e-02, -1.2217e-01,\n",
              "         2.2636e-01,  6.0167e-02,  9.9296e-02,  3.3329e-01,  3.2779e-02,\n",
              "        -1.2977e-01, -6.0818e-02,  2.8755e-01, -9.0322e-02,  1.5790e-01,\n",
              "        -1.9384e-01,  3.8643e-02, -2.1972e-01,  1.3035e-01, -1.8570e-01,\n",
              "        -1.6750e-01,  1.5480e-01,  6.4685e-02,  2.8715e-01,  3.0139e-01],\n",
              "       grad_fn=<AddBackward0>)"
            ]
          },
          "metadata": {},
          "execution_count": 21
        }
      ]
    },
    {
      "cell_type": "markdown",
      "metadata": {
        "id": "x4a9m9FcyS7t"
      },
      "source": [
        "직접 생성한 가중치와 편향을 사용하는 완전연결층"
      ]
    },
    {
      "cell_type": "code",
      "metadata": {
        "id": "5se7sBakeIqS"
      },
      "source": [
        "x = image[0].flatten()\n",
        "z1 = w1(x)\n",
        "a1 = nn.Sigmoid()(z1)"
      ],
      "execution_count": 22,
      "outputs": []
    },
    {
      "cell_type": "code",
      "metadata": {
        "id": "PrZ-xNW2NYrf",
        "colab": {
          "base_uri": "https://localhost:8080/"
        },
        "outputId": "d97f0915-0eb5-45d3-a8ec-815b3bfbc1e3"
      },
      "source": [
        "z2 = w2(a1)\n",
        "a2 = nn.Sigmoid()(z2)\n",
        "z3 = w3(a2)\n",
        "a3 = nn.Softmax()(z3)"
      ],
      "execution_count": 23,
      "outputs": [
        {
          "output_type": "stream",
          "name": "stderr",
          "text": [
            "/usr/local/lib/python3.7/dist-packages/ipykernel_launcher.py:4: UserWarning: Implicit dimension choice for softmax has been deprecated. Change the call to include dim=X as an argument.\n",
            "  after removing the cwd from sys.path.\n"
          ]
        }
      ]
    },
    {
      "cell_type": "markdown",
      "metadata": {
        "id": "0pgLCl6IhRsy"
      },
      "source": [
        "활성화함수 작동"
      ]
    },
    {
      "cell_type": "code",
      "metadata": {
        "id": "0OrT3FdFgpSA"
      },
      "source": [
        ""
      ],
      "execution_count": 23,
      "outputs": []
    },
    {
      "cell_type": "markdown",
      "metadata": {
        "id": "5pq6q47od_Fe"
      },
      "source": [
        "신경망 클래스 정의"
      ]
    },
    {
      "cell_type": "code",
      "metadata": {
        "id": "I73l3ldkuoq_"
      },
      "source": [
        "class MyNet(nn.Module):\n",
        "    def __init__(self):\n",
        "        super(MyNet, self).__init__()\n",
        "        self.w1 = nn.Linear(28*28, 100)\n",
        "        self.w2 = nn.Linear(100, 30)\n",
        "        self.w3 = nn.Linear(30, 10)\n",
        "\n",
        "    def forward(self, x):\n",
        "        z1 = self.w1(x)\n",
        "        a1 = nn.Sigmoid()(z1)\n",
        "        z2 = self.w2(a1)\n",
        "        a2 = nn.Sigmoid()(z2)\n",
        "        z3 = self.w3(a2)\n",
        "        a3 = nn.Softmax()(z3)\n",
        "        return a3"
      ],
      "execution_count": 24,
      "outputs": []
    },
    {
      "cell_type": "markdown",
      "metadata": {
        "id": "AeSo8fG7gyqo"
      },
      "source": [
        "이번에 사용할 모델은 위에서 정의한 신경망(MyNet)을 사용"
      ]
    },
    {
      "cell_type": "code",
      "metadata": {
        "id": "Yes9ed0exTvA",
        "colab": {
          "base_uri": "https://localhost:8080/"
        },
        "outputId": "add1782e-60f7-4446-924b-324bf7626e5b"
      },
      "source": [
        "model = MyNet()\n",
        "print(model)"
      ],
      "execution_count": 25,
      "outputs": [
        {
          "output_type": "stream",
          "name": "stdout",
          "text": [
            "MyNet(\n",
            "  (w1): Linear(in_features=784, out_features=100, bias=True)\n",
            "  (w2): Linear(in_features=100, out_features=30, bias=True)\n",
            "  (w3): Linear(in_features=30, out_features=10, bias=True)\n",
            ")\n"
          ]
        }
      ]
    },
    {
      "cell_type": "markdown",
      "metadata": {
        "id": "8E6hh8giZOLH"
      },
      "source": [
        "길이 784의 입력값을 임의로 생성해서 모델의 출력 결과 확인"
      ]
    },
    {
      "cell_type": "code",
      "metadata": {
        "colab": {
          "base_uri": "https://localhost:8080/"
        },
        "id": "JtVkQQN37QyD",
        "outputId": "0a684886-193e-4ad6-eecd-0926f0078cb8"
      },
      "source": [
        "output = model(image[0].flatten())\n",
        "print(output.size())"
      ],
      "execution_count": 26,
      "outputs": [
        {
          "output_type": "stream",
          "name": "stdout",
          "text": [
            "torch.Size([10])\n"
          ]
        },
        {
          "output_type": "stream",
          "name": "stderr",
          "text": [
            "/usr/local/lib/python3.7/dist-packages/ipykernel_launcher.py:14: UserWarning: Implicit dimension choice for softmax has been deprecated. Change the call to include dim=X as an argument.\n",
            "  \n"
          ]
        }
      ]
    },
    {
      "cell_type": "code",
      "metadata": {
        "id": "0WCoiE8j0yaf",
        "colab": {
          "base_uri": "https://localhost:8080/"
        },
        "outputId": "5c8bcb0f-1156-4bfb-f208-d642e3cf67a4"
      },
      "source": [
        "random_input = torch.rand(784)\n",
        "output = model(random_input)\n",
        "print(random_input.shape)\n",
        "print(output.size())"
      ],
      "execution_count": 27,
      "outputs": [
        {
          "output_type": "stream",
          "name": "stdout",
          "text": [
            "torch.Size([784])\n",
            "torch.Size([10])\n"
          ]
        },
        {
          "output_type": "stream",
          "name": "stderr",
          "text": [
            "/usr/local/lib/python3.7/dist-packages/ipykernel_launcher.py:14: UserWarning: Implicit dimension choice for softmax has been deprecated. Change the call to include dim=X as an argument.\n",
            "  \n"
          ]
        }
      ]
    },
    {
      "cell_type": "markdown",
      "metadata": {
        "id": "qkIPqgqMQsA4"
      },
      "source": [
        "numpy 형식의 데이터를 입력으로 사용할 경우 에러 발생"
      ]
    },
    {
      "cell_type": "code",
      "metadata": {
        "id": "WSfjzlQ3QMzf"
      },
      "source": [
        "# np_array = random_input.numpy()\n",
        "# output = model(np_array)"
      ],
      "execution_count": 28,
      "outputs": []
    },
    {
      "cell_type": "markdown",
      "metadata": {
        "id": "lSFBNH5gZiQZ"
      },
      "source": [
        "첫번째 은닉층에 연결된 가중치 확인"
      ]
    },
    {
      "cell_type": "code",
      "metadata": {
        "colab": {
          "base_uri": "https://localhost:8080/"
        },
        "id": "f_tbh6fK8Jg0",
        "outputId": "d5dc903b-ceab-42db-b097-8f7f0e4b9a95"
      },
      "source": [
        "model"
      ],
      "execution_count": 29,
      "outputs": [
        {
          "output_type": "execute_result",
          "data": {
            "text/plain": [
              "MyNet(\n",
              "  (w1): Linear(in_features=784, out_features=100, bias=True)\n",
              "  (w2): Linear(in_features=100, out_features=30, bias=True)\n",
              "  (w3): Linear(in_features=30, out_features=10, bias=True)\n",
              ")"
            ]
          },
          "metadata": {},
          "execution_count": 29
        }
      ]
    },
    {
      "cell_type": "code",
      "metadata": {
        "colab": {
          "base_uri": "https://localhost:8080/"
        },
        "id": "_Zsvrx_o8A44",
        "outputId": "de5ad941-02f7-45aa-bebb-f696514be44a"
      },
      "source": [
        "list(model.parameters())"
      ],
      "execution_count": 30,
      "outputs": [
        {
          "output_type": "execute_result",
          "data": {
            "text/plain": [
              "[Parameter containing:\n",
              " tensor([[-0.0141, -0.0094, -0.0300,  ...,  0.0128,  0.0083,  0.0013],\n",
              "         [ 0.0059,  0.0060,  0.0261,  ..., -0.0114, -0.0281,  0.0234],\n",
              "         [ 0.0189,  0.0177,  0.0189,  ..., -0.0011,  0.0005,  0.0077],\n",
              "         ...,\n",
              "         [ 0.0328, -0.0206, -0.0252,  ..., -0.0301, -0.0032,  0.0112],\n",
              "         [-0.0008, -0.0247, -0.0284,  ...,  0.0314,  0.0207,  0.0184],\n",
              "         [-0.0009, -0.0070,  0.0140,  ..., -0.0147,  0.0040,  0.0235]],\n",
              "        requires_grad=True), Parameter containing:\n",
              " tensor([-0.0284,  0.0187,  0.0300,  0.0004, -0.0118,  0.0136, -0.0179, -0.0141,\n",
              "         -0.0028,  0.0325, -0.0307, -0.0214, -0.0032, -0.0204, -0.0211,  0.0286,\n",
              "         -0.0272,  0.0149, -0.0042,  0.0172,  0.0270,  0.0092, -0.0328,  0.0186,\n",
              "          0.0254, -0.0111,  0.0142, -0.0340, -0.0315,  0.0258, -0.0047, -0.0335,\n",
              "         -0.0005, -0.0212, -0.0160, -0.0237, -0.0173,  0.0077, -0.0253,  0.0331,\n",
              "          0.0094, -0.0193, -0.0169, -0.0205,  0.0089, -0.0214, -0.0050, -0.0151,\n",
              "          0.0257,  0.0111, -0.0080,  0.0189,  0.0073, -0.0195, -0.0270,  0.0010,\n",
              "         -0.0339,  0.0118,  0.0178, -0.0138, -0.0039,  0.0128, -0.0285, -0.0228,\n",
              "          0.0103,  0.0270, -0.0148,  0.0039, -0.0302,  0.0156, -0.0336, -0.0023,\n",
              "          0.0188,  0.0193, -0.0300,  0.0182,  0.0285, -0.0208,  0.0199, -0.0355,\n",
              "          0.0209,  0.0111,  0.0043,  0.0203, -0.0179,  0.0315, -0.0041, -0.0153,\n",
              "          0.0246,  0.0002,  0.0110, -0.0289, -0.0016,  0.0335,  0.0237,  0.0028,\n",
              "         -0.0118, -0.0299, -0.0098,  0.0150], requires_grad=True), Parameter containing:\n",
              " tensor([[ 0.0669, -0.0273,  0.0609,  ...,  0.0730,  0.0011,  0.0152],\n",
              "         [-0.0459,  0.0929, -0.0583,  ..., -0.0823,  0.0693,  0.0815],\n",
              "         [-0.0537,  0.0665, -0.0301,  ...,  0.0542, -0.0146,  0.0496],\n",
              "         ...,\n",
              "         [-0.0392, -0.0644, -0.0485,  ...,  0.0596, -0.0278,  0.0890],\n",
              "         [-0.0259,  0.0424, -0.0283,  ..., -0.0226, -0.0562, -0.0301],\n",
              "         [ 0.0087,  0.0264, -0.0279,  ...,  0.0841,  0.0180,  0.0886]],\n",
              "        requires_grad=True), Parameter containing:\n",
              " tensor([ 1.0349e-02,  5.2868e-02,  9.9232e-02, -1.5494e-02,  3.0746e-02,\n",
              "          8.3483e-02, -3.1003e-02,  7.7054e-02, -6.1905e-02,  2.9374e-02,\n",
              "          8.1961e-02,  2.8214e-02,  2.7390e-02, -9.0119e-02,  5.0378e-03,\n",
              "         -8.7127e-02, -9.9957e-02, -5.4155e-02,  1.9261e-02,  4.4080e-02,\n",
              "         -1.6168e-02, -3.7184e-03,  7.1485e-02,  4.5796e-02,  4.9959e-02,\n",
              "          6.5906e-02,  7.8712e-02, -9.6381e-05, -3.1090e-03,  7.1497e-02],\n",
              "        requires_grad=True), Parameter containing:\n",
              " tensor([[-1.4292e-01,  1.7269e-01, -3.6184e-02, -1.3074e-01,  1.0369e-01,\n",
              "           1.1954e-01, -2.5000e-02,  1.3501e-01,  1.5824e-01, -1.7377e-01,\n",
              "          -1.3375e-01, -1.3925e-01,  2.4959e-02,  1.4651e-01,  1.7012e-01,\n",
              "           9.5201e-02, -1.6263e-01,  1.0233e-01,  1.0433e-01, -1.1647e-01,\n",
              "           1.0616e-01,  1.1871e-01,  1.5707e-01, -1.6422e-01,  5.9356e-02,\n",
              "          -1.6762e-01, -7.5477e-02, -6.2139e-02, -5.9934e-02,  1.7762e-01],\n",
              "         [ 1.2717e-01, -6.5130e-02,  7.5319e-02, -8.9855e-02, -1.7673e-01,\n",
              "           1.0375e-01, -4.6335e-02, -1.7650e-01,  1.2400e-01, -1.3862e-01,\n",
              "          -1.7974e-01,  1.1808e-01, -9.6719e-02, -7.1664e-02, -6.5236e-02,\n",
              "          -1.6499e-01, -1.2672e-01,  1.2347e-01, -7.6831e-02,  1.2789e-02,\n",
              "           1.7034e-01, -3.8364e-02, -1.1910e-01,  7.3076e-02, -3.6154e-02,\n",
              "          -1.4134e-01, -1.3411e-01,  1.4563e-01,  9.2116e-02, -1.7535e-01],\n",
              "         [ 7.0106e-02,  1.4739e-01,  4.2269e-02,  4.5845e-02,  1.2454e-01,\n",
              "           1.0721e-01, -1.4184e-01,  1.8656e-02,  1.5324e-01,  6.9054e-02,\n",
              "          -1.5528e-01, -1.2119e-01, -7.9707e-02, -1.8246e-01,  1.1933e-01,\n",
              "          -1.3300e-01,  7.8441e-02, -9.7954e-02, -1.9192e-02,  6.3261e-02,\n",
              "           4.5553e-05,  1.7448e-01, -1.3838e-01,  6.9795e-02, -6.1776e-02,\n",
              "           4.2057e-02,  1.2972e-02, -7.9094e-02, -4.0109e-02,  1.5991e-01],\n",
              "         [ 1.4431e-01, -1.0959e-01, -2.1546e-02, -1.6994e-01, -4.9281e-02,\n",
              "          -1.1128e-02,  1.1269e-01,  1.4589e-01, -2.5364e-02, -6.1659e-02,\n",
              "          -1.0098e-01, -8.8333e-02, -1.5631e-01,  1.1219e-01, -6.8698e-02,\n",
              "           3.2184e-02,  1.3362e-01, -9.4711e-02,  1.0016e-01,  8.8665e-02,\n",
              "          -1.5200e-01,  1.1163e-01, -3.7800e-02, -1.3964e-02, -5.4109e-02,\n",
              "          -1.5378e-01, -8.5553e-02, -2.2224e-02,  8.2343e-02, -1.5743e-01],\n",
              "         [ 7.8070e-02,  9.9936e-03,  2.1785e-02,  2.6322e-02, -1.4464e-01,\n",
              "           5.4967e-02, -1.8196e-01,  2.8420e-02,  5.5651e-02, -3.7808e-02,\n",
              "           1.7227e-02,  1.1275e-01,  4.0242e-02,  1.4949e-01, -9.7757e-02,\n",
              "          -8.6214e-02, -1.5715e-01, -1.7489e-01,  5.7528e-03, -9.2357e-02,\n",
              "           1.7105e-01,  5.3004e-02, -1.5211e-01, -5.8738e-02, -1.0168e-01,\n",
              "          -3.6540e-03, -1.4567e-01, -8.0855e-02, -1.0911e-01, -5.6739e-02],\n",
              "         [ 1.4726e-01, -6.2635e-02, -6.9377e-02,  1.0506e-01, -6.9606e-02,\n",
              "           1.8840e-02,  1.3652e-01,  4.8091e-02, -5.8875e-02,  5.3033e-02,\n",
              "          -1.6413e-01,  4.9182e-03, -5.5200e-02, -1.5256e-02, -1.6276e-01,\n",
              "           1.3609e-01,  9.9510e-02, -1.5450e-01,  1.7459e-01,  4.6755e-02,\n",
              "          -3.1041e-02,  1.1064e-01,  1.1292e-01, -1.5551e-01, -7.0407e-02,\n",
              "           1.7428e-01,  9.6899e-02,  1.6486e-01,  6.7959e-02, -1.4325e-01],\n",
              "         [ 1.7937e-01, -1.4526e-02, -4.2184e-02,  8.6635e-02,  1.5043e-01,\n",
              "          -1.3455e-01, -5.8414e-03,  1.4687e-01,  1.7909e-02, -1.9320e-02,\n",
              "          -1.6024e-01, -1.0055e-01,  1.1493e-01,  1.1557e-01,  1.6114e-01,\n",
              "          -1.0459e-01, -5.6511e-02, -1.2511e-01, -8.9216e-02,  1.2616e-01,\n",
              "          -2.2858e-02, -1.0291e-01,  5.6737e-02,  6.3974e-02,  3.4703e-02,\n",
              "           1.7296e-02, -1.6036e-03, -1.1599e-01, -2.2148e-02,  9.6457e-02],\n",
              "         [-1.3015e-02, -8.4259e-02,  2.9623e-02,  5.5172e-02,  1.4744e-02,\n",
              "          -1.2037e-01, -3.5998e-02,  1.6034e-01, -1.2417e-01,  1.2304e-01,\n",
              "           1.1716e-01, -1.7895e-01,  1.6185e-01,  5.7556e-02, -1.6542e-01,\n",
              "          -1.0569e-01, -1.4914e-01, -1.2747e-01, -4.7256e-02, -7.7644e-02,\n",
              "           1.0200e-01, -1.7877e-01,  1.1015e-01, -1.3309e-01,  9.7770e-02,\n",
              "           7.6450e-02,  1.5618e-01, -1.7152e-02,  8.6144e-03,  1.4692e-02],\n",
              "         [ 1.7211e-01,  4.2592e-02, -1.6235e-01, -6.1582e-02,  1.0161e-01,\n",
              "           4.9800e-02,  1.8339e-02, -5.9830e-02, -1.3446e-01, -4.4054e-02,\n",
              "           1.7303e-01, -1.4822e-01,  1.7280e-01, -2.6151e-02, -6.2035e-02,\n",
              "           6.4469e-02,  9.1233e-02, -1.2112e-01,  5.5874e-02, -1.2346e-01,\n",
              "           1.4728e-01,  1.2980e-01, -1.3560e-01, -1.5653e-01,  1.7869e-01,\n",
              "           2.3172e-03, -5.3767e-02, -1.2915e-01,  1.4328e-01,  1.7610e-01],\n",
              "         [ 1.0925e-01,  1.2924e-01, -2.6574e-03, -1.1234e-01, -3.2544e-02,\n",
              "          -7.7371e-02,  5.3399e-03,  7.8006e-03, -3.0080e-02,  4.9807e-02,\n",
              "          -1.4573e-01, -1.7191e-01,  1.7156e-01,  3.7720e-02, -1.4294e-01,\n",
              "          -9.7562e-03, -4.7198e-02, -9.5783e-02, -1.1710e-01, -1.5843e-01,\n",
              "           6.6161e-02,  1.6750e-01,  1.4612e-01,  1.6762e-01, -3.0766e-02,\n",
              "           1.1242e-01, -7.8428e-03, -1.1491e-01, -1.4357e-01,  7.5099e-02]],\n",
              "        requires_grad=True), Parameter containing:\n",
              " tensor([-0.0442,  0.0012,  0.0744,  0.1729, -0.0684,  0.0467, -0.0254,  0.0090,\n",
              "          0.0855,  0.0624], requires_grad=True)]"
            ]
          },
          "metadata": {},
          "execution_count": 30
        }
      ]
    },
    {
      "cell_type": "code",
      "metadata": {
        "id": "0RA-Tyls5TSJ",
        "colab": {
          "base_uri": "https://localhost:8080/"
        },
        "outputId": "f71de19f-fd8f-4517-f1ac-81e1501ba102"
      },
      "source": [
        "len(list(model.parameters()))"
      ],
      "execution_count": 31,
      "outputs": [
        {
          "output_type": "execute_result",
          "data": {
            "text/plain": [
              "6"
            ]
          },
          "metadata": {},
          "execution_count": 31
        }
      ]
    },
    {
      "cell_type": "code",
      "metadata": {
        "id": "Nc5t5vJSxlM5",
        "colab": {
          "base_uri": "https://localhost:8080/"
        },
        "outputId": "ebc25bdc-a1d4-475c-af7f-d0def897c58e"
      },
      "source": [
        "list(model.parameters())[0].shape"
      ],
      "execution_count": 32,
      "outputs": [
        {
          "output_type": "execute_result",
          "data": {
            "text/plain": [
              "torch.Size([100, 784])"
            ]
          },
          "metadata": {},
          "execution_count": 32
        }
      ]
    },
    {
      "cell_type": "markdown",
      "metadata": {
        "id": "AeTwN77JZqwD"
      },
      "source": [
        "첫번째 은닉층에 연결된 편향 확인"
      ]
    },
    {
      "cell_type": "code",
      "metadata": {
        "id": "-mUwbnajZrUp",
        "colab": {
          "base_uri": "https://localhost:8080/"
        },
        "outputId": "6ef2d2e6-0d52-47c0-db8c-aaf4c820f8f0"
      },
      "source": [
        "list(model.parameters())[1].shape"
      ],
      "execution_count": 33,
      "outputs": [
        {
          "output_type": "execute_result",
          "data": {
            "text/plain": [
              "torch.Size([100])"
            ]
          },
          "metadata": {},
          "execution_count": 33
        }
      ]
    },
    {
      "cell_type": "markdown",
      "metadata": {
        "id": "Pv-T4bptVfqy"
      },
      "source": [
        "배치 사이즈 64의 입력을 사용하는 경우"
      ]
    },
    {
      "cell_type": "code",
      "metadata": {
        "id": "33G7dohUSJJM",
        "colab": {
          "base_uri": "https://localhost:8080/"
        },
        "outputId": "2c190b26-42cb-4bec-8ac6-2d4031c8f145"
      },
      "source": [
        "random_input = torch.rand(64, 784)\n",
        "output = model(random_input)\n",
        "print(random_input.shape)\n",
        "print(output.size())"
      ],
      "execution_count": 34,
      "outputs": [
        {
          "output_type": "stream",
          "name": "stderr",
          "text": [
            "/usr/local/lib/python3.7/dist-packages/ipykernel_launcher.py:14: UserWarning: Implicit dimension choice for softmax has been deprecated. Change the call to include dim=X as an argument.\n",
            "  \n"
          ]
        },
        {
          "output_type": "stream",
          "name": "stdout",
          "text": [
            "torch.Size([64, 784])\n",
            "torch.Size([64, 10])\n"
          ]
        }
      ]
    },
    {
      "cell_type": "markdown",
      "metadata": {
        "id": "afLLZG1SZ3eH"
      },
      "source": [
        "손실 함수와 최적화 기법"
      ]
    },
    {
      "cell_type": "code",
      "metadata": {
        "id": "NRGRVFInx1Rm"
      },
      "source": [
        "from torch import optim\n",
        "loss_func = nn.CrossEntropyLoss()\n",
        "optimizer = optim.Adam(model.parameters(), lr = 0.0001)"
      ],
      "execution_count": 35,
      "outputs": []
    },
    {
      "cell_type": "markdown",
      "metadata": {
        "id": "zEjjcVWn1S4H"
      },
      "source": [
        "### 모델 학습"
      ]
    },
    {
      "cell_type": "code",
      "metadata": {
        "id": "z0i5L1J_zNpF",
        "colab": {
          "base_uri": "https://localhost:8080/"
        },
        "outputId": "b6f90b96-14ed-4540-bca6-576bdb676a1a"
      },
      "source": [
        "epochs = 30\n",
        "\n",
        "for epoch in range(epochs):\n",
        "    running_loss = 0.0\n",
        "    start_time = time.time()\n",
        "\n",
        "    for inputs, labels in train_loader:\n",
        "        #inputs.shape = [64,1,28,28] -> [64, 1*28*28]\n",
        "        inputs = inputs.view(inputs.shape[0], -1)\n",
        "        labels = labels\n",
        "        outputs = model(inputs)\n",
        "\n",
        "        loss = loss_func(outputs, labels)\n",
        "        optimizer.zero_grad()    # 경사 초기화\n",
        "        loss.backward()          # 경사 계산\n",
        "        optimizer.step()         # 계산한 경사를 바탕으로 파라미터 업데이트\n",
        "\n",
        "        running_loss += loss.item()\n",
        "\n",
        "    end_time = time.time()\n",
        "\n",
        "    print('Epoch : {}, Loss : {}, time : {}'.format(epoch + 1, running_loss/len(train_loader), end_time - start_time))\n",
        "\n"
      ],
      "execution_count": 37,
      "outputs": [
        {
          "output_type": "stream",
          "name": "stderr",
          "text": [
            "/usr/local/lib/python3.7/dist-packages/ipykernel_launcher.py:14: UserWarning: Implicit dimension choice for softmax has been deprecated. Change the call to include dim=X as an argument.\n",
            "  \n"
          ]
        },
        {
          "output_type": "stream",
          "name": "stdout",
          "text": [
            "Epoch : 1, Loss : 1.9261028316737747, time : 9.354567766189575\n",
            "Epoch : 2, Loss : 1.8630238456258388, time : 9.260818719863892\n",
            "Epoch : 3, Loss : 1.8120527961360875, time : 9.256989479064941\n",
            "Epoch : 4, Loss : 1.7636230102480093, time : 9.232709169387817\n",
            "Epoch : 5, Loss : 1.726958925027583, time : 9.221630334854126\n",
            "Epoch : 6, Loss : 1.6890111743514218, time : 9.238845109939575\n",
            "Epoch : 7, Loss : 1.6570876702062611, time : 9.29160189628601\n",
            "Epoch : 8, Loss : 1.6311656461595727, time : 9.29251480102539\n",
            "Epoch : 9, Loss : 1.6103194494491446, time : 9.252273559570312\n",
            "Epoch : 10, Loss : 1.59422446796889, time : 9.234498500823975\n",
            "Epoch : 11, Loss : 1.582027717948214, time : 9.346262216567993\n",
            "Epoch : 12, Loss : 1.572577793460919, time : 9.167054891586304\n",
            "Epoch : 13, Loss : 1.5650101529001428, time : 9.287025451660156\n",
            "Epoch : 14, Loss : 1.5587880338178768, time : 9.062036991119385\n",
            "Epoch : 15, Loss : 1.5536708306910387, time : 9.25431489944458\n",
            "Epoch : 16, Loss : 1.5493076720725754, time : 9.180549621582031\n",
            "Epoch : 17, Loss : 1.545572119862286, time : 9.294745683670044\n",
            "Epoch : 18, Loss : 1.5423247784948044, time : 9.399477005004883\n",
            "Epoch : 19, Loss : 1.5394301241648984, time : 9.192964792251587\n",
            "Epoch : 20, Loss : 1.5369186849990633, time : 9.32260251045227\n",
            "Epoch : 21, Loss : 1.5345832946966451, time : 9.333154439926147\n",
            "Epoch : 22, Loss : 1.5323805059197106, time : 9.238837957382202\n",
            "Epoch : 23, Loss : 1.5303116388666604, time : 9.354413747787476\n",
            "Epoch : 24, Loss : 1.5284606124292304, time : 9.148551940917969\n",
            "Epoch : 25, Loss : 1.5265848534956161, time : 9.246530294418335\n",
            "Epoch : 26, Loss : 1.5249069904976054, time : 9.18201208114624\n",
            "Epoch : 27, Loss : 1.5232103892735072, time : 9.172306537628174\n",
            "Epoch : 28, Loss : 1.5217200618054567, time : 9.182536363601685\n",
            "Epoch : 29, Loss : 1.5202139019966125, time : 9.335586309432983\n",
            "Epoch : 30, Loss : 1.5189067303244748, time : 9.186549663543701\n"
          ]
        }
      ]
    },
    {
      "cell_type": "markdown",
      "metadata": {
        "id": "aKT425TiXp-l"
      },
      "source": [
        "### 모델 평가"
      ]
    },
    {
      "cell_type": "code",
      "metadata": {
        "id": "3fJEQBLc2Mmy",
        "colab": {
          "base_uri": "https://localhost:8080/"
        },
        "outputId": "27a23c93-d836-4e5c-ebcb-b708f2078c43"
      },
      "source": [
        "for mini_batch in test_loader:\n",
        "    first_batch = mini_batch\n",
        "    break\n",
        "\n",
        "inputs = first_batch[0]\n",
        "labels = first_batch[1]\n",
        "outputs = model(inputs.view(inputs.shape[0], -1))"
      ],
      "execution_count": 38,
      "outputs": [
        {
          "output_type": "stream",
          "name": "stderr",
          "text": [
            "/usr/local/lib/python3.7/dist-packages/ipykernel_launcher.py:14: UserWarning: Implicit dimension choice for softmax has been deprecated. Change the call to include dim=X as an argument.\n",
            "  \n"
          ]
        }
      ]
    },
    {
      "cell_type": "code",
      "metadata": {
        "id": "YOndNSup6QuT",
        "colab": {
          "base_uri": "https://localhost:8080/"
        },
        "outputId": "100e2f8e-8726-4d64-ac92-5d57266f65e6"
      },
      "source": [
        "inputs.shape, labels.shape, outputs.shape"
      ],
      "execution_count": 39,
      "outputs": [
        {
          "output_type": "execute_result",
          "data": {
            "text/plain": [
              "(torch.Size([64, 1, 28, 28]), torch.Size([64]), torch.Size([64, 10]))"
            ]
          },
          "metadata": {},
          "execution_count": 39
        }
      ]
    },
    {
      "cell_type": "code",
      "metadata": {
        "id": "pxHDlWASiquX",
        "colab": {
          "base_uri": "https://localhost:8080/"
        },
        "outputId": "ee803fae-e0a8-4827-c8dd-45a900278885"
      },
      "source": [
        "print(outputs[0])\n",
        "print(torch.argmax(outputs[0]))"
      ],
      "execution_count": 40,
      "outputs": [
        {
          "output_type": "stream",
          "name": "stdout",
          "text": [
            "tensor([2.0510e-05, 7.0799e-05, 1.2889e-06, 5.1929e-06, 3.1174e-06, 1.2870e-04,\n",
            "        5.4995e-07, 9.9960e-01, 1.1703e-06, 1.7102e-04],\n",
            "       grad_fn=<SelectBackward>)\n",
            "tensor(7)\n"
          ]
        }
      ]
    },
    {
      "cell_type": "code",
      "metadata": {
        "id": "NJjeWkW56Mk9",
        "colab": {
          "base_uri": "https://localhost:8080/",
          "height": 301
        },
        "outputId": "012999c1-cb04-4bc5-93e6-abeed3bce654"
      },
      "source": [
        "sample_number = 0\n",
        "plt.imshow(inputs[sample_number].squeeze().numpy(), cmap = 'gray')\n",
        "plt.show()\n",
        "print('예측 : {}'.format(torch.argmax(outputs[sample_number]).item()))\n",
        "print('라벨 : {}'.format(labels[sample_number].item()))"
      ],
      "execution_count": 41,
      "outputs": [
        {
          "output_type": "display_data",
          "data": {
            "image/png": "[encoded data removed]",
            "text/plain": [
              "<Figure size 432x288 with 1 Axes>"
            ]
          },
          "metadata": {
            "needs_background": "light"
          }
        },
        {
          "output_type": "stream",
          "name": "stdout",
          "text": [
            "예측 : 7\n",
            "라벨 : 7\n"
          ]
        }
      ]
    },
    {
      "cell_type": "markdown",
      "metadata": {
        "id": "jmzsCoX0hoI8"
      },
      "source": [
        "전체 테스트 데이터에 대한 정확도 계산"
      ]
    },
    {
      "cell_type": "code",
      "metadata": {
        "id": "alcTczY_X2bL",
        "colab": {
          "base_uri": "https://localhost:8080/"
        },
        "outputId": "16b84c80-ae7a-48ba-f7f8-9764d6230ef1"
      },
      "source": [
        "correct = 0\n",
        "total = 0\n",
        "\n",
        "with torch.no_grad():\n",
        "    for inputs, labels in test_loader:\n",
        "        outputs = model(inputs.view(inputs.shape[0], -1))\n",
        "        predicted = torch.argmax(outputs, dim = 1)\n",
        "        total += labels.size(0)\n",
        "        correct += (predicted == labels).sum().item()  # 아래에 추가 설명\n",
        "\n",
        "    print(total)\n",
        "    print(100*correct / total)"
      ],
      "execution_count": 42,
      "outputs": [
        {
          "output_type": "stream",
          "name": "stderr",
          "text": [
            "/usr/local/lib/python3.7/dist-packages/ipykernel_launcher.py:14: UserWarning: Implicit dimension choice for softmax has been deprecated. Change the call to include dim=X as an argument.\n",
            "  \n"
          ]
        },
        {
          "output_type": "stream",
          "name": "stdout",
          "text": [
            "10000\n",
            "94.55\n"
          ]
        }
      ]
    },
    {
      "cell_type": "code",
      "metadata": {
        "id": "lGET7AOjx3Ei",
        "colab": {
          "base_uri": "https://localhost:8080/"
        },
        "outputId": "bb894ee3-0435-49bd-f0bc-1b1d00929bf6"
      },
      "source": [
        "x = torch.tensor([1,2,3,4])\n",
        "y = torch.tensor([1,2,4,8])\n",
        "\n",
        "print(x == y)"
      ],
      "execution_count": 43,
      "outputs": [
        {
          "output_type": "stream",
          "name": "stdout",
          "text": [
            "tensor([ True,  True, False, False])\n"
          ]
        }
      ]
    },
    {
      "cell_type": "code",
      "metadata": {
        "id": "CHA-CkF3yG82",
        "colab": {
          "base_uri": "https://localhost:8080/"
        },
        "outputId": "418f2b8d-1df7-41f0-b1ab-44cdcfca9c4d"
      },
      "source": [
        "print((x == y).sum())"
      ],
      "execution_count": 44,
      "outputs": [
        {
          "output_type": "stream",
          "name": "stdout",
          "text": [
            "tensor(2)\n"
          ]
        }
      ]
    },
    {
      "cell_type": "code",
      "metadata": {
        "id": "eb2VjqHOyK0W",
        "colab": {
          "base_uri": "https://localhost:8080/"
        },
        "outputId": "dbd7c10f-e9c3-4014-9f09-c55ab624ea2b"
      },
      "source": [
        "print((x == y).sum().item())"
      ],
      "execution_count": 45,
      "outputs": [
        {
          "output_type": "stream",
          "name": "stdout",
          "text": [
            "2\n"
          ]
        }
      ]
    },
    {
      "cell_type": "code",
      "metadata": {
        "id": "6ryjJozuPI30"
      },
      "source": [
        ""
      ],
      "execution_count": null,
      "outputs": []
    }
  ]
}