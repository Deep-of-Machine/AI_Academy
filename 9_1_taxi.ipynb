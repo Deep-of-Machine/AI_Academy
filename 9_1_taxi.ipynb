{
  "nbformat": 4,
  "nbformat_minor": 0,
  "metadata": {
    "kernelspec": {
      "display_name": "Python 3",
      "language": "python",
      "name": "python3"
    },
    "language_info": {
      "codemirror_mode": {
        "name": "ipython",
        "version": 3
      },
      "file_extension": ".py",
      "mimetype": "text/x-python",
      "name": "python",
      "nbconvert_exporter": "python",
      "pygments_lexer": "ipython3",
      "version": "3.8.5"
    },
    "colab": {
      "name": "9-1_taxi.ipynb",
      "provenance": [],
      "collapsed_sections": [],
      "include_colab_link": true
    },
    "accelerator": "GPU"
  },
  "cells": [
    {
      "cell_type": "markdown",
      "metadata": {
        "id": "view-in-github",
        "colab_type": "text"
      },
      "source": [
        "<a href=\"https://colab.research.google.com/github/Deep-of-Machine/AI_Academy/blob/main/9_1_taxi.ipynb\" target=\"_parent\"><img src=\"https://colab.research.google.com/assets/colab-badge.svg\" alt=\"Open In Colab\"/></a>"
      ]
    },
    {
      "cell_type": "code",
      "metadata": {
        "id": "zZrj8DZR9c_1"
      },
      "source": [
        "import gym"
      ],
      "execution_count": 1,
      "outputs": []
    },
    {
      "cell_type": "code",
      "metadata": {
        "id": "bJQqxkZ_9c_4"
      },
      "source": [
        "env = gym.make('Taxi-v3').env"
      ],
      "execution_count": 2,
      "outputs": []
    },
    {
      "cell_type": "code",
      "metadata": {
        "id": "7WZZOsKxLtZb"
      },
      "source": [
        "env?"
      ],
      "execution_count": 9,
      "outputs": []
    },
    {
      "cell_type": "markdown",
      "metadata": {
        "id": "q0xEHiWeHSEp"
      },
      "source": [
        "agent : 택시    \n",
        "env : 5 x 5 크기의 주차장(4개의 고정된 정류장) + 승객    \n",
        "승객 : 현재 위치(어느 정류장에서 기다리던가, 택시에 타있거나) + 목표 위치"
      ]
    },
    {
      "cell_type": "code",
      "metadata": {
        "id": "XJQ4VQQ49c_5",
        "colab": {
          "base_uri": "https://localhost:8080/"
        },
        "outputId": "f0fc338c-c14a-42de-e693-876efe6b5669"
      },
      "source": [
        "env.render()"
      ],
      "execution_count": 4,
      "outputs": [
        {
          "output_type": "stream",
          "name": "stdout",
          "text": [
            "+---------+\n",
            "|\u001b[35mR\u001b[0m:\u001b[43m \u001b[0m| : :G|\n",
            "| : | : : |\n",
            "| : : : : |\n",
            "| | : | : |\n",
            "|\u001b[34;1mY\u001b[0m| : |B: |\n",
            "+---------+\n",
            "\n"
          ]
        }
      ]
    },
    {
      "cell_type": "code",
      "metadata": {
        "id": "wPm6gtTp9c_6",
        "colab": {
          "base_uri": "https://localhost:8080/"
        },
        "outputId": "108df152-2471-4ef2-b8f8-9c426d01bd2b"
      },
      "source": [
        "env.reset()\n",
        "env.render()"
      ],
      "execution_count": 6,
      "outputs": [
        {
          "output_type": "stream",
          "name": "stdout",
          "text": [
            "+---------+\n",
            "|R: | : :G|\n",
            "| : | : : |\n",
            "| : :\u001b[43m \u001b[0m: : |\n",
            "| | : | : |\n",
            "|\u001b[35mY\u001b[0m| : |\u001b[34;1mB\u001b[0m: |\n",
            "+---------+\n",
            "\n"
          ]
        }
      ]
    },
    {
      "cell_type": "markdown",
      "metadata": {
        "id": "LZ3WJEnHIGkO"
      },
      "source": [
        "택시의 액션 : (south, north, east, west, pickup, dropoff)    \n",
        "상태 : 5 x 5 x 5 x 4    \n",
        "보상 : 1번의 액션 당 기본적으로 -1, 승객을 잘못 태우거나 내리면 -10, 승객이 무사히 도착하면 +20"
      ]
    },
    {
      "cell_type": "code",
      "metadata": {
        "id": "eXtHykMw9c_7",
        "colab": {
          "base_uri": "https://localhost:8080/"
        },
        "outputId": "4b641a53-f64e-4dc5-c629-b0449f2e9df4"
      },
      "source": [
        "print(env.action_space)\n",
        "print(env.observation_space)"
      ],
      "execution_count": 7,
      "outputs": [
        {
          "output_type": "stream",
          "name": "stdout",
          "text": [
            "Discrete(6)\n",
            "Discrete(500)\n"
          ]
        }
      ]
    },
    {
      "cell_type": "code",
      "metadata": {
        "id": "mN8_BsvDOk0w",
        "colab": {
          "base_uri": "https://localhost:8080/"
        },
        "outputId": "cdcca290-0249-47f4-ed36-d3424ce6f5b2"
      },
      "source": [
        "env.reset()\n",
        "env.render()\n",
        "print(env.s)"
      ],
      "execution_count": 8,
      "outputs": [
        {
          "output_type": "stream",
          "name": "stdout",
          "text": [
            "+---------+\n",
            "|\u001b[35mR\u001b[0m: | : :G|\n",
            "| : | : :\u001b[43m \u001b[0m|\n",
            "| : : : : |\n",
            "| | : | : |\n",
            "|\u001b[34;1mY\u001b[0m| : |B: |\n",
            "+---------+\n",
            "\n",
            "188\n"
          ]
        }
      ]
    },
    {
      "cell_type": "code",
      "metadata": {
        "id": "QDib3tVlS0vo",
        "colab": {
          "base_uri": "https://localhost:8080/"
        },
        "outputId": "776e5915-f3cd-4de3-b159-507662da8ea4"
      },
      "source": [
        "one_step = env.step(0)\n",
        "print(one_step) #next state, reward, done, probability\n",
        "print()\n",
        "env.render()"
      ],
      "execution_count": 10,
      "outputs": [
        {
          "output_type": "stream",
          "name": "stdout",
          "text": [
            "(288, -1, False, {'prob': 1.0})\n",
            "\n",
            "+---------+\n",
            "|\u001b[35mR\u001b[0m: | : :G|\n",
            "| : | : : |\n",
            "| : : : :\u001b[43m \u001b[0m|\n",
            "| | : | : |\n",
            "|\u001b[34;1mY\u001b[0m| : |B: |\n",
            "+---------+\n",
            "  (South)\n"
          ]
        }
      ]
    },
    {
      "cell_type": "code",
      "metadata": {
        "id": "J4RvxM03TFti"
      },
      "source": [
        ""
      ],
      "execution_count": null,
      "outputs": []
    },
    {
      "cell_type": "code",
      "metadata": {
        "id": "3SdDZUxC9c_8",
        "colab": {
          "base_uri": "https://localhost:8080/"
        },
        "outputId": "662bad6a-d634-4a65-b6de-a34c94cd27ab"
      },
      "source": [
        "state = env.encode(1,2,3,0) #(taxi row, taxi column, passenger index, destinationi index)\n",
        "print(\"state:\", state)\n",
        "\n",
        "env.s = state\n",
        "env.render()"
      ],
      "execution_count": 11,
      "outputs": [
        {
          "output_type": "stream",
          "name": "stdout",
          "text": [
            "state: 152\n",
            "+---------+\n",
            "|\u001b[35mR\u001b[0m: | : :G|\n",
            "| : |\u001b[43m \u001b[0m: : |\n",
            "| : : : : |\n",
            "| | : | : |\n",
            "|Y| : |\u001b[34;1mB\u001b[0m: |\n",
            "+---------+\n",
            "  (South)\n"
          ]
        }
      ]
    },
    {
      "cell_type": "markdown",
      "metadata": {
        "id": "xJkCiRpuJT8M"
      },
      "source": [
        "각 액션이 다음 상태로 넘어갈 확률, 보상"
      ]
    },
    {
      "cell_type": "code",
      "metadata": {
        "id": "KXbglHzg9c_9",
        "colab": {
          "base_uri": "https://localhost:8080/"
        },
        "outputId": "e30b3e7a-462e-4f1e-87ce-2c69d56a19f2"
      },
      "source": [
        "# {action: [(probability, nextstate, reward, done)]}\n",
        "env.P[152]"
      ],
      "execution_count": 12,
      "outputs": [
        {
          "output_type": "execute_result",
          "data": {
            "text/plain": [
              "{0: [(1.0, 252, -1, False)],\n",
              " 1: [(1.0, 52, -1, False)],\n",
              " 2: [(1.0, 172, -1, False)],\n",
              " 3: [(1.0, 152, -1, False)],\n",
              " 4: [(1.0, 152, -10, False)],\n",
              " 5: [(1.0, 152, -10, False)]}"
            ]
          },
          "metadata": {},
          "execution_count": 12
        }
      ]
    },
    {
      "cell_type": "code",
      "metadata": {
        "id": "GuF-9-udKODf"
      },
      "source": [
        ""
      ],
      "execution_count": null,
      "outputs": []
    },
    {
      "cell_type": "code",
      "metadata": {
        "id": "CjiEPX59K0IO"
      },
      "source": [
        ""
      ],
      "execution_count": null,
      "outputs": []
    },
    {
      "cell_type": "markdown",
      "metadata": {
        "id": "ok1F7uERT33d"
      },
      "source": [
        "랜덤한 액션을 취해서 승객 한명을 목적지까지 태워줍니다"
      ]
    },
    {
      "cell_type": "code",
      "metadata": {
        "id": "9AOyXKJH9c_9",
        "colab": {
          "base_uri": "https://localhost:8080/"
        },
        "outputId": "793a4102-76c9-4c21-e776-73bac5e42944"
      },
      "source": [
        "env.s = 408\n",
        "epochs = 0\n",
        "penalties, reward = 0, 0\n",
        "frames = []\n",
        "done = False\n",
        "\n",
        "while not done:\n",
        "    action = env.action_space.sample()\n",
        "    state, reward, done, info = env.step(action)\n",
        "\n",
        "    if reward == -10:\n",
        "        penalties += 1\n",
        "\n",
        "    frames.append({\n",
        "        'frame': env.render(mode='ansi'),\n",
        "        'state': state,\n",
        "        'action': action,\n",
        "        'reward': reward\n",
        "    })\n",
        "\n",
        "    epochs += 1\n",
        "print(\"Timestep taken: {}\" .format(epochs))\n",
        "print(\"penalties incurred: {}\" .format(penalties))"
      ],
      "execution_count": 19,
      "outputs": [
        {
          "output_type": "stream",
          "name": "stdout",
          "text": [
            "Timestep taken: 208\n",
            "penalties incurred: 65\n"
          ]
        }
      ]
    },
    {
      "cell_type": "code",
      "metadata": {
        "id": "nJIiYHOu9c_9",
        "colab": {
          "base_uri": "https://localhost:8080/"
        },
        "outputId": "4713b2b3-9c5a-4ca7-b9b2-32d4ee8e6d75"
      },
      "source": [
        "len(frames)"
      ],
      "execution_count": 21,
      "outputs": [
        {
          "output_type": "execute_result",
          "data": {
            "text/plain": [
              "208"
            ]
          },
          "metadata": {},
          "execution_count": 21
        }
      ]
    },
    {
      "cell_type": "code",
      "metadata": {
        "id": "Kix0PYVtZCnl",
        "colab": {
          "base_uri": "https://localhost:8080/",
          "height": 35
        },
        "outputId": "d8bea0ce-b7f6-4213-b3dd-48de7424302e"
      },
      "source": [
        "frames[0]['frame']"
      ],
      "execution_count": 22,
      "outputs": [
        {
          "output_type": "execute_result",
          "data": {
            "application/vnd.google.colaboratory.intrinsic+json": {
              "type": "string"
            },
            "text/plain": [
              "'+---------+\\n|\\x1b[35mR\\x1b[0m: | : :G|\\n| : | : : |\\n| : : : : |\\n| | : | : |\\n|\\x1b[34;1m\\x1b[43mY\\x1b[0m\\x1b[0m| : |B: |\\n+---------+\\n  (West)\\n'"
            ]
          },
          "metadata": {},
          "execution_count": 22
        }
      ]
    },
    {
      "cell_type": "code",
      "metadata": {
        "id": "d_7XTVfm9c_-",
        "colab": {
          "base_uri": "https://localhost:8080/"
        },
        "outputId": "d48440d5-65a6-45bb-b953-0f7c1aabf55b"
      },
      "source": [
        "frame_num = -1\n",
        "print(frames[frame_num]['frame'])\n",
        "print(frames[frame_num]['state'])\n",
        "print(frames[frame_num]['action'])\n",
        "print(frames[frame_num]['reward'])"
      ],
      "execution_count": 23,
      "outputs": [
        {
          "output_type": "stream",
          "name": "stdout",
          "text": [
            "+---------+\n",
            "|\u001b[35m\u001b[34;1m\u001b[43mR\u001b[0m\u001b[0m\u001b[0m: | : :G|\n",
            "| : | : : |\n",
            "| : : : : |\n",
            "| | : | : |\n",
            "|Y| : |B: |\n",
            "+---------+\n",
            "  (Dropoff)\n",
            "\n",
            "0\n",
            "5\n",
            "20\n"
          ]
        }
      ]
    },
    {
      "cell_type": "markdown",
      "metadata": {
        "id": "ME4Vb4B4Udqh"
      },
      "source": [
        "시작부터 그림으로 나타내봅시다"
      ]
    },
    {
      "cell_type": "code",
      "metadata": {
        "id": "kyx9xuB49c__",
        "colab": {
          "base_uri": "https://localhost:8080/",
          "height": 161
        },
        "outputId": "379dc014-f8a9-4b61-a7a9-ee3433255407"
      },
      "source": [
        "from IPython.display import clear_output, Pretty, display\n",
        "import time\n",
        "\n",
        "def print_frames(frames, term = True):\n",
        "    if term:\n",
        "        for i, frame in enumerate(frames):\n",
        "            clear_output(wait=True)\n",
        "            display(Pretty(frame['frame']))\n",
        "            time.sleep(0.3)\n",
        "    \n",
        "    else:\n",
        "        for i, frame in enumerate(frames):\n",
        "            clear_output(wait=True)\n",
        "            display(Pretty(frame['frame']))\n",
        "\n",
        "\n",
        "print_frames(frames[:], False)"
      ],
      "execution_count": 29,
      "outputs": [
        {
          "output_type": "display_data",
          "data": {
            "text/plain": [
              "+---------+\n",
              "|\u001b[35m\u001b[34;1m\u001b[43mR\u001b[0m\u001b[0m\u001b[0m: | : :G|\n",
              "| : | : : |\n",
              "| : : : : |\n",
              "| | : | : |\n",
              "|Y| : |B: |\n",
              "+---------+\n",
              "  (Dropoff)\n"
            ]
          },
          "metadata": {}
        }
      ]
    },
    {
      "cell_type": "markdown",
      "metadata": {
        "id": "voavsZAKWCQW"
      },
      "source": [
        "Q-table을 만들고, 이를 학습합니다\n"
      ]
    },
    {
      "cell_type": "code",
      "metadata": {
        "id": "Oes1cP779c__",
        "colab": {
          "base_uri": "https://localhost:8080/"
        },
        "outputId": "0faa06c2-9ede-4fa7-ad11-cbee72645848"
      },
      "source": [
        "import numpy as np\n",
        "q_table = np.zeros([env.observation_space.n, env.action_space.n])\n",
        "print(q_table.shape)"
      ],
      "execution_count": 30,
      "outputs": [
        {
          "output_type": "stream",
          "name": "stdout",
          "text": [
            "(500, 6)\n"
          ]
        }
      ]
    },
    {
      "cell_type": "code",
      "metadata": {
        "id": "BH4PybfDOSIQ"
      },
      "source": [
        "print(q_table[408])\n",
        "print()\n",
        "env.s = 408\n",
        "env.render()"
      ],
      "execution_count": null,
      "outputs": []
    },
    {
      "cell_type": "code",
      "metadata": {
        "id": "6XxvRMcm9dAA",
        "colab": {
          "base_uri": "https://localhost:8080/"
        },
        "outputId": "89006248-c47c-4cbe-c765-23bffba10f74"
      },
      "source": [
        "%%time\n",
        "\n",
        "import random\n",
        "\n",
        "alpha = 0.1\n",
        "gamma = 0.6\n",
        "epsilon = 0.1\n",
        "\n",
        "all_epochs = []\n",
        "all_penalties = []\n",
        "\n",
        "for i in range(1, 100001):\n",
        "    state = env.reset()\n",
        "\n",
        "    epochs, penalties, reward = 0, 0, 0\n",
        "    done = False\n",
        "    while not done:\n",
        "        if random.uniform(0, 1) < epsilon:\n",
        "            action = env.action_space.sample() \n",
        "        else:\n",
        "            action = np.argmax(q_table[state])\n",
        "\n",
        "        next_state, reward, done, info = env.step(action)\n",
        "\n",
        "        old_value = q_table[state, action]\n",
        "        next_max = np.max(q_table[next_state])\n",
        "\n",
        "        new_value = (1 - alpha) * old_value + alpha * (reward + gamma * next_max)\n",
        "        q_table[state, action] = new_value\n",
        "\n",
        "        if reward == -10:\n",
        "            penalties += 1\n",
        "\n",
        "        state = next_state\n",
        "        epochs += 1\n",
        "\n",
        "    if i % 100 == 0:\n",
        "        clear_output(wait=True)\n",
        "        print(f\"Episode: {i}\")\n",
        "    \n",
        "print(\"Training Finishing.\\n\")"
      ],
      "execution_count": 31,
      "outputs": [
        {
          "output_type": "stream",
          "name": "stdout",
          "text": [
            "Episode: 100000\n",
            "Training Finishing.\n",
            "\n",
            "CPU times: user 1min 37s, sys: 22.2 s, total: 1min 59s\n",
            "Wall time: 1min 42s\n"
          ]
        }
      ]
    },
    {
      "cell_type": "markdown",
      "metadata": {
        "id": "oI_lS65PWQUG"
      },
      "source": [
        "학습한 Q-table을 확인해봅니다"
      ]
    },
    {
      "cell_type": "code",
      "metadata": {
        "id": "kM9Rk8Wp9dAA",
        "colab": {
          "base_uri": "https://localhost:8080/"
        },
        "outputId": "44d25105-3ec7-44d6-8888-d26b6b26fd6f"
      },
      "source": [
        "env.reset()\n",
        "env.s = 408\n",
        "print(q_table[408])\n",
        "print()\n",
        "env.render()\n",
        "\n",
        "print(np.argmax(q_table[408]))"
      ],
      "execution_count": 32,
      "outputs": [
        {
          "output_type": "stream",
          "name": "stdout",
          "text": [
            "[ -1.45024     -1.870144    -1.45024001  -1.45024     -0.7504\n",
            " -10.45023842]\n",
            "\n",
            "+---------+\n",
            "|\u001b[35mR\u001b[0m: | : :G|\n",
            "| : | : : |\n",
            "| : : : : |\n",
            "| | : | : |\n",
            "|\u001b[34;1m\u001b[43mY\u001b[0m\u001b[0m| : |B: |\n",
            "+---------+\n",
            "\n",
            "4\n"
          ]
        }
      ]
    },
    {
      "cell_type": "code",
      "metadata": {
        "id": "JYHWGwqeRZGG",
        "colab": {
          "base_uri": "https://localhost:8080/",
          "height": 161
        },
        "outputId": "f463870a-3c02-4092-c67b-13f2382c9efd"
      },
      "source": [
        "frames = []\n",
        "env.s = env.encode(4,4,0,3)\n",
        "done = False\n",
        "\n",
        "while not done:\n",
        "    trained_action = np.argmax(q_table[env.s])\n",
        "    state, reward, done, info = env.step(trained_action)\n",
        "    \n",
        "    frames.append({\n",
        "        'frame': env.render(mode='ansi'),\n",
        "        'state': state,\n",
        "        'action': action,\n",
        "        'reward': reward\n",
        "        }\n",
        "    )\n",
        "\n",
        "print_frames(frames, True)"
      ],
      "execution_count": 34,
      "outputs": [
        {
          "output_type": "display_data",
          "data": {
            "text/plain": [
              "+---------+\n",
              "|R: | : :G|\n",
              "| : | : : |\n",
              "| : : : : |\n",
              "| | : | : |\n",
              "|Y| : |\u001b[35m\u001b[34;1m\u001b[43mB\u001b[0m\u001b[0m\u001b[0m: |\n",
              "+---------+\n",
              "  (Dropoff)\n"
            ]
          },
          "metadata": {}
        }
      ]
    },
    {
      "cell_type": "code",
      "metadata": {
        "id": "vLO3OHbOX3ws",
        "colab": {
          "base_uri": "https://localhost:8080/"
        },
        "outputId": "efa28c6b-05d1-4950-fb43-31b556076906"
      },
      "source": [
        "len(frames)"
      ],
      "execution_count": 35,
      "outputs": [
        {
          "output_type": "execute_result",
          "data": {
            "text/plain": [
              "17"
            ]
          },
          "metadata": {},
          "execution_count": 35
        }
      ]
    },
    {
      "cell_type": "code",
      "metadata": {
        "id": "Viks7wjC9dAB",
        "colab": {
          "base_uri": "https://localhost:8080/"
        },
        "outputId": "d1c857ed-4a63-4cb8-d059-86fc19a17c35"
      },
      "source": [
        "total_epochs, total_penalties = 0,0\n",
        "episodes = 100\n",
        "for _ in range(episodes):\n",
        "    state = env.reset()\n",
        "    epochs, penalties, reward = 0, 0, 0\n",
        "    \n",
        "    done = False\n",
        "    \n",
        "    while not done:\n",
        "        action = np.argmax(q_table[state])\n",
        "        state, reward, done, info = env.step(action)\n",
        "\n",
        "        if reward == -10:\n",
        "            penalties += 1\n",
        "\n",
        "        epochs += 1\n",
        "\n",
        "    total_penalties += penalties\n",
        "    total_epochs += epochs\n",
        "\n",
        "print(f\"Results after {episodes} episodes\")\n",
        "print(f\"Average timesteps per episode: {total_epochs / episodes}\")\n",
        "print(f\"Average penalties per episode: {total_penalties / episodes}\")"
      ],
      "execution_count": 36,
      "outputs": [
        {
          "output_type": "stream",
          "name": "stdout",
          "text": [
            "Results after 100 episodes\n",
            "Average timesteps per episode: 13.38\n",
            "Average penalties per episode: 0.0\n"
          ]
        }
      ]
    },
    {
      "cell_type": "code",
      "metadata": {
        "id": "INautnr_aPqW"
      },
      "source": [
        ""
      ],
      "execution_count": null,
      "outputs": []
    },
    {
      "cell_type": "code",
      "metadata": {
        "id": "palraQwC7I1P"
      },
      "source": [
        ""
      ],
      "execution_count": null,
      "outputs": []
    }
  ]
}