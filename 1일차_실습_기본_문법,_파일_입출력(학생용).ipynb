{
  "nbformat": 4,
  "nbformat_minor": 5,
  "metadata": {
    "kernelspec": {
      "display_name": "Python 3",
      "language": "python",
      "name": "python3"
    },
    "language_info": {
      "codemirror_mode": {
        "name": "ipython",
        "version": 3
      },
      "file_extension": ".py",
      "mimetype": "text/x-python",
      "name": "python",
      "nbconvert_exporter": "python",
      "pygments_lexer": "ipython3",
      "version": "3.6.13"
    },
    "colab": {
      "name": "1일차_실습_기본 문법, 파일 입출력(학생용).ipynb",
      "provenance": [],
      "include_colab_link": true
    }
  },
  "cells": [
    {
      "cell_type": "markdown",
      "metadata": {
        "id": "view-in-github",
        "colab_type": "text"
      },
      "source": [
        "<a href=\"https://colab.research.google.com/github/Deep-of-Machine/AI_Academy/blob/main/1%EC%9D%BC%EC%B0%A8_%EC%8B%A4%EC%8A%B5_%EA%B8%B0%EB%B3%B8_%EB%AC%B8%EB%B2%95%2C_%ED%8C%8C%EC%9D%BC_%EC%9E%85%EC%B6%9C%EB%A0%A5(%ED%95%99%EC%83%9D%EC%9A%A9).ipynb\" target=\"_parent\"><img src=\"https://colab.research.google.com/assets/colab-badge.svg\" alt=\"Open In Colab\"/></a>"
      ]
    },
    {
      "cell_type": "markdown",
      "metadata": {
        "id": "174d15aa"
      },
      "source": [
        "# 반복문 - for\n",
        "___\n",
        "여러 대상에 대해 같은 혹은 유사한 작업을 반복해야 할 때가 많습니다. 어떤 대상에 대해 특정 작업을 하는 코드 블럭을 구성하고 이후 대상만 바꿔가며 동일한 코드를 적용하는 문법을 반복문이라 합니다. 파이썬에서는 `for`, `while` 을 통해 반복문을 구성할 수 있으며 문법이 직관적이라 이해하기 쉽습니다.  "
      ],
      "id": "174d15aa"
    },
    {
      "cell_type": "markdown",
      "metadata": {
        "id": "9202cec8"
      },
      "source": [
        "`for` 문은 아래 예시와 같이 어떤 자료 묶음 안에 있는 변수들에 대해 반복작업을 할 때 사용할 수 있습니다. `for i in X:` 로 구성된 첫 문장은 직역하여 `X 안의 i 에 대하여` 로 이해할 수 있습니다. 이후 X 의 첫 번째 값에 대해 아래 코드 블럭이 실행되고, 완료되면 두 번째 값에 대해 다시 코드 블럭이 실행되는 구조로 이루어집니다. 반복되는 것을 알기 위해 앞서 배운 문자열 포맷팅을 살짝 이용해 보았습니다.\n",
        "```py\n",
        "for i in [1,2,3,4,5]:\n",
        "    print(f'{i} 번째 진행중입니다.')\n",
        "    print(i)\n",
        "```\n",
        "위의 코드를 보면 for 문 아래 두 줄이 `들여쓰기` 되어있는 것을 확인할 수 있습니다. 파이썬의 가장 큰 특징 중 하나는 위처럼 코드를 블럭으로 묶어 구성할 필요가 있을 때 {}같은 기호를 쓰지 않고 `들여쓰기`로 구분한다는 점입니다. 이 들여쓰기는 파이썬의 문법이므로 정확히 지키지 않으면 에러를 발생시키거나 블럭이 잘못 구성되어 버그를 일으키므로 주의하도록 합시다."
      ],
      "id": "9202cec8"
    },
    {
      "cell_type": "code",
      "metadata": {
        "id": "bdb35b63",
        "outputId": "07f7917c-fc6a-4175-8b37-60037e50f27b"
      },
      "source": [
        "for i in [1,2,3,4,5]:\n",
        "    print(f'{i} 번째 진행중입니다.')\n",
        "    print(i)"
      ],
      "id": "bdb35b63",
      "execution_count": null,
      "outputs": [
        {
          "name": "stdout",
          "output_type": "stream",
          "text": [
            "1 번째 진행중입니다.\n",
            "1\n",
            "2 번째 진행중입니다.\n",
            "2\n",
            "3 번째 진행중입니다.\n",
            "3\n",
            "4 번째 진행중입니다.\n",
            "4\n",
            "5 번째 진행중입니다.\n",
            "5\n"
          ]
        }
      ]
    },
    {
      "cell_type": "markdown",
      "metadata": {
        "id": "5a2025d9"
      },
      "source": [
        "`for` 문에서 반복되는 변수의 목록은 위처럼 리스트로 나타낼 수도 있지만 꼭 리스트여야 하는 것은 아닙니다. 또한 반복되는 대상이 tuple 이나 list 같은 경우 여러 성분의 이름을 한번에 설정할 수도 있습니다. 아래 예시는 리스트가 아닌 set 에 대한 반복문과 반복되는 대상이 tuple 일 때 tuple 의 각 성분을 a,b,c 로 이름지어 코드를 실행하는 것을 확인할 수 있습니다.\n",
        "```py\n",
        "for i in {1,5,4,2}:\n",
        "    print(i)\n",
        "for a,b,c in [(1,2,3),(4,5,6),(7,8,9)]:\n",
        "    print(a)\n",
        "    print(b)\n",
        "    print(c)\n",
        "```"
      ],
      "id": "5a2025d9"
    },
    {
      "cell_type": "markdown",
      "metadata": {
        "id": "0088d664"
      },
      "source": [
        "상당히 많은 경우에 a 변수는 리스트 A 에, b 변수는 리스트 B 에 나누어 저장되고 순서에 따라 짝지어진 경우가 있습니다. 예를 들어 알파벳의 묶음과 그에 대응하는 숫자의 묶음을 생각해봅시다.  \n",
        "`A=[1,2,3,4,5]`, `B=['a','b','c','d','e']`  \n",
        "이 때 A 속의 a 와 B 속의 b 의 순서를 맞춰서 반복문을 돌릴 수 있습니다. 리스트를 그대로 사용하려면 두 리스트를 묶어주는 `zip` 함수가 있으며 인덱싱을 이용할 수도 있습니다. 아래 코드를 통해 두 가지 방식의 결과를 확인합시다.\n",
        "```py\n",
        "A=[1,2,3,4,5]\n",
        "B=['a','b','c','d','e']\n",
        "for a,b in zip(A,B):\n",
        "    print(f'{a} 번째 알파벳은 {b} 입니다.')\n",
        "for i in [0,1,2,3,4]:\n",
        "    print(f'{A[i]} 번째 알파벳은 {B[i]} 입니다.')\n",
        "```"
      ],
      "id": "0088d664"
    },
    {
      "cell_type": "markdown",
      "metadata": {
        "id": "f431030e"
      },
      "source": [
        "위의 예시에서 볼 수 있듯이 인덱싱을 통해 반복문을 사용할 때가 있습니다. 이 경우 위처럼 사용할 인덱싱을 리스트로 하나하나 입력하는 것은 매우 번거롭기 때문에 파이썬에서는 기본적으로 `range` 를 통해 일정 범위의 정수들을 쉽게 리스트로 만들 수 있습니다. 아래 예시를 통해 앞서 배운 슬라이싱과 비교해봅시다.\n",
        "\n",
        "|range|결과리스트|\n",
        "|--|----------|\n",
        "|range(n) | [0,1,2,$\\cdots$,n-1] |\n",
        "|range(m,n) | [m,m+1,m+2,$\\cdots$,n-1]|\n",
        "|range(m,n,d) | [m,m+d,m+2d,$\\cdots$,] |\n",
        "\n",
        "```py\n",
        "for i in range(5):\n",
        "    print(i)\n",
        "```"
      ],
      "id": "f431030e"
    },
    {
      "cell_type": "markdown",
      "metadata": {
        "id": "bb908d3e"
      },
      "source": [
        "# 가정문\n",
        "___\n",
        "또 다른 반복문인 while 문을 배우기 전에 조건에 따라 다른 작업을 수행하도록 하는 가정문에 대해 배워봅시다.  \n",
        "파이썬의 코드는 가정문 역시 직관적으로 이해되는 쉬운 구성으로 이루어져 있습니다. `for` 문과 마찬가지로 코드 블럭은 들여쓰기로 구성되며 가정문의 시작은 `if 가정:` 과 `elif:`, `else:` 로 이루어집니다. 아래 예시를 보면 이해하기 쉽습니다.\n",
        "```py\n",
        "for a in [1,2,3,4,5]:\n",
        "    if a % 2 == 0:\n",
        "        print(f'{a} 는 짝수입니다.')\n",
        "    else:\n",
        "        print(f'{a} 는 홀수입니다.')\n",
        "```"
      ],
      "id": "bb908d3e"
    },
    {
      "cell_type": "markdown",
      "metadata": {
        "id": "e84ad7a0"
      },
      "source": [
        "단순작업을 하는 것 외에 리스트와 함께 활용하면 조건에 맞는 변수들을 따로 모아둘 수도 있습니다.\n",
        "```py\n",
        "A = []\n",
        "B = []\n",
        "C = []\n",
        "for i in range(100):\n",
        "    if i % 3 == 0:\n",
        "        A.append(i)\n",
        "    elif i%3 == 1:\n",
        "        B.append(i)\n",
        "    else:\n",
        "        C.append(i)\n",
        "print('A 는 3의 배수를 모아둔 리스트가 되었습니다.')\n",
        "print(A)\n",
        "print('B 는 3으로 나눈 나머지가 1 인 수가 모였습니다.')\n",
        "print(B)\n",
        "print('C 는 3으로 나눈 나머지가 2 인 수가 모였습니다.')\n",
        "print(C)\n",
        "```"
      ],
      "id": "e84ad7a0"
    },
    {
      "cell_type": "markdown",
      "metadata": {
        "id": "4ea54895"
      },
      "source": [
        "# 예제\n",
        "앞시간에 했던 전화번호 정리와 e-mail 주소 채우기를 반복문과 가정문을 활용해 모든 사람에 대해 적용할 수 있도록 해봅시다."
      ],
      "id": "4ea54895"
    },
    {
      "cell_type": "markdown",
      "metadata": {
        "id": "3de4cbbe"
      },
      "source": [
        "```py\n",
        "p1 = {'이름' : '최한결', 'e-mail' : 'hkchoi@aination.com','phone' : 123456789, '주민등록번호' : '851122-1065984'}\n",
        "p2 = {'이름' : '정은비', 'e-mail' : 'en123','phone' : '', '주민등록번호' : '041203-4526809'}\n",
        "p3 = {'이름' : '오영남', 'e-mail' : '50nam','phone' : '020-9358-6832', '주민등록번호' : '690103-1256384'}\n",
        "p4 = {'이름' : '권마리', 'e-mail' : 'kwon93@never.com','phone' : '02)5120996', '주민등록번호' : '460815-1xxxxxx'}\n",
        "people = [p1,p2,p3,p4]\n",
        "```"
      ],
      "id": "3de4cbbe"
    },
    {
      "cell_type": "markdown",
      "metadata": {
        "id": "a87fb1c2"
      },
      "source": [
        "Q1) people 안의 사람 p 에 대해서 p 의 e-mail 주소에 @ 가 있으면 기존 주소 뒤에 @google.com 을 붙이는 코드를 작성하라.\n",
        "Q2) 생년월일을 구하고 주민등록번호를 지우는 코드를 작성하라.\n",
        "Q3) 전화번호의 ) 와 - 를 지우는 코드를 작성하라."
      ],
      "id": "a87fb1c2"
    },
    {
      "cell_type": "markdown",
      "metadata": {
        "id": "80cce3e1"
      },
      "source": [
        "# 반복문 - while\n",
        "___\n",
        "일정 묶음에 속한 원소를 대상으로 반복작업을 하는 `for` 와 달리 특정 조건에 따라 반복작업을 시행할 때는 `while` 문을 사용할 수 있습니다. `If` 가정문이 뒤의 조건이 충족되는지 여부에 따라 아래의 다른 코드를 실행하듯이 `While` 문은 비슷하게 구성되어 뒤의 조건이 충족되는 동안 계쏙 아래의 코드를 실행합니다. 예제를 통해 알아봅시다.\n",
        "```py\n",
        "i=0\n",
        "while i<5:\n",
        "    print(i)\n",
        "    i = i+1\n",
        "```"
      ],
      "id": "80cce3e1"
    },
    {
      "cell_type": "markdown",
      "metadata": {
        "id": "2bdd86d0"
      },
      "source": [
        "위의 예제와 같은 코드는 `for i in [0,1,2,3,4]` 라는 `for` 문으로 대체될 수 있습니다. `while` 문의 경우 조건을 벗어나지 못해 컴퓨터가 계산을 무한히 반복하는 '무한루프'에 빠질 위험이 있기 때문에 이처럼 대체 가능한 경우에는 `for` 문을 사용하는 것이 권장됩니다. 그렇지만 아래의 예제들 처럼 언제 끝나는지 모를 경우 `while` 문을 사용해야만 할 때도 있습니다."
      ],
      "id": "2bdd86d0"
    },
    {
      "cell_type": "markdown",
      "metadata": {
        "id": "882759bc"
      },
      "source": [
        "`for` 문이나 `while` 문을 작성시 어떤 조건 하에서는 이 경우를 그냥 넘기고 다음으로 넘어가거나, 더이상 반복하지 말고 그만둘 때가 있습니다. 조건 충족시 다음 대상으로 넘어가거나 반복문 자체를 그만둘 때는 `continue` 또는 `break` 를 사용합니다. 아래 예시를 통해 결과를 확인해봅시다.\n",
        "```py\n",
        "for i in range(10):\n",
        "    if i==3:\n",
        "        continue\n",
        "    print(i)\n",
        "    if i==7:\n",
        "        break\n",
        "```"
      ],
      "id": "882759bc"
    },
    {
      "cell_type": "markdown",
      "metadata": {
        "id": "32592ea4"
      },
      "source": [
        "예제\n",
        "=="
      ],
      "id": "32592ea4"
    },
    {
      "cell_type": "markdown",
      "metadata": {
        "id": "f486e00e"
      },
      "source": [
        "Q1) 100 이하의 소수를 포함하는 리스트를 구하라"
      ],
      "id": "f486e00e"
    },
    {
      "cell_type": "code",
      "metadata": {
        "id": "232b5887",
        "outputId": "7e462510-cc14-4c2f-b622-d0f4d4c5217e"
      },
      "source": [
        "A =[]\n",
        "for i in range(2, 101):     # i 값이 2부터 1씩 증가하면서 100이 될때까지 반복\n",
        "    chk = True\n",
        "    for j in range(2, i):   # j 값이 1부터 1씩 증가하면서 i-1이 될때까지 반복\n",
        "        if i%j == 0:        # i를 j로 나눈 나머지가 0이면\n",
        "            chk = False     # chk에 False을 저장하고\n",
        "            break           # 반복문 종료\n",
        "    if chk:                 # chk 값이 False가 아니면 소수이므로 출력\n",
        "        A.append(i)\n",
        "print(A)"
      ],
      "id": "232b5887",
      "execution_count": null,
      "outputs": [
        {
          "name": "stdout",
          "output_type": "stream",
          "text": [
            "[2, 3, 5, 7, 11, 13, 17, 19, 23, 29, 31, 37, 41, 43, 47, 53, 59, 61, 67, 71, 73, 79, 83, 89, 97]\n"
          ]
        }
      ]
    },
    {
      "cell_type": "markdown",
      "metadata": {
        "id": "9fc98741"
      },
      "source": [
        "Q2) 131처럼 거꾸로 읽어도 같은 수를 회문수라 부른다. 1부터 시작할 때 100번째 회문수를 구하라."
      ],
      "id": "9fc98741"
    },
    {
      "cell_type": "code",
      "metadata": {
        "id": "34fb988f",
        "outputId": "d9a886ea-d114-4b0f-c3a2-c4a2c6e23a19"
      },
      "source": [
        "a=[]\n",
        "for A in range(1, 1000):\n",
        "    if str(A)==str(A)[::-1]:\n",
        "        a.append(A)\n",
        "        if len(a)==100:\n",
        "            print(a)\n",
        "        "
      ],
      "id": "34fb988f",
      "execution_count": null,
      "outputs": [
        {
          "name": "stdout",
          "output_type": "stream",
          "text": [
            "[1, 2, 3, 4, 5, 6, 7, 8, 9, 11, 22, 33, 44, 55, 66, 77, 88, 99, 101, 111, 121, 131, 141, 151, 161, 171, 181, 191, 202, 212, 222, 232, 242, 252, 262, 272, 282, 292, 303, 313, 323, 333, 343, 353, 363, 373, 383, 393, 404, 414, 424, 434, 444, 454, 464, 474, 484, 494, 505, 515, 525, 535, 545, 555, 565, 575, 585, 595, 606, 616, 626, 636, 646, 656, 666, 676, 686, 696, 707, 717, 727, 737, 747, 757, 767, 777, 787, 797, 808, 818, 828, 838, 848, 858, 868, 878, 888, 898, 909, 919]\n"
          ]
        }
      ]
    },
    {
      "cell_type": "markdown",
      "metadata": {
        "id": "8168d485"
      },
      "source": [
        "# 파일 입출력\n",
        "___\n",
        "마지막으로 알아볼 내용은 파일의 입출력입니다. 파이썬에는 데이터를 읽기 위한 다양한 모듈들이 설치되어 있고 다음 시간에 배워 사용할 예정이지만 모듈을 이용하지 않아고 기본적인 파일의 입력과 수정, 그리고 저장을 할 수 있습니다. 여기서는 제주도의 폭염일수 데이터를 열고 값을 읽어 분석해 보는 실습을 합니다."
      ],
      "id": "8168d485"
    },
    {
      "cell_type": "markdown",
      "metadata": {
        "id": "2b985b7a"
      },
      "source": [
        "기본적으로 파일을 읽을 때는 `open` 명령을 사용합니다. 이 때 단순히 값을 읽기만 한다면 `read` 모드를, 값을 덮어쓰기를 원한다면 `write` 모드를, 기존 값에 추가로 덧붙이기를 원한다면 `add` 모드를 사용합니다.  \n",
        "`open` 을 통해 읽은 파일은 `readline` 을 통해 한 줄씩 값을 읽거나 `readlines` 를 통해 여러 줄을 한 번에 읽을 수 있습니다. `readlines` 로 여러 줄을 읽는 경우 각 줄을 리스트로 나열해 값을 반환합니다.  \n",
        "파일을 읽거나 수정하는 작업이 끝나면 이후의 수정이나 메모리 오류를 방지하기 위해 `close` 명령을 통해 닫아주도록 합시다."
      ],
      "id": "2b985b7a"
    },
    {
      "cell_type": "code",
      "metadata": {
        "id": "9d70e4d2",
        "outputId": "fae1c011-a47f-4ef0-8ad5-ff3a955bbf1a"
      },
      "source": [
        "f = open(\"../data/제주폭염일수.csv\", mode='r', encoding='utf-8')\n",
        "type(f)"
      ],
      "id": "9d70e4d2",
      "execution_count": null,
      "outputs": [
        {
          "data": {
            "text/plain": [
              "_io.TextIOWrapper"
            ]
          },
          "execution_count": 37,
          "metadata": {},
          "output_type": "execute_result"
        }
      ]
    },
    {
      "cell_type": "markdown",
      "metadata": {
        "id": "956c813d"
      },
      "source": [
        "open 과 close 는 항상 쌍을 이루며 나타나는데 매번 입력하는 것은 번거롭기 때문에 특정 코드 블럭을 실행하는 동안에만 파일을 열어두는 기능을 제공합니다. `with` 문을 사용하면 아래의 들여쓴 블럭에서는 파일이 열린 상태이지만 블럭이 끝나고 `with` 문을 벗어나면 자동으로 파일이 닫힙니다."
      ],
      "id": "956c813d"
    },
    {
      "cell_type": "markdown",
      "metadata": {
        "id": "c610146f"
      },
      "source": [
        "이번에는 실제 데이터가 저장된 파일을 읽어 분석할 수 있는 형태로 만들어봅시다.  \n",
        "csv(comma-separated values) 라고 불리는 파일 형식은 데이터를 ',' 로 구분하여 나타낸 것을 의미합니다.  \n",
        "data 폴더의 제주 폭염일수 정보를 불러와 읽고 우리가 다룰 수 있도록 사전식으로 저장하는 코드를 작성해봅시다."
      ],
      "id": "c610146f"
    },
    {
      "cell_type": "markdown",
      "metadata": {
        "id": "e63cacbc"
      },
      "source": [
        "예제\n",
        "=="
      ],
      "id": "e63cacbc"
    },
    {
      "cell_type": "markdown",
      "metadata": {
        "id": "c847b3a6"
      },
      "source": [
        "Q1) 주어진 { 연도 : 월별 폭염일수 } 데이터를 { 월 : 연도별 폭염일수 } 형태를 가지는 데이터로 수정하라."
      ],
      "id": "c847b3a6"
    },
    {
      "cell_type": "markdown",
      "metadata": {
        "id": "8db25567"
      },
      "source": [
        "Q2) 각 월별 평년 폭염일수(이전 30년간의 평균)를 구하라."
      ],
      "id": "8db25567"
    },
    {
      "cell_type": "markdown",
      "metadata": {
        "id": "8ebe695b"
      },
      "source": [
        "Q3) 1999년 이전의 평균 폭염일수와 2000년 이전의 월별 평균을 비교하라."
      ],
      "id": "8ebe695b"
    },
    {
      "cell_type": "code",
      "metadata": {
        "id": "cebe547e"
      },
      "source": [
        ""
      ],
      "id": "cebe547e",
      "execution_count": null,
      "outputs": []
    },
    {
      "cell_type": "code",
      "metadata": {
        "id": "f3b28651"
      },
      "source": [
        ""
      ],
      "id": "f3b28651",
      "execution_count": null,
      "outputs": []
    },
    {
      "cell_type": "code",
      "metadata": {
        "id": "a930a33f"
      },
      "source": [
        ""
      ],
      "id": "a930a33f",
      "execution_count": null,
      "outputs": []
    },
    {
      "cell_type": "code",
      "metadata": {
        "id": "92c7aba3"
      },
      "source": [
        ""
      ],
      "id": "92c7aba3",
      "execution_count": null,
      "outputs": []
    },
    {
      "cell_type": "code",
      "metadata": {
        "id": "b922f52e"
      },
      "source": [
        ""
      ],
      "id": "b922f52e",
      "execution_count": null,
      "outputs": []
    }
  ]
}