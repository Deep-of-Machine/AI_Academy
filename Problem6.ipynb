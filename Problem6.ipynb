{
  "cells": [
    {
      "cell_type": "markdown",
      "metadata": {
        "id": "view-in-github",
        "colab_type": "text"
      },
      "source": [
        "<a href=\"https://colab.research.google.com/github/Deep-of-Machine/AI_Academy/blob/main/Problem6.ipynb\" target=\"_parent\"><img src=\"https://colab.research.google.com/assets/colab-badge.svg\" alt=\"Open In Colab\"/></a>"
      ]
    },
    {
      "cell_type": "code",
      "execution_count": null,
      "metadata": {
        "id": "E6DZjzovbMoU"
      },
      "outputs": [],
      "source": [
        "import numpy as np\n",
        "import matplotlib.pyplot as plt\n",
        "\n",
        "import torch\n",
        "from torch import nn, optim\n",
        "import torch.nn.functional as F\n",
        "from torch.utils.data import DataLoader\n",
        "from torchvision import datasets, transforms"
      ]
    },
    {
      "cell_type": "code",
      "execution_count": null,
      "metadata": {
        "id": "vs9WmWcDJbOU"
      },
      "outputs": [],
      "source": [
        "transform_train = transforms.Compose([transforms.ToTensor(),\n",
        "                                      transforms.Normalize((0.4914, 0.4822, 0.4465), (0.2023, 0.1994, 0.2010)),                            \n",
        "                                      transforms.RandomCrop(32, padding=4),\n",
        "                                      transforms.RandomHorizontalFlip(),\n",
        "                                      transforms.RandomRotation(degrees=(-45, 45)),\n",
        "                                      ])\n",
        "\n",
        "# (0.5071, 0.4867, 0.4408), (0.2675, 0.2565, 0.2761)(0.4914, 0.4822, 0.4465), (0.2023, 0.1994, 0.2010)"
      ]
    },
    {
      "cell_type": "code",
      "execution_count": null,
      "metadata": {
        "id": "Ebr4D2jRjkod",
        "outputId": "2bd68b2b-c62e-430b-d84f-c635dd05ebbb"
      },
      "outputs": [
        {
          "name": "stdout",
          "output_type": "stream",
          "text": [
            "Files already downloaded and verified\n"
          ]
        }
      ],
      "source": [
        "train_dataset = datasets.CIFAR100(root = 'C:/Users/tjgus/OneDrive/바탕 화면/Final_project_coding/data', train = True, download = True, transform = transform_train)"
      ]
    },
    {
      "cell_type": "code",
      "execution_count": null,
      "metadata": {
        "id": "1lQXsJ2PJbOW",
        "outputId": "49f86bb4-530e-4318-b93d-06838ee0c041"
      },
      "outputs": [
        {
          "data": {
            "text/plain": [
              "Dataset CIFAR100\n",
              "    Number of datapoints: 50000\n",
              "    Root location: C:/Users/tjgus/OneDrive/바탕 화면/Final_project_coding/data\n",
              "    Split: Train\n",
              "    StandardTransform\n",
              "Transform: Compose(\n",
              "               ToTensor()\n",
              "               Normalize(mean=(0.4914, 0.4822, 0.4465), std=(0.2023, 0.1994, 0.201))\n",
              "               RandomCrop(size=(32, 32), padding=4)\n",
              "               RandomHorizontalFlip(p=0.5)\n",
              "               RandomRotation(degrees=[-45.0, 45.0], interpolation=nearest, expand=False, fill=0)\n",
              "           )"
            ]
          },
          "execution_count": 167,
          "metadata": {},
          "output_type": "execute_result"
        }
      ],
      "source": [
        "train_dataset"
      ]
    },
    {
      "cell_type": "code",
      "execution_count": null,
      "metadata": {
        "id": "eq3KJZoqJbOX"
      },
      "outputs": [],
      "source": [
        "train_dataset, val_dataset = torch.utils.data.random_split(train_dataset, [49000, 1000])"
      ]
    },
    {
      "cell_type": "code",
      "execution_count": null,
      "metadata": {
        "id": "ChI4swCyJbOY"
      },
      "outputs": [],
      "source": [
        "train_loader = DataLoader(train_dataset, batch_size=500, shuffle=True)\n",
        "val_loader = DataLoader(val_dataset, batch_size=500, shuffle=False)"
      ]
    },
    {
      "cell_type": "code",
      "execution_count": null,
      "metadata": {
        "id": "TQvT4CbQJbOY"
      },
      "outputs": [],
      "source": [
        "for mini_batch in train_loader:\n",
        "    first_batch = mini_batch\n",
        "    break\n",
        "\n",
        "images = first_batch[0]\n",
        "labels = first_batch[1]"
      ]
    },
    {
      "cell_type": "code",
      "execution_count": null,
      "metadata": {
        "id": "Q8g0Dx4AJbOZ",
        "outputId": "a0573f05-87ba-4507-d0b1-909a49cb5add"
      },
      "outputs": [
        {
          "name": "stdout",
          "output_type": "stream",
          "text": [
            "49000\n",
            "1000\n"
          ]
        }
      ],
      "source": [
        "print(len(train_dataset))\n",
        "print(len(val_dataset))"
      ]
    },
    {
      "cell_type": "code",
      "execution_count": null,
      "metadata": {
        "id": "aUthtFyYJbOa",
        "outputId": "1c19f6f7-9a0c-4669-f52f-9d2517e82f16"
      },
      "outputs": [
        {
          "data": {
            "text/plain": [
              "(torch.Size([500, 3, 32, 32]), torch.Size([500]))"
            ]
          },
          "execution_count": 174,
          "metadata": {},
          "output_type": "execute_result"
        }
      ],
      "source": [
        "images.shape, labels.shape"
      ]
    },
    {
      "cell_type": "code",
      "execution_count": null,
      "metadata": {
        "id": "7jwIJY7iJbOa",
        "outputId": "fc1c24bc-432f-4c5a-d6a6-f9d652b316e8"
      },
      "outputs": [
        {
          "data": {
            "text/plain": [
              "torch.Size([3, 32, 32])"
            ]
          },
          "execution_count": 175,
          "metadata": {},
          "output_type": "execute_result"
        }
      ],
      "source": [
        "images[0].shape"
      ]
    },
    {
      "cell_type": "code",
      "execution_count": null,
      "metadata": {
        "id": "kHuF6WJSJbOb",
        "outputId": "a8cd292e-7345-4392-a0a1-65ae0f6711ce"
      },
      "outputs": [
        {
          "data": {
            "text/plain": [
              "(3, 32, 32)"
            ]
          },
          "execution_count": 176,
          "metadata": {},
          "output_type": "execute_result"
        }
      ],
      "source": [
        "images[0].numpy().shape"
      ]
    },
    {
      "cell_type": "code",
      "execution_count": null,
      "metadata": {
        "id": "SupWYW51JbOc",
        "outputId": "7ead5cb5-783b-4497-dcbb-ec88485aaef6"
      },
      "outputs": [
        {
          "data": {
            "text/plain": [
              "(32, 32, 3)"
            ]
          },
          "execution_count": 177,
          "metadata": {},
          "output_type": "execute_result"
        }
      ],
      "source": [
        "np.transpose(images[0].numpy(), (1,2,0)).shape"
      ]
    },
    {
      "cell_type": "code",
      "execution_count": null,
      "metadata": {
        "id": "GkWUCF_NJbOc",
        "outputId": "838f9b6f-648f-497e-d2f1-4e7e6f6b6613"
      },
      "outputs": [
        {
          "name": "stderr",
          "output_type": "stream",
          "text": [
            "Clipping input data to the valid range for imshow with RGB data ([0..1] for floats or [0..255] for integers).\n"
          ]
        },
        {
          "data": {
            "image/png": "[encoded data removed]",
            "text/plain": [
              "<Figure size 432x288 with 1 Axes>"
            ]
          },
          "metadata": {
            "needs_background": "light"
          },
          "output_type": "display_data"
        }
      ],
      "source": [
        "plt.imshow(np.transpose(images[0].numpy(), (1,2,0)))\n",
        "plt.show()"
      ]
    },
    {
      "cell_type": "code",
      "execution_count": null,
      "metadata": {
        "id": "vIwZw_ZbJbOd"
      },
      "outputs": [],
      "source": [
        ""
      ]
    },
    {
      "cell_type": "code",
      "execution_count": null,
      "metadata": {
        "id": "mDP5jgEvJbOd"
      },
      "outputs": [],
      "source": [
        "def conv3x3(in_planes, out_planes, stride=1, bias=False):\n",
        "  \"\"\"3x3 convolution with padding\"\"\"\n",
        "  return nn.Conv2d(in_planes, out_planes, kernel_size=3, stride=stride,\n",
        "                   padding=1, bias=bias)\n",
        "\n",
        "def variable_init(m, neg_slope=0.0):\n",
        "  if isinstance(m, (nn.Linear, nn.Conv2d)):\n",
        "    nn.init.kaiming_uniform_(m.weight.data, neg_slope)\n",
        "    if m.bias is not None:\n",
        "      m.bias.data.zero_()\n",
        "  elif isinstance(m, nn.BatchNorm2d):\n",
        "    if m.weight is not None:\n",
        "      m.weight.data.fill_(1)\n",
        "    if m.bias is not None:\n",
        "      m.bias.data.zero_()\n",
        "    m.running_mean.zero_()\n",
        "    m.running_var.zero_()\n",
        "\n",
        "class PlusMinusOne(object):\n",
        "  \"\"\" Scales values that are between [0, 1] into [-1, 1]. \"\"\"\n",
        "  \n",
        "  def __init__(self):\n",
        "    pass\n",
        "\n",
        "  def __call__(self, x):\n",
        "    x = 2.0 * x - 1.0\n",
        "    return x    \n",
        "\n",
        "import torch\n",
        "import torch.nn as nn\n",
        "\n",
        "def _down_sample(x):\n",
        "  return nn.functional.avg_pool2d(x, 2, 2)\n",
        "\n",
        "def _increase_planes(x, n_out_planes):\n",
        "  n_samples, n_planes, spatial_size = x.size()[:-1]\n",
        "  x_zeros = torch.zeros(\n",
        "    n_samples, n_out_planes - n_planes, spatial_size, spatial_size, \n",
        "    dtype=x.dtype, device=x.device)\n",
        "  return torch.cat([x, x_zeros], 1)\n",
        "\n",
        "def _downsample_and_increase_planes(x, n_out_planes):\n",
        "  x = _down_sample(x)\n",
        "  x = _increase_planes(x, n_out_planes)\n",
        "  return x\n",
        "\n",
        "def identity_func(n_in_planes, n_out_planes, stride):\n",
        "  identity = lambda x: x\n",
        "  if stride == 2 and n_in_planes != n_out_planes:\n",
        "    identity = lambda x: _downsample_and_increase_planes(x, n_out_planes)\n",
        "  elif stride == 2:\n",
        "    identity = _down_sample\n",
        "  elif n_in_planes != n_out_planes:\n",
        "    identity = lambda x: _increase_planes(x, n_out_planes)\n",
        "  return identity\n",
        "\n",
        "class BasicBlock(nn.Module):\n",
        "\n",
        "  expansion = 1\n",
        "\n",
        "  def __init__(self, n_in_planes, n_out_planes, stride=1):\n",
        "    super().__init__()\n",
        "    assert stride == 1 or stride == 2\n",
        "\n",
        "    self.block = nn.Sequential(\n",
        "      conv3x3(n_in_planes, n_out_planes, stride),\n",
        "      nn.BatchNorm2d(n_out_planes),\n",
        "      nn.ReLU(inplace=True),\n",
        "      conv3x3(n_out_planes, n_out_planes),\n",
        "      nn.BatchNorm2d(n_out_planes)\n",
        "    )\n",
        "\n",
        "    self.identity = identity_func(n_in_planes, n_out_planes, stride)\n",
        "\n",
        "  def forward(self, x):\n",
        "    out = self.block(x)\n",
        "    identity = self.identity(x)\n",
        "\n",
        "    out += identity\n",
        "    out = nn.functional.relu(out)\n",
        "    return out\n",
        "\n",
        "class Bottleneck(nn.Module):\n",
        "\n",
        "  expansion = 4\n",
        "\n",
        "  def __init__(self, n_in_planes, n_out_planes, stride=1):\n",
        "    super().__init__()\n",
        "    \n",
        "    self.conv1 = nn.Conv2d(n_in_planes, n_out_planes, kernel_size=1)\n",
        "    self.bn1 = nn.BatchNorm2d(n_out_planes)\n",
        "\n",
        "    self.conv2 = conv3x3(n_out_planes, n_out_planes, stride)\n",
        "    self.bn2 = nn.BatchNorm2d(n_out_planes)\n",
        "\n",
        "    self.conv3 = nn.Conv2d(n_out_planes, n_out_planes * 4, kernel_size=1)\n",
        "    self.bn3 = nn.BatchNorm2d(n_out_planes * 4)\n",
        "\n",
        "    self.relu = nn.ReLU(inplace=True)\n",
        "    self.identity = identity_func(n_in_planes, n_out_planes * 4, stride)\n",
        "\n",
        "  def forward(self, x):\n",
        "    out = self.conv1(x)\n",
        "    out = self.bn1(out)\n",
        "    out = self.relu(out)\n",
        "\n",
        "    out = self.conv2(out)\n",
        "    out = self.bn2(out)\n",
        "    out = self.relu(out)\n",
        "\n",
        "    out = self.conv3(out)\n",
        "    out = self.bn3(out)\n",
        "\n",
        "    identity = self.identity(x)\n",
        "    out += identity\n",
        "    out = self.relu(out)\n",
        "\n",
        "    return out\n",
        "\n",
        "class ResNet(nn.Module):\n",
        "\n",
        "  def __init__(self, block, \n",
        "                     n_blocks, \n",
        "                     n_output_planes, \n",
        "                     n_classes):\n",
        "    super(ResNet, self).__init__()\n",
        "    assert len(n_blocks) == 4\n",
        "    assert len(n_output_planes) == 4\n",
        "    \n",
        "    self.n_in_planes = n_output_planes[0]\n",
        "\n",
        "    self.layer0 = nn.Sequential(\n",
        "      conv3x3(3, self.n_in_planes),\n",
        "      nn.BatchNorm2d(self.n_in_planes),\n",
        "      nn.ReLU(inplace=True)\n",
        "    )\n",
        "    self.layer1 = self._make_layer(block, n_blocks[0], n_output_planes[0])\n",
        "    self.layer2 = self._make_layer(block, n_blocks[1], n_output_planes[1], 2)\n",
        "    self.layer3 = self._make_layer(block, n_blocks[2], n_output_planes[2], 2)\n",
        "    self.layer4 = self._make_layer(block, n_blocks[3], n_output_planes[3], 2)\n",
        "    self.fc = nn.Linear(n_output_planes[3] * block.expansion, n_classes, False)\n",
        "\n",
        "    self.apply(variable_init)\n",
        "\n",
        "  def _make_layer(self, block, n_blocks, n_out_planes, stride=1):\n",
        "    layers = []\n",
        "    layers.append(block(self.n_in_planes, n_out_planes, stride))\n",
        "    self.n_in_planes = n_out_planes * block.expansion\n",
        "    for i in range(1, n_blocks):\n",
        "      layers.append(block(self.n_in_planes, n_out_planes))\n",
        "\n",
        "    return nn.Sequential(*layers)\n",
        "\n",
        "  def features(self, x):\n",
        "    x = self.layer0(x)\n",
        "    x = self.layer1(x)\n",
        "    x = self.layer2(x)\n",
        "    x = self.layer3(x)\n",
        "    x = self.layer4(x)\n",
        "    spatial_size = x.size(2)\n",
        "    x = nn.functional.max_pool2d(x, spatial_size, 1)\n",
        "    x = x.view(x.size(0), -1)\n",
        "    return x\n",
        "\n",
        "  def forward(self, x):\n",
        "    x = self.features(x)\n",
        "    x = self.fc(x)\n",
        "    return x\n",
        "\n",
        "def ResNet18():\n",
        "  return ResNet(BasicBlock, [2,2,2,2], n_output_planes = [64, 128, 256, 512], n_classes = 100)\n"
      ]
    },
    {
      "cell_type": "code",
      "execution_count": null,
      "metadata": {
        "id": "9Q23y_BSJbOg",
        "outputId": "5754b948-d0e3-4edb-960e-f99b05132d3f"
      },
      "outputs": [
        {
          "name": "stdout",
          "output_type": "stream",
          "text": [
            "cuda\n"
          ]
        }
      ],
      "source": [
        "device = torch.device('cuda' if torch.cuda.is_available() else 'cpu')\n",
        "print(device)"
      ]
    },
    {
      "cell_type": "code",
      "execution_count": null,
      "metadata": {
        "id": "bHsyRd8_JbOh"
      },
      "outputs": [],
      "source": [
        "model = ResNet18().to(device)"
      ]
    },
    {
      "cell_type": "code",
      "execution_count": null,
      "metadata": {
        "id": "CBfZm3bZJbOh",
        "outputId": "1748e728-74b4-4846-9b85-d132b808fbb6"
      },
      "outputs": [
        {
          "data": {
            "text/plain": [
              "torch.Size([1, 100])"
            ]
          },
          "execution_count": 182,
          "metadata": {},
          "output_type": "execute_result"
        }
      ],
      "source": [
        "model(torch.rand(1,3,32, 32).to(device)).shape"
      ]
    },
    {
      "cell_type": "code",
      "execution_count": null,
      "metadata": {
        "id": "o58MVjoVJbOi",
        "outputId": "fdd21b54-52f0-44cd-a6a3-de4402a96d84"
      },
      "outputs": [
        {
          "name": "stdout",
          "output_type": "stream",
          "text": [
            "11046208\n"
          ]
        }
      ],
      "source": [
        "total_params = sum(p.numel() for p in model.parameters() if p.requires_grad)\n",
        "print(total_params)"
      ]
    },
    {
      "cell_type": "code",
      "execution_count": null,
      "metadata": {
        "id": "rC4zeNRIjkzF"
      },
      "outputs": [],
      "source": [
        "loss_func = nn.CrossEntropyLoss()\n",
        "#optimizer = torch.optim.Adam(model.parameters(), lr=0.1)\n",
        "optimizer = torch.optim.SGD(model.parameters(), lr=0.01, momentum=0.9, weight_decay=0.0005) # .0.1 momentum=0.9, weight_decay=0.0005\n",
        "scheduler = optim.lr_scheduler.LambdaLR(optimizer=optimizer, lr_lambda=lambda epoch: 0.95 ** (epoch+70))\n",
        "#scheduler = optim.lr_scheduler.LambdaLR(optimizer=optimizer, lr_lambda=lambda epoch: 0.95 ** (epoch+50))\n",
        "#scheduler = torch.optim.lr_scheduler.CosineAnnealingLR(optimizer, T_max=100)\n",
        "#ReduceLROnPlateau(optimizer, patience=5, mode='min', verbose=1)\n",
        "#CosineAnnealingLR(optimizer, T_max=300)       lr 0.1  0.95   epoch 300"
      ]
    },
    {
      "cell_type": "code",
      "execution_count": null,
      "metadata": {
        "id": "XSAN6Z4HJbOj"
      },
      "outputs": [],
      "source": [
        "import time\n",
        "def train():\n",
        "    model.train()\n",
        "    start_time = time.time()\n",
        "    train_loss = 0\n",
        "    correct = 0\n",
        "    total = 0\n",
        "\n",
        "    for inputs, labels in train_loader:\n",
        "        inputs, labels = inputs.to(device), labels.to(device)\n",
        "        outputs = model(inputs)\n",
        "        loss = loss_func(outputs, labels)\n",
        "        optimizer.zero_grad()\n",
        "        loss.backward()\n",
        "        optimizer.step()\n",
        "\n",
        "        train_loss += loss.item()\n",
        "        predicted = torch.argmax(outputs, dim = 1)\n",
        "        total += labels.size(0)\n",
        "        correct += (predicted == labels).sum().item()\n",
        "\n",
        "    end_time = time.time()\n",
        "\n",
        "    return train_loss/len(train_loader), 100*correct / total, end_time - start_time"
      ]
    },
    {
      "cell_type": "code",
      "execution_count": null,
      "metadata": {
        "id": "A46rhIpSJbOj"
      },
      "outputs": [],
      "source": [
        "def validation():\n",
        "    model.eval()\n",
        "    start_time = time.time()\n",
        "    val_loss = 0\n",
        "    correct = 0\n",
        "    total = 0\n",
        "\n",
        "    with torch.no_grad():\n",
        "        for inputs, labels in val_loader:\n",
        "            inputs, labels = inputs.to(device), labels.to(device)\n",
        "            outputs = model(inputs)\n",
        "            loss = loss_func(outputs, labels)\n",
        "\n",
        "            val_loss += loss.item()\n",
        "            predicted = torch.argmax(outputs, dim = 1)\n",
        "            total += labels.size(0)\n",
        "            correct += (predicted == labels).sum().item()\n",
        "\n",
        "    end_time = time.time()\n",
        "\n",
        "    return val_loss/len(val_loader), 100*correct / total, end_time - start_time"
      ]
    },
    {
      "cell_type": "code",
      "execution_count": null,
      "metadata": {
        "id": "rVqA9qCMJbOk",
        "outputId": "1b1a65ac-3ab3-42c9-cb4e-34a53ae92213"
      },
      "outputs": [
        {
          "name": "stdout",
          "output_type": "stream",
          "text": [
            "Sat Oct 30 23:33:19 2021       \n",
            "+-----------------------------------------------------------------------------+\n",
            "| NVIDIA-SMI 471.68       Driver Version: 471.68       CUDA Version: 11.4     |\n",
            "|-------------------------------+----------------------+----------------------+\n",
            "| GPU  Name            TCC/WDDM | Bus-Id        Disp.A | Volatile Uncorr. ECC |\n",
            "| Fan  Temp  Perf  Pwr:Usage/Cap|         Memory-Usage | GPU-Util  Compute M. |\n",
            "|                               |                      |               MIG M. |\n",
            "|===============================+======================+======================|\n",
            "|   0  NVIDIA GeForce ... WDDM  | 00000000:01:00.0  On |                  N/A |\n",
            "| N/A   39C    P0    22W /  N/A |   4777MiB /  6144MiB |      0%      Default |\n",
            "|                               |                      |                  N/A |\n",
            "+-------------------------------+----------------------+----------------------+\n",
            "                                                                               \n",
            "+-----------------------------------------------------------------------------+\n",
            "| Processes:                                                                  |\n",
            "|  GPU   GI   CI        PID   Type   Process name                  GPU Memory |\n",
            "|        ID   ID                                                   Usage      |\n",
            "|=============================================================================|\n",
            "|    0   N/A  N/A      5976    C+G   ...h8wxbdkxb8p\\DCv2\\DCv2.exe    N/A      |\n",
            "|    0   N/A  N/A      6384    C+G   Insufficient Permissions        N/A      |\n",
            "|    0   N/A  N/A      6668    C+G   ...root\\Office16\\WINWORD.EXE    N/A      |\n",
            "|    0   N/A  N/A      7044    C+G   ...3d8bbwe\\CalculatorApp.exe    N/A      |\n",
            "|    0   N/A  N/A      8660    C+G   ...n1h2txyewy\\SearchHost.exe    N/A      |\n",
            "|    0   N/A  N/A     10720    C+G   ...y\\ShellExperienceHost.exe    N/A      |\n",
            "|    0   N/A  N/A     11324    C+G   ...2txyewy\\TextInputHost.exe    N/A      |\n",
            "|    0   N/A  N/A     12956    C+G   ...artMenuExperienceHost.exe    N/A      |\n",
            "|    0   N/A  N/A     15532    C+G   ...me\\Application\\chrome.exe    N/A      |\n",
            "|    0   N/A  N/A     16220    C+G   ...\\app-1.0.9003\\Discord.exe    N/A      |\n",
            "|    0   N/A  N/A     19504    C+G   C:\\Windows\\explorer.exe         N/A      |\n",
            "|    0   N/A  N/A     20000    C+G   ...ge\\Application\\msedge.exe    N/A      |\n",
            "|    0   N/A  N/A     20712    C+G   ...bbwe\\Microsoft.Photos.exe    N/A      |\n",
            "|    0   N/A  N/A     22584      C   ...nda3\\envs\\py36\\python.exe    N/A      |\n",
            "|    0   N/A  N/A     24432    C+G   ...root\\Office16\\WINWORD.EXE    N/A      |\n",
            "+-----------------------------------------------------------------------------+\n"
          ]
        }
      ],
      "source": [
        "!nvidia-smi"
      ]
    },
    {
      "cell_type": "code",
      "execution_count": null,
      "metadata": {
        "id": "wopDPdsuJbOk",
        "outputId": "f0be4d00-64ed-4c44-d068-fcea4afb9a44"
      },
      "outputs": [
        {
          "name": "stdout",
          "output_type": "stream",
          "text": [
            "Epoch : 1, Train loss : 0.20520318710074134, acc : 95.50816326530612, time : 74.27892231941223\n",
            "      Validation loss : 0.1874120980501175, acc : 96.3, time : 0.8222272396087646\n",
            "Epoch : 2, Train loss : 0.18561081314573483, acc : 95.75714285714285, time : 73.8560574054718\n",
            "      Validation loss : 0.1696927398443222, acc : 96.5, time : 0.8352878093719482\n",
            "Epoch : 3, Train loss : 0.1766903757744906, acc : 96.0265306122449, time : 73.98359847068787\n",
            "      Validation loss : 0.16587410122156143, acc : 96.3, time : 0.823418140411377\n",
            "Epoch : 4, Train loss : 0.1745316007611703, acc : 95.92040816326531, time : 76.44818806648254\n",
            "      Validation loss : 0.15482435375452042, acc : 96.1, time : 0.8821041584014893\n",
            "Epoch : 5, Train loss : 0.16528199202552132, acc : 96.16938775510204, time : 74.55713415145874\n",
            "      Validation loss : 0.17200352251529694, acc : 96.2, time : 0.8223483562469482\n",
            "Epoch : 6, Train loss : 0.16562312864223305, acc : 96.21020408163265, time : 76.2405776977539\n",
            "      Validation loss : 0.15495220571756363, acc : 96.4, time : 0.7969770431518555\n",
            "Epoch : 7, Train loss : 0.15704729864183736, acc : 96.3061224489796, time : 75.27771353721619\n",
            "      Validation loss : 0.15105562657117844, acc : 96.1, time : 0.8193905353546143\n",
            "Epoch : 8, Train loss : 0.1548918654419938, acc : 96.33469387755102, time : 74.5700888633728\n",
            "      Validation loss : 0.16465432196855545, acc : 96.1, time : 0.8976778984069824\n",
            "Epoch : 9, Train loss : 0.15287620665467516, acc : 96.39795918367346, time : 74.9108419418335\n",
            "      Validation loss : 0.15280753374099731, acc : 96.2, time : 0.8189575672149658\n",
            "Epoch : 10, Train loss : 0.14887221902608871, acc : 96.40204081632653, time : 74.64633464813232\n",
            "      Validation loss : 0.1529107540845871, acc : 96.6, time : 0.8020775318145752\n",
            "Epoch : 11, Train loss : 0.14587142527559582, acc : 96.37551020408164, time : 77.0215654373169\n",
            "      Validation loss : 0.15378611534833908, acc : 96.6, time : 0.8446054458618164\n",
            "Epoch : 12, Train loss : 0.1455091187844471, acc : 96.4938775510204, time : 75.09923148155212\n",
            "      Validation loss : 0.1713702492415905, acc : 96.0, time : 0.8317854404449463\n",
            "Epoch : 13, Train loss : 0.14114685987635534, acc : 96.56734693877551, time : 75.73227977752686\n",
            "      Validation loss : 0.14603160321712494, acc : 96.5, time : 0.8192112445831299\n"
          ]
        },
        {
          "ename": "KeyboardInterrupt",
          "evalue": "",
          "output_type": "error",
          "traceback": [
            "\u001b[1;31m---------------------------------------------------------------------------\u001b[0m",
            "\u001b[1;31mKeyboardInterrupt\u001b[0m                         Traceback (most recent call last)",
            "\u001b[1;32m<ipython-input-190-445c8d6862f5>\u001b[0m in \u001b[0;36m<module>\u001b[1;34m\u001b[0m\n\u001b[0;32m      9\u001b[0m \u001b[1;33m\u001b[0m\u001b[0m\n\u001b[0;32m     10\u001b[0m \u001b[1;32mfor\u001b[0m \u001b[0mepoch\u001b[0m \u001b[1;32min\u001b[0m \u001b[0mrange\u001b[0m\u001b[1;33m(\u001b[0m\u001b[0mepochs\u001b[0m\u001b[1;33m)\u001b[0m\u001b[1;33m:\u001b[0m\u001b[1;33m\u001b[0m\u001b[1;33m\u001b[0m\u001b[0m\n\u001b[1;32m---> 11\u001b[1;33m     \u001b[0mtrain_loss\u001b[0m\u001b[1;33m,\u001b[0m \u001b[0mtrain_acc\u001b[0m\u001b[1;33m,\u001b[0m \u001b[0mtrain_time\u001b[0m \u001b[1;33m=\u001b[0m \u001b[0mtrain\u001b[0m\u001b[1;33m(\u001b[0m\u001b[1;33m)\u001b[0m\u001b[1;33m\u001b[0m\u001b[1;33m\u001b[0m\u001b[0m\n\u001b[0m\u001b[0;32m     12\u001b[0m     \u001b[0mprint\u001b[0m\u001b[1;33m(\u001b[0m\u001b[1;34m'Epoch : {}, Train loss : {}, acc : {}, time : {}'\u001b[0m\u001b[1;33m.\u001b[0m\u001b[0mformat\u001b[0m\u001b[1;33m(\u001b[0m\u001b[0mepoch\u001b[0m \u001b[1;33m+\u001b[0m \u001b[1;36m1\u001b[0m\u001b[1;33m,\u001b[0m \u001b[0mtrain_loss\u001b[0m\u001b[1;33m,\u001b[0m \u001b[0mtrain_acc\u001b[0m\u001b[1;33m,\u001b[0m \u001b[0mtrain_time\u001b[0m\u001b[1;33m)\u001b[0m\u001b[1;33m)\u001b[0m\u001b[1;33m\u001b[0m\u001b[1;33m\u001b[0m\u001b[0m\n\u001b[0;32m     13\u001b[0m     \u001b[0mtrain_losses\u001b[0m\u001b[1;33m.\u001b[0m\u001b[0mappend\u001b[0m\u001b[1;33m(\u001b[0m\u001b[0mtrain_loss\u001b[0m\u001b[1;33m)\u001b[0m\u001b[1;33m\u001b[0m\u001b[1;33m\u001b[0m\u001b[0m\n",
            "\u001b[1;32m<ipython-input-185-8a6222d10cca>\u001b[0m in \u001b[0;36mtrain\u001b[1;34m()\u001b[0m\n\u001b[0;32m     15\u001b[0m         \u001b[0moptimizer\u001b[0m\u001b[1;33m.\u001b[0m\u001b[0mstep\u001b[0m\u001b[1;33m(\u001b[0m\u001b[1;33m)\u001b[0m\u001b[1;33m\u001b[0m\u001b[1;33m\u001b[0m\u001b[0m\n\u001b[0;32m     16\u001b[0m \u001b[1;33m\u001b[0m\u001b[0m\n\u001b[1;32m---> 17\u001b[1;33m         \u001b[0mtrain_loss\u001b[0m \u001b[1;33m+=\u001b[0m \u001b[0mloss\u001b[0m\u001b[1;33m.\u001b[0m\u001b[0mitem\u001b[0m\u001b[1;33m(\u001b[0m\u001b[1;33m)\u001b[0m\u001b[1;33m\u001b[0m\u001b[1;33m\u001b[0m\u001b[0m\n\u001b[0m\u001b[0;32m     18\u001b[0m         \u001b[0mpredicted\u001b[0m \u001b[1;33m=\u001b[0m \u001b[0mtorch\u001b[0m\u001b[1;33m.\u001b[0m\u001b[0margmax\u001b[0m\u001b[1;33m(\u001b[0m\u001b[0moutputs\u001b[0m\u001b[1;33m,\u001b[0m \u001b[0mdim\u001b[0m \u001b[1;33m=\u001b[0m \u001b[1;36m1\u001b[0m\u001b[1;33m)\u001b[0m\u001b[1;33m\u001b[0m\u001b[1;33m\u001b[0m\u001b[0m\n\u001b[0;32m     19\u001b[0m         \u001b[0mtotal\u001b[0m \u001b[1;33m+=\u001b[0m \u001b[0mlabels\u001b[0m\u001b[1;33m.\u001b[0m\u001b[0msize\u001b[0m\u001b[1;33m(\u001b[0m\u001b[1;36m0\u001b[0m\u001b[1;33m)\u001b[0m\u001b[1;33m\u001b[0m\u001b[1;33m\u001b[0m\u001b[0m\n",
            "\u001b[1;31mKeyboardInterrupt\u001b[0m: "
          ]
        }
      ],
      "source": [
        "epochs = 200\n",
        "max_val_acc = 0\n",
        "\n",
        "train_losses = []\n",
        "val_losses = []\n",
        "train_acces = []\n",
        "val_acces = []\n",
        "\n",
        "\n",
        "for epoch in range(epochs):\n",
        "    train_loss, train_acc, train_time = train()\n",
        "    print('Epoch : {}, Train loss : {}, acc : {}, time : {}'.format(epoch + 1, train_loss, train_acc, train_time))\n",
        "    train_losses.append(train_loss)\n",
        "    train_acces.append(train_acc)\n",
        "    \n",
        "    val_loss, val_acc, val_time = validation()\n",
        "    print('      Validation loss : {}, acc : {}, time : {}'.format(val_loss, val_acc, val_time))\n",
        "    val_losses.append(val_loss)\n",
        "    val_acces.append(val_acc)\n",
        "    \n",
        "    scheduler.step()\n",
        "    \n",
        "    if val_acc >= max_val_acc: # 가장 평가 성능이 좋은 모델을 저장\n",
        "        PATH = f'C:/Users/tjgus/OneDrive/바탕 화면/Final_project_coding/model/ResNet18_2_{val_acc}.pth'\n",
        "        torch.save(model.state_dict(), PATH)\n",
        "        max_val_acc = val_acc"
      ]
    },
    {
      "cell_type": "code",
      "execution_count": null,
      "metadata": {
        "id": "GAuOHtTDJbOl"
      },
      "outputs": [],
      "source": [
        "PATH = f'C:/Users/tjgus/OneDrive/바탕 화면/Final_project_coding/model/Last_epoch_{val_acc}.pth'\n",
        "torch.save(model.state_dict(), PATH)"
      ]
    },
    {
      "cell_type": "code",
      "execution_count": null,
      "metadata": {
        "id": "Uv4j6lg5JbOl",
        "outputId": "b981f279-f4a3-4896-ce86-17d4aec3c316"
      },
      "outputs": [
        {
          "data": {
            "text/plain": [
              "<All keys matched successfully>"
            ]
          },
          "execution_count": 221,
          "metadata": {},
          "output_type": "execute_result"
        }
      ],
      "source": [
        "PATH = \"C:/Users/tjgus/OneDrive/바탕 화면/Final_project_coding/model/Cifar100_ResNet18_2_71.03.pth\"\n",
        "model.load_state_dict(torch.load(PATH))"
      ]
    },
    {
      "cell_type": "code",
      "execution_count": null,
      "metadata": {
        "id": "0cWewWkOJbOl",
        "outputId": "4eb7e394-6419-47cc-91ec-d3b950ecf9ff"
      },
      "outputs": [
        {
          "name": "stdout",
          "output_type": "stream",
          "text": [
            "Files already downloaded and verified\n"
          ]
        }
      ],
      "source": [
        "transform_test = transforms.Compose([\n",
        "    transforms.ToTensor(),\n",
        "    transforms.Normalize((0.4914, 0.4822, 0.4465), (0.2023, 0.1994, 0.2010)),\n",
        "])\n",
        "test_dataset = datasets.CIFAR100(root = 'C:/Users/tjgus/OneDrive/바탕 화면/Final_project_coding/data./test', train = False, download = True, transform = transform_test)\n",
        "test_loader = DataLoader(test_dataset, batch_size=32, shuffle=False)"
      ]
    },
    {
      "cell_type": "code",
      "execution_count": null,
      "metadata": {
        "id": "wG85QxbOJbOm"
      },
      "outputs": [],
      "source": [
        "for mini_batch in test_loader:\n",
        "    first_batch = mini_batch\n",
        "    break\n",
        "\n",
        "inputs = first_batch[0]\n",
        "labels = first_batch[1]\n",
        "model.eval()\n",
        "outputs = model(inputs.to(device))"
      ]
    },
    {
      "cell_type": "code",
      "execution_count": null,
      "metadata": {
        "id": "qHHqasdeJbOm",
        "outputId": "97413caf-74ac-4773-b234-6784acf5b786"
      },
      "outputs": [
        {
          "name": "stderr",
          "output_type": "stream",
          "text": [
            "Clipping input data to the valid range for imshow with RGB data ([0..1] for floats or [0..255] for integers).\n"
          ]
        },
        {
          "data": {
            "image/png": "[encoded data removed]",
            "text/plain": [
              "<Figure size 432x288 with 1 Axes>"
            ]
          },
          "metadata": {
            "needs_background": "light"
          },
          "output_type": "display_data"
        },
        {
          "name": "stderr",
          "output_type": "stream",
          "text": [
            "Clipping input data to the valid range for imshow with RGB data ([0..1] for floats or [0..255] for integers).\n"
          ]
        },
        {
          "data": {
            "image/png": "[encoded data removed]",
            "text/plain": [
              "<Figure size 432x288 with 1 Axes>"
            ]
          },
          "metadata": {
            "needs_background": "light"
          },
          "output_type": "display_data"
        },
        {
          "name": "stderr",
          "output_type": "stream",
          "text": [
            "Clipping input data to the valid range for imshow with RGB data ([0..1] for floats or [0..255] for integers).\n"
          ]
        },
        {
          "data": {
            "image/png": "[encoded data removed]",
            "text/plain": [
              "<Figure size 432x288 with 1 Axes>"
            ]
          },
          "metadata": {
            "needs_background": "light"
          },
          "output_type": "display_data"
        }
      ],
      "source": [
        "for i in range(3): \n",
        "    sample_number = i\n",
        "\n",
        "    plt.imshow(np.transpose(inputs[sample_number].numpy(), (1,2,0)))\n",
        "    plt.show()\n",
        "    #print('예측 :', classes[torch.argmax(outputs[sample_number]).item()])\n",
        "    #print('라벨 :', classes[labels[sample_number].item()])"
      ]
    },
    {
      "cell_type": "code",
      "execution_count": null,
      "metadata": {
        "id": "szyHQsLDJbOn"
      },
      "outputs": [],
      "source": [
        "correct = 0\n",
        "total = 0\n",
        "\n",
        "with torch.no_grad():\n",
        "    for inputs, labels in test_loader:\n",
        "        inputs = inputs.to(device)\n",
        "        labels = labels.to(device)\n",
        "        outputs = model(inputs)\n",
        "        predicted = torch.argmax(outputs, dim = 1)\n",
        "        total += labels.size(0)\n",
        "        correct += (predicted == labels).sum().item()\n",
        "\n",
        "    print(total)\n",
        "    print(100*correct / total)"
      ]
    },
    {
      "cell_type": "code",
      "execution_count": null,
      "metadata": {
        "id": "4CuGuOn1JbOn"
      },
      "outputs": [],
      "source": [
        ""
      ]
    },
    {
      "cell_type": "code",
      "execution_count": null,
      "metadata": {
        "id": "N5kxDs-3JbOn"
      },
      "outputs": [],
      "source": [
        ""
      ]
    },
    {
      "cell_type": "code",
      "execution_count": null,
      "metadata": {
        "id": "OjSR2_SyJbOn"
      },
      "outputs": [],
      "source": [
        ""
      ]
    }
  ],
  "metadata": {
    "accelerator": "GPU",
    "colab": {
      "collapsed_sections": [],
      "name": "Problem6.ipynb",
      "provenance": [],
      "include_colab_link": true
    },
    "kernelspec": {
      "display_name": "Python 3",
      "language": "python",
      "name": "python3"
    },
    "language_info": {
      "codemirror_mode": {
        "name": "ipython",
        "version": 3
      },
      "file_extension": ".py",
      "mimetype": "text/x-python",
      "name": "python",
      "nbconvert_exporter": "python",
      "pygments_lexer": "ipython3",
      "version": "3.6.13"
    }
  },
  "nbformat": 4,
  "nbformat_minor": 0
}