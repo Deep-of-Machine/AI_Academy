{
  "nbformat": 4,
  "nbformat_minor": 0,
  "metadata": {
    "colab": {
      "name": "5-4_mlp.ipynb",
      "provenance": [],
      "collapsed_sections": [],
      "include_colab_link": true
    },
    "kernelspec": {
      "name": "python3",
      "display_name": "Python 3"
    },
    "language_info": {
      "name": "python"
    },
    "accelerator": "GPU"
  },
  "cells": [
    {
      "cell_type": "markdown",
      "metadata": {
        "id": "view-in-github",
        "colab_type": "text"
      },
      "source": [
        "<a href=\"https://colab.research.google.com/github/Deep-of-Machine/AI_Academy/blob/main/5_4_mlp.ipynb\" target=\"_parent\"><img src=\"https://colab.research.google.com/assets/colab-badge.svg\" alt=\"Open In Colab\"/></a>"
      ]
    },
    {
      "cell_type": "markdown",
      "metadata": {
        "id": "74P_GzYNYRrQ"
      },
      "source": [
        "## GPU로 학습\n",
        "런타임 - 런타임 유형 변경 - GPU    \n",
        "이후 신경망을 학습할 때는 전부 런타임 유형을 GPU를 사용합니다."
      ]
    },
    {
      "cell_type": "code",
      "metadata": {
        "id": "-WjzwbAprbmg"
      },
      "source": [
        "import numpy as np\n",
        "import matplotlib.pyplot as plt\n",
        "import time\n",
        "\n",
        "import torch\n",
        "from torchvision import datasets, transforms\n",
        "from torch.utils.data import DataLoader\n",
        "from torch import nn\n",
        "from torch.nn import functional as F\n",
        "from torch import optim"
      ],
      "execution_count": null,
      "outputs": []
    },
    {
      "cell_type": "code",
      "metadata": {
        "id": "3YMzCdom2jSC"
      },
      "source": [
        "print(torch.cuda.is_available())"
      ],
      "execution_count": null,
      "outputs": []
    },
    {
      "cell_type": "code",
      "metadata": {
        "id": "k8hJetV12r8W"
      },
      "source": [
        "device = torch.device('cuda')\n",
        "print(device)"
      ],
      "execution_count": null,
      "outputs": []
    },
    {
      "cell_type": "code",
      "metadata": {
        "id": "_rYhXYSFr7zp"
      },
      "source": [
        "transform = transforms.Compose([transforms.ToTensor(), transforms.Normalize((0.5), (0.5))])\n",
        "train_dataset = datasets.MNIST(root = './data', train = True, download = True, transform = transform)\n",
        "test_dataset = datasets.MNIST(root = './data', train = False, download = True, transform = transform)"
      ],
      "execution_count": null,
      "outputs": []
    },
    {
      "cell_type": "code",
      "metadata": {
        "id": "rmeXDr1htX3I"
      },
      "source": [
        "train_loader = DataLoader(train_dataset, batch_size=64, shuffle=True)\n",
        "test_loader = DataLoader(test_dataset, batch_size=64, shuffle=False)"
      ],
      "execution_count": null,
      "outputs": []
    },
    {
      "cell_type": "code",
      "metadata": {
        "id": "I73l3ldkuoq_"
      },
      "source": [
        "class MyNet(nn.Module):\n",
        "    def __init__(self):\n",
        "        super(MyNet, self).__init__()\n",
        "        self.layer1 = nn.Linear(784, 128)\n",
        "        self.layer2 = nn.Linear(128, 32)\n",
        "        self.layer3 = nn.Linear(32, 10)\n",
        "    \n",
        "    def forward(self, x):\n",
        "        x = self.layer1(x)\n",
        "        x = F.relu(x)\n",
        "        x = self.layer2(x)\n",
        "        x = F.relu(x)\n",
        "        out = self.layer3(x)\n",
        "\n",
        "        return out\n"
      ],
      "execution_count": null,
      "outputs": []
    },
    {
      "cell_type": "markdown",
      "metadata": {
        "id": "gVCAME72ZGMV"
      },
      "source": [
        ".to(device)를 사용해서 모델, 손실 함수, 데이터를 GPU에 할당"
      ]
    },
    {
      "cell_type": "code",
      "metadata": {
        "id": "Yes9ed0exTvA"
      },
      "source": [
        "model = MyNet().to(device)\n",
        "\n",
        "print(model)"
      ],
      "execution_count": null,
      "outputs": []
    },
    {
      "cell_type": "code",
      "metadata": {
        "id": "NRGRVFInx1Rm"
      },
      "source": [
        "loss_func = nn.CrossEntropyLoss().to(device)\n",
        "optimizer = optim.SGD(model.parameters(), lr = 0.001)"
      ],
      "execution_count": null,
      "outputs": []
    },
    {
      "cell_type": "code",
      "metadata": {
        "id": "z0i5L1J_zNpF"
      },
      "source": [
        "epochs = 10\n",
        "\n",
        "for epoch in range(epochs):\n",
        "    running_loss = 0.0\n",
        "    start_time = time.time()\n",
        "\n",
        "    for inputs, labels in train_loader:\n",
        "        inputs = inputs.view(inputs.shape[0], -1).to(device)\n",
        "        labels = labels.to(device)\n",
        "        outputs = model(inputs)\n",
        "\n",
        "        loss = loss_func(outputs, labels)\n",
        "        optimizer.zero_grad()\n",
        "        loss.backward()\n",
        "        optimizer.step()\n",
        "\n",
        "        running_loss += loss.item()\n",
        "\n",
        "    end_time = time.time()\n",
        "\n",
        "    print('Epoch : {}, Loss : {}, time : {}'.format(epoch + 1, running_loss/len(train_loader), end_time - start_time))\n"
      ],
      "execution_count": null,
      "outputs": []
    },
    {
      "cell_type": "markdown",
      "metadata": {
        "id": "iJoPsw_Gj8Fa"
      },
      "source": [
        "## 모델 저장과 불러오기\n",
        "연동한 구글 드라이브 경로에 저장하면, 이 후에 학습된 모델을 불러와서 사용 가능"
      ]
    },
    {
      "cell_type": "code",
      "metadata": {
        "id": "LMXsfuxOoPM7"
      },
      "source": [
        "from google.colab import drive\n",
        "drive.mount('/content/drive')"
      ],
      "execution_count": null,
      "outputs": []
    },
    {
      "cell_type": "code",
      "metadata": {
        "id": "LL7ycrHbpKGx"
      },
      "source": [
        "PATH = '/content/drive/MyDrive/mnist_mlp.pth'\n",
        "torch.save(model.state_dict(), PATH)"
      ],
      "execution_count": null,
      "outputs": []
    },
    {
      "cell_type": "markdown",
      "metadata": {
        "id": "lmAVn6vMkDFP"
      },
      "source": [
        "model2를 새로 생성하고, model과 비교\n",
        "\n",
        "\n"
      ]
    },
    {
      "cell_type": "code",
      "metadata": {
        "id": "JnSeJcR5A-_X"
      },
      "source": [
        "model2 = MyNet()\n",
        "print(list(model.parameters())[1][:10])  # 위에서 학습한 model의 파라미터 일부\n",
        "print(list(model2.parameters())[1][:10]) # 새로 생성한 model2의 파라미터 일부"
      ],
      "execution_count": null,
      "outputs": []
    },
    {
      "cell_type": "markdown",
      "metadata": {
        "id": "E4yE5LQqpOvm"
      },
      "source": [
        "PATH에 저장된 가중치를 model2에 로드"
      ]
    },
    {
      "cell_type": "code",
      "metadata": {
        "id": "A2weomMvkn1r"
      },
      "source": [
        "model2.load_state_dict(torch.load(PATH))\n",
        "print(list(model2.parameters())[1][:10])"
      ],
      "execution_count": null,
      "outputs": []
    },
    {
      "cell_type": "markdown",
      "metadata": {
        "id": "qqs-_2pynke1"
      },
      "source": [
        "## 학습 가능한 파라미터 수 계산"
      ]
    },
    {
      "cell_type": "code",
      "metadata": {
        "id": "-1UQk0gHBLqt"
      },
      "source": [
        "model.parameters()"
      ],
      "execution_count": null,
      "outputs": []
    },
    {
      "cell_type": "code",
      "metadata": {
        "id": "9VgdLFiN7jQa"
      },
      "source": [
        "for i in model.parameters():\n",
        "    print(i)\n",
        "    break"
      ],
      "execution_count": null,
      "outputs": []
    },
    {
      "cell_type": "code",
      "metadata": {
        "id": "Sddch_0At2Zm"
      },
      "source": [
        "print(i.requires_grad == True)"
      ],
      "execution_count": null,
      "outputs": []
    },
    {
      "cell_type": "code",
      "metadata": {
        "id": "6K3Jmlxn8IVD"
      },
      "source": [
        "print(i.shape)"
      ],
      "execution_count": null,
      "outputs": []
    },
    {
      "cell_type": "code",
      "metadata": {
        "id": "RAdLf0letDVH"
      },
      "source": [
        "print(i.shape[0] * i.shape[1])"
      ],
      "execution_count": null,
      "outputs": []
    },
    {
      "cell_type": "code",
      "metadata": {
        "id": "oEWmVoBptDQ3"
      },
      "source": [
        "print(i.numel())"
      ],
      "execution_count": null,
      "outputs": []
    },
    {
      "cell_type": "code",
      "metadata": {
        "id": "DzHllrTK72V9"
      },
      "source": [
        "n = 0\n",
        "for i in model.parameters():\n",
        "    if i.requires_grad == True:\n",
        "        n += i.numel()\n",
        "\n",
        "print(n)"
      ],
      "execution_count": null,
      "outputs": []
    },
    {
      "cell_type": "code",
      "metadata": {
        "id": "HC4cybWfP2-g"
      },
      "source": [
        ""
      ],
      "execution_count": null,
      "outputs": []
    },
    {
      "cell_type": "markdown",
      "metadata": {
        "id": "DUru6hlbbehA"
      },
      "source": [
        "직접 계산"
      ]
    },
    {
      "cell_type": "code",
      "metadata": {
        "id": "ktlhVK5zbMp5"
      },
      "source": [
        ""
      ],
      "execution_count": null,
      "outputs": []
    },
    {
      "cell_type": "markdown",
      "metadata": {
        "id": "IungaOHznuA4"
      },
      "source": [
        "## 모델 평가"
      ]
    },
    {
      "cell_type": "code",
      "metadata": {
        "id": "0HcDco25BOIa"
      },
      "source": [
        "for mini_batch in test_loader:\n",
        "    first_batch = mini_batch\n",
        "    break\n",
        "\n",
        "inputs = first_batch[0]\n",
        "labels = first_batch[1]\n",
        "outputs = model(inputs.view(inputs.shape[0], -1).to(device))"
      ],
      "execution_count": null,
      "outputs": []
    },
    {
      "cell_type": "code",
      "metadata": {
        "id": "wBvTVIO182HW"
      },
      "source": [
        "sample_number = 0\n",
        "plt.imshow(inputs[sample_number].squeeze().numpy(), cmap = 'gray')\n",
        "plt.show()\n",
        "print('예측 : {}'.format(torch.argmax(outputs[sample_number]).item()))\n",
        "print('라벨 : {}'.format(labels[sample_number].item()))"
      ],
      "execution_count": null,
      "outputs": []
    },
    {
      "cell_type": "code",
      "metadata": {
        "id": "xkat4QVmBk_Y"
      },
      "source": [
        "correct = 0\n",
        "total = 0\n",
        "\n",
        "with torch.no_grad():\n",
        "    for inputs, labels in test_loader:\n",
        "        inputs = inputs.view(inputs.shape[0], -1).to(device)\n",
        "        labels = labels.to(device)\n",
        "        outputs = model(inputs)\n",
        "        predicted = torch.argmax(outputs, dim = 1)\n",
        "        total += labels.size(0)\n",
        "        correct += (predicted == labels).sum().item()\n",
        "\n",
        "    print(total)\n",
        "    print(100*correct / total)"
      ],
      "execution_count": null,
      "outputs": []
    }
  ]
}