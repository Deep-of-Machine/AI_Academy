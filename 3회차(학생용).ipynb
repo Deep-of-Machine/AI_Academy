{
 "cells": [
  {
   "cell_type": "markdown",
   "metadata": {},
   "source": [
    " # 목표: 전방전파가 가능한 MLP 네트워크의 구성\n",
    "___\n",
    "오늘의 목적은 전방전파가 가능한 MLP 네트워크 클래스를 직접 구성하는데 있습니다."
   ]
  },
  {
   "cell_type": "markdown",
   "metadata": {},
   "source": [
    "# 기초 라이브러리    \n",
    "___\n",
    "아래의 코드에서 사용할 모듈을 들여옵니다.    \n",
    "데이터를 시각화하기위한 matplolib와 어레이 연산을 위한 numpy를 사용할 것입니다.\n"
   ]
  },
  {
   "cell_type": "code",
   "execution_count": 4,
   "metadata": {},
   "outputs": [],
   "source": [
    "import matplotlib.pyplot as plt\n",
    "import numpy as np"
   ]
  },
  {
   "cell_type": "markdown",
   "metadata": {},
   "source": [
    "대부분의 numpy 함수는 임의의 형태의 array가 들어왔을 때 그 형태를 유지하면서 각각의 원소에 작용하는 형식으로 작동합니다.    \n",
    "예를 들어 (10,3,4)의 형태를 가지는 z에 대해 np.exp(z)의 연산을 줘도 형태는 그대로 (10,3,4)를 유지합니다."
   ]
  },
  {
   "cell_type": "code",
   "execution_count": 2,
   "metadata": {},
   "outputs": [
    {
     "name": "stdout",
     "output_type": "stream",
     "text": [
      "(10, 3, 4) (10, 3, 4)\n"
     ]
    }
   ],
   "source": [
    "z = np.zeros((10,3,4))\n",
    "print(z.shape, np.exp(z).shape)"
   ]
  },
  {
   "cell_type": "code",
   "execution_count": 3,
   "metadata": {},
   "outputs": [
    {
     "name": "stdout",
     "output_type": "stream",
     "text": [
      "[[[0. 0. 0. 0.]\n",
      "  [0. 0. 0. 0.]\n",
      "  [0. 0. 0. 0.]]\n",
      "\n",
      " [[0. 0. 0. 0.]\n",
      "  [0. 0. 0. 0.]\n",
      "  [0. 0. 0. 0.]]\n",
      "\n",
      " [[0. 0. 0. 0.]\n",
      "  [0. 0. 0. 0.]\n",
      "  [0. 0. 0. 0.]]\n",
      "\n",
      " [[0. 0. 0. 0.]\n",
      "  [0. 0. 0. 0.]\n",
      "  [0. 0. 0. 0.]]\n",
      "\n",
      " [[0. 0. 0. 0.]\n",
      "  [0. 0. 0. 0.]\n",
      "  [0. 0. 0. 0.]]\n",
      "\n",
      " [[0. 0. 0. 0.]\n",
      "  [0. 0. 0. 0.]\n",
      "  [0. 0. 0. 0.]]\n",
      "\n",
      " [[0. 0. 0. 0.]\n",
      "  [0. 0. 0. 0.]\n",
      "  [0. 0. 0. 0.]]\n",
      "\n",
      " [[0. 0. 0. 0.]\n",
      "  [0. 0. 0. 0.]\n",
      "  [0. 0. 0. 0.]]\n",
      "\n",
      " [[0. 0. 0. 0.]\n",
      "  [0. 0. 0. 0.]\n",
      "  [0. 0. 0. 0.]]\n",
      "\n",
      " [[0. 0. 0. 0.]\n",
      "  [0. 0. 0. 0.]\n",
      "  [0. 0. 0. 0.]]]\n",
      "[[[1. 1. 1. 1.]\n",
      "  [1. 1. 1. 1.]\n",
      "  [1. 1. 1. 1.]]\n",
      "\n",
      " [[1. 1. 1. 1.]\n",
      "  [1. 1. 1. 1.]\n",
      "  [1. 1. 1. 1.]]\n",
      "\n",
      " [[1. 1. 1. 1.]\n",
      "  [1. 1. 1. 1.]\n",
      "  [1. 1. 1. 1.]]\n",
      "\n",
      " [[1. 1. 1. 1.]\n",
      "  [1. 1. 1. 1.]\n",
      "  [1. 1. 1. 1.]]\n",
      "\n",
      " [[1. 1. 1. 1.]\n",
      "  [1. 1. 1. 1.]\n",
      "  [1. 1. 1. 1.]]\n",
      "\n",
      " [[1. 1. 1. 1.]\n",
      "  [1. 1. 1. 1.]\n",
      "  [1. 1. 1. 1.]]\n",
      "\n",
      " [[1. 1. 1. 1.]\n",
      "  [1. 1. 1. 1.]\n",
      "  [1. 1. 1. 1.]]\n",
      "\n",
      " [[1. 1. 1. 1.]\n",
      "  [1. 1. 1. 1.]\n",
      "  [1. 1. 1. 1.]]\n",
      "\n",
      " [[1. 1. 1. 1.]\n",
      "  [1. 1. 1. 1.]\n",
      "  [1. 1. 1. 1.]]\n",
      "\n",
      " [[1. 1. 1. 1.]\n",
      "  [1. 1. 1. 1.]\n",
      "  [1. 1. 1. 1.]]]\n"
     ]
    }
   ],
   "source": [
    "print(z)\n",
    "print(np.exp(z))"
   ]
  },
  {
   "cell_type": "markdown",
   "metadata": {},
   "source": [
    "# 함수의 정의\n",
    "딥러닝 모듈을 만들기에 앞서 연습으로 다음과 같이 수학에서 사용하는 일차 함수 $y = 2x+1$를 흉내내는 함수 linear를 정의합니다.\n"
   ]
  },
  {
   "cell_type": "code",
   "execution_count": 7,
   "metadata": {},
   "outputs": [
    {
     "name": "stdout",
     "output_type": "stream",
     "text": [
      "7\n"
     ]
    }
   ],
   "source": [
    "def linear(z):\n",
    "    return 2 * np.array(z) +1\n",
    "\n",
    "print(linear(3))\n"
   ]
  },
  {
   "cell_type": "markdown",
   "metadata": {},
   "source": [
    "위의 함수는 리스트를 입력으로 받으면 정상적으로 작동하지 않습니다.    \n",
    "numpy는 원소 각각에 적용하는 함수를 쉽게 구현가능하게 해줍니다.    "
   ]
  },
  {
   "cell_type": "code",
   "execution_count": 8,
   "metadata": {},
   "outputs": [
    {
     "name": "stdout",
     "output_type": "stream",
     "text": [
      "[3 5 7]\n"
     ]
    }
   ],
   "source": [
    "print(linear([1,2,3]))"
   ]
  },
  {
   "cell_type": "code",
   "execution_count": 9,
   "metadata": {},
   "outputs": [
    {
     "name": "stdout",
     "output_type": "stream",
     "text": [
      "[3 5 7]\n"
     ]
    }
   ],
   "source": [
    "x = np.array([1,2,3])\n",
    "print(linear(x))"
   ]
  },
  {
   "cell_type": "markdown",
   "metadata": {},
   "source": [
    "np.arange는 등간격의 1차원 배열을 생성해 주는 함수입니다.     \n",
    "일반 range와 비슷하게 np.arange(a,b,c)형태로 사용하면 a부터 b까지 c 간격의 배열을 생성합니다.    \n",
    "예를 들어 np.arange(0, 10, 3)는 array([0, 3, 6, 9]) 결과를 출력합니다.          \n",
    "np.arange(0, 10)는 array([0, 1, 2, 3, 4, 5, 6, 7, 8, 9])를 출력합니다다.  \n",
    "      \n",
    "이제 np.arange(0, 10)를 함수 linear의 입력으로 사용할 경우 다음과 같은 결과를 확인할 수 있습니다."
   ]
  },
  {
   "cell_type": "code",
   "execution_count": 7,
   "metadata": {},
   "outputs": [
    {
     "name": "stdout",
     "output_type": "stream",
     "text": [
      "[0 1 2 3 4 5 6 7 8 9]\n"
     ]
    },
    {
     "data": {
      "image/png": "[encoded data removed]",
      "text/plain": [
       "<Figure size 432x288 with 1 Axes>"
      ]
     },
     "metadata": {
      "needs_background": "light"
     },
     "output_type": "display_data"
    }
   ],
   "source": [
    "z = np.arange(0, 10)\n",
    "print(z)\n",
    "plt.scatter(z, linear(z))\n",
    "plt.show()"
   ]
  },
  {
   "cell_type": "markdown",
   "metadata": {},
   "source": [
    "우리는 정해진 함수를 사용하는 것이 아니고 파라미터를 변경해서 사용해야 합니다.     \n",
    "직관적으로는 다음과 같이 파라미터를 입력으로 추가로 받아들이는 경우를 생각해볼 수 있습니다. "
   ]
  },
  {
   "cell_type": "code",
   "execution_count": 8,
   "metadata": {},
   "outputs": [
    {
     "name": "stdout",
     "output_type": "stream",
     "text": [
      "10\n"
     ]
    }
   ],
   "source": [
    "def linear_parameter(z, a=1):\n",
    "    return a * z +1\n",
    "\n",
    "print(linear_parameter(3, a=3))"
   ]
  },
  {
   "cell_type": "markdown",
   "metadata": {},
   "source": [
    "기울기가 2로 고정되어 있는 linear와 기울기를 바꿀 수 있는 linear_parameter에 기울기를 3을 주고 비교해서 그리면 다음과 같습니다."
   ]
  },
  {
   "cell_type": "code",
   "execution_count": 9,
   "metadata": {},
   "outputs": [
    {
     "data": {
      "image/png": "[encoded data removed]",
      "text/plain": [
       "<Figure size 432x288 with 1 Axes>"
      ]
     },
     "metadata": {
      "needs_background": "light"
     },
     "output_type": "display_data"
    }
   ],
   "source": [
    "z = np.arange(0, 10)\n",
    "plt.scatter(z, linear(z))\n",
    "plt.scatter(z, linear_parameter(z, a=3))\n",
    "plt.show()"
   ]
  },
  {
   "cell_type": "markdown",
   "metadata": {},
   "source": [
    "linear_parameter에 기울기를 1을 주고 비교해서 그리면 다음과 같습니다."
   ]
  },
  {
   "cell_type": "code",
   "execution_count": 10,
   "metadata": {},
   "outputs": [
    {
     "data": {
      "image/png": "[encoded data removed]",
      "text/plain": [
       "<Figure size 432x288 with 1 Axes>"
      ]
     },
     "metadata": {
      "needs_background": "light"
     },
     "output_type": "display_data"
    }
   ],
   "source": [
    "z = np.arange(0, 10)\n",
    "plt.scatter(z, linear(z))\n",
    "plt.scatter(z, linear_parameter(z, a= 1))\n",
    "plt.show()"
   ]
  },
  {
   "cell_type": "markdown",
   "metadata": {},
   "source": [
    "# 파라미터를 저장하는 클래스\n",
    "이제 위의 함수를 이용해서 파라미터를 변경할 수 있는 모듈의 클래스를 만들고자 합니다.  \n",
    "함수의 경우 입력을 하고 난 후 출력을 내보낸뒤 바로 함수가 소멸해 버립니다.    \n",
    "이에 비해 클래스의 경우 한 번 생성되면 소멸하지 않고 계속 파라미터를 안에 가지고 있기 때문에 함수를 학습하는데 있어 적합합니다.    \n",
    "    \n",
    "\n",
    "이 클래스에 2개의 메소드를 정의했습니다. 하나는 \\_\\_init\\_\\_ 메소드입니다. \\_\\_init\\_\\_은 클래스의 instance가 처음 생성될 때 작동하는 함수입니다.  \n",
    "우리의 모델에서는 init에서 파라미터를 초기화해주었습니다.    \n",
    "다음으로는 forward 메소드가 있습니다. 이 함수에 값이 입력되었을 때 어떤 값이 출력되는지를 결정하는 핵심적인 부분입니다."
   ]
  },
  {
   "cell_type": "code",
   "execution_count": 11,
   "metadata": {},
   "outputs": [],
   "source": [
    "class Linear_Module():\n",
    "    def __init__(self):\n",
    "        self.a = 0\n",
    "    def forward(self, x):\n",
    "        return linear_parameter(x, a = self.a)\n"
   ]
  },
  {
   "cell_type": "markdown",
   "metadata": {},
   "source": [
    "한번 모듈을 정의하면 지속적으로 파라미터를 업그레이드하면서 목적으로 하는 함수를 찾을 수 있습니다."
   ]
  },
  {
   "cell_type": "code",
   "execution_count": 12,
   "metadata": {
    "scrolled": true
   },
   "outputs": [
    {
     "name": "stdout",
     "output_type": "stream",
     "text": [
      "0\n"
     ]
    },
    {
     "data": {
      "image/png": "[encoded data removed]",
      "text/plain": [
       "<Figure size 432x288 with 1 Axes>"
      ]
     },
     "metadata": {
      "needs_background": "light"
     },
     "output_type": "display_data"
    }
   ],
   "source": [
    "linear = Linear_Module()\n",
    "z = np.arange(0, 10)\n",
    "plt.plot(z, linear.forward(z), label = 'a = 0')\n",
    "print(linear.a) \n",
    "linear.a = - 1\n",
    "plt.plot(z, linear.forward(z), label = 'a = -1')\n",
    "linear.a = 1\n",
    "plt.plot(z, linear.forward(z), label = 'a = 1')\n",
    "plt.legend()\n",
    "plt.show()"
   ]
  },
  {
   "cell_type": "markdown",
   "metadata": {},
   "source": [
    "# MLP 모듈\n",
    "이제 본격적으로 MLP 모듈을 만들고자 합니다.   \n",
    "들어가기에 앞서서 파라미터를 초기화해주는 과정에 대한 이해가 필요합니다.    \n",
    "앞 선 linear 모듈의 경우에는 함수의 기울기 파라미터 a를 self.a = 0로 초기화해주었습니다.    \n",
    "실제 딥러닝 학습에서도 어떻게 파라미터를 초기화하는지에 따라 진짜 함수를 찾는 속도가 매우 달라지게 됩니다.  \n",
    "예를 들어 진짜 데이터의 기울기는 3에 가깝다고 가정해 봅시다.    \n",
    "이런 경우에 기울기 100으로 초기화를 하면 기울기가 100에서 3으로 작아지는 데는 매우 오랜 시간이 걸릴 것입니다.    \n",
    "하지만 기울기가 -1~1 근처에서 시작한다면 상대적으로 짧은 시간안데 진짜 기울기 3을 찾아갈 수 있습니다.    \n",
    "    \n",
    "앞서 정의한 Linear_Module의 초기화 부분을 다음과 같이 수정합니다.\n"
   ]
  },
  {
   "cell_type": "code",
   "execution_count": 10,
   "metadata": {},
   "outputs": [
    {
     "ename": "SyntaxError",
     "evalue": "invalid syntax (<ipython-input-10-056953cee00c>, line 1)",
     "output_type": "error",
     "traceback": [
      "\u001b[1;36m  File \u001b[1;32m\"<ipython-input-10-056953cee00c>\"\u001b[1;36m, line \u001b[1;32m1\u001b[0m\n\u001b[1;33m    임의값의 행렬 생성 및 초기화\u001b[0m\n\u001b[1;37m          ^\u001b[0m\n\u001b[1;31mSyntaxError\u001b[0m\u001b[1;31m:\u001b[0m invalid syntax\n"
     ]
    }
   ],
   "source": [
    "임의값의 행렬 생성 및 초기화"
   ]
  },
  {
   "cell_type": "code",
   "execution_count": 13,
   "metadata": {},
   "outputs": [],
   "source": [
    "class Linear_Module():\n",
    "    def __init__(self):\n",
    "        self.a = np.random.randn()\n",
    "    def forward(self, x):\n",
    "        return linear_parameter(x, a = self.a)"
   ]
  },
  {
   "cell_type": "markdown",
   "metadata": {},
   "source": [
    "np.random 은 numpy에서 랜덤하게 값을 샘플링하게 해주는 모듈입니다.  \n",
    "np.random.randn 의 경우 정규분포를 샘플링해줍니다.  \n",
    "입력값으로는 샘플링하고자 하는 크기를 지정해줘야합니다.  \n",
    "정규분포는 자연의 근원적인 분포이기 때문에 딥러닝에서도 광범위하게 사용됩니다."
   ]
  },
  {
   "cell_type": "code",
   "execution_count": 31,
   "metadata": {},
   "outputs": [
    {
     "data": {
      "image/png": "[encoded data removed]",
      "text/plain": [
       "<Figure size 432x288 with 1 Axes>"
      ]
     },
     "metadata": {
      "needs_background": "light"
     },
     "output_type": "display_data"
    }
   ],
   "source": [
    "random_sampled = (np.random.randn(100000)) #sample 100000 samples from normal distribution \n",
    "\n",
    "plt.hist(random_sampled, bins = 100)\n",
    "plt.show()"
   ]
  },
  {
   "cell_type": "markdown",
   "metadata": {},
   "source": [
    "이제 딥러닝 학습을 위해 인공신경망을 정의해야 합니다.     \n",
    "앞서 수업에서 언급했듯이 인공신경망은 행렬곱과 활성화함수가 번갈하가면서 합성되는 형태로 이루어져있습니다.    \n",
    "먼저 다음과 같은 활성화 함수들을 정의할 수 있습니다.    \n",
    "시그모이드 함수와 ReLU함수 두가지를 정의하였습니다.   "
   ]
  },
  {
   "cell_type": "markdown",
   "metadata": {},
   "source": [
    "# 여러 활성화 함수의 구현\n",
    "## 시그모이드 함수 $f(x) = \\frac{1}{1+e^{-x}}$\n",
    "## ReLU 함수     $f(x) =  \\begin{cases} x &      \\text{if $x>0$} \\\\ 0 &\\text{if $x<0$} \\end{cases}$ \n",
    "## tanh 함수      $\\text{tanh}(x) = \\frac{e^x + e^{-x}}{e^x - e^{-x}}$\n",
    "## 계단 함수 $f(x) =  \\begin{cases} 1 &      \\text{if $x>0$} \\\\ 0 &\\text{if $x<0$} \\end{cases}$ "
   ]
  },
  {
   "cell_type": "code",
   "execution_count": 121,
   "metadata": {},
   "outputs": [
    {
     "ename": "IndentationError",
     "evalue": "unindent does not match any outer indentation level (<tokenize>, line 11)",
     "output_type": "error",
     "traceback": [
      "\u001b[1;36m  File \u001b[1;32m\"<tokenize>\"\u001b[1;36m, line \u001b[1;32m11\u001b[0m\n\u001b[1;33m    return x\u001b[0m\n\u001b[1;37m    ^\u001b[0m\n\u001b[1;31mIndentationError\u001b[0m\u001b[1;31m:\u001b[0m unindent does not match any outer indentation level\n"
     ]
    }
   ],
   "source": [
    "def sigmoid(z):\n",
    "    z = np.array(z)\n",
    "    return 1/(1 + np.exp(-z))\n",
    "\n",
    "def ReLU(x):\n",
    "    x = np.array(x)\n",
    "    return x * (x > 0)\n",
    "\n",
    "def no_activation(x):\n",
    "     x = np.array(x)\n",
    "    return x"
   ]
  },
  {
   "cell_type": "code",
   "execution_count": 56,
   "metadata": {},
   "outputs": [
    {
     "data": {
      "text/plain": [
       "array([0, 1, 2, 2])"
      ]
     },
     "execution_count": 56,
     "metadata": {},
     "output_type": "execute_result"
    }
   ],
   "source": [
    "ReLU([-1,1,2,2])"
   ]
  },
  {
   "cell_type": "code",
   "execution_count": 61,
   "metadata": {},
   "outputs": [],
   "source": [
    "def tanh(x):\n",
    "    x = np.array(x)\n",
    "    return (np.exp(x) - np.exp(-x))/(np.exp(x) + np.exp(-x))\n",
    "\n",
    "def step_function(x):\n",
    "    x = np.array(x)\n",
    "    return (x>0).astype(int)"
   ]
  },
  {
   "cell_type": "code",
   "execution_count": 77,
   "metadata": {},
   "outputs": [
    {
     "data": {
      "text/plain": [
       "array([1., 1., 1., 1.])"
      ]
     },
     "execution_count": 77,
     "metadata": {},
     "output_type": "execute_result"
    }
   ],
   "source": [
    "tanh([20,22,12,16])"
   ]
  },
  {
   "cell_type": "code",
   "execution_count": 72,
   "metadata": {
    "scrolled": true
   },
   "outputs": [
    {
     "data": {
      "text/plain": [
       "array([1, 1, 1])"
      ]
     },
     "execution_count": 72,
     "metadata": {},
     "output_type": "execute_result"
    }
   ],
   "source": [
    "a.astype(int)"
   ]
  },
  {
   "cell_type": "markdown",
   "metadata": {},
   "source": [
    "앞에서 언급한 linear에서는 인스턴스를 정의하는데 아무것도 입력으로 사용하지 않았습니다.    \n",
    "하지만 인공신경망을 정의할 때 데이터의 형태와 목적에 따라 다양한 구조를 가지는 인공신경망이 있을 수 있는데 이를 모두 다루기 위해서는 그 때 그 때 신경망의 구조를 입력으로 받을 필요가 있습니다다.    \n",
    "우리의 경우에는 중간층의 노드 개수 sizes를 입력으로 받게 정의하였습니다.   \n",
    "sizes = [3,4,5,2]를 예시로 들면 3차원 데이터를 입력으로 받아 중간 층에서 4개의 노드, 5개의 노드가 있는 층을 거친 후 최종적으로 2차원의 출력을 내보내는 MLP를 정의하게 됩니다."
   ]
  },
  {
   "cell_type": "code",
   "execution_count": 90,
   "metadata": {},
   "outputs": [],
   "source": [
    "class MLP_Network1:\n",
    "    def __init__(self, sizes = [3, 5], activation = ReLU):\n",
    "        self.sizes = sizes\n",
    "        self.weight = np.random.randn(5, 3)\n",
    "        self.bias = np.random.randn(5)\n",
    "        self.activation = ReLU\n",
    "        \n",
    "    def Hidden_layer1(self, x):\n",
    "        z = np.matmul(self.weight, x) + self.bias\n",
    "        r = self.activation(z)\n",
    "        return Out_Put(r)\n",
    "    \n",
    "    def Out_Put(self, x):\n",
    "        weight = np.random.randn(5, 2)\n",
    "        bias = np.random.randn(2)\n",
    "        z = np.matmul(self.weight, x) + self.bias\n",
    "        r = self.activation(z)\n",
    "        return r\n",
    "        \n",
    "    def forward(self, x):\n",
    "        return Hidden_layer1(x)"
   ]
  },
  {
   "cell_type": "code",
   "execution_count": 91,
   "metadata": {},
   "outputs": [],
   "source": [
    "mlp = MLP_Network1([3,2], activation = ReLU)"
   ]
  },
  {
   "cell_type": "code",
   "execution_count": 92,
   "metadata": {
    "scrolled": false
   },
   "outputs": [
    {
     "ename": "NameError",
     "evalue": "name 'Hidden_layer1' is not defined",
     "output_type": "error",
     "traceback": [
      "\u001b[1;31m---------------------------------------------------------------------------\u001b[0m",
      "\u001b[1;31mNameError\u001b[0m                                 Traceback (most recent call last)",
      "\u001b[1;32m<ipython-input-92-9a9e9bfc4b90>\u001b[0m in \u001b[0;36m<module>\u001b[1;34m\u001b[0m\n\u001b[1;32m----> 1\u001b[1;33m \u001b[0mmlp\u001b[0m\u001b[1;33m.\u001b[0m\u001b[0mforward\u001b[0m\u001b[1;33m(\u001b[0m\u001b[0mnp\u001b[0m\u001b[1;33m.\u001b[0m\u001b[0marray\u001b[0m\u001b[1;33m(\u001b[0m\u001b[1;33m[\u001b[0m\u001b[1;33m-\u001b[0m\u001b[1;36m100\u001b[0m\u001b[1;33m,\u001b[0m \u001b[1;36m0\u001b[0m\u001b[1;33m,\u001b[0m \u001b[1;36m0\u001b[0m\u001b[1;33m]\u001b[0m\u001b[1;33m)\u001b[0m\u001b[1;33m)\u001b[0m\u001b[1;33m\u001b[0m\u001b[1;33m\u001b[0m\u001b[0m\n\u001b[0m",
      "\u001b[1;32m<ipython-input-90-e505a6dd1ec8>\u001b[0m in \u001b[0;36mforward\u001b[1;34m(self, x)\u001b[0m\n\u001b[0;32m     19\u001b[0m \u001b[1;33m\u001b[0m\u001b[0m\n\u001b[0;32m     20\u001b[0m     \u001b[1;32mdef\u001b[0m \u001b[0mforward\u001b[0m\u001b[1;33m(\u001b[0m\u001b[0mself\u001b[0m\u001b[1;33m,\u001b[0m \u001b[0mx\u001b[0m\u001b[1;33m)\u001b[0m\u001b[1;33m:\u001b[0m\u001b[1;33m\u001b[0m\u001b[1;33m\u001b[0m\u001b[0m\n\u001b[1;32m---> 21\u001b[1;33m         \u001b[1;32mreturn\u001b[0m \u001b[0mHidden_layer1\u001b[0m\u001b[1;33m(\u001b[0m\u001b[0mx\u001b[0m\u001b[1;33m)\u001b[0m\u001b[1;33m\u001b[0m\u001b[1;33m\u001b[0m\u001b[0m\n\u001b[0m",
      "\u001b[1;31mNameError\u001b[0m: name 'Hidden_layer1' is not defined"
     ]
    }
   ],
   "source": [
    "mlp.forward(np.array([-100, 0, 0]))"
   ]
  },
  {
   "cell_type": "code",
   "execution_count": 116,
   "metadata": {},
   "outputs": [],
   "source": [
    "class MLP_Network2:\n",
    "    def __init__(self, sizes = [3, 2, 4], activation = ReLU):\n",
    "        self.sizes = sizes\n",
    "        self.weights = [ np.random.randn(sizes[1], sizes[0]), np.random.randn(sizes[2], sizes[1]) ]\n",
    "        self.biases = [ np.random.randn(sizes[1]), np.random.randn(sizes[2])]\n",
    "        self.activation = activation\n",
    "        \n",
    "    def forward(self, x):\n",
    "        z = np.matmul(self.weights[0], x) + self.biases[0]\n",
    "        z = self.activation(z)\n",
    "        z2 =  np.matmul(self.weights[1], z) + self.biases[1]\n",
    "        return z2"
   ]
  },
  {
   "cell_type": "code",
   "execution_count": null,
   "metadata": {},
   "outputs": [],
   "source": []
  },
  {
   "cell_type": "code",
   "execution_count": 117,
   "metadata": {},
   "outputs": [],
   "source": [
    "mlp2 = MLP_Network2()"
   ]
  },
  {
   "cell_type": "code",
   "execution_count": 118,
   "metadata": {
    "scrolled": true
   },
   "outputs": [
    {
     "data": {
      "text/plain": [
       "array([-98.58228035,  50.24251103,  69.66190741,  47.39508751])"
      ]
     },
     "execution_count": 118,
     "metadata": {},
     "output_type": "execute_result"
    }
   ],
   "source": [
    "mlp2.forward(np.array([-100,0,0]))"
   ]
  },
  {
   "cell_type": "code",
   "execution_count": 127,
   "metadata": {},
   "outputs": [],
   "source": [
    "class MLP_Network:\n",
    "    def __init__(self, sizes, activation = ReLU, Last_activation= softmax):\n",
    "        self.sizes = sizes\n",
    "        self.weights = []\n",
    "        self.biases = []\n",
    "        for i in range(1, len(sizes)):\n",
    "            self.weights.append(np.random.randn(self.sizes[i], self.sizes[i-1]))\n",
    "            self.biases.append(np.random.randn(self.sizes[i]))\n",
    "        self.activation = activation\n",
    "        self.Last_activation = Last_activation\n",
    "        \n",
    "    def forward(self, x):\n",
    "        z = x\n",
    "        for i in range(len(self.sizes)-1):\n",
    "            z = np.matmul(self.weights[i], z) + self.biases[i]\n",
    "            if i == len(self.sizes)-2:\n",
    "                z = self.Last_activation(z)\n",
    "            else:\n",
    "                z = self.activation(z)\n",
    "        return z\n",
    "    \n",
    "net = MLP_Network([2, 3, 6, 4, 10, 10])"
   ]
  },
  {
   "cell_type": "code",
   "execution_count": 128,
   "metadata": {},
   "outputs": [
    {
     "ename": "ValueError",
     "evalue": "matmul: Input operand 1 has a mismatch in its core dimension 0, with gufunc signature (n?,k),(k,m?)->(n?,m?) (size 3 is different from 2)",
     "output_type": "error",
     "traceback": [
      "\u001b[1;31m---------------------------------------------------------------------------\u001b[0m",
      "\u001b[1;31mValueError\u001b[0m                                Traceback (most recent call last)",
      "\u001b[1;32m<ipython-input-128-74ee6e7c19c8>\u001b[0m in \u001b[0;36m<module>\u001b[1;34m\u001b[0m\n\u001b[1;32m----> 1\u001b[1;33m \u001b[0mnet\u001b[0m\u001b[1;33m.\u001b[0m\u001b[0mforward\u001b[0m\u001b[1;33m(\u001b[0m\u001b[0mnp\u001b[0m\u001b[1;33m.\u001b[0m\u001b[0marray\u001b[0m\u001b[1;33m(\u001b[0m\u001b[1;33m[\u001b[0m\u001b[1;33m-\u001b[0m\u001b[1;36m100\u001b[0m\u001b[1;33m,\u001b[0m\u001b[1;36m0\u001b[0m\u001b[1;33m,\u001b[0m\u001b[1;36m0\u001b[0m\u001b[1;33m]\u001b[0m\u001b[1;33m)\u001b[0m\u001b[1;33m)\u001b[0m\u001b[1;33m\u001b[0m\u001b[1;33m\u001b[0m\u001b[0m\n\u001b[0m",
      "\u001b[1;32m<ipython-input-127-c0ae40a3ceb2>\u001b[0m in \u001b[0;36mforward\u001b[1;34m(self, x)\u001b[0m\n\u001b[0;32m     13\u001b[0m         \u001b[0mz\u001b[0m \u001b[1;33m=\u001b[0m \u001b[0mx\u001b[0m\u001b[1;33m\u001b[0m\u001b[1;33m\u001b[0m\u001b[0m\n\u001b[0;32m     14\u001b[0m         \u001b[1;32mfor\u001b[0m \u001b[0mi\u001b[0m \u001b[1;32min\u001b[0m \u001b[0mrange\u001b[0m\u001b[1;33m(\u001b[0m\u001b[0mlen\u001b[0m\u001b[1;33m(\u001b[0m\u001b[0mself\u001b[0m\u001b[1;33m.\u001b[0m\u001b[0msizes\u001b[0m\u001b[1;33m)\u001b[0m\u001b[1;33m-\u001b[0m\u001b[1;36m1\u001b[0m\u001b[1;33m)\u001b[0m\u001b[1;33m:\u001b[0m\u001b[1;33m\u001b[0m\u001b[1;33m\u001b[0m\u001b[0m\n\u001b[1;32m---> 15\u001b[1;33m             \u001b[0mz\u001b[0m \u001b[1;33m=\u001b[0m \u001b[0mnp\u001b[0m\u001b[1;33m.\u001b[0m\u001b[0mmatmul\u001b[0m\u001b[1;33m(\u001b[0m\u001b[0mself\u001b[0m\u001b[1;33m.\u001b[0m\u001b[0mweights\u001b[0m\u001b[1;33m[\u001b[0m\u001b[0mi\u001b[0m\u001b[1;33m]\u001b[0m\u001b[1;33m,\u001b[0m \u001b[0mz\u001b[0m\u001b[1;33m)\u001b[0m \u001b[1;33m+\u001b[0m \u001b[0mself\u001b[0m\u001b[1;33m.\u001b[0m\u001b[0mbiases\u001b[0m\u001b[1;33m[\u001b[0m\u001b[0mi\u001b[0m\u001b[1;33m]\u001b[0m\u001b[1;33m\u001b[0m\u001b[1;33m\u001b[0m\u001b[0m\n\u001b[0m\u001b[0;32m     16\u001b[0m             \u001b[1;32mif\u001b[0m \u001b[0mi\u001b[0m \u001b[1;33m==\u001b[0m \u001b[0mlen\u001b[0m\u001b[1;33m(\u001b[0m\u001b[0mself\u001b[0m\u001b[1;33m.\u001b[0m\u001b[0msizes\u001b[0m\u001b[1;33m)\u001b[0m\u001b[1;33m-\u001b[0m\u001b[1;36m2\u001b[0m\u001b[1;33m:\u001b[0m\u001b[1;33m\u001b[0m\u001b[1;33m\u001b[0m\u001b[0m\n\u001b[0;32m     17\u001b[0m                 \u001b[0mz\u001b[0m \u001b[1;33m=\u001b[0m \u001b[0mself\u001b[0m\u001b[1;33m.\u001b[0m\u001b[0mLast_activation\u001b[0m\u001b[1;33m(\u001b[0m\u001b[0mz\u001b[0m\u001b[1;33m)\u001b[0m\u001b[1;33m\u001b[0m\u001b[1;33m\u001b[0m\u001b[0m\n",
      "\u001b[1;31mValueError\u001b[0m: matmul: Input operand 1 has a mismatch in its core dimension 0, with gufunc signature (n?,k),(k,m?)->(n?,m?) (size 3 is different from 2)"
     ]
    }
   ],
   "source": [
    "net.forward(np.array([-100,0,0]))"
   ]
  },
  {
   "cell_type": "code",
   "execution_count": 18,
   "metadata": {},
   "outputs": [
    {
     "data": {
      "text/plain": [
       "array([0.42414312, 0.16163131, 0.04522815, 0.23473492, 0.05998429,\n",
       "       0.04124827, 0.44047455, 0.98089274, 0.89042946, 0.66009121])"
      ]
     },
     "execution_count": 18,
     "metadata": {},
     "output_type": "execute_result"
    }
   ],
   "source": [
    "net.forward(np.zeros((2)))"
   ]
  },
  {
   "cell_type": "markdown",
   "metadata": {},
   "source": [
    "어떤 활성화 함수를 사용할지를 미리 정하고 싶으면 다음과 같이 init단계에 입력으로 사용하게 변형할 수 있습니다."
   ]
  },
  {
   "cell_type": "code",
   "execution_count": 143,
   "metadata": {},
   "outputs": [],
   "source": [
    "class MLP_Network:\n",
    "    def __init__(self, sizes, activation_function = ReLU, last_activation = softmax):\n",
    "        self.num_layers = len(sizes)\n",
    "        self.sizes = sizes\n",
    "        self.biases = [np.random.randn(y) for y in sizes[1:]]\n",
    "        self.weights = []\n",
    "        for i in range(self.num_layers-1):\n",
    "            self.weights.append(np.random.randn(self.sizes[i+1], self.sizes[i]))\n",
    "        self.activation_function = activation_function\n",
    "        self.last_activation = last_activation\n",
    "    def forward(self, a):\n",
    "        for bias, weight in zip(self.biases, self.weights):\n",
    "            a = self.activation_function(np.dot(weight, a)+bias)\n",
    "        return a\n",
    "net = MLP_Network([2, 3, 6, 4, 10, 10], activation_function = sigmoid)"
   ]
  },
  {
   "cell_type": "code",
   "execution_count": 20,
   "metadata": {},
   "outputs": [
    {
     "data": {
      "text/plain": [
       "array([0.35650355, 0.11204108, 0.00751557, 0.98552186, 0.48954448,\n",
       "       0.51975763, 0.08625619, 0.40650833, 0.21959457, 0.30520391])"
      ]
     },
     "execution_count": 20,
     "metadata": {},
     "output_type": "execute_result"
    }
   ],
   "source": [
    "net.forward(np.zeros((2)))"
   ]
  },
  {
   "cell_type": "markdown",
   "metadata": {},
   "source": [
    "분류를 위해서는 소프트맥스 함수를 사용합니다.     "
   ]
  },
  {
   "cell_type": "code",
   "execution_count": 21,
   "metadata": {},
   "outputs": [],
   "source": [
    "def softmax_temp(z): \n",
    "    return np.exp(z) / np.sum(np.exp(z))"
   ]
  },
  {
   "cell_type": "markdown",
   "metadata": {},
   "source": [
    "하지만 이 방법은 수치적으로 불안정합니다."
   ]
  },
  {
   "cell_type": "code",
   "execution_count": 22,
   "metadata": {},
   "outputs": [
    {
     "name": "stderr",
     "output_type": "stream",
     "text": [
      "/home/hgh2134/anaconda3/envs/proj/lib/python3.6/site-packages/ipykernel_launcher.py:2: RuntimeWarning: overflow encountered in exp\n",
      "  \n",
      "/home/hgh2134/anaconda3/envs/proj/lib/python3.6/site-packages/ipykernel_launcher.py:2: RuntimeWarning: invalid value encountered in true_divide\n",
      "  \n"
     ]
    },
    {
     "data": {
      "text/plain": [
       "array([nan, nan])"
      ]
     },
     "execution_count": 22,
     "metadata": {},
     "output_type": "execute_result"
    }
   ],
   "source": [
    "softmax_temp([100000, 1000001])"
   ]
  },
  {
   "cell_type": "markdown",
   "metadata": {},
   "source": [
    "이를 개선하기 위해 다음과 같은 수치적으로 안정적인 소프트맥스를 다음과 같이 구현할 수 있습니다."
   ]
  },
  {
   "cell_type": "code",
   "execution_count": 122,
   "metadata": {},
   "outputs": [],
   "source": [
    "def softmax(z):\n",
    "    y = z- np.max(z)\n",
    "    return np.exp(y) / np.sum(np.exp(y))"
   ]
  },
  {
   "cell_type": "code",
   "execution_count": 36,
   "metadata": {},
   "outputs": [
    {
     "data": {
      "text/plain": [
       "array([0., 1.])"
      ]
     },
     "execution_count": 36,
     "metadata": {},
     "output_type": "execute_result"
    }
   ],
   "source": [
    "softmax([100000, 1000001])"
   ]
  },
  {
   "cell_type": "markdown",
   "metadata": {},
   "source": [
    "마지막 층의 활성화함수가 소프트맥스인 MLP_Netwokr를 정의하기 위해 마지막 층의 활성화함수만을 따로 입력으로 받는 네트워크를 다음과 같이 정의할 수 있습니다."
   ]
  },
  {
   "cell_type": "code",
   "execution_count": 25,
   "metadata": {},
   "outputs": [
    {
     "name": "stdout",
     "output_type": "stream",
     "text": [
      "[ -2.60256522  -2.15516415 -18.87239588  -9.4753635    7.71170331\n",
      "  -2.89978697   6.88237318  -6.45716514 -15.76394305   7.69851276]\n",
      "[0.08301411 0.08216389 0.10065352 0.08174171 0.10055945 0.08164766\n",
      " 0.08206553 0.22190818 0.08453371 0.08171224]\n",
      "1.0\n"
     ]
    }
   ],
   "source": [
    "class MLP_Network:\n",
    "    def __init__(self, sizes, activation_function = ReLU, last_activation = no_activation):\n",
    "        self.num_layers = len(sizes)\n",
    "        self.sizes = sizes\n",
    "        self.biases = [np.random.randn(y) for y in sizes[1:]]\n",
    "        self.weights = []\n",
    "        for i in range(self.num_layers-1):\n",
    "            self.weights.append(np.random.randn(self.sizes[i+1], self.sizes[i]))\n",
    "        self.activation_function = ReLU\n",
    "        self.last_activation = last_activation\n",
    "    def forward(self, a):\n",
    "        for i, [bias, weight] in enumerate(zip(self.biases, self.weights)):\n",
    "            if i == self.num_layers - 2:\n",
    "                activation = self.last_activation\n",
    "            else:\n",
    "                activation = self.activation_function\n",
    "            a = activation(np.matmul(weight, a)+bias)\n",
    "            \n",
    "        return a\n",
    "    \n",
    "net = MLP_Network([2, 3, 6, 4, 10, 10], activation_function = sigmoid)\n",
    "print(net.forward(np.random.randn((2))))\n",
    "\n",
    "net = MLP_Network([2, 3, 6, 4, 10, 10], activation_function = sigmoid, last_activation = softmax)\n",
    "output = net.forward(np.random.randn((2)))\n",
    "print(output)\n",
    "print(np.sum(output))"
   ]
  },
  {
   "cell_type": "markdown",
   "metadata": {},
   "source": [
    "# 손실함수\n",
    "해당 함수가 얼마나 적합한 결과를 내보내는 지를 측정하는 수치로 손실 함수를 사용합니다.    \n",
    "먼저 다음과 같이 l2 손실함수와 교차 엔트로피 손실함수를 다음과 같이 정의합니다.    \n",
    "소프트맥스와 마찬가지로 교차 엔트로피 함수도 안정적인 버전을 다음과 같이 만들 수 있습니다."
   ]
  },
  {
   "cell_type": "code",
   "execution_count": 26,
   "metadata": {},
   "outputs": [],
   "source": [
    "def l2_loss(x,y):\n",
    "    return np.sum((x-y)**2)\n",
    "\n",
    "def l1_loss(x,y):\n",
    "    return np.sum(np.abs(x-y))\n",
    "\n",
    "def cross_entropy_loss_temp(x,y):\n",
    "    return -np.sum(y*np.log(x))\n",
    "\n",
    "def cross_entropy_loss(x,y):\n",
    "    epsilon = 1e-8\n",
    "    return -np.sum(y*np.log(x + epsilon))"
   ]
  },
  {
   "cell_type": "markdown",
   "metadata": {},
   "source": [
    "이제 원하는 데이터를 입력으로 받기 위해 데이터를 읽어들여 모듈에 입력시키는 클래스  mnist_dataset을 다음과 같이 정의합니다.    \n",
    "https://drive.google.com/file/d/1e2QUgaRp4Dovj-3QKfUsuzmHzxhsb9Bc/view?usp=sharing"
   ]
  },
  {
   "cell_type": "code",
   "execution_count": 173,
   "metadata": {},
   "outputs": [],
   "source": [
    "import os, cv2\n",
    "class mnist_dataset():\n",
    "    def __init__(self, path):\n",
    "        data_list = []\n",
    "        for label in os.listdir(path):\n",
    "            label_path = os.path.join(path, str(label))\n",
    "            file_list = os.listdir(label_path)\n",
    "            for file in file_list:\n",
    "                data_list.append([os.path.join(label_path, file), label])\n",
    "        self.data_list = data_list\n",
    "        \n",
    "    def __len__(self):\n",
    "        return len(self.data_list)\n",
    "    \n",
    "    def __getitem__(self, i):\n",
    "        png_path, label = self.data_list[i]\n",
    "        img_loaded = cv2.imread(png_path, cv2.IMREAD_GRAYSCALE)\n",
    "        img_loaded = img_loaded / 255.               #데이터 정규화\n",
    "        return img_loaded.reshape(-1), label"
   ]
  },
  {
   "cell_type": "code",
   "execution_count": 181,
   "metadata": {},
   "outputs": [],
   "source": [
    "import os, cv2\n",
    "class mnist_dataset():\n",
    "    def __init__(self, path):\n",
    "        data_list = []\n",
    "        for label in range(10):\n",
    "            label_path = os.path.join(path, str(label))\n",
    "            file_list = os.listdir(label_path)\n",
    "            data_list += [[os.path.join(label_path, file), label] for file in file_list]\n",
    "        self.data_list = data_list\n",
    "    def __len__(self):\n",
    "        return len(self.data_list)\n",
    "    def __getitem__(self, i):\n",
    "        png_path, label = self.data_list[i]\n",
    "        img_loaded = cv2.imread(png_path, cv2.IMREAD_GRAYSCALE)\n",
    "        return img_loaded.reshape(-1)/255, label"
   ]
  },
  {
   "cell_type": "code",
   "execution_count": 182,
   "metadata": {},
   "outputs": [],
   "source": [
    "training_dataset = mnist_dataset('../mnist_png/training/')\n",
    "test_dataset = mnist_dataset('../mnist_png/testing/')"
   ]
  },
  {
   "cell_type": "code",
   "execution_count": 183,
   "metadata": {},
   "outputs": [],
   "source": [
    "test_img = training_dataset[10]"
   ]
  },
  {
   "cell_type": "code",
   "execution_count": 184,
   "metadata": {},
   "outputs": [],
   "source": [
    "import matplotlib.pyplot as plt"
   ]
  },
  {
   "cell_type": "code",
   "execution_count": 185,
   "metadata": {},
   "outputs": [
    {
     "ename": "NameError",
     "evalue": "name 'test_data' is not defined",
     "output_type": "error",
     "traceback": [
      "\u001b[1;31m---------------------------------------------------------------------------\u001b[0m",
      "\u001b[1;31mNameError\u001b[0m                                 Traceback (most recent call last)",
      "\u001b[1;32m<ipython-input-185-5b4591263281>\u001b[0m in \u001b[0;36m<module>\u001b[1;34m\u001b[0m\n\u001b[1;32m----> 1\u001b[1;33m \u001b[0mtest_img\u001b[0m \u001b[1;33m=\u001b[0m \u001b[0mtest_data\u001b[0m\u001b[1;33m[\u001b[0m\u001b[1;36m0\u001b[0m\u001b[1;33m]\u001b[0m\u001b[1;33m\u001b[0m\u001b[1;33m\u001b[0m\u001b[0m\n\u001b[0m",
      "\u001b[1;31mNameError\u001b[0m: name 'test_data' is not defined"
     ]
    }
   ],
   "source": [
    "test_img = test_data[0]"
   ]
  },
  {
   "cell_type": "code",
   "execution_count": 186,
   "metadata": {},
   "outputs": [
    {
     "ename": "NameError",
     "evalue": "name 'test_data' is not defined",
     "output_type": "error",
     "traceback": [
      "\u001b[1;31m---------------------------------------------------------------------------\u001b[0m",
      "\u001b[1;31mNameError\u001b[0m                                 Traceback (most recent call last)",
      "\u001b[1;32m<ipython-input-186-d8d6aeaea1e3>\u001b[0m in \u001b[0;36m<module>\u001b[1;34m\u001b[0m\n\u001b[1;32m----> 1\u001b[1;33m \u001b[0mtest_label\u001b[0m \u001b[1;33m=\u001b[0m \u001b[0mtest_data\u001b[0m\u001b[1;33m[\u001b[0m\u001b[1;36m1\u001b[0m\u001b[1;33m]\u001b[0m\u001b[1;33m\u001b[0m\u001b[1;33m\u001b[0m\u001b[0m\n\u001b[0m",
      "\u001b[1;31mNameError\u001b[0m: name 'test_data' is not defined"
     ]
    }
   ],
   "source": [
    "test_label = test_data[1]"
   ]
  },
  {
   "cell_type": "code",
   "execution_count": 179,
   "metadata": {},
   "outputs": [
    {
     "ename": "NameError",
     "evalue": "name 'test_label' is not defined",
     "output_type": "error",
     "traceback": [
      "\u001b[1;31m---------------------------------------------------------------------------\u001b[0m",
      "\u001b[1;31mNameError\u001b[0m                                 Traceback (most recent call last)",
      "\u001b[1;32m<ipython-input-179-61b29e192953>\u001b[0m in \u001b[0;36m<module>\u001b[1;34m\u001b[0m\n\u001b[1;32m----> 1\u001b[1;33m \u001b[0mtest_label\u001b[0m\u001b[1;33m\u001b[0m\u001b[1;33m\u001b[0m\u001b[0m\n\u001b[0m",
      "\u001b[1;31mNameError\u001b[0m: name 'test_label' is not defined"
     ]
    }
   ],
   "source": [
    "test_label"
   ]
  },
  {
   "cell_type": "code",
   "execution_count": 180,
   "metadata": {},
   "outputs": [
    {
     "name": "stderr",
     "output_type": "stream",
     "text": [
      "c:\\users\\tjgus\\anaconda3\\envs\\py36\\lib\\site-packages\\matplotlib\\cbook\\__init__.py:682: VisibleDeprecationWarning: Creating an ndarray from ragged nested sequences (which is a list-or-tuple of lists-or-tuples-or ndarrays with different lengths or shapes) is deprecated. If you meant to do this, you must specify 'dtype=object' when creating the ndarray\n",
      "  x = np.array(x, subok=True, copy=copy)\n"
     ]
    },
    {
     "ename": "TypeError",
     "evalue": "Image data of dtype object cannot be converted to float",
     "output_type": "error",
     "traceback": [
      "\u001b[1;31m---------------------------------------------------------------------------\u001b[0m",
      "\u001b[1;31mTypeError\u001b[0m                                 Traceback (most recent call last)",
      "\u001b[1;32m<ipython-input-180-0a2c702dc41f>\u001b[0m in \u001b[0;36m<module>\u001b[1;34m\u001b[0m\n\u001b[1;32m----> 1\u001b[1;33m \u001b[0mplt\u001b[0m\u001b[1;33m.\u001b[0m\u001b[0mimshow\u001b[0m\u001b[1;33m(\u001b[0m\u001b[0mtest_img\u001b[0m\u001b[1;33m,\u001b[0m \u001b[0mcmap\u001b[0m \u001b[1;33m=\u001b[0m \u001b[1;34m'gray'\u001b[0m\u001b[1;33m)\u001b[0m\u001b[1;33m\u001b[0m\u001b[1;33m\u001b[0m\u001b[0m\n\u001b[0m\u001b[0;32m      2\u001b[0m \u001b[0mplt\u001b[0m\u001b[1;33m.\u001b[0m\u001b[0mshow\u001b[0m\u001b[1;33m(\u001b[0m\u001b[1;33m)\u001b[0m\u001b[1;33m\u001b[0m\u001b[1;33m\u001b[0m\u001b[0m\n",
      "\u001b[1;32mc:\\users\\tjgus\\anaconda3\\envs\\py36\\lib\\site-packages\\matplotlib\\pyplot.py\u001b[0m in \u001b[0;36mimshow\u001b[1;34m(X, cmap, norm, aspect, interpolation, alpha, vmin, vmax, origin, extent, filternorm, filterrad, resample, url, data, **kwargs)\u001b[0m\n\u001b[0;32m   2728\u001b[0m         \u001b[0mfilternorm\u001b[0m\u001b[1;33m=\u001b[0m\u001b[0mfilternorm\u001b[0m\u001b[1;33m,\u001b[0m \u001b[0mfilterrad\u001b[0m\u001b[1;33m=\u001b[0m\u001b[0mfilterrad\u001b[0m\u001b[1;33m,\u001b[0m \u001b[0mresample\u001b[0m\u001b[1;33m=\u001b[0m\u001b[0mresample\u001b[0m\u001b[1;33m,\u001b[0m\u001b[1;33m\u001b[0m\u001b[1;33m\u001b[0m\u001b[0m\n\u001b[0;32m   2729\u001b[0m         \u001b[0murl\u001b[0m\u001b[1;33m=\u001b[0m\u001b[0murl\u001b[0m\u001b[1;33m,\u001b[0m \u001b[1;33m**\u001b[0m\u001b[1;33m(\u001b[0m\u001b[1;33m{\u001b[0m\u001b[1;34m\"data\"\u001b[0m\u001b[1;33m:\u001b[0m \u001b[0mdata\u001b[0m\u001b[1;33m}\u001b[0m \u001b[1;32mif\u001b[0m \u001b[0mdata\u001b[0m \u001b[1;32mis\u001b[0m \u001b[1;32mnot\u001b[0m \u001b[1;32mNone\u001b[0m \u001b[1;32melse\u001b[0m \u001b[1;33m{\u001b[0m\u001b[1;33m}\u001b[0m\u001b[1;33m)\u001b[0m\u001b[1;33m,\u001b[0m\u001b[1;33m\u001b[0m\u001b[1;33m\u001b[0m\u001b[0m\n\u001b[1;32m-> 2730\u001b[1;33m         **kwargs)\n\u001b[0m\u001b[0;32m   2731\u001b[0m     \u001b[0msci\u001b[0m\u001b[1;33m(\u001b[0m\u001b[0m__ret\u001b[0m\u001b[1;33m)\u001b[0m\u001b[1;33m\u001b[0m\u001b[1;33m\u001b[0m\u001b[0m\n\u001b[0;32m   2732\u001b[0m     \u001b[1;32mreturn\u001b[0m \u001b[0m__ret\u001b[0m\u001b[1;33m\u001b[0m\u001b[1;33m\u001b[0m\u001b[0m\n",
      "\u001b[1;32mc:\\users\\tjgus\\anaconda3\\envs\\py36\\lib\\site-packages\\matplotlib\\__init__.py\u001b[0m in \u001b[0;36minner\u001b[1;34m(ax, data, *args, **kwargs)\u001b[0m\n\u001b[0;32m   1445\u001b[0m     \u001b[1;32mdef\u001b[0m \u001b[0minner\u001b[0m\u001b[1;33m(\u001b[0m\u001b[0max\u001b[0m\u001b[1;33m,\u001b[0m \u001b[1;33m*\u001b[0m\u001b[0margs\u001b[0m\u001b[1;33m,\u001b[0m \u001b[0mdata\u001b[0m\u001b[1;33m=\u001b[0m\u001b[1;32mNone\u001b[0m\u001b[1;33m,\u001b[0m \u001b[1;33m**\u001b[0m\u001b[0mkwargs\u001b[0m\u001b[1;33m)\u001b[0m\u001b[1;33m:\u001b[0m\u001b[1;33m\u001b[0m\u001b[1;33m\u001b[0m\u001b[0m\n\u001b[0;32m   1446\u001b[0m         \u001b[1;32mif\u001b[0m \u001b[0mdata\u001b[0m \u001b[1;32mis\u001b[0m \u001b[1;32mNone\u001b[0m\u001b[1;33m:\u001b[0m\u001b[1;33m\u001b[0m\u001b[1;33m\u001b[0m\u001b[0m\n\u001b[1;32m-> 1447\u001b[1;33m             \u001b[1;32mreturn\u001b[0m \u001b[0mfunc\u001b[0m\u001b[1;33m(\u001b[0m\u001b[0max\u001b[0m\u001b[1;33m,\u001b[0m \u001b[1;33m*\u001b[0m\u001b[0mmap\u001b[0m\u001b[1;33m(\u001b[0m\u001b[0msanitize_sequence\u001b[0m\u001b[1;33m,\u001b[0m \u001b[0margs\u001b[0m\u001b[1;33m)\u001b[0m\u001b[1;33m,\u001b[0m \u001b[1;33m**\u001b[0m\u001b[0mkwargs\u001b[0m\u001b[1;33m)\u001b[0m\u001b[1;33m\u001b[0m\u001b[1;33m\u001b[0m\u001b[0m\n\u001b[0m\u001b[0;32m   1448\u001b[0m \u001b[1;33m\u001b[0m\u001b[0m\n\u001b[0;32m   1449\u001b[0m         \u001b[0mbound\u001b[0m \u001b[1;33m=\u001b[0m \u001b[0mnew_sig\u001b[0m\u001b[1;33m.\u001b[0m\u001b[0mbind\u001b[0m\u001b[1;33m(\u001b[0m\u001b[0max\u001b[0m\u001b[1;33m,\u001b[0m \u001b[1;33m*\u001b[0m\u001b[0margs\u001b[0m\u001b[1;33m,\u001b[0m \u001b[1;33m**\u001b[0m\u001b[0mkwargs\u001b[0m\u001b[1;33m)\u001b[0m\u001b[1;33m\u001b[0m\u001b[1;33m\u001b[0m\u001b[0m\n",
      "\u001b[1;32mc:\\users\\tjgus\\anaconda3\\envs\\py36\\lib\\site-packages\\matplotlib\\axes\\_axes.py\u001b[0m in \u001b[0;36mimshow\u001b[1;34m(self, X, cmap, norm, aspect, interpolation, alpha, vmin, vmax, origin, extent, filternorm, filterrad, resample, url, **kwargs)\u001b[0m\n\u001b[0;32m   5521\u001b[0m                               resample=resample, **kwargs)\n\u001b[0;32m   5522\u001b[0m \u001b[1;33m\u001b[0m\u001b[0m\n\u001b[1;32m-> 5523\u001b[1;33m         \u001b[0mim\u001b[0m\u001b[1;33m.\u001b[0m\u001b[0mset_data\u001b[0m\u001b[1;33m(\u001b[0m\u001b[0mX\u001b[0m\u001b[1;33m)\u001b[0m\u001b[1;33m\u001b[0m\u001b[1;33m\u001b[0m\u001b[0m\n\u001b[0m\u001b[0;32m   5524\u001b[0m         \u001b[0mim\u001b[0m\u001b[1;33m.\u001b[0m\u001b[0mset_alpha\u001b[0m\u001b[1;33m(\u001b[0m\u001b[0malpha\u001b[0m\u001b[1;33m)\u001b[0m\u001b[1;33m\u001b[0m\u001b[1;33m\u001b[0m\u001b[0m\n\u001b[0;32m   5525\u001b[0m         \u001b[1;32mif\u001b[0m \u001b[0mim\u001b[0m\u001b[1;33m.\u001b[0m\u001b[0mget_clip_path\u001b[0m\u001b[1;33m(\u001b[0m\u001b[1;33m)\u001b[0m \u001b[1;32mis\u001b[0m \u001b[1;32mNone\u001b[0m\u001b[1;33m:\u001b[0m\u001b[1;33m\u001b[0m\u001b[1;33m\u001b[0m\u001b[0m\n",
      "\u001b[1;32mc:\\users\\tjgus\\anaconda3\\envs\\py36\\lib\\site-packages\\matplotlib\\image.py\u001b[0m in \u001b[0;36mset_data\u001b[1;34m(self, A)\u001b[0m\n\u001b[0;32m    701\u001b[0m                 not np.can_cast(self._A.dtype, float, \"same_kind\")):\n\u001b[0;32m    702\u001b[0m             raise TypeError(\"Image data of dtype {} cannot be converted to \"\n\u001b[1;32m--> 703\u001b[1;33m                             \"float\".format(self._A.dtype))\n\u001b[0m\u001b[0;32m    704\u001b[0m \u001b[1;33m\u001b[0m\u001b[0m\n\u001b[0;32m    705\u001b[0m         \u001b[1;32mif\u001b[0m \u001b[0mself\u001b[0m\u001b[1;33m.\u001b[0m\u001b[0m_A\u001b[0m\u001b[1;33m.\u001b[0m\u001b[0mndim\u001b[0m \u001b[1;33m==\u001b[0m \u001b[1;36m3\u001b[0m \u001b[1;32mand\u001b[0m \u001b[0mself\u001b[0m\u001b[1;33m.\u001b[0m\u001b[0m_A\u001b[0m\u001b[1;33m.\u001b[0m\u001b[0mshape\u001b[0m\u001b[1;33m[\u001b[0m\u001b[1;33m-\u001b[0m\u001b[1;36m1\u001b[0m\u001b[1;33m]\u001b[0m \u001b[1;33m==\u001b[0m \u001b[1;36m1\u001b[0m\u001b[1;33m:\u001b[0m\u001b[1;33m\u001b[0m\u001b[1;33m\u001b[0m\u001b[0m\n",
      "\u001b[1;31mTypeError\u001b[0m: Image data of dtype object cannot be converted to float"
     ]
    },
    {
     "data": {
      "image/png": "[encoded data removed]",
      "text/plain": [
       "<Figure size 432x288 with 1 Axes>"
      ]
     },
     "metadata": {
      "needs_background": "light"
     },
     "output_type": "display_data"
    }
   ],
   "source": [
    "plt.imshow(test_img, cmap = 'gray')\n",
    "plt.show()"
   ]
  },
  {
   "cell_type": "code",
   "execution_count": 144,
   "metadata": {},
   "outputs": [],
   "source": [
    "net = MLP_Network([784, 128, 128, 10], activation_function = sigmoid, last_activation = softmax)"
   ]
  },
  {
   "cell_type": "code",
   "execution_count": 145,
   "metadata": {},
   "outputs": [
    {
     "name": "stdout",
     "output_type": "stream",
     "text": [
      "(784,)\n",
      "0\n"
     ]
    },
    {
     "data": {
      "image/png": "[encoded data removed]",
      "text/plain": [
       "<Figure size 432x288 with 1 Axes>"
      ]
     },
     "metadata": {
      "needs_background": "light"
     },
     "output_type": "display_data"
    }
   ],
   "source": [
    "img, label = training_dataset[0]\n",
    "print(img.shape)\n",
    "plt.imshow(training_dataset[2][0].reshape(28,28), cmap='gray')\n",
    "print(label)"
   ]
  },
  {
   "cell_type": "markdown",
   "metadata": {},
   "source": [
    "원핫 인코딩을 만들기 위해 다음과 같은 항등행렬을 준비합니다.    \n",
    "이 행렬의 i 번째 행이 i번째 원소가 1인 원핫 인코딩이 됩니다."
   ]
  },
  {
   "cell_type": "code",
   "execution_count": 146,
   "metadata": {},
   "outputs": [
    {
     "name": "stdout",
     "output_type": "stream",
     "text": [
      "[[1. 0. 0. 0. 0. 0. 0. 0. 0. 0.]\n",
      " [0. 1. 0. 0. 0. 0. 0. 0. 0. 0.]\n",
      " [0. 0. 1. 0. 0. 0. 0. 0. 0. 0.]\n",
      " [0. 0. 0. 1. 0. 0. 0. 0. 0. 0.]\n",
      " [0. 0. 0. 0. 1. 0. 0. 0. 0. 0.]\n",
      " [0. 0. 0. 0. 0. 1. 0. 0. 0. 0.]\n",
      " [0. 0. 0. 0. 0. 0. 1. 0. 0. 0.]\n",
      " [0. 0. 0. 0. 0. 0. 0. 1. 0. 0.]\n",
      " [0. 0. 0. 0. 0. 0. 0. 0. 1. 0.]\n",
      " [0. 0. 0. 0. 0. 0. 0. 0. 0. 1.]]\n",
      "[0. 0. 0. 0. 0. 0. 0. 1. 0. 0.]\n"
     ]
    }
   ],
   "source": [
    "eye = np.eye(10)\n",
    "print(eye)\n",
    "print(eye[7])"
   ]
  },
  {
   "cell_type": "markdown",
   "metadata": {},
   "source": [
    "# 정확도\n",
    "함수가 얼마나 잘 예측하는 지를 다음과 같은 방식의 분류 정확도를 측정함으로써 알 수 있습니다."
   ]
  },
  {
   "cell_type": "code",
   "execution_count": null,
   "metadata": {},
   "outputs": [],
   "source": []
  },
  {
   "cell_type": "code",
   "execution_count": 187,
   "metadata": {},
   "outputs": [
    {
     "name": "stdout",
     "output_type": "stream",
     "text": [
      "Accuracy is 0.09273333333333333\n"
     ]
    }
   ],
   "source": [
    "num_correct = 0\n",
    "for i, [img, label] in enumerate(training_dataset):\n",
    "    y = eye[label]\n",
    "    y_hat = net.forward(img)\n",
    "    if np.argmax(y_hat) == label:\n",
    "        num_correct += 1\n",
    "print(f'Accuracy is {num_correct/len(training_dataset)}' )"
   ]
  },
  {
   "cell_type": "code",
   "execution_count": null,
   "metadata": {},
   "outputs": [],
   "source": [
    "tqdm"
   ]
  },
  {
   "cell_type": "markdown",
   "metadata": {},
   "source": [
    "이를 클래스 내의 메소드로 구현하면 다음과 같습니다."
   ]
  },
  {
   "cell_type": "code",
   "execution_count": 34,
   "metadata": {},
   "outputs": [],
   "source": [
    "class MLP_Network:\n",
    "    def __init__(self, sizes, activation_function = ReLU, last_activation = no_activation):\n",
    "        self.num_layers = len(sizes)\n",
    "        self.sizes = sizes\n",
    "        self.biases = [np.random.randn(y) for y in sizes[1:]]\n",
    "        self.weights = []\n",
    "        for i in range(self.num_layers-1):\n",
    "            self.weights.append(np.random.randn(self.sizes[i+1], self.sizes[i]))\n",
    "        self.activation_function = ReLU\n",
    "        self.last_activation = last_activation\n",
    "        \n",
    "    def forward(self, a):\n",
    "        for i, [bias, weight] in enumerate(zip(self.biases, self.weights)):\n",
    "            if i == self.num_layers - 2:\n",
    "                activation = self.last_activation\n",
    "            else:\n",
    "                activation = self.activation_function\n",
    "            a = activation(np.dot(weight, a)+bias)\n",
    "            \n",
    "        return a\n",
    "    \n",
    "    def accuracy(self,dataset):\n",
    "        eye = np.eye(self.sizes[-1])\n",
    "        num_correct = 0\n",
    "        for i, [img, label] in enumerate(dataset):\n",
    "            y = eye[label]\n",
    "            y_hat = self.forward(img)\n",
    "            if np.argmax(y_hat) == label:\n",
    "                num_correct += 1\n",
    "        val_accuracy = num_correct/len(dataset)\n",
    "        print(f'Accuracy is {val_accuracy}' )\n",
    "        return val_accuracy\n",
    "        "
   ]
  }
 ],
 "metadata": {
  "kernelspec": {
   "display_name": "Python 3",
   "language": "python",
   "name": "python3"
  },
  "language_info": {
   "codemirror_mode": {
    "name": "ipython",
    "version": 3
   },
   "file_extension": ".py",
   "mimetype": "text/x-python",
   "name": "python",
   "nbconvert_exporter": "python",
   "pygments_lexer": "ipython3",
   "version": "3.6.13"
  }
 },
 "nbformat": 4,
 "nbformat_minor": 4
}
